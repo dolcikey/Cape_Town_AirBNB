{
 "cells": [
  {
   "cell_type": "markdown",
   "metadata": {},
   "source": [
    "# Cape Town Air BNB Prices #"
   ]
  },
  {
   "cell_type": "markdown",
   "metadata": {},
   "source": [
    "## 1. Import Libraries and Read in Data"
   ]
  },
  {
   "cell_type": "code",
   "execution_count": 31,
   "metadata": {},
   "outputs": [],
   "source": [
    "import pandas as pd\n",
    "pd.set_option('display.max_columns', 300)\n",
    "\n",
    "import numpy as np\n",
    "import statsmodels.api as sm\n",
    "import matplotlib.pyplot as plt\n",
    "import seaborn as sns\n",
    "plt.style.use('fivethirtyeight')   \n",
    "import scipy.stats as stats\n",
    "from statsmodels.formula.api import ols\n",
    "import matplotlib.pyplot as plt\n",
    "%matplotlib inline\n",
    "from sklearn.dummy import DummyRegressor\n",
    "from sklearn.model_selection import train_test_split\n",
    "from sklearn.linear_model import LinearRegression\n",
    "from sklearn import metrics\n",
    "from sklearn.preprocessing import StandardScaler\n",
    "import warnings\n",
    "from sklearn.metrics import mean_squared_error\n",
    "from math import radians, cos, sin, asin, sqrt\n",
    "from geopy.distance import great_circle\n",
    "\n"
   ]
  },
  {
   "cell_type": "code",
   "execution_count": 17,
   "metadata": {},
   "outputs": [],
   "source": [
    "# Read in data \n",
    "listing_df = pd.read_csv('listings.csv')"
   ]
  },
  {
   "cell_type": "code",
   "execution_count": 18,
   "metadata": {},
   "outputs": [
    {
     "data": {
      "text/plain": [
       "(24079, 16)"
      ]
     },
     "execution_count": 18,
     "metadata": {},
     "output_type": "execute_result"
    }
   ],
   "source": [
    "listing_df.shape"
   ]
  },
  {
   "cell_type": "markdown",
   "metadata": {},
   "source": [
    "## 2. Clean the data. "
   ]
  },
  {
   "cell_type": "code",
   "execution_count": 19,
   "metadata": {},
   "outputs": [
    {
     "data": {
      "text/plain": [
       "id                                    0\n",
       "name                                  0\n",
       "host_id                               0\n",
       "host_name                             3\n",
       "neighbourhood_group               24079\n",
       "neighbourhood                         0\n",
       "latitude                              0\n",
       "longitude                             0\n",
       "room_type                             0\n",
       "price                                 0\n",
       "minimum_nights                        0\n",
       "number_of_reviews                     0\n",
       "last_review                        6823\n",
       "reviews_per_month                  6823\n",
       "calculated_host_listings_count        0\n",
       "availability_365                      0\n",
       "dtype: int64"
      ]
     },
     "execution_count": 19,
     "metadata": {},
     "output_type": "execute_result"
    }
   ],
   "source": [
    "# Dealing with NAs \n",
    "listing_df.isna().sum()"
   ]
  },
  {
   "cell_type": "code",
   "execution_count": 20,
   "metadata": {},
   "outputs": [],
   "source": [
    "# Because the data set is over 24k, I decided to drop the nan values of reviews and last review (the same rows were nan for each)\n",
    "# In researching SA Cape Town Air BNB, I found that houses with no reviews tended to have been expensive, but never booked\n",
    "\n",
    "listing_df.dropna(subset = ['reviews_per_month', 'last_review'], axis = 0, inplace = True)"
   ]
  },
  {
   "cell_type": "code",
   "execution_count": null,
   "metadata": {},
   "outputs": [],
   "source": []
  },
  {
   "cell_type": "code",
   "execution_count": 21,
   "metadata": {},
   "outputs": [],
   "source": [
    "# Closed listing does not exist 9775 is 20685098 and it is listed as price = 0 \n",
    "\n",
    "listing_df[listing_df.price == 0.0]\n",
    "listing_df.drop(9775, inplace = True)"
   ]
  },
  {
   "cell_type": "code",
   "execution_count": 22,
   "metadata": {},
   "outputs": [],
   "source": [
    "# Seemingly half of the rates were in ZAR and half in dollars (lower cost was in USD)\n",
    "# Air BNB zar conversion rate is 14.3 (current rate is 16.5)\n",
    "# The most expensive house I could find was 3,000 that had been reviewed once/had been booked\n",
    "\n",
    "listing_df['price_usd'] = listing_df.price.apply(lambda x: x/14.23 if x>= 3000 else x)"
   ]
  },
  {
   "cell_type": "code",
   "execution_count": 23,
   "metadata": {},
   "outputs": [],
   "source": [
    "#listing append 9808 is 20736711 price was 0.0 is actually 121 USD, minimum night 7\n",
    "\n",
    "listing_df.at[9808, 'price_usd'] = 121\n",
    "listing_df.at[9808, 'minimum_nights'] = 7"
   ]
  },
  {
   "cell_type": "code",
   "execution_count": null,
   "metadata": {},
   "outputs": [],
   "source": []
  },
  {
   "cell_type": "code",
   "execution_count": 24,
   "metadata": {},
   "outputs": [],
   "source": [
    "# Splitting by room type by making dummy binomial variables\n",
    "\n",
    "listing_df = pd.get_dummies(listing_df, columns=['room_type'])"
   ]
  },
  {
   "cell_type": "code",
   "execution_count": 25,
   "metadata": {},
   "outputs": [],
   "source": [
    "# Neighbourhoods\n",
    "\n",
    "listing_df.neighbourhood = listing_df.neighbourhood.map(lambda x: x.replace('Ward', ''))"
   ]
  },
  {
   "cell_type": "code",
   "execution_count": 26,
   "metadata": {},
   "outputs": [],
   "source": [
    "listing_df.neighbourhood = listing_df.neighbourhood.astype(int)"
   ]
  },
  {
   "cell_type": "code",
   "execution_count": null,
   "metadata": {},
   "outputs": [],
   "source": []
  },
  {
   "cell_type": "markdown",
   "metadata": {},
   "source": [
    "## 3. Feature Engineering "
   ]
  },
  {
   "cell_type": "code",
   "execution_count": 27,
   "metadata": {},
   "outputs": [],
   "source": [
    "# testing features\n",
    "\n",
    "listing_df['price_usd_log'] = np.log(listing_df['price_usd'])"
   ]
  },
  {
   "cell_type": "code",
   "execution_count": 28,
   "metadata": {},
   "outputs": [],
   "source": [
    "# Feature Engineering"
   ]
  },
  {
   "cell_type": "code",
   "execution_count": 29,
   "metadata": {},
   "outputs": [
    {
     "data": {
      "text/plain": [
       "<matplotlib.axes._subplots.AxesSubplot at 0x1a25abb1d0>"
      ]
     },
     "execution_count": 29,
     "metadata": {},
     "output_type": "execute_result"
    },
    {
     "data": {
      "image/png": "[encoded data removed]",
      "text/plain": [
       "<Figure size 432x288 with 1 Axes>"
      ]
     },
     "metadata": {
      "needs_background": "light"
     },
     "output_type": "display_data"
    }
   ],
   "source": [
    "# Using the log I can normalize the plot a little bit \n",
    "sns.distplot(listing_df['price_usd_log'])"
   ]
  },
  {
   "cell_type": "code",
   "execution_count": null,
   "metadata": {},
   "outputs": [],
   "source": []
  },
  {
   "cell_type": "code",
   "execution_count": 32,
   "metadata": {},
   "outputs": [],
   "source": [
    "# Distance to Cape Town City Center\n",
    "\n",
    "city_center = (-33.9249,18.4241)\n",
    "listing_df['distance_cc'] = listing_df[['latitude', 'longitude']].apply(lambda x: great_circle(city_center, \n",
    "                                                                                               (x['latitude'], x['longitude'])).miles, axis = 1)\n",
    "# Distance VA Waterfront \n",
    "\n",
    "va_water = (-33.9036, 18.4205)\n",
    "listing_df['distance_waterfront'] = listing_df[['latitude', 'longitude']].apply(lambda x: great_circle(va_water, \n",
    "                                                                                               (x['latitude'], x['longitude'])).miles, axis = 1)\n",
    "\n",
    "# Stellenbosch \n",
    "\n",
    "wine_lands = (-34.075691, 18.843266)\n",
    "listing_df['distance_wine'] = listing_df[['latitude', 'longitude']].apply(lambda x: great_circle(wine_lands, \n",
    "                                                                                               (x['latitude'], x['longitude'])).miles, axis = 1)\n",
    "\n",
    "# Distance from Airport\n",
    "\n",
    "airport = (-33.9249,18.4241)\n",
    "listing_df['distance_airport'] = listing_df[['latitude', 'longitude']].apply(lambda x: great_circle(airport, \n",
    "                                                                                               (x['latitude'], x['longitude'])).miles, axis = 1)\n"
   ]
  },
  {
   "cell_type": "code",
   "execution_count": null,
   "metadata": {},
   "outputs": [],
   "source": []
  },
  {
   "cell_type": "code",
   "execution_count": null,
   "metadata": {},
   "outputs": [],
   "source": []
  },
  {
   "cell_type": "markdown",
   "metadata": {},
   "source": [
    "## 4. Statistical Testing"
   ]
  },
  {
   "cell_type": "code",
   "execution_count": 33,
   "metadata": {},
   "outputs": [],
   "source": [
    "#Statistical Testing"
   ]
  },
  {
   "cell_type": "code",
   "execution_count": 34,
   "metadata": {},
   "outputs": [
    {
     "data": {
      "text/plain": [
       "F_onewayResult(statistic=10.301412241737964, pvalue=0.001331716064438783)"
      ]
     },
     "execution_count": 34,
     "metadata": {},
     "output_type": "execute_result"
    }
   ],
   "source": [
    "# minimum nights > 4\n",
    "# min nights < 4 \n",
    "# mean min_nights is 3.93\n",
    "# Prices of Air BNBs with less than 4 minimum nights is statistically different than houses with minimum nights greater or equal to 4. \n",
    "\n",
    "\n",
    "x = listing_df[listing_df['minimum_nights'] >= 4]['price_usd_log']\n",
    "y = listing_df[listing_df['minimum_nights'] < 4]['price_usd_log']\n",
    "stats.f_oneway(x, y)"
   ]
  },
  {
   "cell_type": "code",
   "execution_count": 35,
   "metadata": {},
   "outputs": [
    {
     "name": "stdout",
     "output_type": "stream",
     "text": [
      "10 miles:  F_onewayResult(statistic=3.5676551475236833, pvalue=0.05893220680422791)\n",
      "8 miles:  F_onewayResult(statistic=10.562734536727625, pvalue=0.0011561144208251598)\n",
      "1 mile:  F_onewayResult(statistic=91.55364227586814, pvalue=1.2290429745611808e-21)\n"
     ]
    }
   ],
   "source": [
    "# As we get closer the the City Center, the mean of the price changes. \n",
    "\n",
    "\n",
    "x = listing_df[listing_df['distance_cc'] >= 10]['price_usd_log']\n",
    "y = listing_df[listing_df['distance_cc'] < 10]['price_usd_log']\n",
    "ten_miles = stats.f_oneway(x, y)\n",
    "\n",
    "x = listing_df[listing_df['distance_cc'] >= 8]['price_usd_log']\n",
    "y = listing_df[listing_df['distance_cc'] < 8]['price_usd_log']\n",
    "eight_miles = stats.f_oneway(x, y)\n",
    "\n",
    "x = listing_df[listing_df['distance_cc'] >= 1]['price_usd_log']\n",
    "y = listing_df[listing_df['distance_cc'] < 1]['price_usd_log']\n",
    "one_mile = stats.f_oneway(x, y)\n",
    "\n",
    "print('10 miles: ', ten_miles)\n",
    "print('8 miles: ', eight_miles)\n",
    "print('1 mile: ', one_mile)"
   ]
  },
  {
   "cell_type": "code",
   "execution_count": 36,
   "metadata": {},
   "outputs": [
    {
     "data": {
      "text/plain": [
       "Ttest_indResult(statistic=19.543926221594283, pvalue=3.7730804501344767e-84)"
      ]
     },
     "execution_count": 36,
     "metadata": {},
     "output_type": "execute_result"
    }
   ],
   "source": [
    "# Independent T Test we can also see that the distance_cc is statistically different when looked over a mile to city center\n",
    "\n",
    "ttest_distance_cc = stats.ttest_ind(listing_df[listing_df['distance_cc'] < 1]['price'], listing_df[listing_df['distance_cc'] >=1]['price_usd']) \n",
    "ttest_distance_cc"
   ]
  },
  {
   "cell_type": "code",
   "execution_count": null,
   "metadata": {},
   "outputs": [],
   "source": []
  },
  {
   "cell_type": "code",
   "execution_count": null,
   "metadata": {},
   "outputs": [],
   "source": []
  },
  {
   "cell_type": "code",
   "execution_count": null,
   "metadata": {},
   "outputs": [],
   "source": []
  },
  {
   "cell_type": "markdown",
   "metadata": {},
   "source": [
    "## 5. Baseline model"
   ]
  },
  {
   "cell_type": "code",
   "execution_count": null,
   "metadata": {},
   "outputs": [],
   "source": []
  },
  {
   "cell_type": "code",
   "execution_count": 37,
   "metadata": {},
   "outputs": [
    {
     "name": "stdout",
     "output_type": "stream",
     "text": [
      "rmse:  669.5434143725225 r2:  0.0\n"
     ]
    }
   ],
   "source": [
    "# Baseline model; rmse:  669.5434143725225 r2:  0.0 using mean\n",
    "\n",
    "subset = ['neighbourhood', 'latitude', 'longitude', 'minimum_nights', 'number_of_reviews', 'reviews_per_month', 'availability_365']\n",
    "x = listing_df[subset]\n",
    "y = listing_df['price_usd']\n",
    "\n",
    "dummy_regr = DummyRegressor(strategy = \"mean\")\n",
    "dummy_regr.fit(x, y)\n",
    "#DummyRegressor()\n",
    "y_predict = dummy_regr.predict(y)\n",
    "R2 = dummy_regr.score(x, y)\n",
    "\n",
    "rmse = np.sqrt(metrics.mean_squared_error(y, y_predict))\n",
    "\n",
    "print('rmse: ', rmse, 'r2: ', R2)"
   ]
  },
  {
   "cell_type": "code",
   "execution_count": 38,
   "metadata": {},
   "outputs": [
    {
     "name": "stdout",
     "output_type": "stream",
     "text": [
      "rmse:  693.2896480095063 r2:  -0.07219047711717841\n"
     ]
    }
   ],
   "source": [
    "# Baseline model; rmse:  693.2896480095063 r2:  -0.07219047711717841 using median\n",
    "\n",
    "subset = ['neighbourhood', 'latitude', 'longitude', 'minimum_nights', 'number_of_reviews', 'reviews_per_month', 'availability_365']\n",
    "x = listing_df[subset]\n",
    "y = listing_df['price_usd']\n",
    "\n",
    "dummy_regr = DummyRegressor(strategy = \"median\")\n",
    "dummy_regr.fit(x, y)\n",
    "#DummyRegressor()\n",
    "y_predict = dummy_regr.predict(y)\n",
    "R2 = dummy_regr.score(x, y)\n",
    "\n",
    "rmse = np.sqrt(metrics.mean_squared_error(y, y_predict))\n",
    "\n",
    "print('rmse: ', rmse, 'r2: ', R2)"
   ]
  },
  {
   "cell_type": "code",
   "execution_count": null,
   "metadata": {},
   "outputs": [],
   "source": []
  },
  {
   "cell_type": "markdown",
   "metadata": {},
   "source": [
    "## 6. Test for Multi-Colinearity  "
   ]
  },
  {
   "cell_type": "code",
   "execution_count": null,
   "metadata": {},
   "outputs": [],
   "source": []
  },
  {
   "cell_type": "code",
   "execution_count": null,
   "metadata": {},
   "outputs": [],
   "source": []
  },
  {
   "cell_type": "code",
   "execution_count": null,
   "metadata": {},
   "outputs": [],
   "source": []
  },
  {
   "cell_type": "markdown",
   "metadata": {},
   "source": [
    "## 7. Model Testing"
   ]
  },
  {
   "cell_type": "code",
   "execution_count": null,
   "metadata": {},
   "outputs": [],
   "source": []
  }
 ],
 "metadata": {
  "kernelspec": {
   "display_name": "Python 3",
   "language": "python",
   "name": "python3"
  },
  "language_info": {
   "codemirror_mode": {
    "name": "ipython",
    "version": 3
   },
   "file_extension": ".py",
   "mimetype": "text/x-python",
   "name": "python",
   "nbconvert_exporter": "python",
   "pygments_lexer": "ipython3",
   "version": "3.7.6"
  }
 },
 "nbformat": 4,
 "nbformat_minor": 4
}
