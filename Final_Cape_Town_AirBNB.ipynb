{
 "cells": [
  {
   "cell_type": "markdown",
   "metadata": {},
   "source": [
    "# Cape Town Air BNB Prices #"
   ]
  },
  {
   "cell_type": "markdown",
   "metadata": {},
   "source": [
    "## 1. Import Libraries and Read in Data"
   ]
  },
  {
   "cell_type": "code",
   "execution_count": 62,
   "metadata": {},
   "outputs": [],
   "source": [
    "import pandas as pd\n",
    "pd.set_option('display.max_columns', 300)\n",
    "\n",
    "import numpy as np\n",
    "import statsmodels.api as sm\n",
    "import matplotlib.pyplot as plt\n",
    "import seaborn as sns\n",
    "plt.style.use('fivethirtyeight')   \n",
    "import scipy.stats as stats\n",
    "from statsmodels.formula.api import ols\n",
    "import matplotlib.pyplot as plt\n",
    "%matplotlib inline\n",
    "from sklearn.dummy import DummyRegressor\n",
    "from sklearn.model_selection import train_test_split\n",
    "from sklearn.linear_model import LinearRegression\n",
    "from sklearn import metrics\n",
    "from sklearn.preprocessing import StandardScaler\n",
    "import warnings\n",
    "from sklearn.metrics import mean_squared_error\n",
    "from math import radians, cos, sin, asin, sqrt\n",
    "from geopy.distance import great_circle\n",
    "from sklearn.model_selection import train_test_split\n",
    "from sklearn.linear_model import Ridge\n",
    "from yellowbrick.datasets import load_concrete\n",
    "from yellowbrick.regressor import ResidualsPlot\n"
   ]
  },
  {
   "cell_type": "code",
   "execution_count": 84,
   "metadata": {},
   "outputs": [],
   "source": [
    "# Read in data \n",
    "\n",
    "listing_df = pd.read_csv('listings.csv')"
   ]
  },
  {
   "cell_type": "code",
   "execution_count": 64,
   "metadata": {},
   "outputs": [],
   "source": [
    "# Read in crime statistics data to compliment neighbourhoods\n",
    "\n",
    "crime_df = pd.read_csv('SA_crime_ward.csv')"
   ]
  },
  {
   "cell_type": "code",
   "execution_count": 65,
   "metadata": {},
   "outputs": [],
   "source": [
    "#drop the nan row (was originally a double of column names not values)\n",
    "\n",
    "crime_df.drop(111, inplace = True)"
   ]
  },
  {
   "cell_type": "code",
   "execution_count": 66,
   "metadata": {},
   "outputs": [
    {
     "data": {
      "text/plain": [
       "0        1\n",
       "1        2\n",
       "2        3\n",
       "3        4\n",
       "4        5\n",
       "      ... \n",
       "106    107\n",
       "107    108\n",
       "108    109\n",
       "109    110\n",
       "110    111\n",
       "Name: geo_code, Length: 111, dtype: int64"
      ]
     },
     "execution_count": 66,
     "metadata": {},
     "output_type": "execute_result"
    }
   ],
   "source": [
    "crime_df['geo_code'].astype(int)"
   ]
  },
  {
   "cell_type": "code",
   "execution_count": null,
   "metadata": {},
   "outputs": [],
   "source": []
  },
  {
   "cell_type": "code",
   "execution_count": 67,
   "metadata": {},
   "outputs": [
    {
     "data": {
      "text/html": [
       "<div>\n",
       "<style scoped>\n",
       "    .dataframe tbody tr th:only-of-type {\n",
       "        vertical-align: middle;\n",
       "    }\n",
       "\n",
       "    .dataframe tbody tr th {\n",
       "        vertical-align: top;\n",
       "    }\n",
       "\n",
       "    .dataframe thead th {\n",
       "        text-align: right;\n",
       "    }\n",
       "</style>\n",
       "<table border=\"1\" class=\"dataframe\">\n",
       "  <thead>\n",
       "    <tr style=\"text-align: right;\">\n",
       "      <th></th>\n",
       "      <th>geo_level</th>\n",
       "      <th>geo_code</th>\n",
       "      <th>0_14</th>\n",
       "      <th>15_24</th>\n",
       "      <th>25_34</th>\n",
       "      <th>35_44</th>\n",
       "      <th>45_54</th>\n",
       "      <th>55_64</th>\n",
       "      <th>65+</th>\n",
       "      <th>total_raw</th>\n",
       "      <th>total_10000 _rounded</th>\n",
       "    </tr>\n",
       "  </thead>\n",
       "  <tbody>\n",
       "    <tr>\n",
       "      <th>0</th>\n",
       "      <td>ward</td>\n",
       "      <td>1.0</td>\n",
       "      <td>33.0</td>\n",
       "      <td>249.0</td>\n",
       "      <td>504.0</td>\n",
       "      <td>276.0</td>\n",
       "      <td>153.0</td>\n",
       "      <td>63.0</td>\n",
       "      <td>39.0</td>\n",
       "      <td>1317.0</td>\n",
       "      <td>188.0</td>\n",
       "    </tr>\n",
       "    <tr>\n",
       "      <th>1</th>\n",
       "      <td>ward</td>\n",
       "      <td>2.0</td>\n",
       "      <td>27.0</td>\n",
       "      <td>249.0</td>\n",
       "      <td>408.0</td>\n",
       "      <td>282.0</td>\n",
       "      <td>174.0</td>\n",
       "      <td>69.0</td>\n",
       "      <td>39.0</td>\n",
       "      <td>1248.0</td>\n",
       "      <td>178.0</td>\n",
       "    </tr>\n",
       "    <tr>\n",
       "      <th>2</th>\n",
       "      <td>ward</td>\n",
       "      <td>3.0</td>\n",
       "      <td>33.0</td>\n",
       "      <td>243.0</td>\n",
       "      <td>417.0</td>\n",
       "      <td>258.0</td>\n",
       "      <td>132.0</td>\n",
       "      <td>57.0</td>\n",
       "      <td>51.0</td>\n",
       "      <td>1191.0</td>\n",
       "      <td>170.0</td>\n",
       "    </tr>\n",
       "    <tr>\n",
       "      <th>3</th>\n",
       "      <td>ward</td>\n",
       "      <td>4.0</td>\n",
       "      <td>39.0</td>\n",
       "      <td>306.0</td>\n",
       "      <td>447.0</td>\n",
       "      <td>309.0</td>\n",
       "      <td>180.0</td>\n",
       "      <td>132.0</td>\n",
       "      <td>90.0</td>\n",
       "      <td>1503.0</td>\n",
       "      <td>215.0</td>\n",
       "    </tr>\n",
       "    <tr>\n",
       "      <th>4</th>\n",
       "      <td>ward</td>\n",
       "      <td>5.0</td>\n",
       "      <td>33.0</td>\n",
       "      <td>90.0</td>\n",
       "      <td>282.0</td>\n",
       "      <td>132.0</td>\n",
       "      <td>126.0</td>\n",
       "      <td>72.0</td>\n",
       "      <td>60.0</td>\n",
       "      <td>795.0</td>\n",
       "      <td>114.0</td>\n",
       "    </tr>\n",
       "  </tbody>\n",
       "</table>\n",
       "</div>"
      ],
      "text/plain": [
       "  geo_level  geo_code  0_14  15_24  25_34  35_44  45_54  55_64   65+  \\\n",
       "0      ward       1.0  33.0  249.0  504.0  276.0  153.0   63.0  39.0   \n",
       "1      ward       2.0  27.0  249.0  408.0  282.0  174.0   69.0  39.0   \n",
       "2      ward       3.0  33.0  243.0  417.0  258.0  132.0   57.0  51.0   \n",
       "3      ward       4.0  39.0  306.0  447.0  309.0  180.0  132.0  90.0   \n",
       "4      ward       5.0  33.0   90.0  282.0  132.0  126.0   72.0  60.0   \n",
       "\n",
       "   total_raw  total_10000 _rounded  \n",
       "0     1317.0                 188.0  \n",
       "1     1248.0                 178.0  \n",
       "2     1191.0                 170.0  \n",
       "3     1503.0                 215.0  \n",
       "4      795.0                 114.0  "
      ]
     },
     "execution_count": 67,
     "metadata": {},
     "output_type": "execute_result"
    }
   ],
   "source": [
    "crime_df.head()"
   ]
  },
  {
   "cell_type": "code",
   "execution_count": 68,
   "metadata": {},
   "outputs": [
    {
     "data": {
      "text/html": [
       "<div>\n",
       "<style scoped>\n",
       "    .dataframe tbody tr th:only-of-type {\n",
       "        vertical-align: middle;\n",
       "    }\n",
       "\n",
       "    .dataframe tbody tr th {\n",
       "        vertical-align: top;\n",
       "    }\n",
       "\n",
       "    .dataframe thead th {\n",
       "        text-align: right;\n",
       "    }\n",
       "</style>\n",
       "<table border=\"1\" class=\"dataframe\">\n",
       "  <thead>\n",
       "    <tr style=\"text-align: right;\">\n",
       "      <th></th>\n",
       "      <th>id</th>\n",
       "      <th>name</th>\n",
       "      <th>host_id</th>\n",
       "      <th>host_name</th>\n",
       "      <th>neighbourhood_group</th>\n",
       "      <th>neighbourhood</th>\n",
       "      <th>latitude</th>\n",
       "      <th>longitude</th>\n",
       "      <th>room_type</th>\n",
       "      <th>price</th>\n",
       "      <th>minimum_nights</th>\n",
       "      <th>number_of_reviews</th>\n",
       "      <th>last_review</th>\n",
       "      <th>reviews_per_month</th>\n",
       "      <th>calculated_host_listings_count</th>\n",
       "      <th>availability_365</th>\n",
       "    </tr>\n",
       "  </thead>\n",
       "  <tbody>\n",
       "    <tr>\n",
       "      <th>0</th>\n",
       "      <td>3191</td>\n",
       "      <td>Malleson Garden Cottage</td>\n",
       "      <td>3754</td>\n",
       "      <td>Brigitte</td>\n",
       "      <td>NaN</td>\n",
       "      <td>Ward 57</td>\n",
       "      <td>-33.94739</td>\n",
       "      <td>18.47600</td>\n",
       "      <td>Entire home/apt</td>\n",
       "      <td>819</td>\n",
       "      <td>3</td>\n",
       "      <td>54</td>\n",
       "      <td>2020-03-07</td>\n",
       "      <td>0.63</td>\n",
       "      <td>1</td>\n",
       "      <td>362</td>\n",
       "    </tr>\n",
       "    <tr>\n",
       "      <th>1</th>\n",
       "      <td>15007</td>\n",
       "      <td>Blaauwberg House</td>\n",
       "      <td>59072</td>\n",
       "      <td>Dirk</td>\n",
       "      <td>NaN</td>\n",
       "      <td>Ward 23</td>\n",
       "      <td>-33.80001</td>\n",
       "      <td>18.46063</td>\n",
       "      <td>Entire home/apt</td>\n",
       "      <td>2050</td>\n",
       "      <td>2</td>\n",
       "      <td>27</td>\n",
       "      <td>2019-08-18</td>\n",
       "      <td>0.34</td>\n",
       "      <td>4</td>\n",
       "      <td>251</td>\n",
       "    </tr>\n",
       "    <tr>\n",
       "      <th>2</th>\n",
       "      <td>15068</td>\n",
       "      <td>Grande Bay</td>\n",
       "      <td>59318</td>\n",
       "      <td>Linda</td>\n",
       "      <td>NaN</td>\n",
       "      <td>Ward 23</td>\n",
       "      <td>-33.78799</td>\n",
       "      <td>18.46082</td>\n",
       "      <td>Entire home/apt</td>\n",
       "      <td>2804</td>\n",
       "      <td>4</td>\n",
       "      <td>0</td>\n",
       "      <td>NaN</td>\n",
       "      <td>NaN</td>\n",
       "      <td>10</td>\n",
       "      <td>365</td>\n",
       "    </tr>\n",
       "    <tr>\n",
       "      <th>3</th>\n",
       "      <td>15077</td>\n",
       "      <td>Top relaxed beach living in style</td>\n",
       "      <td>59342</td>\n",
       "      <td>Georg</td>\n",
       "      <td>NaN</td>\n",
       "      <td>Ward 4</td>\n",
       "      <td>-33.85812</td>\n",
       "      <td>18.49043</td>\n",
       "      <td>Private room</td>\n",
       "      <td>1620</td>\n",
       "      <td>5</td>\n",
       "      <td>5</td>\n",
       "      <td>2016-12-10</td>\n",
       "      <td>0.06</td>\n",
       "      <td>5</td>\n",
       "      <td>208</td>\n",
       "    </tr>\n",
       "    <tr>\n",
       "      <th>4</th>\n",
       "      <td>15180</td>\n",
       "      <td>The Melkbaai - Beachfront</td>\n",
       "      <td>59663</td>\n",
       "      <td>Heinri</td>\n",
       "      <td>NaN</td>\n",
       "      <td>Ward 83</td>\n",
       "      <td>-34.11124</td>\n",
       "      <td>18.82349</td>\n",
       "      <td>Entire home/apt</td>\n",
       "      <td>575</td>\n",
       "      <td>2</td>\n",
       "      <td>0</td>\n",
       "      <td>NaN</td>\n",
       "      <td>NaN</td>\n",
       "      <td>1</td>\n",
       "      <td>365</td>\n",
       "    </tr>\n",
       "  </tbody>\n",
       "</table>\n",
       "</div>"
      ],
      "text/plain": [
       "      id                               name  host_id host_name  \\\n",
       "0   3191            Malleson Garden Cottage     3754  Brigitte   \n",
       "1  15007                   Blaauwberg House    59072      Dirk   \n",
       "2  15068                         Grande Bay    59318     Linda   \n",
       "3  15077  Top relaxed beach living in style    59342     Georg   \n",
       "4  15180          The Melkbaai - Beachfront    59663    Heinri   \n",
       "\n",
       "   neighbourhood_group neighbourhood  latitude  longitude        room_type  \\\n",
       "0                  NaN       Ward 57 -33.94739   18.47600  Entire home/apt   \n",
       "1                  NaN       Ward 23 -33.80001   18.46063  Entire home/apt   \n",
       "2                  NaN       Ward 23 -33.78799   18.46082  Entire home/apt   \n",
       "3                  NaN        Ward 4 -33.85812   18.49043     Private room   \n",
       "4                  NaN       Ward 83 -34.11124   18.82349  Entire home/apt   \n",
       "\n",
       "   price  minimum_nights  number_of_reviews last_review  reviews_per_month  \\\n",
       "0    819               3                 54  2020-03-07               0.63   \n",
       "1   2050               2                 27  2019-08-18               0.34   \n",
       "2   2804               4                  0         NaN                NaN   \n",
       "3   1620               5                  5  2016-12-10               0.06   \n",
       "4    575               2                  0         NaN                NaN   \n",
       "\n",
       "   calculated_host_listings_count  availability_365  \n",
       "0                               1               362  \n",
       "1                               4               251  \n",
       "2                              10               365  \n",
       "3                               5               208  \n",
       "4                               1               365  "
      ]
     },
     "execution_count": 68,
     "metadata": {},
     "output_type": "execute_result"
    }
   ],
   "source": [
    "listing_df.head()"
   ]
  },
  {
   "cell_type": "markdown",
   "metadata": {},
   "source": [
    " "
   ]
  },
  {
   "cell_type": "markdown",
   "metadata": {},
   "source": [
    " "
   ]
  },
  {
   "cell_type": "markdown",
   "metadata": {},
   "source": [
    " "
   ]
  },
  {
   "cell_type": "markdown",
   "metadata": {},
   "source": [
    "## 2. Clean the data. "
   ]
  },
  {
   "cell_type": "code",
   "execution_count": 85,
   "metadata": {},
   "outputs": [
    {
     "data": {
      "text/plain": [
       "id                                    0\n",
       "name                                  0\n",
       "host_id                               0\n",
       "host_name                             3\n",
       "neighbourhood_group               24079\n",
       "neighbourhood                         0\n",
       "latitude                              0\n",
       "longitude                             0\n",
       "room_type                             0\n",
       "price                                 0\n",
       "minimum_nights                        0\n",
       "number_of_reviews                     0\n",
       "last_review                        6823\n",
       "reviews_per_month                  6823\n",
       "calculated_host_listings_count        0\n",
       "availability_365                      0\n",
       "dtype: int64"
      ]
     },
     "execution_count": 85,
     "metadata": {},
     "output_type": "execute_result"
    }
   ],
   "source": [
    "# Dealing with NAs starting with Listing DataFrame\n",
    "listing_df.isna().sum()"
   ]
  },
  {
   "cell_type": "code",
   "execution_count": 86,
   "metadata": {},
   "outputs": [],
   "source": [
    "# Because the data set is over 24k, I decided to drop the nan values of reviews and last review (the same rows were nan for each)\n",
    "# In researching SA Cape Town Air BNB, I found that houses with no reviews tended to have been expensive, but never booked\n",
    "# Dropping these values, I expect to increase accuracy as some houses with massive price tags have never been booked or reviewed\n",
    "\n",
    "listing_df.dropna(subset = ['reviews_per_month', 'last_review'], axis = 0, inplace = True)"
   ]
  },
  {
   "cell_type": "code",
   "execution_count": null,
   "metadata": {},
   "outputs": [],
   "source": []
  },
  {
   "cell_type": "code",
   "execution_count": 87,
   "metadata": {},
   "outputs": [],
   "source": [
    "# Testing for listings with price = 0\n",
    "# Closed listing does not exist 9775 is 20685098 and it is listed as price = 0 \n",
    "\n",
    "listing_df[listing_df.price == 0.0]\n",
    "listing_df.drop(9775, inplace = True)"
   ]
  },
  {
   "cell_type": "code",
   "execution_count": 89,
   "metadata": {},
   "outputs": [],
   "source": [
    "#listing append 9808 is 20736711 price was 0.0 is actually 121 USD, minimum night 7\n",
    "\n",
    "listing_df.at[9808, 'price_usd'] = 121\n",
    "listing_df.at[9808, 'minimum_nights'] = 7"
   ]
  },
  {
   "cell_type": "code",
   "execution_count": 88,
   "metadata": {},
   "outputs": [],
   "source": [
    "# Seemingly half of the rates were in ZAR and half in dollars (lower cost was in USD)\n",
    "# Air BNB zar conversion rate is 14.3 (current rate is 16.5)\n",
    "# The most expensive house I could find was 3,000 that had been reviewed once/had been booked\n",
    "\n",
    "listing_df['price_usd'] = listing_df.price.apply(lambda x: x/14.23 if x>= 3000 else x)"
   ]
  },
  {
   "cell_type": "code",
   "execution_count": 90,
   "metadata": {},
   "outputs": [],
   "source": [
    "#minimum nights is 1125, which while this is true on airbnb, this place has not been booked at this minimum night and I believe it would scew the data. \n",
    "\n",
    "listing_df.drop(4957, inplace = True)"
   ]
  },
  {
   "cell_type": "code",
   "execution_count": 91,
   "metadata": {},
   "outputs": [],
   "source": [
    "# Splitting by room type by making dummy binomial variables\n",
    "\n",
    "listing_df = pd.get_dummies(listing_df, columns=['room_type'])"
   ]
  },
  {
   "cell_type": "code",
   "execution_count": 92,
   "metadata": {},
   "outputs": [],
   "source": [
    "# Neighbourhoods\n",
    "\n",
    "listing_df.neighbourhood = listing_df.neighbourhood.map(lambda x: x.replace('Ward', ''))"
   ]
  },
  {
   "cell_type": "code",
   "execution_count": 93,
   "metadata": {},
   "outputs": [],
   "source": [
    "listing_df.neighbourhood = listing_df.neighbourhood.astype(int)"
   ]
  },
  {
   "cell_type": "code",
   "execution_count": 115,
   "metadata": {},
   "outputs": [
    {
     "data": {
      "text/html": [
       "<div>\n",
       "<style scoped>\n",
       "    .dataframe tbody tr th:only-of-type {\n",
       "        vertical-align: middle;\n",
       "    }\n",
       "\n",
       "    .dataframe tbody tr th {\n",
       "        vertical-align: top;\n",
       "    }\n",
       "\n",
       "    .dataframe thead th {\n",
       "        text-align: right;\n",
       "    }\n",
       "</style>\n",
       "<table border=\"1\" class=\"dataframe\">\n",
       "  <thead>\n",
       "    <tr style=\"text-align: right;\">\n",
       "      <th></th>\n",
       "      <th>id</th>\n",
       "      <th>name</th>\n",
       "      <th>host_id</th>\n",
       "      <th>host_name</th>\n",
       "      <th>neighbourhood_group</th>\n",
       "      <th>neighbourhood</th>\n",
       "      <th>latitude</th>\n",
       "      <th>longitude</th>\n",
       "      <th>price</th>\n",
       "      <th>minimum_nights</th>\n",
       "      <th>number_of_reviews</th>\n",
       "      <th>last_review</th>\n",
       "      <th>reviews_per_month</th>\n",
       "      <th>calculated_host_listings_count</th>\n",
       "      <th>availability_365</th>\n",
       "      <th>price_usd</th>\n",
       "      <th>room_type_Entire home/apt</th>\n",
       "      <th>room_type_Hotel room</th>\n",
       "      <th>room_type_Private room</th>\n",
       "      <th>room_type_Shared room</th>\n",
       "      <th>geo_level_x</th>\n",
       "      <th>geo_code_x</th>\n",
       "      <th>0_14_x</th>\n",
       "      <th>15_24_x</th>\n",
       "      <th>25_34_x</th>\n",
       "      <th>35_44_x</th>\n",
       "      <th>45_54_x</th>\n",
       "      <th>55_64_x</th>\n",
       "      <th>65+_x</th>\n",
       "      <th>total_raw_x</th>\n",
       "      <th>total_10000 _rounded_x</th>\n",
       "      <th>price_usd_log</th>\n",
       "      <th>distance_cc</th>\n",
       "      <th>distance_waterfront</th>\n",
       "      <th>distance_wine</th>\n",
       "      <th>distance_airport</th>\n",
       "      <th>geo_level_y</th>\n",
       "      <th>geo_code_y</th>\n",
       "      <th>0_14_y</th>\n",
       "      <th>15_24_y</th>\n",
       "      <th>25_34_y</th>\n",
       "      <th>35_44_y</th>\n",
       "      <th>45_54_y</th>\n",
       "      <th>55_64_y</th>\n",
       "      <th>65+_y</th>\n",
       "      <th>total_raw_y</th>\n",
       "      <th>total_10000 _rounded_y</th>\n",
       "    </tr>\n",
       "  </thead>\n",
       "  <tbody>\n",
       "    <tr>\n",
       "      <th>0</th>\n",
       "      <td>3191</td>\n",
       "      <td>Malleson Garden Cottage</td>\n",
       "      <td>3754</td>\n",
       "      <td>Brigitte</td>\n",
       "      <td>NaN</td>\n",
       "      <td>57</td>\n",
       "      <td>-33.94739</td>\n",
       "      <td>18.47600</td>\n",
       "      <td>819</td>\n",
       "      <td>3</td>\n",
       "      <td>54</td>\n",
       "      <td>2020-03-07</td>\n",
       "      <td>0.63</td>\n",
       "      <td>1</td>\n",
       "      <td>362</td>\n",
       "      <td>819.000000</td>\n",
       "      <td>1</td>\n",
       "      <td>0</td>\n",
       "      <td>0</td>\n",
       "      <td>0</td>\n",
       "      <td>ward</td>\n",
       "      <td>57.0</td>\n",
       "      <td>24.0</td>\n",
       "      <td>219.0</td>\n",
       "      <td>456.0</td>\n",
       "      <td>432.0</td>\n",
       "      <td>303.0</td>\n",
       "      <td>141.0</td>\n",
       "      <td>120.0</td>\n",
       "      <td>1695.0</td>\n",
       "      <td>242.0</td>\n",
       "      <td>6.708084</td>\n",
       "      <td>3.356482</td>\n",
       "      <td>4.390745</td>\n",
       "      <td>22.826170</td>\n",
       "      <td>3.356482</td>\n",
       "      <td>ward</td>\n",
       "      <td>57.0</td>\n",
       "      <td>24.0</td>\n",
       "      <td>219.0</td>\n",
       "      <td>456.0</td>\n",
       "      <td>432.0</td>\n",
       "      <td>303.0</td>\n",
       "      <td>141.0</td>\n",
       "      <td>120.0</td>\n",
       "      <td>1695.0</td>\n",
       "      <td>242.0</td>\n",
       "    </tr>\n",
       "    <tr>\n",
       "      <th>1</th>\n",
       "      <td>15007</td>\n",
       "      <td>Blaauwberg House</td>\n",
       "      <td>59072</td>\n",
       "      <td>Dirk</td>\n",
       "      <td>NaN</td>\n",
       "      <td>23</td>\n",
       "      <td>-33.80001</td>\n",
       "      <td>18.46063</td>\n",
       "      <td>2050</td>\n",
       "      <td>2</td>\n",
       "      <td>27</td>\n",
       "      <td>2019-08-18</td>\n",
       "      <td>0.34</td>\n",
       "      <td>4</td>\n",
       "      <td>251</td>\n",
       "      <td>2050.000000</td>\n",
       "      <td>1</td>\n",
       "      <td>0</td>\n",
       "      <td>0</td>\n",
       "      <td>0</td>\n",
       "      <td>ward</td>\n",
       "      <td>23.0</td>\n",
       "      <td>39.0</td>\n",
       "      <td>270.0</td>\n",
       "      <td>357.0</td>\n",
       "      <td>210.0</td>\n",
       "      <td>153.0</td>\n",
       "      <td>42.0</td>\n",
       "      <td>30.0</td>\n",
       "      <td>1101.0</td>\n",
       "      <td>157.0</td>\n",
       "      <td>7.625595</td>\n",
       "      <td>8.879955</td>\n",
       "      <td>7.518682</td>\n",
       "      <td>29.050059</td>\n",
       "      <td>8.879955</td>\n",
       "      <td>ward</td>\n",
       "      <td>23.0</td>\n",
       "      <td>39.0</td>\n",
       "      <td>270.0</td>\n",
       "      <td>357.0</td>\n",
       "      <td>210.0</td>\n",
       "      <td>153.0</td>\n",
       "      <td>42.0</td>\n",
       "      <td>30.0</td>\n",
       "      <td>1101.0</td>\n",
       "      <td>157.0</td>\n",
       "    </tr>\n",
       "    <tr>\n",
       "      <th>2</th>\n",
       "      <td>15077</td>\n",
       "      <td>Top relaxed beach living in style</td>\n",
       "      <td>59342</td>\n",
       "      <td>Georg</td>\n",
       "      <td>NaN</td>\n",
       "      <td>4</td>\n",
       "      <td>-33.85812</td>\n",
       "      <td>18.49043</td>\n",
       "      <td>1620</td>\n",
       "      <td>5</td>\n",
       "      <td>5</td>\n",
       "      <td>2016-12-10</td>\n",
       "      <td>0.06</td>\n",
       "      <td>5</td>\n",
       "      <td>208</td>\n",
       "      <td>1620.000000</td>\n",
       "      <td>0</td>\n",
       "      <td>0</td>\n",
       "      <td>1</td>\n",
       "      <td>0</td>\n",
       "      <td>ward</td>\n",
       "      <td>4.0</td>\n",
       "      <td>39.0</td>\n",
       "      <td>306.0</td>\n",
       "      <td>447.0</td>\n",
       "      <td>309.0</td>\n",
       "      <td>180.0</td>\n",
       "      <td>132.0</td>\n",
       "      <td>90.0</td>\n",
       "      <td>1503.0</td>\n",
       "      <td>215.0</td>\n",
       "      <td>7.390181</td>\n",
       "      <td>5.980151</td>\n",
       "      <td>5.095566</td>\n",
       "      <td>25.194771</td>\n",
       "      <td>5.980151</td>\n",
       "      <td>ward</td>\n",
       "      <td>4.0</td>\n",
       "      <td>39.0</td>\n",
       "      <td>306.0</td>\n",
       "      <td>447.0</td>\n",
       "      <td>309.0</td>\n",
       "      <td>180.0</td>\n",
       "      <td>132.0</td>\n",
       "      <td>90.0</td>\n",
       "      <td>1503.0</td>\n",
       "      <td>215.0</td>\n",
       "    </tr>\n",
       "    <tr>\n",
       "      <th>3</th>\n",
       "      <td>15199</td>\n",
       "      <td>Self catering apartment</td>\n",
       "      <td>59694</td>\n",
       "      <td>Alexa</td>\n",
       "      <td>NaN</td>\n",
       "      <td>115</td>\n",
       "      <td>-33.91044</td>\n",
       "      <td>18.41239</td>\n",
       "      <td>124995</td>\n",
       "      <td>14</td>\n",
       "      <td>2</td>\n",
       "      <td>2016-04-15</td>\n",
       "      <td>0.03</td>\n",
       "      <td>1</td>\n",
       "      <td>364</td>\n",
       "      <td>8783.907238</td>\n",
       "      <td>1</td>\n",
       "      <td>0</td>\n",
       "      <td>0</td>\n",
       "      <td>0</td>\n",
       "      <td>NaN</td>\n",
       "      <td>NaN</td>\n",
       "      <td>NaN</td>\n",
       "      <td>NaN</td>\n",
       "      <td>NaN</td>\n",
       "      <td>NaN</td>\n",
       "      <td>NaN</td>\n",
       "      <td>NaN</td>\n",
       "      <td>NaN</td>\n",
       "      <td>NaN</td>\n",
       "      <td>NaN</td>\n",
       "      <td>9.080677</td>\n",
       "      <td>1.203734</td>\n",
       "      <td>0.663044</td>\n",
       "      <td>27.195878</td>\n",
       "      <td>1.203734</td>\n",
       "      <td>NaN</td>\n",
       "      <td>NaN</td>\n",
       "      <td>NaN</td>\n",
       "      <td>NaN</td>\n",
       "      <td>NaN</td>\n",
       "      <td>NaN</td>\n",
       "      <td>NaN</td>\n",
       "      <td>NaN</td>\n",
       "      <td>NaN</td>\n",
       "      <td>NaN</td>\n",
       "      <td>NaN</td>\n",
       "    </tr>\n",
       "    <tr>\n",
       "      <th>4</th>\n",
       "      <td>15285</td>\n",
       "      <td>Waterford-Guinea Fowl Self Catering</td>\n",
       "      <td>59964</td>\n",
       "      <td>Chris+Alison</td>\n",
       "      <td>NaN</td>\n",
       "      <td>71</td>\n",
       "      <td>-34.03863</td>\n",
       "      <td>18.43128</td>\n",
       "      <td>1202</td>\n",
       "      <td>2</td>\n",
       "      <td>8</td>\n",
       "      <td>2019-12-30</td>\n",
       "      <td>0.08</td>\n",
       "      <td>3</td>\n",
       "      <td>303</td>\n",
       "      <td>1202.000000</td>\n",
       "      <td>1</td>\n",
       "      <td>0</td>\n",
       "      <td>0</td>\n",
       "      <td>0</td>\n",
       "      <td>ward</td>\n",
       "      <td>71.0</td>\n",
       "      <td>39.0</td>\n",
       "      <td>273.0</td>\n",
       "      <td>405.0</td>\n",
       "      <td>246.0</td>\n",
       "      <td>132.0</td>\n",
       "      <td>126.0</td>\n",
       "      <td>18.0</td>\n",
       "      <td>1239.0</td>\n",
       "      <td>177.0</td>\n",
       "      <td>7.091742</td>\n",
       "      <td>7.868755</td>\n",
       "      <td>9.350111</td>\n",
       "      <td>23.721691</td>\n",
       "      <td>7.868755</td>\n",
       "      <td>ward</td>\n",
       "      <td>71.0</td>\n",
       "      <td>39.0</td>\n",
       "      <td>273.0</td>\n",
       "      <td>405.0</td>\n",
       "      <td>246.0</td>\n",
       "      <td>132.0</td>\n",
       "      <td>126.0</td>\n",
       "      <td>18.0</td>\n",
       "      <td>1239.0</td>\n",
       "      <td>177.0</td>\n",
       "    </tr>\n",
       "  </tbody>\n",
       "</table>\n",
       "</div>"
      ],
      "text/plain": [
       "      id                                 name  host_id     host_name  \\\n",
       "0   3191              Malleson Garden Cottage     3754      Brigitte   \n",
       "1  15007                     Blaauwberg House    59072          Dirk   \n",
       "2  15077    Top relaxed beach living in style    59342         Georg   \n",
       "3  15199              Self catering apartment    59694         Alexa   \n",
       "4  15285  Waterford-Guinea Fowl Self Catering    59964  Chris+Alison   \n",
       "\n",
       "   neighbourhood_group  neighbourhood  latitude  longitude   price  \\\n",
       "0                  NaN             57 -33.94739   18.47600     819   \n",
       "1                  NaN             23 -33.80001   18.46063    2050   \n",
       "2                  NaN              4 -33.85812   18.49043    1620   \n",
       "3                  NaN            115 -33.91044   18.41239  124995   \n",
       "4                  NaN             71 -34.03863   18.43128    1202   \n",
       "\n",
       "   minimum_nights  number_of_reviews last_review  reviews_per_month  \\\n",
       "0               3                 54  2020-03-07               0.63   \n",
       "1               2                 27  2019-08-18               0.34   \n",
       "2               5                  5  2016-12-10               0.06   \n",
       "3              14                  2  2016-04-15               0.03   \n",
       "4               2                  8  2019-12-30               0.08   \n",
       "\n",
       "   calculated_host_listings_count  availability_365    price_usd  \\\n",
       "0                               1               362   819.000000   \n",
       "1                               4               251  2050.000000   \n",
       "2                               5               208  1620.000000   \n",
       "3                               1               364  8783.907238   \n",
       "4                               3               303  1202.000000   \n",
       "\n",
       "   room_type_Entire home/apt  room_type_Hotel room  room_type_Private room  \\\n",
       "0                          1                     0                       0   \n",
       "1                          1                     0                       0   \n",
       "2                          0                     0                       1   \n",
       "3                          1                     0                       0   \n",
       "4                          1                     0                       0   \n",
       "\n",
       "   room_type_Shared room geo_level_x  geo_code_x  0_14_x  15_24_x  25_34_x  \\\n",
       "0                      0        ward        57.0    24.0    219.0    456.0   \n",
       "1                      0        ward        23.0    39.0    270.0    357.0   \n",
       "2                      0        ward         4.0    39.0    306.0    447.0   \n",
       "3                      0         NaN         NaN     NaN      NaN      NaN   \n",
       "4                      0        ward        71.0    39.0    273.0    405.0   \n",
       "\n",
       "   35_44_x  45_54_x  55_64_x  65+_x  total_raw_x  total_10000 _rounded_x  \\\n",
       "0    432.0    303.0    141.0  120.0       1695.0                   242.0   \n",
       "1    210.0    153.0     42.0   30.0       1101.0                   157.0   \n",
       "2    309.0    180.0    132.0   90.0       1503.0                   215.0   \n",
       "3      NaN      NaN      NaN    NaN          NaN                     NaN   \n",
       "4    246.0    132.0    126.0   18.0       1239.0                   177.0   \n",
       "\n",
       "   price_usd_log  distance_cc  distance_waterfront  distance_wine  \\\n",
       "0       6.708084     3.356482             4.390745      22.826170   \n",
       "1       7.625595     8.879955             7.518682      29.050059   \n",
       "2       7.390181     5.980151             5.095566      25.194771   \n",
       "3       9.080677     1.203734             0.663044      27.195878   \n",
       "4       7.091742     7.868755             9.350111      23.721691   \n",
       "\n",
       "   distance_airport geo_level_y  geo_code_y  0_14_y  15_24_y  25_34_y  \\\n",
       "0          3.356482        ward        57.0    24.0    219.0    456.0   \n",
       "1          8.879955        ward        23.0    39.0    270.0    357.0   \n",
       "2          5.980151        ward         4.0    39.0    306.0    447.0   \n",
       "3          1.203734         NaN         NaN     NaN      NaN      NaN   \n",
       "4          7.868755        ward        71.0    39.0    273.0    405.0   \n",
       "\n",
       "   35_44_y  45_54_y  55_64_y  65+_y  total_raw_y  total_10000 _rounded_y  \n",
       "0    432.0    303.0    141.0  120.0       1695.0                   242.0  \n",
       "1    210.0    153.0     42.0   30.0       1101.0                   157.0  \n",
       "2    309.0    180.0    132.0   90.0       1503.0                   215.0  \n",
       "3      NaN      NaN      NaN    NaN          NaN                     NaN  \n",
       "4    246.0    132.0    126.0   18.0       1239.0                   177.0  "
      ]
     },
     "execution_count": 115,
     "metadata": {},
     "output_type": "execute_result"
    }
   ],
   "source": [
    "# Merge df on geo code/neighbourhood for the crime stats\n",
    "\n",
    "listing_df = listing_df.merge(crime_df, left_on='neighbourhood', right_on = 'geo_code' ,how='left')\n",
    "listing_df.head()"
   ]
  },
  {
   "cell_type": "code",
   "execution_count": 116,
   "metadata": {},
   "outputs": [],
   "source": [
    "# Ward 112 impute mean crime from surounding wards (Ward 103, Ward 21, Ward 70 = 175)"
   ]
  },
  {
   "cell_type": "code",
   "execution_count": 119,
   "metadata": {},
   "outputs": [],
   "source": [
    "listing_df['total_10000 _rounded_y'] = np.where((listing_df['neighbourhood'] == 112), 175, listing_df['total_10000 _rounded_y'])"
   ]
  },
  {
   "cell_type": "code",
   "execution_count": 110,
   "metadata": {},
   "outputs": [],
   "source": [
    "# Ward 113  impute mean crime from surounding wards (Ward 107, Ward 1, Ward 4 = 237)"
   ]
  },
  {
   "cell_type": "code",
   "execution_count": 120,
   "metadata": {},
   "outputs": [],
   "source": [
    "listing_df['total_10000 _rounded_y'] = np.where((listing_df['neighbourhood'] == 113), 237, listing_df['total_10000 _rounded_y'])"
   ]
  },
  {
   "cell_type": "code",
   "execution_count": 112,
   "metadata": {},
   "outputs": [],
   "source": [
    "# Ward 115  impute mean crime from surounding wards (Ward 54, Ward 57, Ward 77, Ward 55 = 266)"
   ]
  },
  {
   "cell_type": "code",
   "execution_count": 121,
   "metadata": {},
   "outputs": [],
   "source": [
    "listing_df['total_10000 _rounded_y'] = np.where((listing_df['neighbourhood'] == 115), 266, listing_df['total_10000 _rounded_y'])"
   ]
  },
  {
   "cell_type": "code",
   "execution_count": 124,
   "metadata": {},
   "outputs": [],
   "source": [
    "# Ward 116  impute mean crime from surounding wards (Ward 87, Ward 18, Ward 35, Ward 76, Ward 92, Ward 79, Ward 78 = 265)"
   ]
  },
  {
   "cell_type": "code",
   "execution_count": 122,
   "metadata": {},
   "outputs": [],
   "source": [
    "listing_df['total_10000 _rounded_y'] = np.where((listing_df['neighbourhood'] == 116), 265, listing_df['total_10000 _rounded_y'])"
   ]
  },
  {
   "cell_type": "markdown",
   "metadata": {},
   "source": [
    " "
   ]
  },
  {
   "cell_type": "markdown",
   "metadata": {},
   "source": [
    " "
   ]
  },
  {
   "cell_type": "markdown",
   "metadata": {},
   "source": [
    " "
   ]
  },
  {
   "cell_type": "markdown",
   "metadata": {},
   "source": [
    "## 3. Feature Engineering "
   ]
  },
  {
   "cell_type": "code",
   "execution_count": 99,
   "metadata": {},
   "outputs": [],
   "source": [
    "# testing features\n",
    "\n",
    "listing_df['price_usd_log'] = np.log(listing_df['price_usd'])"
   ]
  },
  {
   "cell_type": "code",
   "execution_count": 100,
   "metadata": {},
   "outputs": [],
   "source": [
    "# Feature Engineering"
   ]
  },
  {
   "cell_type": "code",
   "execution_count": 133,
   "metadata": {},
   "outputs": [
    {
     "data": {
      "image/png": "[encoded data removed]",
      "text/plain": [
       "<Figure size 432x288 with 1 Axes>"
      ]
     },
     "metadata": {
      "needs_background": "light"
     },
     "output_type": "display_data"
    }
   ],
   "source": [
    "sns.distplot(listing_df['price_usd']);"
   ]
  },
  {
   "cell_type": "code",
   "execution_count": 132,
   "metadata": {},
   "outputs": [
    {
     "data": {
      "image/png": "[encoded data removed]",
      "text/plain": [
       "<Figure size 432x288 with 1 Axes>"
      ]
     },
     "metadata": {
      "needs_background": "light"
     },
     "output_type": "display_data"
    }
   ],
   "source": [
    "# Using the log I can normalize the plot a little bit \n",
    "\n",
    "sns.distplot(listing_df['price_usd_log']);"
   ]
  },
  {
   "cell_type": "code",
   "execution_count": null,
   "metadata": {},
   "outputs": [],
   "source": []
  },
  {
   "cell_type": "code",
   "execution_count": 108,
   "metadata": {},
   "outputs": [],
   "source": [
    "# Distance to Cape Town City Center\n",
    "\n",
    "city_center = (-33.9249,18.4241)\n",
    "listing_df['distance_cc'] = listing_df[['latitude', 'longitude']].apply(lambda x: great_circle(city_center, \n",
    "                                                                                               (x['latitude'], x['longitude'])).miles, axis = 1)\n",
    "# Distance VA Waterfront \n",
    "\n",
    "va_water = (-33.9036, 18.4205)\n",
    "listing_df['distance_waterfront'] = listing_df[['latitude', 'longitude']].apply(lambda x: great_circle(va_water, \n",
    "                                                                                               (x['latitude'], x['longitude'])).miles, axis = 1)\n",
    "\n",
    "# Stellenbosch \n",
    "\n",
    "wine_lands = (-34.075691, 18.843266)\n",
    "listing_df['distance_wine'] = listing_df[['latitude', 'longitude']].apply(lambda x: great_circle(wine_lands, \n",
    "                                                                                               (x['latitude'], x['longitude'])).miles, axis = 1)\n",
    "\n",
    "# Distance from Airport\n",
    "\n",
    "airport = (-33.9249,18.4241)\n",
    "listing_df['distance_airport'] = listing_df[['latitude', 'longitude']].apply(lambda x: great_circle(airport, \n",
    "                                                                                               (x['latitude'], x['longitude'])).miles, axis = 1)\n"
   ]
  },
  {
   "cell_type": "markdown",
   "metadata": {},
   "source": [
    " "
   ]
  },
  {
   "cell_type": "markdown",
   "metadata": {},
   "source": [
    " "
   ]
  },
  {
   "cell_type": "markdown",
   "metadata": {},
   "source": [
    " "
   ]
  },
  {
   "cell_type": "markdown",
   "metadata": {},
   "source": [
    "## 4. Statistical Testing"
   ]
  },
  {
   "cell_type": "code",
   "execution_count": 33,
   "metadata": {},
   "outputs": [],
   "source": [
    "#Statistical Testing"
   ]
  },
  {
   "cell_type": "code",
   "execution_count": 34,
   "metadata": {},
   "outputs": [
    {
     "data": {
      "text/plain": [
       "F_onewayResult(statistic=10.301412241737964, pvalue=0.001331716064438783)"
      ]
     },
     "execution_count": 34,
     "metadata": {},
     "output_type": "execute_result"
    }
   ],
   "source": [
    "# minimum nights > 4\n",
    "# min nights < 4 \n",
    "# mean min_nights is 3.93\n",
    "# Prices of Air BNBs with less than 4 minimum nights is statistically different than houses with minimum nights greater or equal to 4. \n",
    "#2 sample ttest\n",
    "\n",
    "stats.ttest_ind(listing_df[listing_df['minimum_nights'] >= 4]['price_usd_log'], listing_df[listing_df['minimum_nights'] < 4]['price_usd_log']) \n",
    "\n"
   ]
  },
  {
   "cell_type": "code",
   "execution_count": 35,
   "metadata": {},
   "outputs": [
    {
     "name": "stdout",
     "output_type": "stream",
     "text": [
      "10 miles:  F_onewayResult(statistic=3.5676551475236833, pvalue=0.05893220680422791)\n",
      "8 miles:  F_onewayResult(statistic=10.562734536727625, pvalue=0.0011561144208251598)\n",
      "1 mile:  F_onewayResult(statistic=91.55364227586814, pvalue=1.2290429745611808e-21)\n"
     ]
    }
   ],
   "source": [
    "# As we get closer the the City Center, the mean of the price changes. \n",
    "# ANOVA\n",
    "# Combine testing needed\n",
    "\n",
    "\n",
    "x = listing_df[listing_df['distance_cc'] >= 10]['price_usd_log']\n",
    "y = listing_df[listing_df['distance_cc'] < 10]['price_usd_log']\n",
    "ten_miles = stats.f_oneway(x, y)\n",
    "\n",
    "x = listing_df[listing_df['distance_cc'] >= 8]['price_usd_log']\n",
    "y = listing_df[listing_df['distance_cc'] < 8]['price_usd_log']\n",
    "eight_miles = stats.f_oneway(x, y)\n",
    "\n",
    "x = listing_df[listing_df['distance_cc'] >= 1]['price_usd_log']\n",
    "y = listing_df[listing_df['distance_cc'] < 1]['price_usd_log']\n",
    "one_mile = stats.f_oneway(x, y)\n",
    "\n",
    "print('10 miles: ', ten_miles)\n",
    "print('8 miles: ', eight_miles)\n",
    "print('1 mile: ', one_mile)"
   ]
  },
  {
   "cell_type": "code",
   "execution_count": 126,
   "metadata": {},
   "outputs": [
    {
     "data": {
      "text/plain": [
       "Ttest_indResult(statistic=9.563862354430071, pvalue=1.2834654100460626e-21)"
      ]
     },
     "execution_count": 126,
     "metadata": {},
     "output_type": "execute_result"
    }
   ],
   "source": [
    "# Independent T Test we can also see that the distance_cc is statistically different when looked over a mile to city center\n",
    "\n",
    "ttest_distance_cc = stats.ttest_ind(listing_df[listing_df['distance_cc'] < 1]['price_usd_log'], listing_df[listing_df['distance_cc'] >=1]['price_usd_log']) \n",
    "ttest_distance_cc"
   ]
  },
  {
   "cell_type": "code",
   "execution_count": 128,
   "metadata": {},
   "outputs": [
    {
     "data": {
      "text/plain": [
       "Ttest_indResult(statistic=-0.42299170968349664, pvalue=0.6723065820183742)"
      ]
     },
     "execution_count": 128,
     "metadata": {},
     "output_type": "execute_result"
    }
   ],
   "source": [
    "# H0 Price is not statistically contingent on the level of crime per 10,000\n",
    "# H1 Price is statistically different based on the level of crime per 10,000\n",
    "\n",
    "stats.ttest_ind(listing_df[listing_df['total_10000 _rounded_y'] >= 235.17]['price_usd'], listing_df[listing_df['total_10000 _rounded_y'] <235.17]['price_usd'])\n",
    "\n",
    "# This one really shocked me. I thought for sure there would be a statistical different between the cost of the airbnb in areas with less crime per 10,000\n",
    "# Failed to reject Null Hypothesis"
   ]
  },
  {
   "cell_type": "code",
   "execution_count": 129,
   "metadata": {},
   "outputs": [
    {
     "data": {
      "text/plain": [
       "Ttest_indResult(statistic=3.2875777934892887, pvalue=0.001012552851127008)"
      ]
     },
     "execution_count": 129,
     "metadata": {},
     "output_type": "execute_result"
    }
   ],
   "source": [
    "# When price_usd_log is used, there is some statistical significance \n",
    "\n",
    "stats.ttest_ind(listing_df[listing_df['total_10000 _rounded_y'] >= 235.17]['price_usd_log'], listing_df[listing_df['total_10000 _rounded_y'] <235.17]['price_usd_log'])"
   ]
  },
  {
   "cell_type": "code",
   "execution_count": 134,
   "metadata": {},
   "outputs": [
    {
     "data": {
      "image/png": "[encoded data removed]",
      "text/plain": [
       "<Figure size 432x288 with 2 Axes>"
      ]
     },
     "metadata": {
      "needs_background": "light"
     },
     "output_type": "display_data"
    }
   ],
   "source": [
    "\n",
    "#listing_df.plot(kind= 'scatter', x = 'longitude', y = 'latitude', alpha = .3, c = 'total_10000 _rounded_y', cmap = plt.get_cmap('jet'));"
   ]
  },
  {
   "cell_type": "markdown",
   "metadata": {},
   "source": [
    " "
   ]
  },
  {
   "cell_type": "markdown",
   "metadata": {},
   "source": [
    " "
   ]
  },
  {
   "cell_type": "markdown",
   "metadata": {},
   "source": [
    " "
   ]
  },
  {
   "cell_type": "markdown",
   "metadata": {},
   "source": [
    "## 5. Baseline model"
   ]
  },
  {
   "cell_type": "code",
   "execution_count": null,
   "metadata": {},
   "outputs": [],
   "source": []
  },
  {
   "cell_type": "code",
   "execution_count": 130,
   "metadata": {},
   "outputs": [
    {
     "name": "stdout",
     "output_type": "stream",
     "text": [
      "rmse:  0.6689703262230275 r2:  0.0\n"
     ]
    }
   ],
   "source": [
    "# Baseline model; rmse:  669.5434143725225 r2:  0.0 using mean\n",
    "\n",
    "subset = ['neighbourhood', 'latitude', 'longitude', 'minimum_nights', 'number_of_reviews', 'reviews_per_month', 'availability_365']\n",
    "x = listing_df[subset]\n",
    "y = listing_df['price_usd_log']\n",
    "\n",
    "dummy_regr = DummyRegressor(strategy = \"mean\")\n",
    "dummy_regr.fit(x, y)\n",
    "#DummyRegressor()\n",
    "y_predict = dummy_regr.predict(y)\n",
    "R2 = dummy_regr.score(x, y)\n",
    "\n",
    "rmse = np.sqrt(metrics.mean_squared_error(y, y_predict))\n",
    "\n",
    "print('rmse: ', rmse, 'r2: ', R2)"
   ]
  },
  {
   "cell_type": "code",
   "execution_count": 131,
   "metadata": {},
   "outputs": [
    {
     "name": "stdout",
     "output_type": "stream",
     "text": [
      "rmse:  0.6692635305941289 r2:  -0.0008767761862580326\n"
     ]
    }
   ],
   "source": [
    "# Baseline model; rmse:  693.2896480095063 r2:  -0.07219047711717841 using median\n",
    "\n",
    "subset = ['neighbourhood', 'latitude', 'longitude', 'minimum_nights', 'number_of_reviews', 'reviews_per_month', 'availability_365']\n",
    "x = listing_df[subset]\n",
    "y = listing_df['price_usd_log']\n",
    "\n",
    "dummy_regr = DummyRegressor(strategy = \"median\")\n",
    "dummy_regr.fit(x, y)\n",
    "#DummyRegressor()\n",
    "y_predict = dummy_regr.predict(y)\n",
    "R2 = dummy_regr.score(x, y)\n",
    "\n",
    "rmse = np.sqrt(metrics.mean_squared_error(y, y_predict))\n",
    "\n",
    "print('rmse: ', rmse, 'r2: ', R2)"
   ]
  },
  {
   "cell_type": "code",
   "execution_count": null,
   "metadata": {},
   "outputs": [],
   "source": []
  },
  {
   "cell_type": "markdown",
   "metadata": {},
   "source": [
    "## 6. Test for Multi-Colinearity  "
   ]
  },
  {
   "cell_type": "code",
   "execution_count": null,
   "metadata": {},
   "outputs": [],
   "source": []
  },
  {
   "cell_type": "code",
   "execution_count": null,
   "metadata": {},
   "outputs": [],
   "source": []
  },
  {
   "cell_type": "code",
   "execution_count": null,
   "metadata": {},
   "outputs": [],
   "source": []
  },
  {
   "cell_type": "markdown",
   "metadata": {},
   "source": [
    "## 7. Model Testing"
   ]
  },
  {
   "cell_type": "code",
   "execution_count": null,
   "metadata": {},
   "outputs": [],
   "source": []
  }
 ],
 "metadata": {
  "kernelspec": {
   "display_name": "Python 3",
   "language": "python",
   "name": "python3"
  },
  "language_info": {
   "codemirror_mode": {
    "name": "ipython",
    "version": 3
   },
   "file_extension": ".py",
   "mimetype": "text/x-python",
   "name": "python",
   "nbconvert_exporter": "python",
   "pygments_lexer": "ipython3",
   "version": "3.7.6"
  }
 },
 "nbformat": 4,
 "nbformat_minor": 4
}
