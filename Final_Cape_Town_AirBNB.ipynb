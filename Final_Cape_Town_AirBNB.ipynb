{
 "cells": [
  {
   "cell_type": "markdown",
   "metadata": {},
   "source": [
    "# Cape Town Air BNB Prices #"
   ]
  },
  {
   "cell_type": "markdown",
   "metadata": {},
   "source": [
    "## 1. Import Libraries and Read in Data"
   ]
  },
  {
   "cell_type": "code",
   "execution_count": 103,
   "metadata": {},
   "outputs": [],
   "source": [
    "import pandas as pd\n",
    "pd.set_option('display.max_columns', 300)\n",
    "\n",
    "import numpy as np\n",
    "\n",
    "import matplotlib.pyplot as plt\n",
    "import seaborn as sns\n",
    "%matplotlib inline\n",
    "plt.style.use('fivethirtyeight')  \n",
    "\n",
    "import statsmodels.api as sm\n",
    "import scipy.stats as stats\n",
    "from statsmodels.formula.api import ols\n",
    "from sklearn.dummy import DummyRegressor\n",
    "from sklearn.model_selection import train_test_split\n",
    "from sklearn.linear_model import LinearRegression, LassoCV\n",
    "from sklearn import metrics\n",
    "from sklearn.preprocessing import StandardScaler\n",
    "\n",
    "from sklearn.metrics import mean_squared_error\n",
    "from math import radians, cos, sin, asin, sqrt\n",
    "from geopy.distance import great_circle\n",
    "from sklearn.model_selection import train_test_split\n",
    "from sklearn.linear_model import Ridge\n",
    "from yellowbrick.datasets import load_concrete\n",
    "from yellowbrick.regressor import ResidualsPlot\n"
   ]
  },
  {
   "cell_type": "code",
   "execution_count": 2,
   "metadata": {},
   "outputs": [],
   "source": [
    "import warnings"
   ]
  },
  {
   "cell_type": "code",
   "execution_count": 3,
   "metadata": {},
   "outputs": [],
   "source": [
    "# Read in data \n",
    "\n",
    "listing_df = pd.read_csv('listings.csv')"
   ]
  },
  {
   "cell_type": "code",
   "execution_count": 4,
   "metadata": {},
   "outputs": [],
   "source": [
    "# Read in crime statistics data to compliment neighbourhoods\n",
    "\n",
    "crime_df = pd.read_csv('SA_crime_ward.csv')"
   ]
  },
  {
   "cell_type": "code",
   "execution_count": 5,
   "metadata": {},
   "outputs": [],
   "source": [
    "#drop the nan row (was originally a double of column names not values)\n",
    "\n",
    "crime_df.drop(111, inplace = True)"
   ]
  },
  {
   "cell_type": "markdown",
   "metadata": {},
   "source": [
    " "
   ]
  },
  {
   "cell_type": "markdown",
   "metadata": {},
   "source": [
    " "
   ]
  },
  {
   "cell_type": "markdown",
   "metadata": {},
   "source": [
    " "
   ]
  },
  {
   "cell_type": "markdown",
   "metadata": {},
   "source": [
    "## 2. Clean the data. "
   ]
  },
  {
   "cell_type": "code",
   "execution_count": 6,
   "metadata": {},
   "outputs": [
    {
     "data": {
      "text/plain": [
       "id                                    0\n",
       "name                                  0\n",
       "host_id                               0\n",
       "host_name                             3\n",
       "neighbourhood_group               24079\n",
       "neighbourhood                         0\n",
       "latitude                              0\n",
       "longitude                             0\n",
       "room_type                             0\n",
       "price                                 0\n",
       "minimum_nights                        0\n",
       "number_of_reviews                     0\n",
       "last_review                        6823\n",
       "reviews_per_month                  6823\n",
       "calculated_host_listings_count        0\n",
       "availability_365                      0\n",
       "dtype: int64"
      ]
     },
     "execution_count": 6,
     "metadata": {},
     "output_type": "execute_result"
    }
   ],
   "source": [
    "# Dealing with NAs starting with Listing DataFrame\n",
    "listing_df.isna().sum()"
   ]
  },
  {
   "cell_type": "code",
   "execution_count": 7,
   "metadata": {},
   "outputs": [],
   "source": [
    "# Because the data set is over 24k, I decided to drop the nan values of reviews and last review (the same rows were nan for each)\n",
    "# In researching SA Cape Town Air BNB, I found that houses with no reviews tended to have been expensive, but never booked\n",
    "# Dropping these values, I expect to increase accuracy as some houses with massive price tags have never been booked or reviewed\n",
    "\n",
    "listing_df['number_of_reviews'] = listing_df['number_of_reviews'].replace(np.nan, 0)"
   ]
  },
  {
   "cell_type": "code",
   "execution_count": 8,
   "metadata": {},
   "outputs": [],
   "source": [
    "listing_df['last_review'] = listing_df['last_review'].replace(np.nan, 0)"
   ]
  },
  {
   "cell_type": "code",
   "execution_count": 9,
   "metadata": {},
   "outputs": [],
   "source": [
    "listing_df['reviews_per_month'] = listing_df['reviews_per_month'].replace(np.nan, 0)"
   ]
  },
  {
   "cell_type": "code",
   "execution_count": 10,
   "metadata": {},
   "outputs": [],
   "source": [
    "# No values in this column at all, drop column\n",
    "\n",
    "listing_df = listing_df[listing_df.columns.drop('neighbourhood_group')]"
   ]
  },
  {
   "cell_type": "code",
   "execution_count": 11,
   "metadata": {},
   "outputs": [],
   "source": [
    "# Seemingly half of the rates were in ZAR and half in dollars (lower cost was in USD)\n",
    "# Air BNB zar conversion rate is 14.3 (current rate is 16.5)\n",
    "# The most expensive house I could find was 3,000 that had been reviewed once/had been booked\n",
    "\n",
    "listing_df['price_usd'] = listing_df.price.apply(lambda x: x/14.23 if x>= 3000 else x)"
   ]
  },
  {
   "cell_type": "code",
   "execution_count": 12,
   "metadata": {},
   "outputs": [],
   "source": [
    "# Testing for listings with price = 0\n",
    "# Closed listing does not exist 9775 is 20685098 and it is listed as price = 0 \n"
   ]
  },
  {
   "cell_type": "code",
   "execution_count": 13,
   "metadata": {},
   "outputs": [],
   "source": [
    "listing_df.drop(9775, inplace = True)"
   ]
  },
  {
   "cell_type": "code",
   "execution_count": 14,
   "metadata": {},
   "outputs": [],
   "source": [
    "#listing append 9808 is 20736711 price was 0.0 is actually 121 USD, minimum night 7\n",
    "\n",
    "listing_df.at[9808, 'price_usd'] = 121\n",
    "listing_df.at[9808, 'minimum_nights'] = 7"
   ]
  },
  {
   "cell_type": "code",
   "execution_count": 15,
   "metadata": {},
   "outputs": [],
   "source": [
    "#minimum nights is 1125, which while this is true on airbnb, this place has not been booked at this minimum night and I believe it would scew the data. \n",
    "\n",
    "listing_df.drop(4957, inplace = True)"
   ]
  },
  {
   "cell_type": "code",
   "execution_count": 16,
   "metadata": {},
   "outputs": [
    {
     "data": {
      "text/plain": [
       "count    18990.000000\n",
       "mean      1005.666456\n",
       "std        538.379431\n",
       "min        119.000000\n",
       "25%        592.000000\n",
       "50%        898.000000\n",
       "75%       1341.000000\n",
       "max       2495.000000\n",
       "Name: price, dtype: float64"
      ]
     },
     "execution_count": 16,
     "metadata": {},
     "output_type": "execute_result"
    }
   ],
   "source": [
    "# Limit outliers of price from both low end (under $20) and high end (above $2500)\n",
    "listing_df = listing_df[listing_df[\"price\"]<2500].copy()\n",
    "listing_df = listing_df[listing_df[\"price\"]>20].copy()\n",
    "listing_df['price'].describe()"
   ]
  },
  {
   "cell_type": "code",
   "execution_count": 17,
   "metadata": {},
   "outputs": [],
   "source": [
    "# Splitting by room type by making dummy binomial variables\n",
    "\n",
    "listing_df = pd.get_dummies(listing_df, columns=['room_type'])"
   ]
  },
  {
   "cell_type": "code",
   "execution_count": 18,
   "metadata": {},
   "outputs": [],
   "source": [
    "# Neighbourhoods\n",
    "\n",
    "listing_df.neighbourhood = listing_df.neighbourhood.map(lambda x: x.replace('Ward', ''))"
   ]
  },
  {
   "cell_type": "code",
   "execution_count": 19,
   "metadata": {},
   "outputs": [],
   "source": [
    "listing_df.neighbourhood = listing_df.neighbourhood.astype(int)"
   ]
  },
  {
   "cell_type": "code",
   "execution_count": 20,
   "metadata": {},
   "outputs": [
    {
     "data": {
      "text/plain": [
       "0        1\n",
       "1        2\n",
       "2        3\n",
       "3        4\n",
       "4        5\n",
       "      ... \n",
       "106    107\n",
       "107    108\n",
       "108    109\n",
       "109    110\n",
       "110    111\n",
       "Name: geo_code, Length: 111, dtype: int64"
      ]
     },
     "execution_count": 20,
     "metadata": {},
     "output_type": "execute_result"
    }
   ],
   "source": [
    "crime_df['geo_code'].astype(int)"
   ]
  },
  {
   "cell_type": "code",
   "execution_count": 21,
   "metadata": {},
   "outputs": [],
   "source": [
    "# Merge df on geo code/neighbourhood for the crime stats to get the total crime per 10,000 tied to each listing\n",
    "# My thought process was that there may be a significant difference in price between somewhere with higher crime and lower crime rates\n",
    "\n",
    "\n",
    "listing_df = listing_df.merge(crime_df, left_on='neighbourhood', right_on = 'geo_code' ,how='left').copy()\n"
   ]
  },
  {
   "cell_type": "markdown",
   "metadata": {},
   "source": [
    " "
   ]
  },
  {
   "cell_type": "markdown",
   "metadata": {},
   "source": [
    " Drop rows not needed for calculations/clean up remaining DataFrame: "
   ]
  },
  {
   "cell_type": "code",
   "execution_count": 22,
   "metadata": {},
   "outputs": [],
   "source": [
    "listing_df = listing_df[listing_df.columns.drop('0_14')]"
   ]
  },
  {
   "cell_type": "code",
   "execution_count": 23,
   "metadata": {},
   "outputs": [],
   "source": [
    "listing_df = listing_df[listing_df.columns.drop('15_24')]"
   ]
  },
  {
   "cell_type": "code",
   "execution_count": 24,
   "metadata": {},
   "outputs": [],
   "source": [
    "listing_df = listing_df[listing_df.columns.drop('25_34')]"
   ]
  },
  {
   "cell_type": "code",
   "execution_count": 25,
   "metadata": {},
   "outputs": [],
   "source": [
    "listing_df = listing_df[listing_df.columns.drop('35_44')]"
   ]
  },
  {
   "cell_type": "code",
   "execution_count": 26,
   "metadata": {},
   "outputs": [],
   "source": [
    "listing_df = listing_df[listing_df.columns.drop('45_54')]"
   ]
  },
  {
   "cell_type": "code",
   "execution_count": 27,
   "metadata": {},
   "outputs": [],
   "source": [
    "listing_df = listing_df[listing_df.columns.drop('55_64')]"
   ]
  },
  {
   "cell_type": "code",
   "execution_count": 28,
   "metadata": {},
   "outputs": [],
   "source": [
    "listing_df = listing_df[listing_df.columns.drop('65+')]"
   ]
  },
  {
   "cell_type": "code",
   "execution_count": 29,
   "metadata": {},
   "outputs": [],
   "source": [
    "listing_df = listing_df[listing_df.columns.drop('total_raw')]"
   ]
  },
  {
   "cell_type": "code",
   "execution_count": 30,
   "metadata": {},
   "outputs": [],
   "source": [
    "listing_df = listing_df[listing_df.columns.drop('geo_level')]"
   ]
  },
  {
   "cell_type": "code",
   "execution_count": 31,
   "metadata": {},
   "outputs": [],
   "source": [
    "listing_df = listing_df[listing_df.columns.drop('host_name')]"
   ]
  },
  {
   "cell_type": "code",
   "execution_count": 32,
   "metadata": {},
   "outputs": [],
   "source": [
    "listing_df = listing_df[listing_df.columns.drop('name')]"
   ]
  },
  {
   "cell_type": "code",
   "execution_count": 33,
   "metadata": {},
   "outputs": [],
   "source": [
    "listing_df = listing_df[listing_df.columns.drop('host_id')]"
   ]
  },
  {
   "cell_type": "code",
   "execution_count": 34,
   "metadata": {},
   "outputs": [],
   "source": [
    "listing_df = listing_df[listing_df.columns.drop('last_review')]"
   ]
  },
  {
   "cell_type": "code",
   "execution_count": 35,
   "metadata": {},
   "outputs": [],
   "source": [
    "listing_df = listing_df[listing_df.columns.drop('calculated_host_listings_count')]"
   ]
  },
  {
   "cell_type": "code",
   "execution_count": 36,
   "metadata": {},
   "outputs": [],
   "source": [
    "listing_df = listing_df[listing_df.columns.drop('geo_code')]"
   ]
  },
  {
   "cell_type": "code",
   "execution_count": 37,
   "metadata": {},
   "outputs": [
    {
     "name": "stdout",
     "output_type": "stream",
     "text": [
      "Final Columns Index(['id', 'neighbourhood', 'latitude', 'longitude', 'price',\n",
      "       'minimum_nights', 'number_of_reviews', 'reviews_per_month',\n",
      "       'availability_365', 'price_usd', 'room_type_Entire home/apt',\n",
      "       'room_type_Hotel room', 'room_type_Private room',\n",
      "       'room_type_Shared room', 'total_10000 _rounded'],\n",
      "      dtype='object')\n"
     ]
    }
   ],
   "source": [
    "print('Final Columns', listing_df.columns)"
   ]
  },
  {
   "cell_type": "markdown",
   "metadata": {},
   "source": [
    " "
   ]
  },
  {
   "cell_type": "markdown",
   "metadata": {},
   "source": [
    " "
   ]
  },
  {
   "cell_type": "markdown",
   "metadata": {},
   "source": [
    "## 3. Feature Engineering "
   ]
  },
  {
   "cell_type": "code",
   "execution_count": null,
   "metadata": {},
   "outputs": [],
   "source": [
    "\n"
   ]
  },
  {
   "cell_type": "code",
   "execution_count": 38,
   "metadata": {},
   "outputs": [],
   "source": [
    "# Ward 112 impute mean crime from surounding wards (Ward 103, Ward 21, Ward 70 = 175)"
   ]
  },
  {
   "cell_type": "code",
   "execution_count": 39,
   "metadata": {},
   "outputs": [],
   "source": [
    "listing_df['total_10000 _rounded'] = np.where((listing_df['neighbourhood'] == 112), 175, listing_df['total_10000 _rounded'])"
   ]
  },
  {
   "cell_type": "code",
   "execution_count": 40,
   "metadata": {},
   "outputs": [],
   "source": [
    "# Ward 113  impute mean crime from surounding wards (Ward 107, Ward 1, Ward 4 = 237)"
   ]
  },
  {
   "cell_type": "code",
   "execution_count": 41,
   "metadata": {},
   "outputs": [],
   "source": [
    "listing_df['total_10000 _rounded'] = np.where((listing_df['neighbourhood'] == 113), 237, listing_df['total_10000 _rounded'])"
   ]
  },
  {
   "cell_type": "code",
   "execution_count": 42,
   "metadata": {},
   "outputs": [],
   "source": [
    "# Ward 114  impute mean crime from surounding wards (Ward 108, Ward 16, Ward 20. Ward 18 = 288)"
   ]
  },
  {
   "cell_type": "code",
   "execution_count": 43,
   "metadata": {},
   "outputs": [],
   "source": [
    "listing_df['total_10000 _rounded'] = np.where((listing_df['neighbourhood'] == 114), 288, listing_df['total_10000 _rounded'])"
   ]
  },
  {
   "cell_type": "code",
   "execution_count": 44,
   "metadata": {},
   "outputs": [],
   "source": [
    "# Ward 115  impute mean crime from surounding wards (Ward 54, Ward 57, Ward 77, Ward 55 = 266)"
   ]
  },
  {
   "cell_type": "code",
   "execution_count": 45,
   "metadata": {},
   "outputs": [],
   "source": [
    "listing_df['total_10000 _rounded'] = np.where((listing_df['neighbourhood'] == 115), 266, listing_df['total_10000 _rounded'])"
   ]
  },
  {
   "cell_type": "code",
   "execution_count": 46,
   "metadata": {},
   "outputs": [],
   "source": [
    "# Ward 116  impute mean crime from surounding wards (Ward 87, Ward 18, Ward 35, Ward 76, Ward 92, Ward 79, Ward 78 = 265)"
   ]
  },
  {
   "cell_type": "code",
   "execution_count": 47,
   "metadata": {},
   "outputs": [],
   "source": [
    "listing_df['total_10000 _rounded'] = np.where((listing_df['neighbourhood'] == 116), 265, listing_df['total_10000 _rounded'])"
   ]
  },
  {
   "cell_type": "markdown",
   "metadata": {},
   "source": [
    " "
   ]
  },
  {
   "cell_type": "markdown",
   "metadata": {},
   "source": [
    " Created the log of Price in USD.\n",
    " As you can see, the plot before is less normalized than the log of the price. "
   ]
  },
  {
   "cell_type": "code",
   "execution_count": 48,
   "metadata": {},
   "outputs": [],
   "source": [
    "listing_df['price_usd_log'] = np.log(listing_df['price_usd'])"
   ]
  },
  {
   "cell_type": "markdown",
   "metadata": {},
   "source": [
    " "
   ]
  },
  {
   "cell_type": "code",
   "execution_count": 49,
   "metadata": {},
   "outputs": [
    {
     "data": {
      "image/png": "[encoded data removed]",
      "text/plain": [
       "<Figure size 576x396 with 1 Axes>"
      ]
     },
     "metadata": {},
     "output_type": "display_data"
    }
   ],
   "source": [
    "sns.distplot(listing_df['price_usd']);"
   ]
  },
  {
   "cell_type": "code",
   "execution_count": 50,
   "metadata": {},
   "outputs": [
    {
     "data": {
      "image/png": "[encoded data removed]",
      "text/plain": [
       "<Figure size 576x396 with 1 Axes>"
      ]
     },
     "metadata": {},
     "output_type": "display_data"
    }
   ],
   "source": [
    "# Using the log I can normalize the plot a little bit \n",
    "\n",
    "sns.distplot(listing_df['price_usd_log']);"
   ]
  },
  {
   "cell_type": "markdown",
   "metadata": {},
   "source": [
    " Calculated distance from main attractions in Capetown: "
   ]
  },
  {
   "cell_type": "code",
   "execution_count": 51,
   "metadata": {},
   "outputs": [],
   "source": [
    "# Distance to Cape Town City Center\n",
    "\n",
    "city_center = (-33.9249,18.4241)\n",
    "listing_df['distance_cc'] = listing_df[['latitude', 'longitude']].apply(lambda x: great_circle(city_center, \n",
    "                                                                                               (x['latitude'], x['longitude'])).miles, axis = 1)\n",
    "# Distance VA Waterfront \n",
    "\n",
    "va_water = (-33.9036, 18.4205)\n",
    "listing_df['distance_waterfront'] = listing_df[['latitude', 'longitude']].apply(lambda x: great_circle(va_water, \n",
    "                                                                                               (x['latitude'], x['longitude'])).miles, axis = 1)\n",
    "\n",
    "# Stellenbosch \n",
    "\n",
    "wine_lands = (-34.075691, 18.843266)\n",
    "listing_df['distance_wine'] = listing_df[['latitude', 'longitude']].apply(lambda x: great_circle(wine_lands, \n",
    "                                                                                               (x['latitude'], x['longitude'])).miles, axis = 1)\n",
    "\n",
    "# Distance from Airport\n",
    "\n",
    "airport = (-33.9249,18.4241)\n",
    "listing_df['distance_airport'] = listing_df[['latitude', 'longitude']].apply(lambda x: great_circle(airport, \n",
    "                                                                                               (x['latitude'], x['longitude'])).miles, axis = 1)\n"
   ]
  },
  {
   "cell_type": "markdown",
   "metadata": {},
   "source": [
    " "
   ]
  },
  {
   "cell_type": "markdown",
   "metadata": {},
   "source": [
    "## 4. Visuals "
   ]
  },
  {
   "cell_type": "markdown",
   "metadata": {},
   "source": [
    " "
   ]
  },
  {
   "cell_type": "code",
   "execution_count": 180,
   "metadata": {},
   "outputs": [
    {
     "data": {
      "image/png": "[encoded data removed]",
      "text/plain": [
       "<Figure size 432x288 with 1 Axes>"
      ]
     },
     "metadata": {},
     "output_type": "display_data"
    }
   ],
   "source": [
    "plt.scatter(listing_df['neighbourhood'], listing_df['price_usd'], color = 'blue')\n",
    "plt.xlabel('neighbourhood')\n",
    "plt.ylabel('price_usd')\n",
    "plt.title('Price vs. Ward (Neighbourhood)');"
   ]
  },
  {
   "cell_type": "markdown",
   "metadata": {},
   "source": [
    " "
   ]
  },
  {
   "cell_type": "code",
   "execution_count": 194,
   "metadata": {},
   "outputs": [
    {
     "data": {
      "image/png": "[encoded data removed]",
      "text/plain": [
       "<Figure size 720x720 with 1 Axes>"
      ]
     },
     "metadata": {},
     "output_type": "display_data"
    }
   ],
   "source": [
    "figure,ax = plt.subplots(figsize=(10,10))\n",
    "sns.scatterplot(x = listing_df['latitude'],y = listing_df['longitude'],hue = listing_df['total_10000 _rounded'], data = listing_df, palette = 'magma')\n",
    "plt.title('Crime per 10,000 People');\n"
   ]
  },
  {
   "cell_type": "code",
   "execution_count": null,
   "metadata": {},
   "outputs": [],
   "source": []
  },
  {
   "cell_type": "code",
   "execution_count": null,
   "metadata": {},
   "outputs": [],
   "source": []
  },
  {
   "cell_type": "markdown",
   "metadata": {},
   "source": [
    " "
   ]
  },
  {
   "cell_type": "markdown",
   "metadata": {},
   "source": [
    "## 5. Statistical Testing with Additional Visuals\n"
   ]
  },
  {
   "cell_type": "markdown",
   "metadata": {},
   "source": [
    " "
   ]
  },
  {
   "cell_type": "markdown",
   "metadata": {},
   "source": [
    "## Two Sample T Test\n",
    "\n",
    "Question: is it minimum nights under or over 4 statistically significant to the price? \n",
    "\n",
    "H0: The means of the price are NOT significantly different between those with less than 4 minimum nights and those with more than or equal to 4 minimum nights. \n",
    " \n"
   ]
  },
  {
   "cell_type": "markdown",
   "metadata": {},
   "source": [
    "H1:The means of the price ARE significantly different between those with less than 4 minimum nights and those with more than or equal to 4 minimum nights. \n",
    "\n",
    "Results: \n",
    "alpha 0.05\n",
    "statistic=9.112361722561923, pvalue=8.672485637365807e-20\n",
    "pvalue < alpha\n",
    "\n",
    "Reject the null hypothesis, there may be some significance to the price difference of means when being above or below 4 nights minimum stay."
   ]
  },
  {
   "cell_type": "code",
   "execution_count": 182,
   "metadata": {},
   "outputs": [
    {
     "data": {
      "text/plain": [
       "Ttest_indResult(statistic=20.499205471020883, pvalue=2.1873425681173493e-92)"
      ]
     },
     "execution_count": 182,
     "metadata": {},
     "output_type": "execute_result"
    }
   ],
   "source": [
    "# minimum nights > 4\n",
    "# min nights < 4 \n",
    "# mean min_nights is 3.93\n",
    "\n",
    "\n",
    "stats.ttest_ind(listing_df[listing_df['minimum_nights'] >= 4]['price_usd'], listing_df[listing_df['minimum_nights'] < 4]['price_usd']) \n"
   ]
  },
  {
   "cell_type": "markdown",
   "metadata": {},
   "source": [
    "## ANOVA Test\n",
    "\n",
    "Question: Is the closeness to the city center a factor in pricing? \n",
    "\n",
    "H0 Closeness to the City Center does NOT have a significant effect on the price_usd. \n",
    " \n",
    " "
   ]
  },
  {
   "cell_type": "markdown",
   "metadata": {},
   "source": [
    "H1 Closeness to the City Center DOES have a significant effect on the price_usd."
   ]
  },
  {
   "cell_type": "code",
   "execution_count": 183,
   "metadata": {},
   "outputs": [
    {
     "data": {
      "text/plain": [
       "F_onewayResult(statistic=28.763237287400912, pvalue=3.392219920139987e-13)"
      ]
     },
     "execution_count": 183,
     "metadata": {},
     "output_type": "execute_result"
    }
   ],
   "source": [
    "# As we get closer the the City Center, the mean of the price changes. \n",
    "\n",
    "\n",
    "\n",
    "x = listing_df[listing_df['distance_cc'] >= 10]['price_usd']\n",
    "y = listing_df[(listing_df['distance_cc'] > 5) & (listing_df['distance_cc'] < 10 )]['price_usd']\n",
    "z = listing_df[(listing_df['distance_cc'] >= 1) & (listing_df['distance_cc'] < 5)]['price_usd']\n",
    "miles = stats.f_oneway(x, y, z)\n",
    "miles\n"
   ]
  },
  {
   "cell_type": "markdown",
   "metadata": {},
   "source": [
    "## Two Sample T Test \n",
    "\n",
    "Question: Is there a significant difference in price if you are less than a mile from city center or greater? \n",
    "\n",
    "H0 The distance of under a mile from the city center has NO significant effect on the mean price in USD.\n",
    "\n"
   ]
  },
  {
   "cell_type": "markdown",
   "metadata": {},
   "source": [
    "H1 The distance of under a mile from the city center HAS a significant effect on the mean price in USD.\n",
    "\n",
    "pvalue=0.00021980744429207292 is less than alpha, so we reject the null Hypothesis. "
   ]
  },
  {
   "cell_type": "code",
   "execution_count": 188,
   "metadata": {},
   "outputs": [
    {
     "data": {
      "text/plain": [
       "Ttest_indResult(statistic=3.6958047288023503, pvalue=0.00021980744429207292)"
      ]
     },
     "execution_count": 188,
     "metadata": {},
     "output_type": "execute_result"
    }
   ],
   "source": [
    "ttest_distance_cc = stats.ttest_ind(listing_df[listing_df['distance_cc'] < 1]['price_usd'], listing_df[listing_df['distance_cc'] >=1]['price_usd']) \n",
    "ttest_distance_cc"
   ]
  },
  {
   "cell_type": "markdown",
   "metadata": {},
   "source": [
    "## Two Sample T Test"
   ]
  },
  {
   "cell_type": "markdown",
   "metadata": {},
   "source": [
    "H0 Price of an Airbnb in Cape Town is not statistically contingent on the level of crime per 10,000."
   ]
  },
  {
   "cell_type": "markdown",
   "metadata": {},
   "source": [
    "H1 Price of an Airbnb in Cape Town is statistically contingent based on the level of crime per 10,000.\n",
    "\n",
    " \n",
    "pvalue=0.00010061964947170236 is less than the alpha 0.05\n",
    "We can reject the null hypothesis. "
   ]
  },
  {
   "cell_type": "code",
   "execution_count": 200,
   "metadata": {},
   "outputs": [
    {
     "data": {
      "text/plain": [
       "Ttest_indResult(statistic=-3.8899186112934467, pvalue=0.00010061964947170236)"
      ]
     },
     "execution_count": 200,
     "metadata": {},
     "output_type": "execute_result"
    }
   ],
   "source": [
    "stats.ttest_ind(listing_df[listing_df['total_10000 _rounded'] >= 235.17]['price_usd'], listing_df[listing_df['total_10000 _rounded'] <235.17]['price_usd'])"
   ]
  },
  {
   "cell_type": "code",
   "execution_count": 61,
   "metadata": {},
   "outputs": [
    {
     "data": {
      "text/plain": [
       "Ttest_indResult(statistic=-2.974650496568699, pvalue=0.0029369143952127355)"
      ]
     },
     "execution_count": 61,
     "metadata": {},
     "output_type": "execute_result"
    }
   ],
   "source": [
    "# When price_usd_log is used, there is some statistical significance \n",
    "\n",
    "stats.ttest_ind(listing_df[listing_df['total_10000 _rounded'] >= 235.17]['price_usd_log'], listing_df[listing_df['total_10000 _rounded'] <235.17]['price_usd_log'])"
   ]
  },
  {
   "cell_type": "markdown",
   "metadata": {},
   "source": [
    " "
   ]
  },
  {
   "cell_type": "markdown",
   "metadata": {},
   "source": [
    "### This graphic is interesting as it shows that the air bnbs only have small pockets where the crime rate is over 250-300 per 10,000 \n",
    "### This may be why there is not enough data to go on, as places with high crime seem to have a very low amount of air bnb housing"
   ]
  },
  {
   "cell_type": "code",
   "execution_count": 202,
   "metadata": {},
   "outputs": [
    {
     "data": {
      "image/png": "[encoded data removed]",
      "text/plain": [
       "<Figure size 432x288 with 2 Axes>"
      ]
     },
     "metadata": {},
     "output_type": "display_data"
    }
   ],
   "source": [
    "listing_df.plot(kind= 'scatter', x = 'longitude', y = 'latitude', alpha = .3, c = 'total_10000 _rounded', cmap = plt.get_cmap('jet'));\n"
   ]
  },
  {
   "cell_type": "markdown",
   "metadata": {},
   "source": [
    "### From this visualization we can see that it looks like the more expensive places are along the coast line if referenced with a map of Cape Town\n",
    "### The middle area with scarce Airbnb options also seems to correspond to the above chart where the middle portion, the Cape Flats, is higher in crime, and has less Airbnb's in the area, and less expensive ones compared to the coastline. "
   ]
  },
  {
   "cell_type": "code",
   "execution_count": 204,
   "metadata": {},
   "outputs": [
    {
     "data": {
      "image/png": "[encoded data removed]",
      "text/plain": [
       "<Figure size 432x288 with 2 Axes>"
      ]
     },
     "metadata": {},
     "output_type": "display_data"
    }
   ],
   "source": [
    "\n",
    "listing_df.plot(kind= 'scatter', x = 'longitude', y = 'latitude', alpha = .3, c = 'price_usd', cmap = plt.get_cmap('jet'));\n"
   ]
  },
  {
   "cell_type": "markdown",
   "metadata": {},
   "source": [
    " "
   ]
  },
  {
   "cell_type": "markdown",
   "metadata": {},
   "source": [
    " "
   ]
  },
  {
   "cell_type": "markdown",
   "metadata": {},
   "source": [
    " "
   ]
  },
  {
   "cell_type": "markdown",
   "metadata": {},
   "source": [
    "## 5. Baseline model"
   ]
  },
  {
   "cell_type": "code",
   "execution_count": 65,
   "metadata": {},
   "outputs": [
    {
     "name": "stdout",
     "output_type": "stream",
     "text": [
      "rmse:  0.5712402030172208 r2:  0.0\n"
     ]
    }
   ],
   "source": [
    "# Baseline model; rmse:  669.5434143725225 r2:  0.0 using mean\n",
    "\n",
    "subset = ['neighbourhood', 'latitude', 'longitude', 'minimum_nights', 'number_of_reviews', 'reviews_per_month', 'availability_365']\n",
    "x = listing_df[subset]\n",
    "y = listing_df['price_usd_log']\n",
    "\n",
    "dummy_regr = DummyRegressor(strategy = \"mean\")\n",
    "dummy_regr.fit(x, y)\n",
    "#DummyRegressor()\n",
    "y_predict = dummy_regr.predict(y)\n",
    "R2 = dummy_regr.score(x, y)\n",
    "\n",
    "rmse = np.sqrt(metrics.mean_squared_error(y, y_predict))\n",
    "\n",
    "print('rmse: ', rmse, 'r2: ', R2)"
   ]
  },
  {
   "cell_type": "code",
   "execution_count": 66,
   "metadata": {},
   "outputs": [
    {
     "name": "stdout",
     "output_type": "stream",
     "text": [
      "rmse:  0.5725260020147163 r2:  -0.004506846986270574\n"
     ]
    }
   ],
   "source": [
    "# Baseline model; rmse:  693.2896480095063 r2:  -0.07219047711717841 using median\n",
    "\n",
    "subset = ['neighbourhood', 'latitude', 'longitude', 'minimum_nights', 'number_of_reviews', 'reviews_per_month', 'availability_365']\n",
    "x = listing_df[subset]\n",
    "y = listing_df['price_usd_log']\n",
    "\n",
    "dummy_regr = DummyRegressor(strategy = \"median\")\n",
    "dummy_regr.fit(x, y)\n",
    "#DummyRegressor()\n",
    "y_predict = dummy_regr.predict(y)\n",
    "R2 = dummy_regr.score(x, y)\n",
    "\n",
    "rmse = np.sqrt(metrics.mean_squared_error(y, y_predict))\n",
    "\n",
    "print('rmse: ', rmse, 'r2: ', R2)"
   ]
  },
  {
   "cell_type": "code",
   "execution_count": null,
   "metadata": {},
   "outputs": [],
   "source": []
  },
  {
   "cell_type": "markdown",
   "metadata": {},
   "source": [
    "## 6. Test for Multi-Colinearity  "
   ]
  },
  {
   "cell_type": "markdown",
   "metadata": {},
   "source": [
    " "
   ]
  },
  {
   "cell_type": "code",
   "execution_count": 67,
   "metadata": {},
   "outputs": [
    {
     "data": {
      "text/plain": [
       "12"
      ]
     },
     "execution_count": 67,
     "metadata": {},
     "output_type": "execute_result"
    }
   ],
   "source": [
    "features = ['minimum_nights','number_of_reviews', 'neighbourhood', 'availability_365', 'room_type_Entire home/apt',\n",
    "       'room_type_Hotel room', 'room_type_Private room','room_type_Shared room', 'distance_cc', \n",
    "           'distance_airport', 'distance_wine', 'total_10000 _rounded']\n",
    "\n",
    "\n",
    "df_features = listing_df[features]\n",
    "target = listing_df['price_usd_log']\n",
    "len(features)"
   ]
  },
  {
   "cell_type": "code",
   "execution_count": 69,
   "metadata": {},
   "outputs": [
    {
     "data": {
      "text/html": [
       "<div>\n",
       "<style scoped>\n",
       "    .dataframe tbody tr th:only-of-type {\n",
       "        vertical-align: middle;\n",
       "    }\n",
       "\n",
       "    .dataframe tbody tr th {\n",
       "        vertical-align: top;\n",
       "    }\n",
       "\n",
       "    .dataframe thead th {\n",
       "        text-align: right;\n",
       "    }\n",
       "</style>\n",
       "<table border=\"1\" class=\"dataframe\">\n",
       "  <thead>\n",
       "    <tr style=\"text-align: right;\">\n",
       "      <th></th>\n",
       "    </tr>\n",
       "  </thead>\n",
       "  <tbody>\n",
       "    <tr>\n",
       "      <th>42</th>\n",
       "    </tr>\n",
       "    <tr>\n",
       "      <th>10425</th>\n",
       "    </tr>\n",
       "    <tr>\n",
       "      <th>438</th>\n",
       "    </tr>\n",
       "    <tr>\n",
       "      <th>11933</th>\n",
       "    </tr>\n",
       "    <tr>\n",
       "      <th>2008</th>\n",
       "    </tr>\n",
       "    <tr>\n",
       "      <th>...</th>\n",
       "    </tr>\n",
       "    <tr>\n",
       "      <th>2081</th>\n",
       "    </tr>\n",
       "    <tr>\n",
       "      <th>11784</th>\n",
       "    </tr>\n",
       "    <tr>\n",
       "      <th>1959</th>\n",
       "    </tr>\n",
       "    <tr>\n",
       "      <th>6329</th>\n",
       "    </tr>\n",
       "    <tr>\n",
       "      <th>14085</th>\n",
       "    </tr>\n",
       "  </tbody>\n",
       "</table>\n",
       "<p>3798 rows × 0 columns</p>\n",
       "</div>"
      ],
      "text/plain": [
       "Empty DataFrame\n",
       "Columns: []\n",
       "Index: [42, 10425, 438, 11933, 2008, 4653, 10337, 14331, 3268, 1869, 5784, 18918, 409, 8914, 18818, 12110, 12596, 313, 7444, 15073, 15242, 17652, 5843, 7944, 103, 4884, 6234, 3635, 13526, 16250, 11747, 7591, 251, 5259, 13740, 9412, 7654, 16563, 9722, 2315, 15527, 4982, 11991, 14066, 8726, 16290, 8285, 8688, 3502, 1527, 10280, 3015, 12499, 2622, 8369, 15391, 346, 8665, 10872, 9988, 17676, 16228, 2616, 12804, 11817, 13496, 9279, 1944, 4787, 17143, 17728, 12379, 7556, 13262, 12879, 18857, 11936, 14353, 16047, 6951, 1272, 11009, 14956, 17248, 2026, 8129, 9140, 8908, 1444, 12319, 16263, 2480, 6872, 2680, 17845, 2549, 12646, 17518, 17322, 1747, ...]\n",
       "\n",
       "[3798 rows x 0 columns]"
      ]
     },
     "execution_count": 69,
     "metadata": {},
     "output_type": "execute_result"
    }
   ],
   "source": [
    "X_train, X_test, y_train, y_test = train_test_split(df_features, y,random_state = 42, test_size=0.2)\n",
    "\n",
    "# Find index of feature columns with correlation greater than 0.90\n",
    "to_drop = [column for column in df_features.columns if any(df_features[column] > 0.90)]\n",
    "#if you change inplace to True it will go through and drop all of those columns from the dataset\n",
    "X_train.drop(columns=to_drop, inplace=False)\n",
    "X_test.drop(columns=to_drop, inplace=False)\n",
    "\n"
   ]
  },
  {
   "cell_type": "markdown",
   "metadata": {},
   "source": [
    " "
   ]
  },
  {
   "cell_type": "markdown",
   "metadata": {},
   "source": [
    " "
   ]
  },
  {
   "cell_type": "markdown",
   "metadata": {},
   "source": [
    " "
   ]
  },
  {
   "cell_type": "markdown",
   "metadata": {},
   "source": [
    "## 7. Model Testing"
   ]
  },
  {
   "cell_type": "markdown",
   "metadata": {},
   "source": [
    " "
   ]
  },
  {
   "cell_type": "markdown",
   "metadata": {},
   "source": [
    " "
   ]
  },
  {
   "cell_type": "markdown",
   "metadata": {},
   "source": [
    "## Poly 3 Model"
   ]
  },
  {
   "cell_type": "code",
   "execution_count": 143,
   "metadata": {},
   "outputs": [
    {
     "name": "stderr",
     "output_type": "stream",
     "text": [
      "/Users/dolcikey/opt/anaconda3/lib/python3.7/site-packages/statsmodels/base/model.py:1362: RuntimeWarning: invalid value encountered in true_divide\n",
      "  return self.params / self.bse\n",
      "/Users/dolcikey/opt/anaconda3/lib/python3.7/site-packages/scipy/stats/_distn_infrastructure.py:903: RuntimeWarning: invalid value encountered in greater\n",
      "  return (a < x) & (x < b)\n",
      "/Users/dolcikey/opt/anaconda3/lib/python3.7/site-packages/scipy/stats/_distn_infrastructure.py:903: RuntimeWarning: invalid value encountered in less\n",
      "  return (a < x) & (x < b)\n",
      "/Users/dolcikey/opt/anaconda3/lib/python3.7/site-packages/scipy/stats/_distn_infrastructure.py:1912: RuntimeWarning: invalid value encountered in less_equal\n",
      "  cond2 = cond0 & (x <= _a)\n"
     ]
    },
    {
     "data": {
      "text/html": [
       "<table class=\"simpletable\">\n",
       "<caption>OLS Regression Results</caption>\n",
       "<tr>\n",
       "  <th>Dep. Variable:</th>      <td>price_usd_log</td>  <th>  R-squared:         </th> <td>   0.301</td> \n",
       "</tr>\n",
       "<tr>\n",
       "  <th>Model:</th>                   <td>OLS</td>       <th>  Adj. R-squared:    </th> <td>   0.293</td> \n",
       "</tr>\n",
       "<tr>\n",
       "  <th>Method:</th>             <td>Least Squares</td>  <th>  F-statistic:       </th> <td>   35.60</td> \n",
       "</tr>\n",
       "<tr>\n",
       "  <th>Date:</th>             <td>Thu, 30 Jul 2020</td> <th>  Prob (F-statistic):</th>  <td>  0.00</td>  \n",
       "</tr>\n",
       "<tr>\n",
       "  <th>Time:</th>                 <td>21:50:49</td>     <th>  Log-Likelihood:    </th> <td> -12912.</td> \n",
       "</tr>\n",
       "<tr>\n",
       "  <th>No. Observations:</th>      <td> 18990</td>      <th>  AIC:               </th> <td>2.628e+04</td>\n",
       "</tr>\n",
       "<tr>\n",
       "  <th>Df Residuals:</th>          <td> 18762</td>      <th>  BIC:               </th> <td>2.807e+04</td>\n",
       "</tr>\n",
       "<tr>\n",
       "  <th>Df Model:</th>              <td>   227</td>      <th>                     </th>     <td> </td>    \n",
       "</tr>\n",
       "<tr>\n",
       "  <th>Covariance Type:</th>      <td>nonrobust</td>    <th>                     </th>     <td> </td>    \n",
       "</tr>\n",
       "</table>\n",
       "<table class=\"simpletable\">\n",
       "<tr>\n",
       "    <td></td>       <th>coef</th>     <th>std err</th>      <th>t</th>      <th>P>|t|</th>  <th>[0.025</th>    <th>0.975]</th>  \n",
       "</tr>\n",
       "<tr>\n",
       "  <th>x1</th>    <td>    0.1259</td> <td>    0.118</td> <td>    1.062</td> <td> 0.288</td> <td>   -0.106</td> <td>    0.358</td>\n",
       "</tr>\n",
       "<tr>\n",
       "  <th>x2</th>    <td>    0.0287</td> <td>    0.041</td> <td>    0.703</td> <td> 0.482</td> <td>   -0.051</td> <td>    0.109</td>\n",
       "</tr>\n",
       "<tr>\n",
       "  <th>x3</th>    <td>   -0.0789</td> <td>    0.014</td> <td>   -5.498</td> <td> 0.000</td> <td>   -0.107</td> <td>   -0.051</td>\n",
       "</tr>\n",
       "<tr>\n",
       "  <th>x4</th>    <td>    0.0012</td> <td>    0.002</td> <td>    0.672</td> <td> 0.501</td> <td>   -0.002</td> <td>    0.005</td>\n",
       "</tr>\n",
       "<tr>\n",
       "  <th>x5</th>    <td>    3.5053</td> <td>    0.998</td> <td>    3.513</td> <td> 0.000</td> <td>    1.550</td> <td>    5.461</td>\n",
       "</tr>\n",
       "<tr>\n",
       "  <th>x6</th>    <td>    1.2508</td> <td>    1.454</td> <td>    0.860</td> <td> 0.390</td> <td>   -1.599</td> <td>    4.100</td>\n",
       "</tr>\n",
       "<tr>\n",
       "  <th>x7</th>    <td>    3.8292</td> <td>    0.985</td> <td>    3.887</td> <td> 0.000</td> <td>    1.898</td> <td>    5.760</td>\n",
       "</tr>\n",
       "<tr>\n",
       "  <th>x8</th>    <td>    6.0146</td> <td>    1.539</td> <td>    3.908</td> <td> 0.000</td> <td>    2.998</td> <td>    9.031</td>\n",
       "</tr>\n",
       "<tr>\n",
       "  <th>x9</th>    <td>   -0.0501</td> <td>    0.038</td> <td>   -1.312</td> <td> 0.189</td> <td>   -0.125</td> <td>    0.025</td>\n",
       "</tr>\n",
       "<tr>\n",
       "  <th>x10</th>   <td>   -0.0501</td> <td>    0.038</td> <td>   -1.312</td> <td> 0.189</td> <td>   -0.125</td> <td>    0.025</td>\n",
       "</tr>\n",
       "<tr>\n",
       "  <th>x11</th>   <td>   -0.1320</td> <td>    0.153</td> <td>   -0.865</td> <td> 0.387</td> <td>   -0.431</td> <td>    0.167</td>\n",
       "</tr>\n",
       "<tr>\n",
       "  <th>x12</th>   <td>   -0.0199</td> <td>    0.010</td> <td>   -1.984</td> <td> 0.047</td> <td>   -0.040</td> <td>   -0.000</td>\n",
       "</tr>\n",
       "<tr>\n",
       "  <th>x13</th>   <td>   -0.0169</td> <td>    0.006</td> <td>   -2.955</td> <td> 0.003</td> <td>   -0.028</td> <td>   -0.006</td>\n",
       "</tr>\n",
       "<tr>\n",
       "  <th>x14</th>   <td>    0.0047</td> <td>    0.003</td> <td>    1.865</td> <td> 0.062</td> <td>   -0.000</td> <td>    0.010</td>\n",
       "</tr>\n",
       "<tr>\n",
       "  <th>x15</th>   <td>   -0.0005</td> <td>    0.001</td> <td>   -0.885</td> <td> 0.376</td> <td>   -0.002</td> <td>    0.001</td>\n",
       "</tr>\n",
       "<tr>\n",
       "  <th>x16</th>   <td>   -0.0001</td> <td>    0.000</td> <td>   -1.090</td> <td> 0.276</td> <td>   -0.000</td> <td> 9.71e-05</td>\n",
       "</tr>\n",
       "<tr>\n",
       "  <th>x17</th>   <td>    0.0378</td> <td>    0.058</td> <td>    0.655</td> <td> 0.513</td> <td>   -0.075</td> <td>    0.151</td>\n",
       "</tr>\n",
       "<tr>\n",
       "  <th>x18</th>   <td>   -0.0174</td> <td>    0.279</td> <td>   -0.062</td> <td> 0.950</td> <td>   -0.563</td> <td>    0.529</td>\n",
       "</tr>\n",
       "<tr>\n",
       "  <th>x19</th>   <td>    0.0207</td> <td>    0.058</td> <td>    0.357</td> <td> 0.721</td> <td>   -0.093</td> <td>    0.134</td>\n",
       "</tr>\n",
       "<tr>\n",
       "  <th>x20</th>   <td>    0.0848</td> <td>    0.085</td> <td>    1.001</td> <td> 0.317</td> <td>   -0.081</td> <td>    0.251</td>\n",
       "</tr>\n",
       "<tr>\n",
       "  <th>x21</th>   <td>   -0.0033</td> <td>    0.001</td> <td>   -2.282</td> <td> 0.022</td> <td>   -0.006</td> <td>   -0.000</td>\n",
       "</tr>\n",
       "<tr>\n",
       "  <th>x22</th>   <td>   -0.0033</td> <td>    0.001</td> <td>   -2.282</td> <td> 0.022</td> <td>   -0.006</td> <td>   -0.000</td>\n",
       "</tr>\n",
       "<tr>\n",
       "  <th>x23</th>   <td>   -0.0087</td> <td>    0.004</td> <td>   -2.271</td> <td> 0.023</td> <td>   -0.016</td> <td>   -0.001</td>\n",
       "</tr>\n",
       "<tr>\n",
       "  <th>x24</th>   <td>    0.0004</td> <td>    0.000</td> <td>    1.123</td> <td> 0.262</td> <td>   -0.000</td> <td>    0.001</td>\n",
       "</tr>\n",
       "<tr>\n",
       "  <th>x25</th>   <td>    0.0006</td> <td>    0.000</td> <td>    2.698</td> <td> 0.007</td> <td>    0.000</td> <td>    0.001</td>\n",
       "</tr>\n",
       "<tr>\n",
       "  <th>x26</th>   <td>    0.0001</td> <td>    0.000</td> <td>    0.941</td> <td> 0.347</td> <td>   -0.000</td> <td>    0.000</td>\n",
       "</tr>\n",
       "<tr>\n",
       "  <th>x27</th>   <td>-7.613e-05</td> <td> 3.09e-05</td> <td>   -2.464</td> <td> 0.014</td> <td>   -0.000</td> <td>-1.56e-05</td>\n",
       "</tr>\n",
       "<tr>\n",
       "  <th>x28</th>   <td>   -0.0458</td> <td>    0.020</td> <td>   -2.286</td> <td> 0.022</td> <td>   -0.085</td> <td>   -0.007</td>\n",
       "</tr>\n",
       "<tr>\n",
       "  <th>x29</th>   <td>   -0.0140</td> <td>    0.036</td> <td>   -0.386</td> <td> 0.699</td> <td>   -0.085</td> <td>    0.057</td>\n",
       "</tr>\n",
       "<tr>\n",
       "  <th>x30</th>   <td>   -0.0429</td> <td>    0.020</td> <td>   -2.137</td> <td> 0.033</td> <td>   -0.082</td> <td>   -0.004</td>\n",
       "</tr>\n",
       "<tr>\n",
       "  <th>x31</th>   <td>    0.1315</td> <td>    0.095</td> <td>    1.388</td> <td> 0.165</td> <td>   -0.054</td> <td>    0.317</td>\n",
       "</tr>\n",
       "<tr>\n",
       "  <th>x32</th>   <td>   -0.0001</td> <td>    0.000</td> <td>   -0.281</td> <td> 0.779</td> <td>   -0.001</td> <td>    0.001</td>\n",
       "</tr>\n",
       "<tr>\n",
       "  <th>x33</th>   <td>   -0.0001</td> <td>    0.000</td> <td>   -0.281</td> <td> 0.779</td> <td>   -0.001</td> <td>    0.001</td>\n",
       "</tr>\n",
       "<tr>\n",
       "  <th>x34</th>   <td>    0.0010</td> <td>    0.002</td> <td>    0.606</td> <td> 0.545</td> <td>   -0.002</td> <td>    0.004</td>\n",
       "</tr>\n",
       "<tr>\n",
       "  <th>x35</th>   <td>   -0.0002</td> <td> 8.51e-05</td> <td>   -1.936</td> <td> 0.053</td> <td>   -0.000</td> <td> 2.05e-06</td>\n",
       "</tr>\n",
       "<tr>\n",
       "  <th>x36</th>   <td>    0.0003</td> <td> 7.92e-05</td> <td>    4.138</td> <td> 0.000</td> <td>    0.000</td> <td>    0.000</td>\n",
       "</tr>\n",
       "<tr>\n",
       "  <th>x37</th>   <td>-1.593e-05</td> <td> 1.27e-05</td> <td>   -1.257</td> <td> 0.209</td> <td>-4.08e-05</td> <td>  8.9e-06</td>\n",
       "</tr>\n",
       "<tr>\n",
       "  <th>x38</th>   <td>   -0.0036</td> <td>    0.005</td> <td>   -0.738</td> <td> 0.461</td> <td>   -0.013</td> <td>    0.006</td>\n",
       "</tr>\n",
       "<tr>\n",
       "  <th>x39</th>   <td>   -0.0217</td> <td>    0.012</td> <td>   -1.800</td> <td> 0.072</td> <td>   -0.045</td> <td>    0.002</td>\n",
       "</tr>\n",
       "<tr>\n",
       "  <th>x40</th>   <td>   -0.0056</td> <td>    0.005</td> <td>   -1.127</td> <td> 0.260</td> <td>   -0.015</td> <td>    0.004</td>\n",
       "</tr>\n",
       "<tr>\n",
       "  <th>x41</th>   <td>   -0.0480</td> <td>    0.012</td> <td>   -3.910</td> <td> 0.000</td> <td>   -0.072</td> <td>   -0.024</td>\n",
       "</tr>\n",
       "<tr>\n",
       "  <th>x42</th>   <td>    0.0012</td> <td>    0.000</td> <td>    3.272</td> <td> 0.001</td> <td>    0.000</td> <td>    0.002</td>\n",
       "</tr>\n",
       "<tr>\n",
       "  <th>x43</th>   <td>    0.0012</td> <td>    0.000</td> <td>    3.272</td> <td> 0.001</td> <td>    0.000</td> <td>    0.002</td>\n",
       "</tr>\n",
       "<tr>\n",
       "  <th>x44</th>   <td>    0.0035</td> <td>    0.001</td> <td>    4.426</td> <td> 0.000</td> <td>    0.002</td> <td>    0.005</td>\n",
       "</tr>\n",
       "<tr>\n",
       "  <th>x45</th>   <td>    0.0002</td> <td> 7.26e-05</td> <td>    3.332</td> <td> 0.001</td> <td> 9.95e-05</td> <td>    0.000</td>\n",
       "</tr>\n",
       "<tr>\n",
       "  <th>x46</th>   <td> 1.104e-05</td> <td> 2.68e-06</td> <td>    4.111</td> <td> 0.000</td> <td> 5.77e-06</td> <td> 1.63e-05</td>\n",
       "</tr>\n",
       "<tr>\n",
       "  <th>x47</th>   <td>   -0.0008</td> <td>    0.001</td> <td>   -1.403</td> <td> 0.161</td> <td>   -0.002</td> <td>    0.000</td>\n",
       "</tr>\n",
       "<tr>\n",
       "  <th>x48</th>   <td>   -0.0002</td> <td>    0.001</td> <td>   -0.147</td> <td> 0.883</td> <td>   -0.003</td> <td>    0.002</td>\n",
       "</tr>\n",
       "<tr>\n",
       "  <th>x49</th>   <td>    0.0004</td> <td>    0.001</td> <td>    0.627</td> <td> 0.531</td> <td>   -0.001</td> <td>    0.002</td>\n",
       "</tr>\n",
       "<tr>\n",
       "  <th>x50</th>   <td>    0.0018</td> <td>    0.002</td> <td>    1.077</td> <td> 0.281</td> <td>   -0.001</td> <td>    0.005</td>\n",
       "</tr>\n",
       "<tr>\n",
       "  <th>x51</th>   <td>-6.356e-05</td> <td> 3.46e-05</td> <td>   -1.837</td> <td> 0.066</td> <td>   -0.000</td> <td> 4.28e-06</td>\n",
       "</tr>\n",
       "<tr>\n",
       "  <th>x52</th>   <td>-6.355e-05</td> <td> 3.46e-05</td> <td>   -1.836</td> <td> 0.066</td> <td>   -0.000</td> <td> 4.28e-06</td>\n",
       "</tr>\n",
       "<tr>\n",
       "  <th>x53</th>   <td> -9.55e-05</td> <td> 9.57e-05</td> <td>   -0.998</td> <td> 0.318</td> <td>   -0.000</td> <td> 9.21e-05</td>\n",
       "</tr>\n",
       "<tr>\n",
       "  <th>x54</th>   <td> 2.832e-06</td> <td> 6.15e-06</td> <td>    0.460</td> <td> 0.645</td> <td>-9.23e-06</td> <td> 1.49e-05</td>\n",
       "</tr>\n",
       "<tr>\n",
       "  <th>x55</th>   <td>    3.5053</td> <td>    0.998</td> <td>    3.513</td> <td> 0.000</td> <td>    1.550</td> <td>    5.461</td>\n",
       "</tr>\n",
       "<tr>\n",
       "  <th>const</th> <td>-3.221e-09</td> <td>  8.7e-10</td> <td>   -3.702</td> <td> 0.000</td> <td>-4.93e-09</td> <td>-1.52e-09</td>\n",
       "</tr>\n",
       "<tr>\n",
       "  <th>x56</th>   <td> -1.29e-09</td> <td>  3.2e-10</td> <td>   -4.030</td> <td> 0.000</td> <td>-1.92e-09</td> <td>-6.62e-10</td>\n",
       "</tr>\n",
       "<tr>\n",
       "  <th>x57</th>   <td>-6.759e-10</td> <td> 2.57e-10</td> <td>   -2.632</td> <td> 0.009</td> <td>-1.18e-09</td> <td>-1.72e-10</td>\n",
       "</tr>\n",
       "<tr>\n",
       "  <th>x58</th>   <td>   -0.0323</td> <td>    0.012</td> <td>   -2.712</td> <td> 0.007</td> <td>   -0.056</td> <td>   -0.009</td>\n",
       "</tr>\n",
       "<tr>\n",
       "  <th>x59</th>   <td>   -0.0323</td> <td>    0.012</td> <td>   -2.712</td> <td> 0.007</td> <td>   -0.056</td> <td>   -0.009</td>\n",
       "</tr>\n",
       "<tr>\n",
       "  <th>x60</th>   <td>    0.0019</td> <td>    0.044</td> <td>    0.044</td> <td> 0.965</td> <td>   -0.084</td> <td>    0.088</td>\n",
       "</tr>\n",
       "<tr>\n",
       "  <th>x61</th>   <td>   -0.0086</td> <td>    0.003</td> <td>   -2.821</td> <td> 0.005</td> <td>   -0.015</td> <td>   -0.003</td>\n",
       "</tr>\n",
       "<tr>\n",
       "  <th>x62</th>   <td>    1.2508</td> <td>    1.454</td> <td>    0.860</td> <td> 0.390</td> <td>   -1.599</td> <td>    4.100</td>\n",
       "</tr>\n",
       "<tr>\n",
       "  <th>x63</th>   <td> 5.132e-10</td> <td> 1.69e-10</td> <td>    3.033</td> <td> 0.002</td> <td> 1.82e-10</td> <td> 8.45e-10</td>\n",
       "</tr>\n",
       "<tr>\n",
       "  <th>x64</th>   <td> 1.761e-09</td> <td> 5.34e-10</td> <td>    3.295</td> <td> 0.001</td> <td> 7.13e-10</td> <td> 2.81e-09</td>\n",
       "</tr>\n",
       "<tr>\n",
       "  <th>x65</th>   <td>   -0.0054</td> <td>    0.027</td> <td>   -0.201</td> <td> 0.840</td> <td>   -0.058</td> <td>    0.047</td>\n",
       "</tr>\n",
       "<tr>\n",
       "  <th>x66</th>   <td>   -0.0054</td> <td>    0.027</td> <td>   -0.201</td> <td> 0.840</td> <td>   -0.058</td> <td>    0.047</td>\n",
       "</tr>\n",
       "<tr>\n",
       "  <th>x67</th>   <td>    0.1546</td> <td>    0.081</td> <td>    1.907</td> <td> 0.057</td> <td>   -0.004</td> <td>    0.314</td>\n",
       "</tr>\n",
       "<tr>\n",
       "  <th>x68</th>   <td>    0.0133</td> <td>    0.006</td> <td>    2.056</td> <td> 0.040</td> <td>    0.001</td> <td>    0.026</td>\n",
       "</tr>\n",
       "<tr>\n",
       "  <th>x69</th>   <td>    3.8292</td> <td>    0.985</td> <td>    3.887</td> <td> 0.000</td> <td>    1.898</td> <td>    5.760</td>\n",
       "</tr>\n",
       "<tr>\n",
       "  <th>x70</th>   <td>-1.056e-09</td> <td> 3.39e-10</td> <td>   -3.118</td> <td> 0.002</td> <td>-1.72e-09</td> <td>-3.92e-10</td>\n",
       "</tr>\n",
       "<tr>\n",
       "  <th>x71</th>   <td>   -0.0147</td> <td>    0.012</td> <td>   -1.226</td> <td> 0.220</td> <td>   -0.038</td> <td>    0.009</td>\n",
       "</tr>\n",
       "<tr>\n",
       "  <th>x72</th>   <td>   -0.0147</td> <td>    0.012</td> <td>   -1.226</td> <td> 0.220</td> <td>   -0.038</td> <td>    0.009</td>\n",
       "</tr>\n",
       "<tr>\n",
       "  <th>x73</th>   <td>   -0.0391</td> <td>    0.043</td> <td>   -0.913</td> <td> 0.361</td> <td>   -0.123</td> <td>    0.045</td>\n",
       "</tr>\n",
       "<tr>\n",
       "  <th>x74</th>   <td>   -0.0139</td> <td>    0.003</td> <td>   -4.583</td> <td> 0.000</td> <td>   -0.020</td> <td>   -0.008</td>\n",
       "</tr>\n",
       "<tr>\n",
       "  <th>x75</th>   <td>    6.0146</td> <td>    1.539</td> <td>    3.908</td> <td> 0.000</td> <td>    2.998</td> <td>    9.031</td>\n",
       "</tr>\n",
       "<tr>\n",
       "  <th>x76</th>   <td>    0.0023</td> <td>    0.028</td> <td>    0.083</td> <td> 0.934</td> <td>   -0.053</td> <td>    0.057</td>\n",
       "</tr>\n",
       "<tr>\n",
       "  <th>x77</th>   <td>    0.0023</td> <td>    0.028</td> <td>    0.083</td> <td> 0.934</td> <td>   -0.053</td> <td>    0.057</td>\n",
       "</tr>\n",
       "<tr>\n",
       "  <th>x78</th>   <td>   -0.2494</td> <td>    0.090</td> <td>   -2.780</td> <td> 0.005</td> <td>   -0.425</td> <td>   -0.074</td>\n",
       "</tr>\n",
       "<tr>\n",
       "  <th>x79</th>   <td>   -0.0106</td> <td>    0.006</td> <td>   -1.718</td> <td> 0.086</td> <td>   -0.023</td> <td>    0.001</td>\n",
       "</tr>\n",
       "<tr>\n",
       "  <th>x80</th>   <td>   -0.0017</td> <td>    0.001</td> <td>   -2.288</td> <td> 0.022</td> <td>   -0.003</td> <td>   -0.000</td>\n",
       "</tr>\n",
       "<tr>\n",
       "  <th>x81</th>   <td>   -0.0017</td> <td>    0.001</td> <td>   -2.288</td> <td> 0.022</td> <td>   -0.003</td> <td>   -0.000</td>\n",
       "</tr>\n",
       "<tr>\n",
       "  <th>x82</th>   <td>    0.0027</td> <td>    0.002</td> <td>    1.401</td> <td> 0.161</td> <td>   -0.001</td> <td>    0.006</td>\n",
       "</tr>\n",
       "<tr>\n",
       "  <th>x83</th>   <td>    0.0008</td> <td>    0.000</td> <td>    4.032</td> <td> 0.000</td> <td>    0.000</td> <td>    0.001</td>\n",
       "</tr>\n",
       "<tr>\n",
       "  <th>x84</th>   <td>   -0.0017</td> <td>    0.001</td> <td>   -2.288</td> <td> 0.022</td> <td>   -0.003</td> <td>   -0.000</td>\n",
       "</tr>\n",
       "<tr>\n",
       "  <th>x85</th>   <td>    0.0027</td> <td>    0.002</td> <td>    1.401</td> <td> 0.161</td> <td>   -0.001</td> <td>    0.006</td>\n",
       "</tr>\n",
       "<tr>\n",
       "  <th>x86</th>   <td>    0.0008</td> <td>    0.000</td> <td>    4.032</td> <td> 0.000</td> <td>    0.000</td> <td>    0.001</td>\n",
       "</tr>\n",
       "<tr>\n",
       "  <th>x87</th>   <td>    0.0027</td> <td>    0.005</td> <td>    0.584</td> <td> 0.559</td> <td>   -0.006</td> <td>    0.012</td>\n",
       "</tr>\n",
       "<tr>\n",
       "  <th>x88</th>   <td>    0.0005</td> <td>    0.001</td> <td>    0.864</td> <td> 0.388</td> <td>   -0.001</td> <td>    0.002</td>\n",
       "</tr>\n",
       "<tr>\n",
       "  <th>x89</th>   <td> 3.469e-05</td> <td> 2.25e-05</td> <td>    1.542</td> <td> 0.123</td> <td>-9.41e-06</td> <td> 7.88e-05</td>\n",
       "</tr>\n",
       "<tr>\n",
       "  <th>x90</th>   <td> 4.229e-08</td> <td> 1.03e-08</td> <td>    4.125</td> <td> 0.000</td> <td> 2.22e-08</td> <td> 6.24e-08</td>\n",
       "</tr>\n",
       "<tr>\n",
       "  <th>x91</th>   <td>-1.258e-09</td> <td>  1.8e-07</td> <td>   -0.007</td> <td> 0.994</td> <td>-3.53e-07</td> <td> 3.51e-07</td>\n",
       "</tr>\n",
       "<tr>\n",
       "  <th>x92</th>   <td>-3.163e-07</td> <td> 9.81e-08</td> <td>   -3.224</td> <td> 0.001</td> <td>-5.09e-07</td> <td>-1.24e-07</td>\n",
       "</tr>\n",
       "<tr>\n",
       "  <th>x93</th>   <td> 9.443e-08</td> <td> 2.08e-08</td> <td>    4.545</td> <td> 0.000</td> <td> 5.37e-08</td> <td> 1.35e-07</td>\n",
       "</tr>\n",
       "<tr>\n",
       "  <th>x94</th>   <td>    0.0168</td> <td>    0.006</td> <td>    2.942</td> <td> 0.003</td> <td>    0.006</td> <td>    0.028</td>\n",
       "</tr>\n",
       "<tr>\n",
       "  <th>x95</th>   <td>   -0.0678</td> <td>    0.023</td> <td>   -2.964</td> <td> 0.003</td> <td>   -0.113</td> <td>   -0.023</td>\n",
       "</tr>\n",
       "<tr>\n",
       "  <th>x96</th>   <td>    0.0170</td> <td>    0.006</td> <td>    2.970</td> <td> 0.003</td> <td>    0.006</td> <td>    0.028</td>\n",
       "</tr>\n",
       "<tr>\n",
       "  <th>x97</th>   <td>    0.0171</td> <td>    0.006</td> <td>    2.985</td> <td> 0.003</td> <td>    0.006</td> <td>    0.028</td>\n",
       "</tr>\n",
       "<tr>\n",
       "  <th>x98</th>   <td>-2.185e-06</td> <td> 4.96e-07</td> <td>   -4.408</td> <td> 0.000</td> <td>-3.16e-06</td> <td>-1.21e-06</td>\n",
       "</tr>\n",
       "<tr>\n",
       "  <th>x99</th>   <td>-2.185e-06</td> <td> 4.96e-07</td> <td>   -4.409</td> <td> 0.000</td> <td>-3.16e-06</td> <td>-1.21e-06</td>\n",
       "</tr>\n",
       "<tr>\n",
       "  <th>x100</th>  <td> 3.096e-06</td> <td> 1.54e-06</td> <td>    2.012</td> <td> 0.044</td> <td> 7.93e-08</td> <td> 6.11e-06</td>\n",
       "</tr>\n",
       "<tr>\n",
       "  <th>x101</th>  <td>-7.402e-08</td> <td> 4.51e-08</td> <td>   -1.640</td> <td> 0.101</td> <td>-1.63e-07</td> <td> 1.45e-08</td>\n",
       "</tr>\n",
       "<tr>\n",
       "  <th>x102</th>  <td>-5.711e-07</td> <td> 2.67e-07</td> <td>   -2.140</td> <td> 0.032</td> <td>-1.09e-06</td> <td>-4.81e-08</td>\n",
       "</tr>\n",
       "<tr>\n",
       "  <th>x103</th>  <td>-7.214e-07</td> <td> 6.11e-07</td> <td>   -1.180</td> <td> 0.238</td> <td>-1.92e-06</td> <td> 4.77e-07</td>\n",
       "</tr>\n",
       "<tr>\n",
       "  <th>x104</th>  <td> 1.045e-07</td> <td> 1.27e-07</td> <td>    0.820</td> <td> 0.412</td> <td>-1.45e-07</td> <td> 3.54e-07</td>\n",
       "</tr>\n",
       "<tr>\n",
       "  <th>x105</th>  <td>   -0.0046</td> <td>    0.002</td> <td>   -1.851</td> <td> 0.064</td> <td>   -0.009</td> <td>    0.000</td>\n",
       "</tr>\n",
       "<tr>\n",
       "  <th>x106</th>  <td>   -0.0009</td> <td>    0.007</td> <td>   -0.118</td> <td> 0.906</td> <td>   -0.015</td> <td>    0.014</td>\n",
       "</tr>\n",
       "<tr>\n",
       "  <th>x107</th>  <td>   -0.0045</td> <td>    0.002</td> <td>   -1.806</td> <td> 0.071</td> <td>   -0.009</td> <td>    0.000</td>\n",
       "</tr>\n",
       "<tr>\n",
       "  <th>x108</th>  <td>    0.0147</td> <td>    0.007</td> <td>    2.054</td> <td> 0.040</td> <td>    0.001</td> <td>    0.029</td>\n",
       "</tr>\n",
       "<tr>\n",
       "  <th>x109</th>  <td> 7.135e-07</td> <td>  4.2e-06</td> <td>    0.170</td> <td> 0.865</td> <td>-7.52e-06</td> <td> 8.95e-06</td>\n",
       "</tr>\n",
       "<tr>\n",
       "  <th>x110</th>  <td> 7.134e-07</td> <td>  4.2e-06</td> <td>    0.170</td> <td> 0.865</td> <td>-7.52e-06</td> <td> 8.95e-06</td>\n",
       "</tr>\n",
       "<tr>\n",
       "  <th>x111</th>  <td> 2.606e-06</td> <td> 1.08e-05</td> <td>    0.241</td> <td> 0.809</td> <td>-1.86e-05</td> <td> 2.38e-05</td>\n",
       "</tr>\n",
       "<tr>\n",
       "  <th>x112</th>  <td>-9.254e-08</td> <td> 2.03e-07</td> <td>   -0.455</td> <td> 0.649</td> <td>-4.91e-07</td> <td> 3.06e-07</td>\n",
       "</tr>\n",
       "<tr>\n",
       "  <th>x113</th>  <td> 1.129e-06</td> <td> 4.88e-07</td> <td>    2.312</td> <td> 0.021</td> <td> 1.72e-07</td> <td> 2.09e-06</td>\n",
       "</tr>\n",
       "<tr>\n",
       "  <th>x114</th>  <td> 1.831e-07</td> <td> 9.27e-08</td> <td>    1.974</td> <td> 0.048</td> <td> 1.33e-09</td> <td> 3.65e-07</td>\n",
       "</tr>\n",
       "<tr>\n",
       "  <th>x115</th>  <td>   -0.0009</td> <td>    0.000</td> <td>   -1.896</td> <td> 0.058</td> <td>   -0.002</td> <td> 2.93e-05</td>\n",
       "</tr>\n",
       "<tr>\n",
       "  <th>x116</th>  <td>    0.0017</td> <td>    0.002</td> <td>    1.019</td> <td> 0.308</td> <td>   -0.002</td> <td>    0.005</td>\n",
       "</tr>\n",
       "<tr>\n",
       "  <th>x117</th>  <td>   -0.0009</td> <td>    0.000</td> <td>   -1.975</td> <td> 0.048</td> <td>   -0.002</td> <td>-6.97e-06</td>\n",
       "</tr>\n",
       "<tr>\n",
       "  <th>x118</th>  <td>   -0.0004</td> <td>    0.001</td> <td>   -0.545</td> <td> 0.586</td> <td>   -0.002</td> <td>    0.001</td>\n",
       "</tr>\n",
       "<tr>\n",
       "  <th>x119</th>  <td> 1.513e-05</td> <td> 3.92e-06</td> <td>    3.856</td> <td> 0.000</td> <td> 7.44e-06</td> <td> 2.28e-05</td>\n",
       "</tr>\n",
       "<tr>\n",
       "  <th>x120</th>  <td> 1.513e-05</td> <td> 3.92e-06</td> <td>    3.855</td> <td> 0.000</td> <td> 7.44e-06</td> <td> 2.28e-05</td>\n",
       "</tr>\n",
       "<tr>\n",
       "  <th>x121</th>  <td> 3.073e-05</td> <td> 8.51e-06</td> <td>    3.613</td> <td> 0.000</td> <td> 1.41e-05</td> <td> 4.74e-05</td>\n",
       "</tr>\n",
       "<tr>\n",
       "  <th>x122</th>  <td> 1.123e-06</td> <td>  7.8e-07</td> <td>    1.440</td> <td> 0.150</td> <td>-4.05e-07</td> <td> 2.65e-06</td>\n",
       "</tr>\n",
       "<tr>\n",
       "  <th>x123</th>  <td> 5.851e-08</td> <td> 2.96e-08</td> <td>    1.980</td> <td> 0.048</td> <td> 5.78e-10</td> <td> 1.16e-07</td>\n",
       "</tr>\n",
       "<tr>\n",
       "  <th>x124</th>  <td>-6.164e-06</td> <td>    0.000</td> <td>   -0.057</td> <td> 0.955</td> <td>   -0.000</td> <td>    0.000</td>\n",
       "</tr>\n",
       "<tr>\n",
       "  <th>x125</th>  <td>-2.496e-05</td> <td>    0.000</td> <td>   -0.058</td> <td> 0.954</td> <td>   -0.001</td> <td>    0.001</td>\n",
       "</tr>\n",
       "<tr>\n",
       "  <th>x126</th>  <td>-2.691e-05</td> <td>    0.000</td> <td>   -0.246</td> <td> 0.805</td> <td>   -0.000</td> <td>    0.000</td>\n",
       "</tr>\n",
       "<tr>\n",
       "  <th>x127</th>  <td>-6.366e-05</td> <td>    0.000</td> <td>   -0.482</td> <td> 0.630</td> <td>   -0.000</td> <td>    0.000</td>\n",
       "</tr>\n",
       "<tr>\n",
       "  <th>x128</th>  <td> 1.418e-06</td> <td> 3.55e-07</td> <td>    3.992</td> <td> 0.000</td> <td> 7.22e-07</td> <td> 2.12e-06</td>\n",
       "</tr>\n",
       "<tr>\n",
       "  <th>x129</th>  <td>  1.42e-06</td> <td> 3.55e-07</td> <td>    3.996</td> <td> 0.000</td> <td> 7.23e-07</td> <td> 2.12e-06</td>\n",
       "</tr>\n",
       "<tr>\n",
       "  <th>x130</th>  <td> 1.508e-06</td> <td> 7.66e-07</td> <td>    1.970</td> <td> 0.049</td> <td> 7.43e-09</td> <td> 3.01e-06</td>\n",
       "</tr>\n",
       "<tr>\n",
       "  <th>x131</th>  <td> 9.512e-08</td> <td> 4.01e-08</td> <td>    2.369</td> <td> 0.018</td> <td> 1.64e-08</td> <td> 1.74e-07</td>\n",
       "</tr>\n",
       "<tr>\n",
       "  <th>x132</th>  <td>    0.0378</td> <td>    0.058</td> <td>    0.655</td> <td> 0.513</td> <td>   -0.075</td> <td>    0.151</td>\n",
       "</tr>\n",
       "<tr>\n",
       "  <th>x133</th>  <td> 1.347e-10</td> <td>    4e-11</td> <td>    3.366</td> <td> 0.001</td> <td> 5.63e-11</td> <td> 2.13e-10</td>\n",
       "</tr>\n",
       "<tr>\n",
       "  <th>x134</th>  <td> 9.412e-11</td> <td>  2.8e-11</td> <td>    3.360</td> <td> 0.001</td> <td> 3.92e-11</td> <td> 1.49e-10</td>\n",
       "</tr>\n",
       "<tr>\n",
       "  <th>x135</th>  <td> 1.545e-11</td> <td> 7.16e-12</td> <td>    2.159</td> <td> 0.031</td> <td> 1.42e-12</td> <td> 2.95e-11</td>\n",
       "</tr>\n",
       "<tr>\n",
       "  <th>x136</th>  <td>    0.0005</td> <td>    0.001</td> <td>    0.355</td> <td> 0.723</td> <td>   -0.002</td> <td>    0.003</td>\n",
       "</tr>\n",
       "<tr>\n",
       "  <th>x137</th>  <td>    0.0005</td> <td>    0.001</td> <td>    0.355</td> <td> 0.723</td> <td>   -0.002</td> <td>    0.003</td>\n",
       "</tr>\n",
       "<tr>\n",
       "  <th>x138</th>  <td>  6.03e-05</td> <td>    0.003</td> <td>    0.018</td> <td> 0.986</td> <td>   -0.006</td> <td>    0.007</td>\n",
       "</tr>\n",
       "<tr>\n",
       "  <th>x139</th>  <td>   -0.0005</td> <td>    0.000</td> <td>   -1.405</td> <td> 0.160</td> <td>   -0.001</td> <td>    0.000</td>\n",
       "</tr>\n",
       "<tr>\n",
       "  <th>x140</th>  <td>   -0.0174</td> <td>    0.279</td> <td>   -0.062</td> <td> 0.950</td> <td>   -0.563</td> <td>    0.529</td>\n",
       "</tr>\n",
       "<tr>\n",
       "  <th>x141</th>  <td>-2.421e-11</td> <td> 6.67e-12</td> <td>   -3.629</td> <td> 0.000</td> <td>-3.73e-11</td> <td>-1.11e-11</td>\n",
       "</tr>\n",
       "<tr>\n",
       "  <th>x142</th>  <td> 4.283e-11</td> <td> 1.51e-11</td> <td>    2.837</td> <td> 0.005</td> <td> 1.32e-11</td> <td> 7.24e-11</td>\n",
       "</tr>\n",
       "<tr>\n",
       "  <th>x143</th>  <td>   -0.0048</td> <td>    0.005</td> <td>   -0.965</td> <td> 0.335</td> <td>   -0.014</td> <td>    0.005</td>\n",
       "</tr>\n",
       "<tr>\n",
       "  <th>x144</th>  <td>   -0.0048</td> <td>    0.005</td> <td>   -0.965</td> <td> 0.335</td> <td>   -0.014</td> <td>    0.005</td>\n",
       "</tr>\n",
       "<tr>\n",
       "  <th>x145</th>  <td>   -0.0016</td> <td>    0.012</td> <td>   -0.129</td> <td> 0.898</td> <td>   -0.025</td> <td>    0.022</td>\n",
       "</tr>\n",
       "<tr>\n",
       "  <th>x146</th>  <td>    0.0015</td> <td>    0.001</td> <td>    1.198</td> <td> 0.231</td> <td>   -0.001</td> <td>    0.004</td>\n",
       "</tr>\n",
       "<tr>\n",
       "  <th>x147</th>  <td>    0.0207</td> <td>    0.058</td> <td>    0.357</td> <td> 0.721</td> <td>   -0.093</td> <td>    0.134</td>\n",
       "</tr>\n",
       "<tr>\n",
       "  <th>x148</th>  <td>  1.47e-11</td> <td> 3.39e-12</td> <td>    4.339</td> <td> 0.000</td> <td> 8.06e-12</td> <td> 2.13e-11</td>\n",
       "</tr>\n",
       "<tr>\n",
       "  <th>x149</th>  <td>    0.0005</td> <td>    0.001</td> <td>    0.375</td> <td> 0.708</td> <td>   -0.002</td> <td>    0.003</td>\n",
       "</tr>\n",
       "<tr>\n",
       "  <th>x150</th>  <td>    0.0005</td> <td>    0.001</td> <td>    0.375</td> <td> 0.708</td> <td>   -0.002</td> <td>    0.003</td>\n",
       "</tr>\n",
       "<tr>\n",
       "  <th>x151</th>  <td>    0.0004</td> <td>    0.003</td> <td>    0.133</td> <td> 0.894</td> <td>   -0.006</td> <td>    0.007</td>\n",
       "</tr>\n",
       "<tr>\n",
       "  <th>x152</th>  <td>   -0.0004</td> <td>    0.000</td> <td>   -1.363</td> <td> 0.173</td> <td>   -0.001</td> <td>    0.000</td>\n",
       "</tr>\n",
       "<tr>\n",
       "  <th>x153</th>  <td>    0.0848</td> <td>    0.085</td> <td>    1.001</td> <td> 0.317</td> <td>   -0.081</td> <td>    0.251</td>\n",
       "</tr>\n",
       "<tr>\n",
       "  <th>x154</th>  <td>    0.0005</td> <td>    0.002</td> <td>    0.274</td> <td> 0.784</td> <td>   -0.003</td> <td>    0.004</td>\n",
       "</tr>\n",
       "<tr>\n",
       "  <th>x155</th>  <td>    0.0005</td> <td>    0.002</td> <td>    0.274</td> <td> 0.784</td> <td>   -0.003</td> <td>    0.004</td>\n",
       "</tr>\n",
       "<tr>\n",
       "  <th>x156</th>  <td>   -0.0076</td> <td>    0.006</td> <td>   -1.234</td> <td> 0.217</td> <td>   -0.020</td> <td>    0.005</td>\n",
       "</tr>\n",
       "<tr>\n",
       "  <th>x157</th>  <td>   -0.0002</td> <td>    0.000</td> <td>   -0.565</td> <td> 0.572</td> <td>   -0.001</td> <td>    0.001</td>\n",
       "</tr>\n",
       "<tr>\n",
       "  <th>x158</th>  <td> 3.601e-05</td> <td>  8.4e-06</td> <td>    4.285</td> <td> 0.000</td> <td> 1.95e-05</td> <td> 5.25e-05</td>\n",
       "</tr>\n",
       "<tr>\n",
       "  <th>x159</th>  <td> 3.601e-05</td> <td>  8.4e-06</td> <td>    4.285</td> <td> 0.000</td> <td> 1.95e-05</td> <td> 5.25e-05</td>\n",
       "</tr>\n",
       "<tr>\n",
       "  <th>x160</th>  <td> 8.074e-05</td> <td> 1.91e-05</td> <td>    4.237</td> <td> 0.000</td> <td> 4.34e-05</td> <td>    0.000</td>\n",
       "</tr>\n",
       "<tr>\n",
       "  <th>x161</th>  <td>-4.214e-06</td> <td> 2.16e-06</td> <td>   -1.952</td> <td> 0.051</td> <td>-8.45e-06</td> <td>  1.8e-08</td>\n",
       "</tr>\n",
       "<tr>\n",
       "  <th>x162</th>  <td> 3.601e-05</td> <td>  8.4e-06</td> <td>    4.285</td> <td> 0.000</td> <td> 1.95e-05</td> <td> 5.25e-05</td>\n",
       "</tr>\n",
       "<tr>\n",
       "  <th>x163</th>  <td> 8.074e-05</td> <td> 1.91e-05</td> <td>    4.237</td> <td> 0.000</td> <td> 4.34e-05</td> <td>    0.000</td>\n",
       "</tr>\n",
       "<tr>\n",
       "  <th>x164</th>  <td>-4.214e-06</td> <td> 2.16e-06</td> <td>   -1.952</td> <td> 0.051</td> <td>-8.45e-06</td> <td>  1.8e-08</td>\n",
       "</tr>\n",
       "<tr>\n",
       "  <th>x165</th>  <td> 7.984e-05</td> <td> 3.22e-05</td> <td>    2.483</td> <td> 0.013</td> <td> 1.68e-05</td> <td>    0.000</td>\n",
       "</tr>\n",
       "<tr>\n",
       "  <th>x166</th>  <td>  2.72e-06</td> <td> 4.22e-06</td> <td>    0.644</td> <td> 0.519</td> <td>-5.56e-06</td> <td>  1.1e-05</td>\n",
       "</tr>\n",
       "<tr>\n",
       "  <th>x167</th>  <td>-1.248e-07</td> <td> 1.17e-07</td> <td>   -1.063</td> <td> 0.288</td> <td>-3.55e-07</td> <td> 1.05e-07</td>\n",
       "</tr>\n",
       "<tr>\n",
       "  <th>x168</th>  <td>-1.326e-07</td> <td> 1.25e-08</td> <td>  -10.643</td> <td> 0.000</td> <td>-1.57e-07</td> <td>-1.08e-07</td>\n",
       "</tr>\n",
       "<tr>\n",
       "  <th>x169</th>  <td> 9.222e-09</td> <td> 6.21e-08</td> <td>    0.148</td> <td> 0.882</td> <td>-1.13e-07</td> <td> 1.31e-07</td>\n",
       "</tr>\n",
       "<tr>\n",
       "  <th>x170</th>  <td> 1.335e-08</td> <td> 1.26e-08</td> <td>    1.060</td> <td> 0.289</td> <td>-1.13e-08</td> <td> 3.81e-08</td>\n",
       "</tr>\n",
       "<tr>\n",
       "  <th>x171</th>  <td>   -0.0005</td> <td>    0.000</td> <td>   -2.254</td> <td> 0.024</td> <td>   -0.001</td> <td> -6.5e-05</td>\n",
       "</tr>\n",
       "<tr>\n",
       "  <th>x172</th>  <td>   -0.0004</td> <td>    0.000</td> <td>   -1.904</td> <td> 0.057</td> <td>   -0.001</td> <td> 1.28e-05</td>\n",
       "</tr>\n",
       "<tr>\n",
       "  <th>x173</th>  <td>   -0.0005</td> <td>    0.000</td> <td>   -2.159</td> <td> 0.031</td> <td>   -0.001</td> <td>-4.38e-05</td>\n",
       "</tr>\n",
       "<tr>\n",
       "  <th>x174</th>  <td>    0.0020</td> <td>    0.001</td> <td>    2.272</td> <td> 0.023</td> <td>    0.000</td> <td>    0.004</td>\n",
       "</tr>\n",
       "<tr>\n",
       "  <th>x175</th>  <td> 9.198e-09</td> <td> 1.73e-07</td> <td>    0.053</td> <td> 0.958</td> <td>-3.29e-07</td> <td> 3.48e-07</td>\n",
       "</tr>\n",
       "<tr>\n",
       "  <th>x176</th>  <td> 8.792e-09</td> <td> 1.73e-07</td> <td>    0.051</td> <td> 0.959</td> <td> -3.3e-07</td> <td> 3.47e-07</td>\n",
       "</tr>\n",
       "<tr>\n",
       "  <th>x177</th>  <td>-1.092e-06</td> <td> 4.93e-07</td> <td>   -2.214</td> <td> 0.027</td> <td>-2.06e-06</td> <td>-1.25e-07</td>\n",
       "</tr>\n",
       "<tr>\n",
       "  <th>x178</th>  <td>-5.856e-08</td> <td> 2.19e-08</td> <td>   -2.679</td> <td> 0.007</td> <td>-1.01e-07</td> <td>-1.57e-08</td>\n",
       "</tr>\n",
       "<tr>\n",
       "  <th>x179</th>  <td>-8.577e-07</td> <td> 3.03e-07</td> <td>   -2.835</td> <td> 0.005</td> <td>-1.45e-06</td> <td>-2.65e-07</td>\n",
       "</tr>\n",
       "<tr>\n",
       "  <th>x180</th>  <td> 2.835e-08</td> <td> 4.03e-08</td> <td>    0.704</td> <td> 0.482</td> <td>-5.06e-08</td> <td> 1.07e-07</td>\n",
       "</tr>\n",
       "<tr>\n",
       "  <th>x181</th>  <td>-4.113e-05</td> <td>    0.000</td> <td>   -0.362</td> <td> 0.718</td> <td>   -0.000</td> <td>    0.000</td>\n",
       "</tr>\n",
       "<tr>\n",
       "  <th>x182</th>  <td>  7.44e-05</td> <td>    0.000</td> <td>    0.296</td> <td> 0.767</td> <td>   -0.000</td> <td>    0.001</td>\n",
       "</tr>\n",
       "<tr>\n",
       "  <th>x183</th>  <td>-9.355e-05</td> <td>    0.000</td> <td>   -0.818</td> <td> 0.414</td> <td>   -0.000</td> <td>    0.000</td>\n",
       "</tr>\n",
       "<tr>\n",
       "  <th>x184</th>  <td>    0.0002</td> <td>    0.000</td> <td>    0.547</td> <td> 0.584</td> <td>   -0.001</td> <td>    0.001</td>\n",
       "</tr>\n",
       "<tr>\n",
       "  <th>x185</th>  <td>-1.993e-06</td> <td> 1.45e-06</td> <td>   -1.378</td> <td> 0.168</td> <td>-4.83e-06</td> <td> 8.43e-07</td>\n",
       "</tr>\n",
       "<tr>\n",
       "  <th>x186</th>  <td>-1.993e-06</td> <td> 1.45e-06</td> <td>   -1.377</td> <td> 0.168</td> <td>-4.83e-06</td> <td> 8.43e-07</td>\n",
       "</tr>\n",
       "<tr>\n",
       "  <th>x187</th>  <td>-4.898e-08</td> <td> 3.32e-06</td> <td>   -0.015</td> <td> 0.988</td> <td>-6.56e-06</td> <td> 6.46e-06</td>\n",
       "</tr>\n",
       "<tr>\n",
       "  <th>x188</th>  <td> 1.617e-07</td> <td>    3e-07</td> <td>    0.538</td> <td> 0.590</td> <td>-4.27e-07</td> <td>  7.5e-07</td>\n",
       "</tr>\n",
       "<tr>\n",
       "  <th>x189</th>  <td>-1.365e-08</td> <td> 9.85e-09</td> <td>   -1.386</td> <td> 0.166</td> <td> -3.3e-08</td> <td> 5.65e-09</td>\n",
       "</tr>\n",
       "<tr>\n",
       "  <th>x190</th>  <td> 8.657e-05</td> <td> 2.97e-05</td> <td>    2.914</td> <td> 0.004</td> <td> 2.83e-05</td> <td>    0.000</td>\n",
       "</tr>\n",
       "<tr>\n",
       "  <th>x191</th>  <td>  8.03e-05</td> <td> 3.16e-05</td> <td>    2.539</td> <td> 0.011</td> <td> 1.83e-05</td> <td>    0.000</td>\n",
       "</tr>\n",
       "<tr>\n",
       "  <th>x192</th>  <td> 7.254e-05</td> <td> 2.98e-05</td> <td>    2.436</td> <td> 0.015</td> <td> 1.42e-05</td> <td>    0.000</td>\n",
       "</tr>\n",
       "<tr>\n",
       "  <th>x193</th>  <td>   -0.0003</td> <td>    0.000</td> <td>   -2.676</td> <td> 0.007</td> <td>   -0.001</td> <td>-8.44e-05</td>\n",
       "</tr>\n",
       "<tr>\n",
       "  <th>x194</th>  <td> 2.453e-08</td> <td> 1.21e-07</td> <td>    0.203</td> <td> 0.839</td> <td>-2.13e-07</td> <td> 2.62e-07</td>\n",
       "</tr>\n",
       "<tr>\n",
       "  <th>x195</th>  <td>  2.17e-08</td> <td> 1.21e-07</td> <td>    0.179</td> <td> 0.858</td> <td>-2.15e-07</td> <td> 2.59e-07</td>\n",
       "</tr>\n",
       "<tr>\n",
       "  <th>x196</th>  <td>-1.945e-07</td> <td> 3.09e-07</td> <td>   -0.630</td> <td> 0.529</td> <td>   -8e-07</td> <td> 4.11e-07</td>\n",
       "</tr>\n",
       "<tr>\n",
       "  <th>x197</th>  <td> -1.47e-09</td> <td> 1.61e-08</td> <td>   -0.092</td> <td> 0.927</td> <td> -3.3e-08</td> <td>    3e-08</td>\n",
       "</tr>\n",
       "<tr>\n",
       "  <th>x198</th>  <td>   -0.0458</td> <td>    0.020</td> <td>   -2.286</td> <td> 0.022</td> <td>   -0.085</td> <td>   -0.007</td>\n",
       "</tr>\n",
       "<tr>\n",
       "  <th>x199</th>  <td> 1.034e-12</td> <td> 2.85e-13</td> <td>    3.628</td> <td> 0.000</td> <td> 4.75e-13</td> <td> 1.59e-12</td>\n",
       "</tr>\n",
       "<tr>\n",
       "  <th>x200</th>  <td>-9.325e-13</td> <td> 2.64e-13</td> <td>   -3.539</td> <td> 0.000</td> <td>-1.45e-12</td> <td>-4.16e-13</td>\n",
       "</tr>\n",
       "<tr>\n",
       "  <th>x201</th>  <td> 5.427e-13</td> <td>  1.2e-13</td> <td>    4.539</td> <td> 0.000</td> <td> 3.08e-13</td> <td> 7.77e-13</td>\n",
       "</tr>\n",
       "<tr>\n",
       "  <th>x202</th>  <td>    0.0008</td> <td>    0.000</td> <td>    1.915</td> <td> 0.056</td> <td>-1.85e-05</td> <td>    0.002</td>\n",
       "</tr>\n",
       "<tr>\n",
       "  <th>x203</th>  <td>    0.0008</td> <td>    0.000</td> <td>    1.915</td> <td> 0.056</td> <td>-1.85e-05</td> <td>    0.002</td>\n",
       "</tr>\n",
       "<tr>\n",
       "  <th>x204</th>  <td>    0.0013</td> <td>    0.001</td> <td>    0.903</td> <td> 0.367</td> <td>   -0.002</td> <td>    0.004</td>\n",
       "</tr>\n",
       "<tr>\n",
       "  <th>x205</th>  <td>    0.0003</td> <td> 7.63e-05</td> <td>    3.372</td> <td> 0.001</td> <td>    0.000</td> <td>    0.000</td>\n",
       "</tr>\n",
       "<tr>\n",
       "  <th>x206</th>  <td>   -0.0140</td> <td>    0.036</td> <td>   -0.386</td> <td> 0.699</td> <td>   -0.085</td> <td>    0.057</td>\n",
       "</tr>\n",
       "<tr>\n",
       "  <th>x207</th>  <td> 2.309e-13</td> <td> 6.45e-14</td> <td>    3.579</td> <td> 0.000</td> <td> 1.04e-13</td> <td> 3.57e-13</td>\n",
       "</tr>\n",
       "<tr>\n",
       "  <th>x208</th>  <td> 7.859e-14</td> <td> 2.98e-14</td> <td>    2.636</td> <td> 0.008</td> <td> 2.02e-14</td> <td> 1.37e-13</td>\n",
       "</tr>\n",
       "<tr>\n",
       "  <th>x209</th>  <td>    0.0005</td> <td>    0.001</td> <td>    0.622</td> <td> 0.534</td> <td>   -0.001</td> <td>    0.002</td>\n",
       "</tr>\n",
       "<tr>\n",
       "  <th>x210</th>  <td>    0.0005</td> <td>    0.001</td> <td>    0.622</td> <td> 0.534</td> <td>   -0.001</td> <td>    0.002</td>\n",
       "</tr>\n",
       "<tr>\n",
       "  <th>x211</th>  <td>    0.0010</td> <td>    0.002</td> <td>    0.439</td> <td> 0.661</td> <td>   -0.003</td> <td>    0.005</td>\n",
       "</tr>\n",
       "<tr>\n",
       "  <th>x212</th>  <td>-3.019e-05</td> <td>    0.000</td> <td>   -0.193</td> <td> 0.847</td> <td>   -0.000</td> <td>    0.000</td>\n",
       "</tr>\n",
       "<tr>\n",
       "  <th>x213</th>  <td>   -0.0429</td> <td>    0.020</td> <td>   -2.137</td> <td> 0.033</td> <td>   -0.082</td> <td>   -0.004</td>\n",
       "</tr>\n",
       "<tr>\n",
       "  <th>x214</th>  <td> 9.609e-14</td> <td> 5.38e-14</td> <td>    1.786</td> <td> 0.074</td> <td>-9.38e-15</td> <td> 2.02e-13</td>\n",
       "</tr>\n",
       "<tr>\n",
       "  <th>x215</th>  <td>    0.0007</td> <td>    0.000</td> <td>    1.641</td> <td> 0.101</td> <td>   -0.000</td> <td>    0.001</td>\n",
       "</tr>\n",
       "<tr>\n",
       "  <th>x216</th>  <td>    0.0007</td> <td>    0.000</td> <td>    1.641</td> <td> 0.101</td> <td>   -0.000</td> <td>    0.001</td>\n",
       "</tr>\n",
       "<tr>\n",
       "  <th>x217</th>  <td>    0.0012</td> <td>    0.001</td> <td>    0.796</td> <td> 0.426</td> <td>   -0.002</td> <td>    0.004</td>\n",
       "</tr>\n",
       "<tr>\n",
       "  <th>x218</th>  <td>    0.0003</td> <td> 7.64e-05</td> <td>    3.428</td> <td> 0.001</td> <td>    0.000</td> <td>    0.000</td>\n",
       "</tr>\n",
       "<tr>\n",
       "  <th>x219</th>  <td>    0.1315</td> <td>    0.095</td> <td>    1.388</td> <td> 0.165</td> <td>   -0.054</td> <td>    0.317</td>\n",
       "</tr>\n",
       "<tr>\n",
       "  <th>x220</th>  <td>   -0.0021</td> <td>    0.001</td> <td>   -1.432</td> <td> 0.152</td> <td>   -0.005</td> <td>    0.001</td>\n",
       "</tr>\n",
       "<tr>\n",
       "  <th>x221</th>  <td>   -0.0021</td> <td>    0.001</td> <td>   -1.432</td> <td> 0.152</td> <td>   -0.005</td> <td>    0.001</td>\n",
       "</tr>\n",
       "<tr>\n",
       "  <th>x222</th>  <td>   -0.0025</td> <td>    0.006</td> <td>   -0.445</td> <td> 0.656</td> <td>   -0.014</td> <td>    0.009</td>\n",
       "</tr>\n",
       "<tr>\n",
       "  <th>x223</th>  <td>   -0.0007</td> <td>    0.000</td> <td>   -2.418</td> <td> 0.016</td> <td>   -0.001</td> <td>   -0.000</td>\n",
       "</tr>\n",
       "<tr>\n",
       "  <th>x224</th>  <td> 1.602e-06</td> <td> 2.17e-06</td> <td>    0.739</td> <td> 0.460</td> <td>-2.65e-06</td> <td> 5.85e-06</td>\n",
       "</tr>\n",
       "<tr>\n",
       "  <th>x225</th>  <td> 1.603e-06</td> <td> 2.17e-06</td> <td>    0.739</td> <td> 0.460</td> <td>-2.65e-06</td> <td> 5.85e-06</td>\n",
       "</tr>\n",
       "<tr>\n",
       "  <th>x226</th>  <td>-1.789e-05</td> <td> 6.36e-06</td> <td>   -2.813</td> <td> 0.005</td> <td>-3.04e-05</td> <td>-5.43e-06</td>\n",
       "</tr>\n",
       "<tr>\n",
       "  <th>x227</th>  <td>-6.924e-07</td> <td> 8.57e-07</td> <td>   -0.808</td> <td> 0.419</td> <td>-2.37e-06</td> <td> 9.88e-07</td>\n",
       "</tr>\n",
       "<tr>\n",
       "  <th>x228</th>  <td> 1.603e-06</td> <td> 2.17e-06</td> <td>    0.739</td> <td> 0.460</td> <td>-2.65e-06</td> <td> 5.85e-06</td>\n",
       "</tr>\n",
       "<tr>\n",
       "  <th>x229</th>  <td>-1.789e-05</td> <td> 6.36e-06</td> <td>   -2.813</td> <td> 0.005</td> <td>-3.04e-05</td> <td>-5.43e-06</td>\n",
       "</tr>\n",
       "<tr>\n",
       "  <th>x230</th>  <td>-6.932e-07</td> <td> 8.57e-07</td> <td>   -0.809</td> <td> 0.419</td> <td>-2.37e-06</td> <td> 9.87e-07</td>\n",
       "</tr>\n",
       "<tr>\n",
       "  <th>x231</th>  <td>-2.149e-05</td> <td> 1.02e-05</td> <td>   -2.110</td> <td> 0.035</td> <td>-4.15e-05</td> <td>-1.53e-06</td>\n",
       "</tr>\n",
       "<tr>\n",
       "  <th>x232</th>  <td>-2.138e-06</td> <td>  1.9e-06</td> <td>   -1.126</td> <td> 0.260</td> <td>-5.86e-06</td> <td> 1.58e-06</td>\n",
       "</tr>\n",
       "<tr>\n",
       "  <th>x233</th>  <td>-7.176e-08</td> <td> 4.76e-08</td> <td>   -1.506</td> <td> 0.132</td> <td>-1.65e-07</td> <td> 2.16e-08</td>\n",
       "</tr>\n",
       "<tr>\n",
       "  <th>x234</th>  <td> -6.32e-07</td> <td>  3.4e-07</td> <td>   -1.856</td> <td> 0.063</td> <td> -1.3e-06</td> <td> 3.53e-08</td>\n",
       "</tr>\n",
       "<tr>\n",
       "  <th>x235</th>  <td>-1.401e-09</td> <td> 3.45e-08</td> <td>   -0.041</td> <td> 0.968</td> <td> -6.9e-08</td> <td> 6.62e-08</td>\n",
       "</tr>\n",
       "<tr>\n",
       "  <th>x236</th>  <td> 6.102e-05</td> <td> 2.57e-05</td> <td>    2.373</td> <td> 0.018</td> <td> 1.06e-05</td> <td>    0.000</td>\n",
       "</tr>\n",
       "<tr>\n",
       "  <th>x237</th>  <td> 8.994e-05</td> <td> 4.26e-05</td> <td>    2.109</td> <td> 0.035</td> <td> 6.36e-06</td> <td>    0.000</td>\n",
       "</tr>\n",
       "<tr>\n",
       "  <th>x238</th>  <td> 6.859e-05</td> <td> 2.63e-05</td> <td>    2.609</td> <td> 0.009</td> <td> 1.71e-05</td> <td>    0.000</td>\n",
       "</tr>\n",
       "<tr>\n",
       "  <th>x239</th>  <td>    0.0001</td> <td> 5.62e-05</td> <td>    1.924</td> <td> 0.054</td> <td>-2.05e-06</td> <td>    0.000</td>\n",
       "</tr>\n",
       "<tr>\n",
       "  <th>x240</th>  <td>-4.041e-06</td> <td> 1.34e-06</td> <td>   -3.025</td> <td> 0.002</td> <td>-6.66e-06</td> <td>-1.42e-06</td>\n",
       "</tr>\n",
       "<tr>\n",
       "  <th>x241</th>  <td>-4.039e-06</td> <td> 1.34e-06</td> <td>   -3.022</td> <td> 0.003</td> <td>-6.66e-06</td> <td>-1.42e-06</td>\n",
       "</tr>\n",
       "<tr>\n",
       "  <th>x242</th>  <td>-8.309e-06</td> <td> 2.48e-06</td> <td>   -3.349</td> <td> 0.001</td> <td>-1.32e-05</td> <td>-3.45e-06</td>\n",
       "</tr>\n",
       "<tr>\n",
       "  <th>x243</th>  <td>-2.758e-07</td> <td> 2.53e-07</td> <td>   -1.089</td> <td> 0.276</td> <td>-7.72e-07</td> <td> 2.21e-07</td>\n",
       "</tr>\n",
       "<tr>\n",
       "  <th>x244</th>  <td> 1.569e-09</td> <td> 9.34e-09</td> <td>    0.168</td> <td> 0.867</td> <td>-1.67e-08</td> <td> 1.99e-08</td>\n",
       "</tr>\n",
       "<tr>\n",
       "  <th>x245</th>  <td> 1.524e-06</td> <td> 4.51e-06</td> <td>    0.338</td> <td> 0.735</td> <td>-7.31e-06</td> <td> 1.04e-05</td>\n",
       "</tr>\n",
       "<tr>\n",
       "  <th>x246</th>  <td>-2.855e-05</td> <td> 8.74e-06</td> <td>   -3.267</td> <td> 0.001</td> <td>-4.57e-05</td> <td>-1.14e-05</td>\n",
       "</tr>\n",
       "<tr>\n",
       "  <th>x247</th>  <td> 3.983e-06</td> <td> 4.62e-06</td> <td>    0.863</td> <td> 0.388</td> <td>-5.07e-06</td> <td>  1.3e-05</td>\n",
       "</tr>\n",
       "<tr>\n",
       "  <th>x248</th>  <td>  7.11e-06</td> <td> 1.05e-05</td> <td>    0.677</td> <td> 0.498</td> <td>-1.35e-05</td> <td> 2.77e-05</td>\n",
       "</tr>\n",
       "<tr>\n",
       "  <th>x249</th>  <td> 3.516e-07</td> <td> 1.66e-07</td> <td>    2.121</td> <td> 0.034</td> <td> 2.67e-08</td> <td> 6.77e-07</td>\n",
       "</tr>\n",
       "<tr>\n",
       "  <th>x250</th>  <td> 3.532e-07</td> <td> 1.66e-07</td> <td>    2.131</td> <td> 0.033</td> <td> 2.83e-08</td> <td> 6.78e-07</td>\n",
       "</tr>\n",
       "<tr>\n",
       "  <th>x251</th>  <td>   2.6e-07</td> <td> 3.54e-07</td> <td>    0.735</td> <td> 0.462</td> <td>-4.33e-07</td> <td> 9.53e-07</td>\n",
       "</tr>\n",
       "<tr>\n",
       "  <th>x252</th>  <td>-5.111e-09</td> <td> 3.34e-08</td> <td>   -0.153</td> <td> 0.878</td> <td>-7.06e-08</td> <td> 6.03e-08</td>\n",
       "</tr>\n",
       "<tr>\n",
       "  <th>x253</th>  <td>   -0.0036</td> <td>    0.005</td> <td>   -0.738</td> <td> 0.461</td> <td>   -0.013</td> <td>    0.006</td>\n",
       "</tr>\n",
       "<tr>\n",
       "  <th>x254</th>  <td>         0</td> <td>        0</td> <td>      nan</td> <td>   nan</td> <td>        0</td> <td>        0</td>\n",
       "</tr>\n",
       "<tr>\n",
       "  <th>x255</th>  <td>         0</td> <td>        0</td> <td>      nan</td> <td>   nan</td> <td>        0</td> <td>        0</td>\n",
       "</tr>\n",
       "<tr>\n",
       "  <th>x256</th>  <td>         0</td> <td>        0</td> <td>      nan</td> <td>   nan</td> <td>        0</td> <td>        0</td>\n",
       "</tr>\n",
       "<tr>\n",
       "  <th>x257</th>  <td>   -0.0001</td> <td>    0.000</td> <td>   -0.848</td> <td> 0.397</td> <td>   -0.000</td> <td>    0.000</td>\n",
       "</tr>\n",
       "<tr>\n",
       "  <th>x258</th>  <td>   -0.0001</td> <td>    0.000</td> <td>   -0.848</td> <td> 0.397</td> <td>   -0.000</td> <td>    0.000</td>\n",
       "</tr>\n",
       "<tr>\n",
       "  <th>x259</th>  <td>    0.0004</td> <td>    0.000</td> <td>    1.476</td> <td> 0.140</td> <td>   -0.000</td> <td>    0.001</td>\n",
       "</tr>\n",
       "<tr>\n",
       "  <th>x260</th>  <td> 3.873e-06</td> <td> 2.49e-05</td> <td>    0.156</td> <td> 0.876</td> <td>-4.49e-05</td> <td> 5.26e-05</td>\n",
       "</tr>\n",
       "<tr>\n",
       "  <th>x261</th>  <td>   -0.0217</td> <td>    0.012</td> <td>   -1.800</td> <td> 0.072</td> <td>   -0.045</td> <td>    0.002</td>\n",
       "</tr>\n",
       "<tr>\n",
       "  <th>x262</th>  <td>         0</td> <td>        0</td> <td>      nan</td> <td>   nan</td> <td>        0</td> <td>        0</td>\n",
       "</tr>\n",
       "<tr>\n",
       "  <th>x263</th>  <td>         0</td> <td>        0</td> <td>      nan</td> <td>   nan</td> <td>        0</td> <td>        0</td>\n",
       "</tr>\n",
       "<tr>\n",
       "  <th>x264</th>  <td>    0.0006</td> <td>    0.000</td> <td>    1.826</td> <td> 0.068</td> <td>-4.06e-05</td> <td>    0.001</td>\n",
       "</tr>\n",
       "<tr>\n",
       "  <th>x265</th>  <td>    0.0006</td> <td>    0.000</td> <td>    1.826</td> <td> 0.068</td> <td>-4.06e-05</td> <td>    0.001</td>\n",
       "</tr>\n",
       "<tr>\n",
       "  <th>x266</th>  <td>    0.0016</td> <td>    0.001</td> <td>    2.561</td> <td> 0.010</td> <td>    0.000</td> <td>    0.003</td>\n",
       "</tr>\n",
       "<tr>\n",
       "  <th>x267</th>  <td> 1.033e-05</td> <td> 4.43e-05</td> <td>    0.233</td> <td> 0.816</td> <td>-7.65e-05</td> <td> 9.72e-05</td>\n",
       "</tr>\n",
       "<tr>\n",
       "  <th>x268</th>  <td>   -0.0056</td> <td>    0.005</td> <td>   -1.127</td> <td> 0.260</td> <td>   -0.015</td> <td>    0.004</td>\n",
       "</tr>\n",
       "<tr>\n",
       "  <th>x269</th>  <td>         0</td> <td>        0</td> <td>      nan</td> <td>   nan</td> <td>        0</td> <td>        0</td>\n",
       "</tr>\n",
       "<tr>\n",
       "  <th>x270</th>  <td>   -0.0002</td> <td>    0.000</td> <td>   -1.108</td> <td> 0.268</td> <td>   -0.000</td> <td>    0.000</td>\n",
       "</tr>\n",
       "<tr>\n",
       "  <th>x271</th>  <td>   -0.0002</td> <td>    0.000</td> <td>   -1.108</td> <td> 0.268</td> <td>   -0.000</td> <td>    0.000</td>\n",
       "</tr>\n",
       "<tr>\n",
       "  <th>x272</th>  <td>    0.0004</td> <td>    0.000</td> <td>    1.416</td> <td> 0.157</td> <td>   -0.000</td> <td>    0.001</td>\n",
       "</tr>\n",
       "<tr>\n",
       "  <th>x273</th>  <td> 1.558e-05</td> <td> 2.58e-05</td> <td>    0.605</td> <td> 0.545</td> <td>-3.49e-05</td> <td> 6.61e-05</td>\n",
       "</tr>\n",
       "<tr>\n",
       "  <th>x274</th>  <td>   -0.0480</td> <td>    0.012</td> <td>   -3.910</td> <td> 0.000</td> <td>   -0.072</td> <td>   -0.024</td>\n",
       "</tr>\n",
       "<tr>\n",
       "  <th>x275</th>  <td>    0.0009</td> <td>    0.000</td> <td>    3.168</td> <td> 0.002</td> <td>    0.000</td> <td>    0.001</td>\n",
       "</tr>\n",
       "<tr>\n",
       "  <th>x276</th>  <td>    0.0009</td> <td>    0.000</td> <td>    3.168</td> <td> 0.002</td> <td>    0.000</td> <td>    0.001</td>\n",
       "</tr>\n",
       "<tr>\n",
       "  <th>x277</th>  <td>    0.0011</td> <td>    0.001</td> <td>    1.780</td> <td> 0.075</td> <td>   -0.000</td> <td>    0.002</td>\n",
       "</tr>\n",
       "<tr>\n",
       "  <th>x278</th>  <td>    0.0002</td> <td> 5.81e-05</td> <td>    3.650</td> <td> 0.000</td> <td> 9.81e-05</td> <td>    0.000</td>\n",
       "</tr>\n",
       "<tr>\n",
       "  <th>x279</th>  <td> 4.693e-06</td> <td> 3.16e-06</td> <td>    1.484</td> <td> 0.138</td> <td>-1.51e-06</td> <td> 1.09e-05</td>\n",
       "</tr>\n",
       "<tr>\n",
       "  <th>x280</th>  <td> 4.694e-06</td> <td> 3.16e-06</td> <td>    1.484</td> <td> 0.138</td> <td>-1.51e-06</td> <td> 1.09e-05</td>\n",
       "</tr>\n",
       "<tr>\n",
       "  <th>x281</th>  <td>-1.992e-05</td> <td> 7.63e-06</td> <td>   -2.610</td> <td> 0.009</td> <td>-3.49e-05</td> <td>-4.96e-06</td>\n",
       "</tr>\n",
       "<tr>\n",
       "  <th>x282</th>  <td> -2.68e-06</td> <td> 1.35e-06</td> <td>   -1.992</td> <td> 0.046</td> <td>-5.32e-06</td> <td>-4.26e-08</td>\n",
       "</tr>\n",
       "<tr>\n",
       "  <th>x283</th>  <td> 4.694e-06</td> <td> 3.16e-06</td> <td>    1.484</td> <td> 0.138</td> <td>-1.51e-06</td> <td> 1.09e-05</td>\n",
       "</tr>\n",
       "<tr>\n",
       "  <th>x284</th>  <td>-1.992e-05</td> <td> 7.63e-06</td> <td>   -2.610</td> <td> 0.009</td> <td>-3.49e-05</td> <td>-4.96e-06</td>\n",
       "</tr>\n",
       "<tr>\n",
       "  <th>x285</th>  <td>-2.679e-06</td> <td> 1.35e-06</td> <td>   -1.991</td> <td> 0.046</td> <td>-5.32e-06</td> <td> -4.2e-08</td>\n",
       "</tr>\n",
       "<tr>\n",
       "  <th>x286</th>  <td>-4.013e-05</td> <td> 1.18e-05</td> <td>   -3.393</td> <td> 0.001</td> <td>-6.33e-05</td> <td>-1.69e-05</td>\n",
       "</tr>\n",
       "<tr>\n",
       "  <th>x287</th>  <td>-6.158e-06</td> <td> 2.46e-06</td> <td>   -2.499</td> <td> 0.012</td> <td> -1.1e-05</td> <td>-1.33e-06</td>\n",
       "</tr>\n",
       "<tr>\n",
       "  <th>x288</th>  <td>-1.651e-07</td> <td>  1.2e-07</td> <td>   -1.371</td> <td> 0.171</td> <td>-4.01e-07</td> <td>  7.1e-08</td>\n",
       "</tr>\n",
       "<tr>\n",
       "  <th>x289</th>  <td>-2.523e-08</td> <td> 3.42e-09</td> <td>   -7.382</td> <td> 0.000</td> <td>-3.19e-08</td> <td>-1.85e-08</td>\n",
       "</tr>\n",
       "<tr>\n",
       "  <th>x290</th>  <td> 7.545e-06</td> <td> 1.31e-06</td> <td>    5.765</td> <td> 0.000</td> <td> 4.98e-06</td> <td> 1.01e-05</td>\n",
       "</tr>\n",
       "<tr>\n",
       "  <th>x291</th>  <td> -1.03e-06</td> <td>  2.6e-06</td> <td>   -0.397</td> <td> 0.692</td> <td>-6.12e-06</td> <td> 4.06e-06</td>\n",
       "</tr>\n",
       "<tr>\n",
       "  <th>x292</th>  <td> 5.274e-06</td> <td> 1.33e-06</td> <td>    3.968</td> <td> 0.000</td> <td> 2.67e-06</td> <td> 7.88e-06</td>\n",
       "</tr>\n",
       "<tr>\n",
       "  <th>x293</th>  <td>-7.538e-07</td> <td> 3.91e-06</td> <td>   -0.193</td> <td> 0.847</td> <td>-8.43e-06</td> <td> 6.92e-06</td>\n",
       "</tr>\n",
       "<tr>\n",
       "  <th>x294</th>  <td> 1.501e-08</td> <td>    3e-08</td> <td>    0.501</td> <td> 0.616</td> <td>-4.37e-08</td> <td> 7.38e-08</td>\n",
       "</tr>\n",
       "<tr>\n",
       "  <th>x295</th>  <td>  6.99e-09</td> <td>    3e-08</td> <td>    0.233</td> <td> 0.816</td> <td>-5.18e-08</td> <td> 6.58e-08</td>\n",
       "</tr>\n",
       "<tr>\n",
       "  <th>x296</th>  <td>-6.369e-08</td> <td>  6.6e-08</td> <td>   -0.965</td> <td> 0.335</td> <td>-1.93e-07</td> <td> 6.57e-08</td>\n",
       "</tr>\n",
       "<tr>\n",
       "  <th>x297</th>  <td> -1.39e-08</td> <td> 4.48e-09</td> <td>   -3.100</td> <td> 0.002</td> <td>-2.27e-08</td> <td>-5.11e-09</td>\n",
       "</tr>\n",
       "<tr>\n",
       "  <th>x298</th>  <td>   -0.0008</td> <td>    0.001</td> <td>   -1.403</td> <td> 0.161</td> <td>   -0.002</td> <td>    0.000</td>\n",
       "</tr>\n",
       "<tr>\n",
       "  <th>x299</th>  <td>         0</td> <td>        0</td> <td>      nan</td> <td>   nan</td> <td>        0</td> <td>        0</td>\n",
       "</tr>\n",
       "<tr>\n",
       "  <th>x300</th>  <td>         0</td> <td>        0</td> <td>      nan</td> <td>   nan</td> <td>        0</td> <td>        0</td>\n",
       "</tr>\n",
       "<tr>\n",
       "  <th>x301</th>  <td>         0</td> <td>        0</td> <td>      nan</td> <td>   nan</td> <td>        0</td> <td>        0</td>\n",
       "</tr>\n",
       "<tr>\n",
       "  <th>x302</th>  <td>-3.596e-05</td> <td> 1.44e-05</td> <td>   -2.489</td> <td> 0.013</td> <td>-6.43e-05</td> <td>-7.64e-06</td>\n",
       "</tr>\n",
       "<tr>\n",
       "  <th>x303</th>  <td>-3.596e-05</td> <td> 1.44e-05</td> <td>   -2.489</td> <td> 0.013</td> <td>-6.43e-05</td> <td>-7.64e-06</td>\n",
       "</tr>\n",
       "<tr>\n",
       "  <th>x304</th>  <td>  6.23e-07</td> <td> 3.78e-05</td> <td>    0.016</td> <td> 0.987</td> <td>-7.35e-05</td> <td> 7.47e-05</td>\n",
       "</tr>\n",
       "<tr>\n",
       "  <th>x305</th>  <td>-1.862e-06</td> <td> 2.17e-06</td> <td>   -0.859</td> <td> 0.390</td> <td>-6.11e-06</td> <td> 2.39e-06</td>\n",
       "</tr>\n",
       "<tr>\n",
       "  <th>x306</th>  <td>   -0.0002</td> <td>    0.001</td> <td>   -0.147</td> <td> 0.883</td> <td>   -0.003</td> <td>    0.002</td>\n",
       "</tr>\n",
       "<tr>\n",
       "  <th>x307</th>  <td>         0</td> <td>        0</td> <td>      nan</td> <td>   nan</td> <td>        0</td> <td>        0</td>\n",
       "</tr>\n",
       "<tr>\n",
       "  <th>x308</th>  <td>         0</td> <td>        0</td> <td>      nan</td> <td>   nan</td> <td>        0</td> <td>        0</td>\n",
       "</tr>\n",
       "<tr>\n",
       "  <th>x309</th>  <td>-1.588e-05</td> <td> 3.01e-05</td> <td>   -0.528</td> <td> 0.598</td> <td>-7.49e-05</td> <td> 4.31e-05</td>\n",
       "</tr>\n",
       "<tr>\n",
       "  <th>x310</th>  <td>-1.588e-05</td> <td> 3.01e-05</td> <td>   -0.528</td> <td> 0.598</td> <td>-7.49e-05</td> <td> 4.31e-05</td>\n",
       "</tr>\n",
       "<tr>\n",
       "  <th>x311</th>  <td> 8.102e-05</td> <td> 6.74e-05</td> <td>    1.201</td> <td> 0.230</td> <td>-5.12e-05</td> <td>    0.000</td>\n",
       "</tr>\n",
       "<tr>\n",
       "  <th>x312</th>  <td> 5.309e-06</td> <td> 4.66e-06</td> <td>    1.138</td> <td> 0.255</td> <td>-3.83e-06</td> <td> 1.45e-05</td>\n",
       "</tr>\n",
       "<tr>\n",
       "  <th>x313</th>  <td>    0.0004</td> <td>    0.001</td> <td>    0.627</td> <td> 0.531</td> <td>   -0.001</td> <td>    0.002</td>\n",
       "</tr>\n",
       "<tr>\n",
       "  <th>x314</th>  <td>         0</td> <td>        0</td> <td>      nan</td> <td>   nan</td> <td>        0</td> <td>        0</td>\n",
       "</tr>\n",
       "<tr>\n",
       "  <th>x315</th>  <td>-4.601e-05</td> <td> 1.48e-05</td> <td>   -3.110</td> <td> 0.002</td> <td> -7.5e-05</td> <td> -1.7e-05</td>\n",
       "</tr>\n",
       "<tr>\n",
       "  <th>x316</th>  <td>-4.601e-05</td> <td> 1.48e-05</td> <td>   -3.110</td> <td> 0.002</td> <td> -7.5e-05</td> <td> -1.7e-05</td>\n",
       "</tr>\n",
       "<tr>\n",
       "  <th>x317</th>  <td>-2.222e-05</td> <td> 3.87e-05</td> <td>   -0.574</td> <td> 0.566</td> <td> -9.8e-05</td> <td> 5.36e-05</td>\n",
       "</tr>\n",
       "<tr>\n",
       "  <th>x318</th>  <td>-2.583e-06</td> <td> 2.22e-06</td> <td>   -1.163</td> <td> 0.245</td> <td>-6.94e-06</td> <td> 1.77e-06</td>\n",
       "</tr>\n",
       "<tr>\n",
       "  <th>x319</th>  <td>    0.0018</td> <td>    0.002</td> <td>    1.077</td> <td> 0.281</td> <td>   -0.001</td> <td>    0.005</td>\n",
       "</tr>\n",
       "<tr>\n",
       "  <th>x320</th>  <td>  3.43e-05</td> <td> 3.76e-05</td> <td>    0.911</td> <td> 0.362</td> <td>-3.95e-05</td> <td>    0.000</td>\n",
       "</tr>\n",
       "<tr>\n",
       "  <th>x321</th>  <td>  3.43e-05</td> <td> 3.76e-05</td> <td>    0.911</td> <td> 0.362</td> <td>-3.95e-05</td> <td>    0.000</td>\n",
       "</tr>\n",
       "<tr>\n",
       "  <th>x322</th>  <td>   -0.0002</td> <td>    0.000</td> <td>   -1.536</td> <td> 0.124</td> <td>   -0.000</td> <td> 4.27e-05</td>\n",
       "</tr>\n",
       "<tr>\n",
       "  <th>x323</th>  <td> 1.965e-06</td> <td> 4.44e-06</td> <td>    0.443</td> <td> 0.658</td> <td>-6.73e-06</td> <td> 1.07e-05</td>\n",
       "</tr>\n",
       "<tr>\n",
       "  <th>x324</th>  <td> 4.528e-07</td> <td> 3.29e-07</td> <td>    1.376</td> <td> 0.169</td> <td>-1.92e-07</td> <td>  1.1e-06</td>\n",
       "</tr>\n",
       "<tr>\n",
       "  <th>x325</th>  <td> 4.537e-07</td> <td> 3.29e-07</td> <td>    1.378</td> <td> 0.168</td> <td>-1.91e-07</td> <td>  1.1e-06</td>\n",
       "</tr>\n",
       "<tr>\n",
       "  <th>x326</th>  <td> 9.447e-07</td> <td> 8.72e-07</td> <td>    1.084</td> <td> 0.278</td> <td>-7.64e-07</td> <td> 2.65e-06</td>\n",
       "</tr>\n",
       "<tr>\n",
       "  <th>x327</th>  <td> 1.558e-07</td> <td> 1.05e-07</td> <td>    1.479</td> <td> 0.139</td> <td>-5.06e-08</td> <td> 3.62e-07</td>\n",
       "</tr>\n",
       "<tr>\n",
       "  <th>x328</th>  <td> 4.537e-07</td> <td> 3.29e-07</td> <td>    1.378</td> <td> 0.168</td> <td>-1.91e-07</td> <td>  1.1e-06</td>\n",
       "</tr>\n",
       "<tr>\n",
       "  <th>x329</th>  <td> 9.443e-07</td> <td> 8.72e-07</td> <td>    1.083</td> <td> 0.279</td> <td>-7.64e-07</td> <td> 2.65e-06</td>\n",
       "</tr>\n",
       "<tr>\n",
       "  <th>x330</th>  <td> 1.572e-07</td> <td> 1.05e-07</td> <td>    1.493</td> <td> 0.135</td> <td>-4.92e-08</td> <td> 3.63e-07</td>\n",
       "</tr>\n",
       "<tr>\n",
       "  <th>x331</th>  <td> 5.938e-07</td> <td> 1.47e-06</td> <td>    0.403</td> <td> 0.687</td> <td> -2.3e-06</td> <td> 3.48e-06</td>\n",
       "</tr>\n",
       "<tr>\n",
       "  <th>x332</th>  <td> 2.807e-07</td> <td> 2.39e-07</td> <td>    1.175</td> <td> 0.240</td> <td>-1.88e-07</td> <td> 7.49e-07</td>\n",
       "</tr>\n",
       "<tr>\n",
       "  <th>x333</th>  <td>-4.721e-09</td> <td> 6.82e-09</td> <td>   -0.692</td> <td> 0.489</td> <td>-1.81e-08</td> <td> 8.65e-09</td>\n",
       "</tr>\n",
       "<tr>\n",
       "  <th>x334</th>  <td>    3.5053</td> <td>    0.998</td> <td>    3.513</td> <td> 0.000</td> <td>    1.550</td> <td>    5.461</td>\n",
       "</tr>\n",
       "<tr>\n",
       "  <th>x335</th>  <td>         0</td> <td>        0</td> <td>      nan</td> <td>   nan</td> <td>        0</td> <td>        0</td>\n",
       "</tr>\n",
       "<tr>\n",
       "  <th>x336</th>  <td>         0</td> <td>        0</td> <td>      nan</td> <td>   nan</td> <td>        0</td> <td>        0</td>\n",
       "</tr>\n",
       "<tr>\n",
       "  <th>x337</th>  <td>         0</td> <td>        0</td> <td>      nan</td> <td>   nan</td> <td>        0</td> <td>        0</td>\n",
       "</tr>\n",
       "<tr>\n",
       "  <th>x338</th>  <td>   -0.0323</td> <td>    0.012</td> <td>   -2.712</td> <td> 0.007</td> <td>   -0.056</td> <td>   -0.009</td>\n",
       "</tr>\n",
       "<tr>\n",
       "  <th>x339</th>  <td>   -0.0323</td> <td>    0.012</td> <td>   -2.712</td> <td> 0.007</td> <td>   -0.056</td> <td>   -0.009</td>\n",
       "</tr>\n",
       "<tr>\n",
       "  <th>x340</th>  <td>    0.0019</td> <td>    0.044</td> <td>    0.044</td> <td> 0.965</td> <td>   -0.084</td> <td>    0.088</td>\n",
       "</tr>\n",
       "<tr>\n",
       "  <th>x341</th>  <td>   -0.0086</td> <td>    0.003</td> <td>   -2.821</td> <td> 0.005</td> <td>   -0.015</td> <td>   -0.003</td>\n",
       "</tr>\n",
       "<tr>\n",
       "  <th>x342</th>  <td>         0</td> <td>        0</td> <td>      nan</td> <td>   nan</td> <td>        0</td> <td>        0</td>\n",
       "</tr>\n",
       "<tr>\n",
       "  <th>x343</th>  <td>         0</td> <td>        0</td> <td>      nan</td> <td>   nan</td> <td>        0</td> <td>        0</td>\n",
       "</tr>\n",
       "<tr>\n",
       "  <th>x344</th>  <td>         0</td> <td>        0</td> <td>      nan</td> <td>   nan</td> <td>        0</td> <td>        0</td>\n",
       "</tr>\n",
       "<tr>\n",
       "  <th>x345</th>  <td>         0</td> <td>        0</td> <td>      nan</td> <td>   nan</td> <td>        0</td> <td>        0</td>\n",
       "</tr>\n",
       "<tr>\n",
       "  <th>x346</th>  <td>         0</td> <td>        0</td> <td>      nan</td> <td>   nan</td> <td>        0</td> <td>        0</td>\n",
       "</tr>\n",
       "<tr>\n",
       "  <th>x347</th>  <td>         0</td> <td>        0</td> <td>      nan</td> <td>   nan</td> <td>        0</td> <td>        0</td>\n",
       "</tr>\n",
       "<tr>\n",
       "  <th>x348</th>  <td>         0</td> <td>        0</td> <td>      nan</td> <td>   nan</td> <td>        0</td> <td>        0</td>\n",
       "</tr>\n",
       "<tr>\n",
       "  <th>x349</th>  <td>         0</td> <td>        0</td> <td>      nan</td> <td>   nan</td> <td>        0</td> <td>        0</td>\n",
       "</tr>\n",
       "<tr>\n",
       "  <th>x350</th>  <td>         0</td> <td>        0</td> <td>      nan</td> <td>   nan</td> <td>        0</td> <td>        0</td>\n",
       "</tr>\n",
       "<tr>\n",
       "  <th>x351</th>  <td>         0</td> <td>        0</td> <td>      nan</td> <td>   nan</td> <td>        0</td> <td>        0</td>\n",
       "</tr>\n",
       "<tr>\n",
       "  <th>x352</th>  <td>         0</td> <td>        0</td> <td>      nan</td> <td>   nan</td> <td>        0</td> <td>        0</td>\n",
       "</tr>\n",
       "<tr>\n",
       "  <th>x353</th>  <td>         0</td> <td>        0</td> <td>      nan</td> <td>   nan</td> <td>        0</td> <td>        0</td>\n",
       "</tr>\n",
       "<tr>\n",
       "  <th>x354</th>  <td>         0</td> <td>        0</td> <td>      nan</td> <td>   nan</td> <td>        0</td> <td>        0</td>\n",
       "</tr>\n",
       "<tr>\n",
       "  <th>x355</th>  <td>         0</td> <td>        0</td> <td>      nan</td> <td>   nan</td> <td>        0</td> <td>        0</td>\n",
       "</tr>\n",
       "<tr>\n",
       "  <th>x356</th>  <td>         0</td> <td>        0</td> <td>      nan</td> <td>   nan</td> <td>        0</td> <td>        0</td>\n",
       "</tr>\n",
       "<tr>\n",
       "  <th>x357</th>  <td>         0</td> <td>        0</td> <td>      nan</td> <td>   nan</td> <td>        0</td> <td>        0</td>\n",
       "</tr>\n",
       "<tr>\n",
       "  <th>x358</th>  <td>         0</td> <td>        0</td> <td>      nan</td> <td>   nan</td> <td>        0</td> <td>        0</td>\n",
       "</tr>\n",
       "<tr>\n",
       "  <th>x359</th>  <td>         0</td> <td>        0</td> <td>      nan</td> <td>   nan</td> <td>        0</td> <td>        0</td>\n",
       "</tr>\n",
       "<tr>\n",
       "  <th>x360</th>  <td>   -0.0002</td> <td>    0.000</td> <td>   -0.746</td> <td> 0.456</td> <td>   -0.001</td> <td>    0.000</td>\n",
       "</tr>\n",
       "<tr>\n",
       "  <th>x361</th>  <td>   -0.0002</td> <td>    0.000</td> <td>   -0.746</td> <td> 0.456</td> <td>   -0.001</td> <td>    0.000</td>\n",
       "</tr>\n",
       "<tr>\n",
       "  <th>x362</th>  <td>    0.0007</td> <td>    0.001</td> <td>    1.170</td> <td> 0.242</td> <td>   -0.000</td> <td>    0.002</td>\n",
       "</tr>\n",
       "<tr>\n",
       "  <th>x363</th>  <td>    0.0005</td> <td> 7.66e-05</td> <td>    6.227</td> <td> 0.000</td> <td>    0.000</td> <td>    0.001</td>\n",
       "</tr>\n",
       "<tr>\n",
       "  <th>x364</th>  <td>   -0.0002</td> <td>    0.000</td> <td>   -0.746</td> <td> 0.456</td> <td>   -0.001</td> <td>    0.000</td>\n",
       "</tr>\n",
       "<tr>\n",
       "  <th>x365</th>  <td>    0.0007</td> <td>    0.001</td> <td>    1.170</td> <td> 0.242</td> <td>   -0.000</td> <td>    0.002</td>\n",
       "</tr>\n",
       "<tr>\n",
       "  <th>x366</th>  <td>    0.0005</td> <td> 7.66e-05</td> <td>    6.227</td> <td> 0.000</td> <td>    0.000</td> <td>    0.001</td>\n",
       "</tr>\n",
       "<tr>\n",
       "  <th>x367</th>  <td>   -0.0007</td> <td>    0.001</td> <td>   -0.545</td> <td> 0.586</td> <td>   -0.003</td> <td>    0.002</td>\n",
       "</tr>\n",
       "<tr>\n",
       "  <th>x368</th>  <td>    0.0002</td> <td>    0.000</td> <td>    1.158</td> <td> 0.247</td> <td>   -0.000</td> <td>    0.001</td>\n",
       "</tr>\n",
       "<tr>\n",
       "  <th>x369</th>  <td>  2.21e-05</td> <td> 6.94e-06</td> <td>    3.184</td> <td> 0.001</td> <td> 8.49e-06</td> <td> 3.57e-05</td>\n",
       "</tr>\n",
       "<tr>\n",
       "  <th>x370</th>  <td>    1.2508</td> <td>    1.454</td> <td>    0.860</td> <td> 0.390</td> <td>   -1.599</td> <td>    4.100</td>\n",
       "</tr>\n",
       "<tr>\n",
       "  <th>x371</th>  <td>         0</td> <td>        0</td> <td>      nan</td> <td>   nan</td> <td>        0</td> <td>        0</td>\n",
       "</tr>\n",
       "<tr>\n",
       "  <th>x372</th>  <td>         0</td> <td>        0</td> <td>      nan</td> <td>   nan</td> <td>        0</td> <td>        0</td>\n",
       "</tr>\n",
       "<tr>\n",
       "  <th>x373</th>  <td>   -0.0054</td> <td>    0.027</td> <td>   -0.201</td> <td> 0.840</td> <td>   -0.058</td> <td>    0.047</td>\n",
       "</tr>\n",
       "<tr>\n",
       "  <th>x374</th>  <td>   -0.0054</td> <td>    0.027</td> <td>   -0.201</td> <td> 0.840</td> <td>   -0.058</td> <td>    0.047</td>\n",
       "</tr>\n",
       "<tr>\n",
       "  <th>x375</th>  <td>    0.1546</td> <td>    0.081</td> <td>    1.907</td> <td> 0.057</td> <td>   -0.004</td> <td>    0.314</td>\n",
       "</tr>\n",
       "<tr>\n",
       "  <th>x376</th>  <td>    0.0133</td> <td>    0.006</td> <td>    2.056</td> <td> 0.040</td> <td>    0.001</td> <td>    0.026</td>\n",
       "</tr>\n",
       "<tr>\n",
       "  <th>x377</th>  <td>         0</td> <td>        0</td> <td>      nan</td> <td>   nan</td> <td>        0</td> <td>        0</td>\n",
       "</tr>\n",
       "<tr>\n",
       "  <th>x378</th>  <td>         0</td> <td>        0</td> <td>      nan</td> <td>   nan</td> <td>        0</td> <td>        0</td>\n",
       "</tr>\n",
       "<tr>\n",
       "  <th>x379</th>  <td>         0</td> <td>        0</td> <td>      nan</td> <td>   nan</td> <td>        0</td> <td>        0</td>\n",
       "</tr>\n",
       "<tr>\n",
       "  <th>x380</th>  <td>         0</td> <td>        0</td> <td>      nan</td> <td>   nan</td> <td>        0</td> <td>        0</td>\n",
       "</tr>\n",
       "<tr>\n",
       "  <th>x381</th>  <td>         0</td> <td>        0</td> <td>      nan</td> <td>   nan</td> <td>        0</td> <td>        0</td>\n",
       "</tr>\n",
       "<tr>\n",
       "  <th>x382</th>  <td>         0</td> <td>        0</td> <td>      nan</td> <td>   nan</td> <td>        0</td> <td>        0</td>\n",
       "</tr>\n",
       "<tr>\n",
       "  <th>x383</th>  <td>         0</td> <td>        0</td> <td>      nan</td> <td>   nan</td> <td>        0</td> <td>        0</td>\n",
       "</tr>\n",
       "<tr>\n",
       "  <th>x384</th>  <td>         0</td> <td>        0</td> <td>      nan</td> <td>   nan</td> <td>        0</td> <td>        0</td>\n",
       "</tr>\n",
       "<tr>\n",
       "  <th>x385</th>  <td>         0</td> <td>        0</td> <td>      nan</td> <td>   nan</td> <td>        0</td> <td>        0</td>\n",
       "</tr>\n",
       "<tr>\n",
       "  <th>x386</th>  <td>         0</td> <td>        0</td> <td>      nan</td> <td>   nan</td> <td>        0</td> <td>        0</td>\n",
       "</tr>\n",
       "<tr>\n",
       "  <th>x387</th>  <td>         0</td> <td>        0</td> <td>      nan</td> <td>   nan</td> <td>        0</td> <td>        0</td>\n",
       "</tr>\n",
       "<tr>\n",
       "  <th>x388</th>  <td>    0.0005</td> <td>    0.000</td> <td>    0.993</td> <td> 0.321</td> <td>   -0.000</td> <td>    0.001</td>\n",
       "</tr>\n",
       "<tr>\n",
       "  <th>x389</th>  <td>    0.0005</td> <td>    0.000</td> <td>    0.993</td> <td> 0.321</td> <td>   -0.000</td> <td>    0.001</td>\n",
       "</tr>\n",
       "<tr>\n",
       "  <th>x390</th>  <td>    0.0010</td> <td>    0.001</td> <td>    0.759</td> <td> 0.448</td> <td>   -0.002</td> <td>    0.003</td>\n",
       "</tr>\n",
       "<tr>\n",
       "  <th>x391</th>  <td>-9.701e-05</td> <td>    0.000</td> <td>   -0.565</td> <td> 0.572</td> <td>   -0.000</td> <td>    0.000</td>\n",
       "</tr>\n",
       "<tr>\n",
       "  <th>x392</th>  <td>    0.0005</td> <td>    0.000</td> <td>    0.993</td> <td> 0.321</td> <td>   -0.000</td> <td>    0.001</td>\n",
       "</tr>\n",
       "<tr>\n",
       "  <th>x393</th>  <td>    0.0010</td> <td>    0.001</td> <td>    0.759</td> <td> 0.448</td> <td>   -0.002</td> <td>    0.003</td>\n",
       "</tr>\n",
       "<tr>\n",
       "  <th>x394</th>  <td>-9.701e-05</td> <td>    0.000</td> <td>   -0.565</td> <td> 0.572</td> <td>   -0.000</td> <td>    0.000</td>\n",
       "</tr>\n",
       "<tr>\n",
       "  <th>x395</th>  <td>   -0.0044</td> <td>    0.002</td> <td>   -2.034</td> <td> 0.042</td> <td>   -0.009</td> <td>   -0.000</td>\n",
       "</tr>\n",
       "<tr>\n",
       "  <th>x396</th>  <td>   -0.0011</td> <td>    0.000</td> <td>   -2.553</td> <td> 0.011</td> <td>   -0.002</td> <td>   -0.000</td>\n",
       "</tr>\n",
       "<tr>\n",
       "  <th>x397</th>  <td> 2.426e-06</td> <td> 1.15e-05</td> <td>    0.210</td> <td> 0.834</td> <td>-2.02e-05</td> <td> 2.51e-05</td>\n",
       "</tr>\n",
       "<tr>\n",
       "  <th>x398</th>  <td>    3.8292</td> <td>    0.985</td> <td>    3.887</td> <td> 0.000</td> <td>    1.898</td> <td>    5.760</td>\n",
       "</tr>\n",
       "<tr>\n",
       "  <th>x399</th>  <td>         0</td> <td>        0</td> <td>      nan</td> <td>   nan</td> <td>        0</td> <td>        0</td>\n",
       "</tr>\n",
       "<tr>\n",
       "  <th>x400</th>  <td>   -0.0147</td> <td>    0.012</td> <td>   -1.226</td> <td> 0.220</td> <td>   -0.038</td> <td>    0.009</td>\n",
       "</tr>\n",
       "<tr>\n",
       "  <th>x401</th>  <td>   -0.0147</td> <td>    0.012</td> <td>   -1.226</td> <td> 0.220</td> <td>   -0.038</td> <td>    0.009</td>\n",
       "</tr>\n",
       "<tr>\n",
       "  <th>x402</th>  <td>   -0.0391</td> <td>    0.043</td> <td>   -0.913</td> <td> 0.361</td> <td>   -0.123</td> <td>    0.045</td>\n",
       "</tr>\n",
       "<tr>\n",
       "  <th>x403</th>  <td>   -0.0139</td> <td>    0.003</td> <td>   -4.583</td> <td> 0.000</td> <td>   -0.020</td> <td>   -0.008</td>\n",
       "</tr>\n",
       "<tr>\n",
       "  <th>x404</th>  <td>         0</td> <td>        0</td> <td>      nan</td> <td>   nan</td> <td>        0</td> <td>        0</td>\n",
       "</tr>\n",
       "<tr>\n",
       "  <th>x405</th>  <td>         0</td> <td>        0</td> <td>      nan</td> <td>   nan</td> <td>        0</td> <td>        0</td>\n",
       "</tr>\n",
       "<tr>\n",
       "  <th>x406</th>  <td>         0</td> <td>        0</td> <td>      nan</td> <td>   nan</td> <td>        0</td> <td>        0</td>\n",
       "</tr>\n",
       "<tr>\n",
       "  <th>x407</th>  <td>         0</td> <td>        0</td> <td>      nan</td> <td>   nan</td> <td>        0</td> <td>        0</td>\n",
       "</tr>\n",
       "<tr>\n",
       "  <th>x408</th>  <td>         0</td> <td>        0</td> <td>      nan</td> <td>   nan</td> <td>        0</td> <td>        0</td>\n",
       "</tr>\n",
       "<tr>\n",
       "  <th>x409</th>  <td>   -0.0005</td> <td>    0.000</td> <td>   -2.082</td> <td> 0.037</td> <td>   -0.001</td> <td>-3.17e-05</td>\n",
       "</tr>\n",
       "<tr>\n",
       "  <th>x410</th>  <td>   -0.0005</td> <td>    0.000</td> <td>   -2.082</td> <td> 0.037</td> <td>   -0.001</td> <td>-3.17e-05</td>\n",
       "</tr>\n",
       "<tr>\n",
       "  <th>x411</th>  <td>   -0.0005</td> <td>    0.001</td> <td>   -0.762</td> <td> 0.446</td> <td>   -0.002</td> <td>    0.001</td>\n",
       "</tr>\n",
       "<tr>\n",
       "  <th>x412</th>  <td>    0.0005</td> <td> 7.77e-05</td> <td>    6.935</td> <td> 0.000</td> <td>    0.000</td> <td>    0.001</td>\n",
       "</tr>\n",
       "<tr>\n",
       "  <th>x413</th>  <td>   -0.0005</td> <td>    0.000</td> <td>   -2.082</td> <td> 0.037</td> <td>   -0.001</td> <td>-3.17e-05</td>\n",
       "</tr>\n",
       "<tr>\n",
       "  <th>x414</th>  <td>   -0.0005</td> <td>    0.001</td> <td>   -0.762</td> <td> 0.446</td> <td>   -0.002</td> <td>    0.001</td>\n",
       "</tr>\n",
       "<tr>\n",
       "  <th>x415</th>  <td>    0.0005</td> <td> 7.77e-05</td> <td>    6.935</td> <td> 0.000</td> <td>    0.000</td> <td>    0.001</td>\n",
       "</tr>\n",
       "<tr>\n",
       "  <th>x416</th>  <td>-2.258e-05</td> <td>    0.001</td> <td>   -0.017</td> <td> 0.986</td> <td>   -0.003</td> <td>    0.003</td>\n",
       "</tr>\n",
       "<tr>\n",
       "  <th>x417</th>  <td>    0.0007</td> <td>    0.000</td> <td>    3.390</td> <td> 0.001</td> <td>    0.000</td> <td>    0.001</td>\n",
       "</tr>\n",
       "<tr>\n",
       "  <th>x418</th>  <td> 1.851e-05</td> <td> 7.04e-06</td> <td>    2.630</td> <td> 0.009</td> <td> 4.71e-06</td> <td> 3.23e-05</td>\n",
       "</tr>\n",
       "<tr>\n",
       "  <th>x419</th>  <td>    6.0146</td> <td>    1.539</td> <td>    3.908</td> <td> 0.000</td> <td>    2.998</td> <td>    9.031</td>\n",
       "</tr>\n",
       "<tr>\n",
       "  <th>x420</th>  <td>    0.0023</td> <td>    0.028</td> <td>    0.083</td> <td> 0.934</td> <td>   -0.053</td> <td>    0.057</td>\n",
       "</tr>\n",
       "<tr>\n",
       "  <th>x421</th>  <td>    0.0023</td> <td>    0.028</td> <td>    0.083</td> <td> 0.934</td> <td>   -0.053</td> <td>    0.057</td>\n",
       "</tr>\n",
       "<tr>\n",
       "  <th>x422</th>  <td>   -0.2494</td> <td>    0.090</td> <td>   -2.780</td> <td> 0.005</td> <td>   -0.425</td> <td>   -0.074</td>\n",
       "</tr>\n",
       "<tr>\n",
       "  <th>x423</th>  <td>   -0.0106</td> <td>    0.006</td> <td>   -1.718</td> <td> 0.086</td> <td>   -0.023</td> <td>    0.001</td>\n",
       "</tr>\n",
       "<tr>\n",
       "  <th>x424</th>  <td>   -0.0015</td> <td>    0.001</td> <td>   -2.615</td> <td> 0.009</td> <td>   -0.003</td> <td>   -0.000</td>\n",
       "</tr>\n",
       "<tr>\n",
       "  <th>x425</th>  <td>   -0.0015</td> <td>    0.001</td> <td>   -2.615</td> <td> 0.009</td> <td>   -0.003</td> <td>   -0.000</td>\n",
       "</tr>\n",
       "<tr>\n",
       "  <th>x426</th>  <td>    0.0015</td> <td>    0.001</td> <td>    1.183</td> <td> 0.237</td> <td>   -0.001</td> <td>    0.004</td>\n",
       "</tr>\n",
       "<tr>\n",
       "  <th>x427</th>  <td>   -0.0001</td> <td>    0.000</td> <td>   -0.762</td> <td> 0.446</td> <td>   -0.000</td> <td>    0.000</td>\n",
       "</tr>\n",
       "<tr>\n",
       "  <th>x428</th>  <td>   -0.0015</td> <td>    0.001</td> <td>   -2.615</td> <td> 0.009</td> <td>   -0.003</td> <td>   -0.000</td>\n",
       "</tr>\n",
       "<tr>\n",
       "  <th>x429</th>  <td>    0.0015</td> <td>    0.001</td> <td>    1.183</td> <td> 0.237</td> <td>   -0.001</td> <td>    0.004</td>\n",
       "</tr>\n",
       "<tr>\n",
       "  <th>x430</th>  <td>   -0.0001</td> <td>    0.000</td> <td>   -0.762</td> <td> 0.446</td> <td>   -0.000</td> <td>    0.000</td>\n",
       "</tr>\n",
       "<tr>\n",
       "  <th>x431</th>  <td>    0.0078</td> <td>    0.003</td> <td>    3.109</td> <td> 0.002</td> <td>    0.003</td> <td>    0.013</td>\n",
       "</tr>\n",
       "<tr>\n",
       "  <th>x432</th>  <td>    0.0006</td> <td>    0.000</td> <td>    1.548</td> <td> 0.122</td> <td>   -0.000</td> <td>    0.001</td>\n",
       "</tr>\n",
       "<tr>\n",
       "  <th>x433</th>  <td> -8.35e-06</td> <td> 1.27e-05</td> <td>   -0.656</td> <td> 0.512</td> <td>-3.33e-05</td> <td> 1.66e-05</td>\n",
       "</tr>\n",
       "<tr>\n",
       "  <th>x434</th>  <td> 5.162e-05</td> <td> 7.41e-06</td> <td>    6.962</td> <td> 0.000</td> <td> 3.71e-05</td> <td> 6.62e-05</td>\n",
       "</tr>\n",
       "<tr>\n",
       "  <th>x435</th>  <td> 5.162e-05</td> <td> 7.41e-06</td> <td>    6.962</td> <td> 0.000</td> <td> 3.71e-05</td> <td> 6.62e-05</td>\n",
       "</tr>\n",
       "<tr>\n",
       "  <th>x436</th>  <td> 6.274e-05</td> <td> 2.05e-05</td> <td>    3.054</td> <td> 0.002</td> <td> 2.25e-05</td> <td>    0.000</td>\n",
       "</tr>\n",
       "<tr>\n",
       "  <th>x437</th>  <td>-1.136e-05</td> <td> 2.29e-06</td> <td>   -4.952</td> <td> 0.000</td> <td>-1.59e-05</td> <td>-6.86e-06</td>\n",
       "</tr>\n",
       "<tr>\n",
       "  <th>x438</th>  <td> 5.162e-05</td> <td> 7.41e-06</td> <td>    6.962</td> <td> 0.000</td> <td> 3.71e-05</td> <td> 6.62e-05</td>\n",
       "</tr>\n",
       "<tr>\n",
       "  <th>x439</th>  <td> 6.274e-05</td> <td> 2.05e-05</td> <td>    3.054</td> <td> 0.002</td> <td> 2.25e-05</td> <td>    0.000</td>\n",
       "</tr>\n",
       "<tr>\n",
       "  <th>x440</th>  <td>-1.136e-05</td> <td> 2.29e-06</td> <td>   -4.951</td> <td> 0.000</td> <td>-1.59e-05</td> <td>-6.86e-06</td>\n",
       "</tr>\n",
       "<tr>\n",
       "  <th>x441</th>  <td>-5.737e-05</td> <td> 3.43e-05</td> <td>   -1.671</td> <td> 0.095</td> <td>   -0.000</td> <td> 9.91e-06</td>\n",
       "</tr>\n",
       "<tr>\n",
       "  <th>x442</th>  <td>-2.012e-05</td> <td> 4.35e-06</td> <td>   -4.623</td> <td> 0.000</td> <td>-2.86e-05</td> <td>-1.16e-05</td>\n",
       "</tr>\n",
       "<tr>\n",
       "  <th>x443</th>  <td>-8.664e-07</td> <td> 3.86e-07</td> <td>   -2.247</td> <td> 0.025</td> <td>-1.62e-06</td> <td>-1.11e-07</td>\n",
       "</tr>\n",
       "<tr>\n",
       "  <th>x444</th>  <td> 5.162e-05</td> <td> 7.41e-06</td> <td>    6.962</td> <td> 0.000</td> <td> 3.71e-05</td> <td> 6.62e-05</td>\n",
       "</tr>\n",
       "<tr>\n",
       "  <th>x445</th>  <td> 6.274e-05</td> <td> 2.05e-05</td> <td>    3.054</td> <td> 0.002</td> <td> 2.25e-05</td> <td>    0.000</td>\n",
       "</tr>\n",
       "<tr>\n",
       "  <th>x446</th>  <td>-1.136e-05</td> <td> 2.29e-06</td> <td>   -4.951</td> <td> 0.000</td> <td>-1.59e-05</td> <td>-6.86e-06</td>\n",
       "</tr>\n",
       "<tr>\n",
       "  <th>x447</th>  <td>-5.737e-05</td> <td> 3.43e-05</td> <td>   -1.671</td> <td> 0.095</td> <td>   -0.000</td> <td> 9.91e-06</td>\n",
       "</tr>\n",
       "<tr>\n",
       "  <th>x448</th>  <td>-2.012e-05</td> <td> 4.35e-06</td> <td>   -4.623</td> <td> 0.000</td> <td>-2.86e-05</td> <td>-1.16e-05</td>\n",
       "</tr>\n",
       "<tr>\n",
       "  <th>x449</th>  <td>-8.682e-07</td> <td> 3.85e-07</td> <td>   -2.252</td> <td> 0.024</td> <td>-1.62e-06</td> <td>-1.13e-07</td>\n",
       "</tr>\n",
       "<tr>\n",
       "  <th>x450</th>  <td> -4.25e-05</td> <td> 4.87e-05</td> <td>   -0.873</td> <td> 0.383</td> <td>   -0.000</td> <td> 5.29e-05</td>\n",
       "</tr>\n",
       "<tr>\n",
       "  <th>x451</th>  <td> 1.205e-05</td> <td>  1.1e-05</td> <td>    1.091</td> <td> 0.275</td> <td> -9.6e-06</td> <td> 3.37e-05</td>\n",
       "</tr>\n",
       "<tr>\n",
       "  <th>x452</th>  <td>-1.472e-06</td> <td> 6.08e-07</td> <td>   -2.421</td> <td> 0.015</td> <td>-2.66e-06</td> <td> -2.8e-07</td>\n",
       "</tr>\n",
       "<tr>\n",
       "  <th>x453</th>  <td> 2.241e-09</td> <td> 2.73e-08</td> <td>    0.082</td> <td> 0.935</td> <td>-5.13e-08</td> <td> 5.57e-08</td>\n",
       "</tr>\n",
       "</table>\n",
       "<table class=\"simpletable\">\n",
       "<tr>\n",
       "  <th>Omnibus:</th>       <td>59.145</td> <th>  Durbin-Watson:     </th> <td>   1.863</td>\n",
       "</tr>\n",
       "<tr>\n",
       "  <th>Prob(Omnibus):</th> <td> 0.000</td> <th>  Jarque-Bera (JB):  </th> <td>  57.902</td>\n",
       "</tr>\n",
       "<tr>\n",
       "  <th>Skew:</th>          <td>-0.120</td> <th>  Prob(JB):          </th> <td>2.67e-13</td>\n",
       "</tr>\n",
       "<tr>\n",
       "  <th>Kurtosis:</th>      <td> 2.875</td> <th>  Cond. No.          </th> <td>1.31e+16</td>\n",
       "</tr>\n",
       "</table><br/><br/>Warnings:<br/>[1] Standard Errors assume that the covariance matrix of the errors is correctly specified.<br/>[2] The smallest eigenvalue is 1.9e-13. This might indicate that there are<br/>strong multicollinearity problems or that the design matrix is singular."
      ],
      "text/plain": [
       "<class 'statsmodels.iolib.summary.Summary'>\n",
       "\"\"\"\n",
       "                            OLS Regression Results                            \n",
       "==============================================================================\n",
       "Dep. Variable:          price_usd_log   R-squared:                       0.301\n",
       "Model:                            OLS   Adj. R-squared:                  0.293\n",
       "Method:                 Least Squares   F-statistic:                     35.60\n",
       "Date:                Thu, 30 Jul 2020   Prob (F-statistic):               0.00\n",
       "Time:                        21:50:49   Log-Likelihood:                -12912.\n",
       "No. Observations:               18990   AIC:                         2.628e+04\n",
       "Df Residuals:                   18762   BIC:                         2.807e+04\n",
       "Df Model:                         227                                         \n",
       "Covariance Type:            nonrobust                                         \n",
       "==============================================================================\n",
       "                 coef    std err          t      P>|t|      [0.025      0.975]\n",
       "------------------------------------------------------------------------------\n",
       "x1             0.1259      0.118      1.062      0.288      -0.106       0.358\n",
       "x2             0.0287      0.041      0.703      0.482      -0.051       0.109\n",
       "x3            -0.0789      0.014     -5.498      0.000      -0.107      -0.051\n",
       "x4             0.0012      0.002      0.672      0.501      -0.002       0.005\n",
       "x5             3.5053      0.998      3.513      0.000       1.550       5.461\n",
       "x6             1.2508      1.454      0.860      0.390      -1.599       4.100\n",
       "x7             3.8292      0.985      3.887      0.000       1.898       5.760\n",
       "x8             6.0146      1.539      3.908      0.000       2.998       9.031\n",
       "x9            -0.0501      0.038     -1.312      0.189      -0.125       0.025\n",
       "x10           -0.0501      0.038     -1.312      0.189      -0.125       0.025\n",
       "x11           -0.1320      0.153     -0.865      0.387      -0.431       0.167\n",
       "x12           -0.0199      0.010     -1.984      0.047      -0.040      -0.000\n",
       "x13           -0.0169      0.006     -2.955      0.003      -0.028      -0.006\n",
       "x14            0.0047      0.003      1.865      0.062      -0.000       0.010\n",
       "x15           -0.0005      0.001     -0.885      0.376      -0.002       0.001\n",
       "x16           -0.0001      0.000     -1.090      0.276      -0.000    9.71e-05\n",
       "x17            0.0378      0.058      0.655      0.513      -0.075       0.151\n",
       "x18           -0.0174      0.279     -0.062      0.950      -0.563       0.529\n",
       "x19            0.0207      0.058      0.357      0.721      -0.093       0.134\n",
       "x20            0.0848      0.085      1.001      0.317      -0.081       0.251\n",
       "x21           -0.0033      0.001     -2.282      0.022      -0.006      -0.000\n",
       "x22           -0.0033      0.001     -2.282      0.022      -0.006      -0.000\n",
       "x23           -0.0087      0.004     -2.271      0.023      -0.016      -0.001\n",
       "x24            0.0004      0.000      1.123      0.262      -0.000       0.001\n",
       "x25            0.0006      0.000      2.698      0.007       0.000       0.001\n",
       "x26            0.0001      0.000      0.941      0.347      -0.000       0.000\n",
       "x27        -7.613e-05   3.09e-05     -2.464      0.014      -0.000   -1.56e-05\n",
       "x28           -0.0458      0.020     -2.286      0.022      -0.085      -0.007\n",
       "x29           -0.0140      0.036     -0.386      0.699      -0.085       0.057\n",
       "x30           -0.0429      0.020     -2.137      0.033      -0.082      -0.004\n",
       "x31            0.1315      0.095      1.388      0.165      -0.054       0.317\n",
       "x32           -0.0001      0.000     -0.281      0.779      -0.001       0.001\n",
       "x33           -0.0001      0.000     -0.281      0.779      -0.001       0.001\n",
       "x34            0.0010      0.002      0.606      0.545      -0.002       0.004\n",
       "x35           -0.0002   8.51e-05     -1.936      0.053      -0.000    2.05e-06\n",
       "x36            0.0003   7.92e-05      4.138      0.000       0.000       0.000\n",
       "x37        -1.593e-05   1.27e-05     -1.257      0.209   -4.08e-05     8.9e-06\n",
       "x38           -0.0036      0.005     -0.738      0.461      -0.013       0.006\n",
       "x39           -0.0217      0.012     -1.800      0.072      -0.045       0.002\n",
       "x40           -0.0056      0.005     -1.127      0.260      -0.015       0.004\n",
       "x41           -0.0480      0.012     -3.910      0.000      -0.072      -0.024\n",
       "x42            0.0012      0.000      3.272      0.001       0.000       0.002\n",
       "x43            0.0012      0.000      3.272      0.001       0.000       0.002\n",
       "x44            0.0035      0.001      4.426      0.000       0.002       0.005\n",
       "x45            0.0002   7.26e-05      3.332      0.001    9.95e-05       0.000\n",
       "x46         1.104e-05   2.68e-06      4.111      0.000    5.77e-06    1.63e-05\n",
       "x47           -0.0008      0.001     -1.403      0.161      -0.002       0.000\n",
       "x48           -0.0002      0.001     -0.147      0.883      -0.003       0.002\n",
       "x49            0.0004      0.001      0.627      0.531      -0.001       0.002\n",
       "x50            0.0018      0.002      1.077      0.281      -0.001       0.005\n",
       "x51        -6.356e-05   3.46e-05     -1.837      0.066      -0.000    4.28e-06\n",
       "x52        -6.355e-05   3.46e-05     -1.836      0.066      -0.000    4.28e-06\n",
       "x53         -9.55e-05   9.57e-05     -0.998      0.318      -0.000    9.21e-05\n",
       "x54         2.832e-06   6.15e-06      0.460      0.645   -9.23e-06    1.49e-05\n",
       "x55            3.5053      0.998      3.513      0.000       1.550       5.461\n",
       "const      -3.221e-09    8.7e-10     -3.702      0.000   -4.93e-09   -1.52e-09\n",
       "x56         -1.29e-09    3.2e-10     -4.030      0.000   -1.92e-09   -6.62e-10\n",
       "x57        -6.759e-10   2.57e-10     -2.632      0.009   -1.18e-09   -1.72e-10\n",
       "x58           -0.0323      0.012     -2.712      0.007      -0.056      -0.009\n",
       "x59           -0.0323      0.012     -2.712      0.007      -0.056      -0.009\n",
       "x60            0.0019      0.044      0.044      0.965      -0.084       0.088\n",
       "x61           -0.0086      0.003     -2.821      0.005      -0.015      -0.003\n",
       "x62            1.2508      1.454      0.860      0.390      -1.599       4.100\n",
       "x63         5.132e-10   1.69e-10      3.033      0.002    1.82e-10    8.45e-10\n",
       "x64         1.761e-09   5.34e-10      3.295      0.001    7.13e-10    2.81e-09\n",
       "x65           -0.0054      0.027     -0.201      0.840      -0.058       0.047\n",
       "x66           -0.0054      0.027     -0.201      0.840      -0.058       0.047\n",
       "x67            0.1546      0.081      1.907      0.057      -0.004       0.314\n",
       "x68            0.0133      0.006      2.056      0.040       0.001       0.026\n",
       "x69            3.8292      0.985      3.887      0.000       1.898       5.760\n",
       "x70        -1.056e-09   3.39e-10     -3.118      0.002   -1.72e-09   -3.92e-10\n",
       "x71           -0.0147      0.012     -1.226      0.220      -0.038       0.009\n",
       "x72           -0.0147      0.012     -1.226      0.220      -0.038       0.009\n",
       "x73           -0.0391      0.043     -0.913      0.361      -0.123       0.045\n",
       "x74           -0.0139      0.003     -4.583      0.000      -0.020      -0.008\n",
       "x75            6.0146      1.539      3.908      0.000       2.998       9.031\n",
       "x76            0.0023      0.028      0.083      0.934      -0.053       0.057\n",
       "x77            0.0023      0.028      0.083      0.934      -0.053       0.057\n",
       "x78           -0.2494      0.090     -2.780      0.005      -0.425      -0.074\n",
       "x79           -0.0106      0.006     -1.718      0.086      -0.023       0.001\n",
       "x80           -0.0017      0.001     -2.288      0.022      -0.003      -0.000\n",
       "x81           -0.0017      0.001     -2.288      0.022      -0.003      -0.000\n",
       "x82            0.0027      0.002      1.401      0.161      -0.001       0.006\n",
       "x83            0.0008      0.000      4.032      0.000       0.000       0.001\n",
       "x84           -0.0017      0.001     -2.288      0.022      -0.003      -0.000\n",
       "x85            0.0027      0.002      1.401      0.161      -0.001       0.006\n",
       "x86            0.0008      0.000      4.032      0.000       0.000       0.001\n",
       "x87            0.0027      0.005      0.584      0.559      -0.006       0.012\n",
       "x88            0.0005      0.001      0.864      0.388      -0.001       0.002\n",
       "x89         3.469e-05   2.25e-05      1.542      0.123   -9.41e-06    7.88e-05\n",
       "x90         4.229e-08   1.03e-08      4.125      0.000    2.22e-08    6.24e-08\n",
       "x91        -1.258e-09    1.8e-07     -0.007      0.994   -3.53e-07    3.51e-07\n",
       "x92        -3.163e-07   9.81e-08     -3.224      0.001   -5.09e-07   -1.24e-07\n",
       "x93         9.443e-08   2.08e-08      4.545      0.000    5.37e-08    1.35e-07\n",
       "x94            0.0168      0.006      2.942      0.003       0.006       0.028\n",
       "x95           -0.0678      0.023     -2.964      0.003      -0.113      -0.023\n",
       "x96            0.0170      0.006      2.970      0.003       0.006       0.028\n",
       "x97            0.0171      0.006      2.985      0.003       0.006       0.028\n",
       "x98        -2.185e-06   4.96e-07     -4.408      0.000   -3.16e-06   -1.21e-06\n",
       "x99        -2.185e-06   4.96e-07     -4.409      0.000   -3.16e-06   -1.21e-06\n",
       "x100        3.096e-06   1.54e-06      2.012      0.044    7.93e-08    6.11e-06\n",
       "x101       -7.402e-08   4.51e-08     -1.640      0.101   -1.63e-07    1.45e-08\n",
       "x102       -5.711e-07   2.67e-07     -2.140      0.032   -1.09e-06   -4.81e-08\n",
       "x103       -7.214e-07   6.11e-07     -1.180      0.238   -1.92e-06    4.77e-07\n",
       "x104        1.045e-07   1.27e-07      0.820      0.412   -1.45e-07    3.54e-07\n",
       "x105          -0.0046      0.002     -1.851      0.064      -0.009       0.000\n",
       "x106          -0.0009      0.007     -0.118      0.906      -0.015       0.014\n",
       "x107          -0.0045      0.002     -1.806      0.071      -0.009       0.000\n",
       "x108           0.0147      0.007      2.054      0.040       0.001       0.029\n",
       "x109        7.135e-07    4.2e-06      0.170      0.865   -7.52e-06    8.95e-06\n",
       "x110        7.134e-07    4.2e-06      0.170      0.865   -7.52e-06    8.95e-06\n",
       "x111        2.606e-06   1.08e-05      0.241      0.809   -1.86e-05    2.38e-05\n",
       "x112       -9.254e-08   2.03e-07     -0.455      0.649   -4.91e-07    3.06e-07\n",
       "x113        1.129e-06   4.88e-07      2.312      0.021    1.72e-07    2.09e-06\n",
       "x114        1.831e-07   9.27e-08      1.974      0.048    1.33e-09    3.65e-07\n",
       "x115          -0.0009      0.000     -1.896      0.058      -0.002    2.93e-05\n",
       "x116           0.0017      0.002      1.019      0.308      -0.002       0.005\n",
       "x117          -0.0009      0.000     -1.975      0.048      -0.002   -6.97e-06\n",
       "x118          -0.0004      0.001     -0.545      0.586      -0.002       0.001\n",
       "x119        1.513e-05   3.92e-06      3.856      0.000    7.44e-06    2.28e-05\n",
       "x120        1.513e-05   3.92e-06      3.855      0.000    7.44e-06    2.28e-05\n",
       "x121        3.073e-05   8.51e-06      3.613      0.000    1.41e-05    4.74e-05\n",
       "x122        1.123e-06    7.8e-07      1.440      0.150   -4.05e-07    2.65e-06\n",
       "x123        5.851e-08   2.96e-08      1.980      0.048    5.78e-10    1.16e-07\n",
       "x124       -6.164e-06      0.000     -0.057      0.955      -0.000       0.000\n",
       "x125       -2.496e-05      0.000     -0.058      0.954      -0.001       0.001\n",
       "x126       -2.691e-05      0.000     -0.246      0.805      -0.000       0.000\n",
       "x127       -6.366e-05      0.000     -0.482      0.630      -0.000       0.000\n",
       "x128        1.418e-06   3.55e-07      3.992      0.000    7.22e-07    2.12e-06\n",
       "x129         1.42e-06   3.55e-07      3.996      0.000    7.23e-07    2.12e-06\n",
       "x130        1.508e-06   7.66e-07      1.970      0.049    7.43e-09    3.01e-06\n",
       "x131        9.512e-08   4.01e-08      2.369      0.018    1.64e-08    1.74e-07\n",
       "x132           0.0378      0.058      0.655      0.513      -0.075       0.151\n",
       "x133        1.347e-10      4e-11      3.366      0.001    5.63e-11    2.13e-10\n",
       "x134        9.412e-11    2.8e-11      3.360      0.001    3.92e-11    1.49e-10\n",
       "x135        1.545e-11   7.16e-12      2.159      0.031    1.42e-12    2.95e-11\n",
       "x136           0.0005      0.001      0.355      0.723      -0.002       0.003\n",
       "x137           0.0005      0.001      0.355      0.723      -0.002       0.003\n",
       "x138         6.03e-05      0.003      0.018      0.986      -0.006       0.007\n",
       "x139          -0.0005      0.000     -1.405      0.160      -0.001       0.000\n",
       "x140          -0.0174      0.279     -0.062      0.950      -0.563       0.529\n",
       "x141       -2.421e-11   6.67e-12     -3.629      0.000   -3.73e-11   -1.11e-11\n",
       "x142        4.283e-11   1.51e-11      2.837      0.005    1.32e-11    7.24e-11\n",
       "x143          -0.0048      0.005     -0.965      0.335      -0.014       0.005\n",
       "x144          -0.0048      0.005     -0.965      0.335      -0.014       0.005\n",
       "x145          -0.0016      0.012     -0.129      0.898      -0.025       0.022\n",
       "x146           0.0015      0.001      1.198      0.231      -0.001       0.004\n",
       "x147           0.0207      0.058      0.357      0.721      -0.093       0.134\n",
       "x148         1.47e-11   3.39e-12      4.339      0.000    8.06e-12    2.13e-11\n",
       "x149           0.0005      0.001      0.375      0.708      -0.002       0.003\n",
       "x150           0.0005      0.001      0.375      0.708      -0.002       0.003\n",
       "x151           0.0004      0.003      0.133      0.894      -0.006       0.007\n",
       "x152          -0.0004      0.000     -1.363      0.173      -0.001       0.000\n",
       "x153           0.0848      0.085      1.001      0.317      -0.081       0.251\n",
       "x154           0.0005      0.002      0.274      0.784      -0.003       0.004\n",
       "x155           0.0005      0.002      0.274      0.784      -0.003       0.004\n",
       "x156          -0.0076      0.006     -1.234      0.217      -0.020       0.005\n",
       "x157          -0.0002      0.000     -0.565      0.572      -0.001       0.001\n",
       "x158        3.601e-05    8.4e-06      4.285      0.000    1.95e-05    5.25e-05\n",
       "x159        3.601e-05    8.4e-06      4.285      0.000    1.95e-05    5.25e-05\n",
       "x160        8.074e-05   1.91e-05      4.237      0.000    4.34e-05       0.000\n",
       "x161       -4.214e-06   2.16e-06     -1.952      0.051   -8.45e-06     1.8e-08\n",
       "x162        3.601e-05    8.4e-06      4.285      0.000    1.95e-05    5.25e-05\n",
       "x163        8.074e-05   1.91e-05      4.237      0.000    4.34e-05       0.000\n",
       "x164       -4.214e-06   2.16e-06     -1.952      0.051   -8.45e-06     1.8e-08\n",
       "x165        7.984e-05   3.22e-05      2.483      0.013    1.68e-05       0.000\n",
       "x166         2.72e-06   4.22e-06      0.644      0.519   -5.56e-06     1.1e-05\n",
       "x167       -1.248e-07   1.17e-07     -1.063      0.288   -3.55e-07    1.05e-07\n",
       "x168       -1.326e-07   1.25e-08    -10.643      0.000   -1.57e-07   -1.08e-07\n",
       "x169        9.222e-09   6.21e-08      0.148      0.882   -1.13e-07    1.31e-07\n",
       "x170        1.335e-08   1.26e-08      1.060      0.289   -1.13e-08    3.81e-08\n",
       "x171          -0.0005      0.000     -2.254      0.024      -0.001    -6.5e-05\n",
       "x172          -0.0004      0.000     -1.904      0.057      -0.001    1.28e-05\n",
       "x173          -0.0005      0.000     -2.159      0.031      -0.001   -4.38e-05\n",
       "x174           0.0020      0.001      2.272      0.023       0.000       0.004\n",
       "x175        9.198e-09   1.73e-07      0.053      0.958   -3.29e-07    3.48e-07\n",
       "x176        8.792e-09   1.73e-07      0.051      0.959    -3.3e-07    3.47e-07\n",
       "x177       -1.092e-06   4.93e-07     -2.214      0.027   -2.06e-06   -1.25e-07\n",
       "x178       -5.856e-08   2.19e-08     -2.679      0.007   -1.01e-07   -1.57e-08\n",
       "x179       -8.577e-07   3.03e-07     -2.835      0.005   -1.45e-06   -2.65e-07\n",
       "x180        2.835e-08   4.03e-08      0.704      0.482   -5.06e-08    1.07e-07\n",
       "x181       -4.113e-05      0.000     -0.362      0.718      -0.000       0.000\n",
       "x182         7.44e-05      0.000      0.296      0.767      -0.000       0.001\n",
       "x183       -9.355e-05      0.000     -0.818      0.414      -0.000       0.000\n",
       "x184           0.0002      0.000      0.547      0.584      -0.001       0.001\n",
       "x185       -1.993e-06   1.45e-06     -1.378      0.168   -4.83e-06    8.43e-07\n",
       "x186       -1.993e-06   1.45e-06     -1.377      0.168   -4.83e-06    8.43e-07\n",
       "x187       -4.898e-08   3.32e-06     -0.015      0.988   -6.56e-06    6.46e-06\n",
       "x188        1.617e-07      3e-07      0.538      0.590   -4.27e-07     7.5e-07\n",
       "x189       -1.365e-08   9.85e-09     -1.386      0.166    -3.3e-08    5.65e-09\n",
       "x190        8.657e-05   2.97e-05      2.914      0.004    2.83e-05       0.000\n",
       "x191         8.03e-05   3.16e-05      2.539      0.011    1.83e-05       0.000\n",
       "x192        7.254e-05   2.98e-05      2.436      0.015    1.42e-05       0.000\n",
       "x193          -0.0003      0.000     -2.676      0.007      -0.001   -8.44e-05\n",
       "x194        2.453e-08   1.21e-07      0.203      0.839   -2.13e-07    2.62e-07\n",
       "x195         2.17e-08   1.21e-07      0.179      0.858   -2.15e-07    2.59e-07\n",
       "x196       -1.945e-07   3.09e-07     -0.630      0.529      -8e-07    4.11e-07\n",
       "x197        -1.47e-09   1.61e-08     -0.092      0.927    -3.3e-08       3e-08\n",
       "x198          -0.0458      0.020     -2.286      0.022      -0.085      -0.007\n",
       "x199        1.034e-12   2.85e-13      3.628      0.000    4.75e-13    1.59e-12\n",
       "x200       -9.325e-13   2.64e-13     -3.539      0.000   -1.45e-12   -4.16e-13\n",
       "x201        5.427e-13    1.2e-13      4.539      0.000    3.08e-13    7.77e-13\n",
       "x202           0.0008      0.000      1.915      0.056   -1.85e-05       0.002\n",
       "x203           0.0008      0.000      1.915      0.056   -1.85e-05       0.002\n",
       "x204           0.0013      0.001      0.903      0.367      -0.002       0.004\n",
       "x205           0.0003   7.63e-05      3.372      0.001       0.000       0.000\n",
       "x206          -0.0140      0.036     -0.386      0.699      -0.085       0.057\n",
       "x207        2.309e-13   6.45e-14      3.579      0.000    1.04e-13    3.57e-13\n",
       "x208        7.859e-14   2.98e-14      2.636      0.008    2.02e-14    1.37e-13\n",
       "x209           0.0005      0.001      0.622      0.534      -0.001       0.002\n",
       "x210           0.0005      0.001      0.622      0.534      -0.001       0.002\n",
       "x211           0.0010      0.002      0.439      0.661      -0.003       0.005\n",
       "x212       -3.019e-05      0.000     -0.193      0.847      -0.000       0.000\n",
       "x213          -0.0429      0.020     -2.137      0.033      -0.082      -0.004\n",
       "x214        9.609e-14   5.38e-14      1.786      0.074   -9.38e-15    2.02e-13\n",
       "x215           0.0007      0.000      1.641      0.101      -0.000       0.001\n",
       "x216           0.0007      0.000      1.641      0.101      -0.000       0.001\n",
       "x217           0.0012      0.001      0.796      0.426      -0.002       0.004\n",
       "x218           0.0003   7.64e-05      3.428      0.001       0.000       0.000\n",
       "x219           0.1315      0.095      1.388      0.165      -0.054       0.317\n",
       "x220          -0.0021      0.001     -1.432      0.152      -0.005       0.001\n",
       "x221          -0.0021      0.001     -1.432      0.152      -0.005       0.001\n",
       "x222          -0.0025      0.006     -0.445      0.656      -0.014       0.009\n",
       "x223          -0.0007      0.000     -2.418      0.016      -0.001      -0.000\n",
       "x224        1.602e-06   2.17e-06      0.739      0.460   -2.65e-06    5.85e-06\n",
       "x225        1.603e-06   2.17e-06      0.739      0.460   -2.65e-06    5.85e-06\n",
       "x226       -1.789e-05   6.36e-06     -2.813      0.005   -3.04e-05   -5.43e-06\n",
       "x227       -6.924e-07   8.57e-07     -0.808      0.419   -2.37e-06    9.88e-07\n",
       "x228        1.603e-06   2.17e-06      0.739      0.460   -2.65e-06    5.85e-06\n",
       "x229       -1.789e-05   6.36e-06     -2.813      0.005   -3.04e-05   -5.43e-06\n",
       "x230       -6.932e-07   8.57e-07     -0.809      0.419   -2.37e-06    9.87e-07\n",
       "x231       -2.149e-05   1.02e-05     -2.110      0.035   -4.15e-05   -1.53e-06\n",
       "x232       -2.138e-06    1.9e-06     -1.126      0.260   -5.86e-06    1.58e-06\n",
       "x233       -7.176e-08   4.76e-08     -1.506      0.132   -1.65e-07    2.16e-08\n",
       "x234        -6.32e-07    3.4e-07     -1.856      0.063    -1.3e-06    3.53e-08\n",
       "x235       -1.401e-09   3.45e-08     -0.041      0.968    -6.9e-08    6.62e-08\n",
       "x236        6.102e-05   2.57e-05      2.373      0.018    1.06e-05       0.000\n",
       "x237        8.994e-05   4.26e-05      2.109      0.035    6.36e-06       0.000\n",
       "x238        6.859e-05   2.63e-05      2.609      0.009    1.71e-05       0.000\n",
       "x239           0.0001   5.62e-05      1.924      0.054   -2.05e-06       0.000\n",
       "x240       -4.041e-06   1.34e-06     -3.025      0.002   -6.66e-06   -1.42e-06\n",
       "x241       -4.039e-06   1.34e-06     -3.022      0.003   -6.66e-06   -1.42e-06\n",
       "x242       -8.309e-06   2.48e-06     -3.349      0.001   -1.32e-05   -3.45e-06\n",
       "x243       -2.758e-07   2.53e-07     -1.089      0.276   -7.72e-07    2.21e-07\n",
       "x244        1.569e-09   9.34e-09      0.168      0.867   -1.67e-08    1.99e-08\n",
       "x245        1.524e-06   4.51e-06      0.338      0.735   -7.31e-06    1.04e-05\n",
       "x246       -2.855e-05   8.74e-06     -3.267      0.001   -4.57e-05   -1.14e-05\n",
       "x247        3.983e-06   4.62e-06      0.863      0.388   -5.07e-06     1.3e-05\n",
       "x248         7.11e-06   1.05e-05      0.677      0.498   -1.35e-05    2.77e-05\n",
       "x249        3.516e-07   1.66e-07      2.121      0.034    2.67e-08    6.77e-07\n",
       "x250        3.532e-07   1.66e-07      2.131      0.033    2.83e-08    6.78e-07\n",
       "x251          2.6e-07   3.54e-07      0.735      0.462   -4.33e-07    9.53e-07\n",
       "x252       -5.111e-09   3.34e-08     -0.153      0.878   -7.06e-08    6.03e-08\n",
       "x253          -0.0036      0.005     -0.738      0.461      -0.013       0.006\n",
       "x254                0          0        nan        nan           0           0\n",
       "x255                0          0        nan        nan           0           0\n",
       "x256                0          0        nan        nan           0           0\n",
       "x257          -0.0001      0.000     -0.848      0.397      -0.000       0.000\n",
       "x258          -0.0001      0.000     -0.848      0.397      -0.000       0.000\n",
       "x259           0.0004      0.000      1.476      0.140      -0.000       0.001\n",
       "x260        3.873e-06   2.49e-05      0.156      0.876   -4.49e-05    5.26e-05\n",
       "x261          -0.0217      0.012     -1.800      0.072      -0.045       0.002\n",
       "x262                0          0        nan        nan           0           0\n",
       "x263                0          0        nan        nan           0           0\n",
       "x264           0.0006      0.000      1.826      0.068   -4.06e-05       0.001\n",
       "x265           0.0006      0.000      1.826      0.068   -4.06e-05       0.001\n",
       "x266           0.0016      0.001      2.561      0.010       0.000       0.003\n",
       "x267        1.033e-05   4.43e-05      0.233      0.816   -7.65e-05    9.72e-05\n",
       "x268          -0.0056      0.005     -1.127      0.260      -0.015       0.004\n",
       "x269                0          0        nan        nan           0           0\n",
       "x270          -0.0002      0.000     -1.108      0.268      -0.000       0.000\n",
       "x271          -0.0002      0.000     -1.108      0.268      -0.000       0.000\n",
       "x272           0.0004      0.000      1.416      0.157      -0.000       0.001\n",
       "x273        1.558e-05   2.58e-05      0.605      0.545   -3.49e-05    6.61e-05\n",
       "x274          -0.0480      0.012     -3.910      0.000      -0.072      -0.024\n",
       "x275           0.0009      0.000      3.168      0.002       0.000       0.001\n",
       "x276           0.0009      0.000      3.168      0.002       0.000       0.001\n",
       "x277           0.0011      0.001      1.780      0.075      -0.000       0.002\n",
       "x278           0.0002   5.81e-05      3.650      0.000    9.81e-05       0.000\n",
       "x279        4.693e-06   3.16e-06      1.484      0.138   -1.51e-06    1.09e-05\n",
       "x280        4.694e-06   3.16e-06      1.484      0.138   -1.51e-06    1.09e-05\n",
       "x281       -1.992e-05   7.63e-06     -2.610      0.009   -3.49e-05   -4.96e-06\n",
       "x282        -2.68e-06   1.35e-06     -1.992      0.046   -5.32e-06   -4.26e-08\n",
       "x283        4.694e-06   3.16e-06      1.484      0.138   -1.51e-06    1.09e-05\n",
       "x284       -1.992e-05   7.63e-06     -2.610      0.009   -3.49e-05   -4.96e-06\n",
       "x285       -2.679e-06   1.35e-06     -1.991      0.046   -5.32e-06    -4.2e-08\n",
       "x286       -4.013e-05   1.18e-05     -3.393      0.001   -6.33e-05   -1.69e-05\n",
       "x287       -6.158e-06   2.46e-06     -2.499      0.012    -1.1e-05   -1.33e-06\n",
       "x288       -1.651e-07    1.2e-07     -1.371      0.171   -4.01e-07     7.1e-08\n",
       "x289       -2.523e-08   3.42e-09     -7.382      0.000   -3.19e-08   -1.85e-08\n",
       "x290        7.545e-06   1.31e-06      5.765      0.000    4.98e-06    1.01e-05\n",
       "x291        -1.03e-06    2.6e-06     -0.397      0.692   -6.12e-06    4.06e-06\n",
       "x292        5.274e-06   1.33e-06      3.968      0.000    2.67e-06    7.88e-06\n",
       "x293       -7.538e-07   3.91e-06     -0.193      0.847   -8.43e-06    6.92e-06\n",
       "x294        1.501e-08      3e-08      0.501      0.616   -4.37e-08    7.38e-08\n",
       "x295         6.99e-09      3e-08      0.233      0.816   -5.18e-08    6.58e-08\n",
       "x296       -6.369e-08    6.6e-08     -0.965      0.335   -1.93e-07    6.57e-08\n",
       "x297        -1.39e-08   4.48e-09     -3.100      0.002   -2.27e-08   -5.11e-09\n",
       "x298          -0.0008      0.001     -1.403      0.161      -0.002       0.000\n",
       "x299                0          0        nan        nan           0           0\n",
       "x300                0          0        nan        nan           0           0\n",
       "x301                0          0        nan        nan           0           0\n",
       "x302       -3.596e-05   1.44e-05     -2.489      0.013   -6.43e-05   -7.64e-06\n",
       "x303       -3.596e-05   1.44e-05     -2.489      0.013   -6.43e-05   -7.64e-06\n",
       "x304         6.23e-07   3.78e-05      0.016      0.987   -7.35e-05    7.47e-05\n",
       "x305       -1.862e-06   2.17e-06     -0.859      0.390   -6.11e-06    2.39e-06\n",
       "x306          -0.0002      0.001     -0.147      0.883      -0.003       0.002\n",
       "x307                0          0        nan        nan           0           0\n",
       "x308                0          0        nan        nan           0           0\n",
       "x309       -1.588e-05   3.01e-05     -0.528      0.598   -7.49e-05    4.31e-05\n",
       "x310       -1.588e-05   3.01e-05     -0.528      0.598   -7.49e-05    4.31e-05\n",
       "x311        8.102e-05   6.74e-05      1.201      0.230   -5.12e-05       0.000\n",
       "x312        5.309e-06   4.66e-06      1.138      0.255   -3.83e-06    1.45e-05\n",
       "x313           0.0004      0.001      0.627      0.531      -0.001       0.002\n",
       "x314                0          0        nan        nan           0           0\n",
       "x315       -4.601e-05   1.48e-05     -3.110      0.002    -7.5e-05    -1.7e-05\n",
       "x316       -4.601e-05   1.48e-05     -3.110      0.002    -7.5e-05    -1.7e-05\n",
       "x317       -2.222e-05   3.87e-05     -0.574      0.566    -9.8e-05    5.36e-05\n",
       "x318       -2.583e-06   2.22e-06     -1.163      0.245   -6.94e-06    1.77e-06\n",
       "x319           0.0018      0.002      1.077      0.281      -0.001       0.005\n",
       "x320         3.43e-05   3.76e-05      0.911      0.362   -3.95e-05       0.000\n",
       "x321         3.43e-05   3.76e-05      0.911      0.362   -3.95e-05       0.000\n",
       "x322          -0.0002      0.000     -1.536      0.124      -0.000    4.27e-05\n",
       "x323        1.965e-06   4.44e-06      0.443      0.658   -6.73e-06    1.07e-05\n",
       "x324        4.528e-07   3.29e-07      1.376      0.169   -1.92e-07     1.1e-06\n",
       "x325        4.537e-07   3.29e-07      1.378      0.168   -1.91e-07     1.1e-06\n",
       "x326        9.447e-07   8.72e-07      1.084      0.278   -7.64e-07    2.65e-06\n",
       "x327        1.558e-07   1.05e-07      1.479      0.139   -5.06e-08    3.62e-07\n",
       "x328        4.537e-07   3.29e-07      1.378      0.168   -1.91e-07     1.1e-06\n",
       "x329        9.443e-07   8.72e-07      1.083      0.279   -7.64e-07    2.65e-06\n",
       "x330        1.572e-07   1.05e-07      1.493      0.135   -4.92e-08    3.63e-07\n",
       "x331        5.938e-07   1.47e-06      0.403      0.687    -2.3e-06    3.48e-06\n",
       "x332        2.807e-07   2.39e-07      1.175      0.240   -1.88e-07    7.49e-07\n",
       "x333       -4.721e-09   6.82e-09     -0.692      0.489   -1.81e-08    8.65e-09\n",
       "x334           3.5053      0.998      3.513      0.000       1.550       5.461\n",
       "x335                0          0        nan        nan           0           0\n",
       "x336                0          0        nan        nan           0           0\n",
       "x337                0          0        nan        nan           0           0\n",
       "x338          -0.0323      0.012     -2.712      0.007      -0.056      -0.009\n",
       "x339          -0.0323      0.012     -2.712      0.007      -0.056      -0.009\n",
       "x340           0.0019      0.044      0.044      0.965      -0.084       0.088\n",
       "x341          -0.0086      0.003     -2.821      0.005      -0.015      -0.003\n",
       "x342                0          0        nan        nan           0           0\n",
       "x343                0          0        nan        nan           0           0\n",
       "x344                0          0        nan        nan           0           0\n",
       "x345                0          0        nan        nan           0           0\n",
       "x346                0          0        nan        nan           0           0\n",
       "x347                0          0        nan        nan           0           0\n",
       "x348                0          0        nan        nan           0           0\n",
       "x349                0          0        nan        nan           0           0\n",
       "x350                0          0        nan        nan           0           0\n",
       "x351                0          0        nan        nan           0           0\n",
       "x352                0          0        nan        nan           0           0\n",
       "x353                0          0        nan        nan           0           0\n",
       "x354                0          0        nan        nan           0           0\n",
       "x355                0          0        nan        nan           0           0\n",
       "x356                0          0        nan        nan           0           0\n",
       "x357                0          0        nan        nan           0           0\n",
       "x358                0          0        nan        nan           0           0\n",
       "x359                0          0        nan        nan           0           0\n",
       "x360          -0.0002      0.000     -0.746      0.456      -0.001       0.000\n",
       "x361          -0.0002      0.000     -0.746      0.456      -0.001       0.000\n",
       "x362           0.0007      0.001      1.170      0.242      -0.000       0.002\n",
       "x363           0.0005   7.66e-05      6.227      0.000       0.000       0.001\n",
       "x364          -0.0002      0.000     -0.746      0.456      -0.001       0.000\n",
       "x365           0.0007      0.001      1.170      0.242      -0.000       0.002\n",
       "x366           0.0005   7.66e-05      6.227      0.000       0.000       0.001\n",
       "x367          -0.0007      0.001     -0.545      0.586      -0.003       0.002\n",
       "x368           0.0002      0.000      1.158      0.247      -0.000       0.001\n",
       "x369         2.21e-05   6.94e-06      3.184      0.001    8.49e-06    3.57e-05\n",
       "x370           1.2508      1.454      0.860      0.390      -1.599       4.100\n",
       "x371                0          0        nan        nan           0           0\n",
       "x372                0          0        nan        nan           0           0\n",
       "x373          -0.0054      0.027     -0.201      0.840      -0.058       0.047\n",
       "x374          -0.0054      0.027     -0.201      0.840      -0.058       0.047\n",
       "x375           0.1546      0.081      1.907      0.057      -0.004       0.314\n",
       "x376           0.0133      0.006      2.056      0.040       0.001       0.026\n",
       "x377                0          0        nan        nan           0           0\n",
       "x378                0          0        nan        nan           0           0\n",
       "x379                0          0        nan        nan           0           0\n",
       "x380                0          0        nan        nan           0           0\n",
       "x381                0          0        nan        nan           0           0\n",
       "x382                0          0        nan        nan           0           0\n",
       "x383                0          0        nan        nan           0           0\n",
       "x384                0          0        nan        nan           0           0\n",
       "x385                0          0        nan        nan           0           0\n",
       "x386                0          0        nan        nan           0           0\n",
       "x387                0          0        nan        nan           0           0\n",
       "x388           0.0005      0.000      0.993      0.321      -0.000       0.001\n",
       "x389           0.0005      0.000      0.993      0.321      -0.000       0.001\n",
       "x390           0.0010      0.001      0.759      0.448      -0.002       0.003\n",
       "x391       -9.701e-05      0.000     -0.565      0.572      -0.000       0.000\n",
       "x392           0.0005      0.000      0.993      0.321      -0.000       0.001\n",
       "x393           0.0010      0.001      0.759      0.448      -0.002       0.003\n",
       "x394       -9.701e-05      0.000     -0.565      0.572      -0.000       0.000\n",
       "x395          -0.0044      0.002     -2.034      0.042      -0.009      -0.000\n",
       "x396          -0.0011      0.000     -2.553      0.011      -0.002      -0.000\n",
       "x397        2.426e-06   1.15e-05      0.210      0.834   -2.02e-05    2.51e-05\n",
       "x398           3.8292      0.985      3.887      0.000       1.898       5.760\n",
       "x399                0          0        nan        nan           0           0\n",
       "x400          -0.0147      0.012     -1.226      0.220      -0.038       0.009\n",
       "x401          -0.0147      0.012     -1.226      0.220      -0.038       0.009\n",
       "x402          -0.0391      0.043     -0.913      0.361      -0.123       0.045\n",
       "x403          -0.0139      0.003     -4.583      0.000      -0.020      -0.008\n",
       "x404                0          0        nan        nan           0           0\n",
       "x405                0          0        nan        nan           0           0\n",
       "x406                0          0        nan        nan           0           0\n",
       "x407                0          0        nan        nan           0           0\n",
       "x408                0          0        nan        nan           0           0\n",
       "x409          -0.0005      0.000     -2.082      0.037      -0.001   -3.17e-05\n",
       "x410          -0.0005      0.000     -2.082      0.037      -0.001   -3.17e-05\n",
       "x411          -0.0005      0.001     -0.762      0.446      -0.002       0.001\n",
       "x412           0.0005   7.77e-05      6.935      0.000       0.000       0.001\n",
       "x413          -0.0005      0.000     -2.082      0.037      -0.001   -3.17e-05\n",
       "x414          -0.0005      0.001     -0.762      0.446      -0.002       0.001\n",
       "x415           0.0005   7.77e-05      6.935      0.000       0.000       0.001\n",
       "x416       -2.258e-05      0.001     -0.017      0.986      -0.003       0.003\n",
       "x417           0.0007      0.000      3.390      0.001       0.000       0.001\n",
       "x418        1.851e-05   7.04e-06      2.630      0.009    4.71e-06    3.23e-05\n",
       "x419           6.0146      1.539      3.908      0.000       2.998       9.031\n",
       "x420           0.0023      0.028      0.083      0.934      -0.053       0.057\n",
       "x421           0.0023      0.028      0.083      0.934      -0.053       0.057\n",
       "x422          -0.2494      0.090     -2.780      0.005      -0.425      -0.074\n",
       "x423          -0.0106      0.006     -1.718      0.086      -0.023       0.001\n",
       "x424          -0.0015      0.001     -2.615      0.009      -0.003      -0.000\n",
       "x425          -0.0015      0.001     -2.615      0.009      -0.003      -0.000\n",
       "x426           0.0015      0.001      1.183      0.237      -0.001       0.004\n",
       "x427          -0.0001      0.000     -0.762      0.446      -0.000       0.000\n",
       "x428          -0.0015      0.001     -2.615      0.009      -0.003      -0.000\n",
       "x429           0.0015      0.001      1.183      0.237      -0.001       0.004\n",
       "x430          -0.0001      0.000     -0.762      0.446      -0.000       0.000\n",
       "x431           0.0078      0.003      3.109      0.002       0.003       0.013\n",
       "x432           0.0006      0.000      1.548      0.122      -0.000       0.001\n",
       "x433        -8.35e-06   1.27e-05     -0.656      0.512   -3.33e-05    1.66e-05\n",
       "x434        5.162e-05   7.41e-06      6.962      0.000    3.71e-05    6.62e-05\n",
       "x435        5.162e-05   7.41e-06      6.962      0.000    3.71e-05    6.62e-05\n",
       "x436        6.274e-05   2.05e-05      3.054      0.002    2.25e-05       0.000\n",
       "x437       -1.136e-05   2.29e-06     -4.952      0.000   -1.59e-05   -6.86e-06\n",
       "x438        5.162e-05   7.41e-06      6.962      0.000    3.71e-05    6.62e-05\n",
       "x439        6.274e-05   2.05e-05      3.054      0.002    2.25e-05       0.000\n",
       "x440       -1.136e-05   2.29e-06     -4.951      0.000   -1.59e-05   -6.86e-06\n",
       "x441       -5.737e-05   3.43e-05     -1.671      0.095      -0.000    9.91e-06\n",
       "x442       -2.012e-05   4.35e-06     -4.623      0.000   -2.86e-05   -1.16e-05\n",
       "x443       -8.664e-07   3.86e-07     -2.247      0.025   -1.62e-06   -1.11e-07\n",
       "x444        5.162e-05   7.41e-06      6.962      0.000    3.71e-05    6.62e-05\n",
       "x445        6.274e-05   2.05e-05      3.054      0.002    2.25e-05       0.000\n",
       "x446       -1.136e-05   2.29e-06     -4.951      0.000   -1.59e-05   -6.86e-06\n",
       "x447       -5.737e-05   3.43e-05     -1.671      0.095      -0.000    9.91e-06\n",
       "x448       -2.012e-05   4.35e-06     -4.623      0.000   -2.86e-05   -1.16e-05\n",
       "x449       -8.682e-07   3.85e-07     -2.252      0.024   -1.62e-06   -1.13e-07\n",
       "x450        -4.25e-05   4.87e-05     -0.873      0.383      -0.000    5.29e-05\n",
       "x451        1.205e-05    1.1e-05      1.091      0.275    -9.6e-06    3.37e-05\n",
       "x452       -1.472e-06   6.08e-07     -2.421      0.015   -2.66e-06    -2.8e-07\n",
       "x453        2.241e-09   2.73e-08      0.082      0.935   -5.13e-08    5.57e-08\n",
       "==============================================================================\n",
       "Omnibus:                       59.145   Durbin-Watson:                   1.863\n",
       "Prob(Omnibus):                  0.000   Jarque-Bera (JB):               57.902\n",
       "Skew:                          -0.120   Prob(JB):                     2.67e-13\n",
       "Kurtosis:                       2.875   Cond. No.                     1.31e+16\n",
       "==============================================================================\n",
       "\n",
       "Warnings:\n",
       "[1] Standard Errors assume that the covariance matrix of the errors is correctly specified.\n",
       "[2] The smallest eigenvalue is 1.9e-13. This might indicate that there are\n",
       "strong multicollinearity problems or that the design matrix is singular.\n",
       "\"\"\""
      ]
     },
     "execution_count": 143,
     "metadata": {},
     "output_type": "execute_result"
    }
   ],
   "source": [
    "from sklearn.preprocessing import PolynomialFeatures\n",
    "\n",
    "poly_3 = PolynomialFeatures(degree=3, include_bias = False)\n",
    "poly3_data = poly_3.fit_transform(df_features)\n",
    "poly3_columns = poly_3.get_feature_names(df_features.columns)\n",
    "df_poly3 = pd.DataFrame(poly3_data, columns = poly3_columns)\n",
    "model3 = LinearRegression()\n",
    "\n",
    "model3 = model3.fit(df_poly3, target)\n",
    "model3 = sm.OLS(y, poly3_data).fit()\n",
    "model3.summary()"
   ]
  },
  {
   "cell_type": "code",
   "execution_count": 152,
   "metadata": {},
   "outputs": [
    {
     "data": {
      "text/plain": [
       "0.5059355373945982"
      ]
     },
     "execution_count": 152,
     "metadata": {},
     "output_type": "execute_result"
    }
   ],
   "source": [
    "rmse = np.sqrt(mean_squared_error(y_test, y_pred))\n",
    "rmse"
   ]
  },
  {
   "cell_type": "markdown",
   "metadata": {},
   "source": [
    " "
   ]
  },
  {
   "cell_type": "markdown",
   "metadata": {},
   "source": [
    " "
   ]
  },
  {
   "cell_type": "markdown",
   "metadata": {},
   "source": [
    " "
   ]
  },
  {
   "cell_type": "markdown",
   "metadata": {},
   "source": [
    "## Lasso Model"
   ]
  },
  {
   "cell_type": "markdown",
   "metadata": {},
   "source": [
    " "
   ]
  },
  {
   "cell_type": "code",
   "execution_count": 156,
   "metadata": {},
   "outputs": [],
   "source": [
    "y = listing_df['price_usd_log']\n",
    "x = df_features"
   ]
  },
  {
   "cell_type": "code",
   "execution_count": 157,
   "metadata": {},
   "outputs": [],
   "source": [
    "X_train, X_test, y_train, y_test = train_test_split(df_features, y,random_state = 42, test_size=0.2)"
   ]
  },
  {
   "cell_type": "code",
   "execution_count": 158,
   "metadata": {},
   "outputs": [],
   "source": [
    "scaler = StandardScaler()"
   ]
  },
  {
   "cell_type": "code",
   "execution_count": null,
   "metadata": {},
   "outputs": [],
   "source": []
  },
  {
   "cell_type": "code",
   "execution_count": 159,
   "metadata": {},
   "outputs": [],
   "source": [
    "df_features_columns = df_features.columns"
   ]
  },
  {
   "cell_type": "code",
   "execution_count": 160,
   "metadata": {},
   "outputs": [],
   "source": [
    "catergorical_data = []"
   ]
  },
  {
   "cell_type": "code",
   "execution_count": 161,
   "metadata": {},
   "outputs": [],
   "source": [
    "continuous_data = []"
   ]
  },
  {
   "cell_type": "code",
   "execution_count": 162,
   "metadata": {},
   "outputs": [],
   "source": [
    "for i in df_features_columns: \n",
    "    if x[i].max == 1:\n",
    "        catergorical_data.append(i)\n",
    "    else:\n",
    "        continuous_data.append(i)"
   ]
  },
  {
   "cell_type": "code",
   "execution_count": 163,
   "metadata": {},
   "outputs": [
    {
     "name": "stderr",
     "output_type": "stream",
     "text": [
      "/Users/dolcikey/opt/anaconda3/lib/python3.7/site-packages/ipykernel_launcher.py:1: SettingWithCopyWarning: \n",
      "A value is trying to be set on a copy of a slice from a DataFrame.\n",
      "Try using .loc[row_indexer,col_indexer] = value instead\n",
      "\n",
      "See the caveats in the documentation: https://pandas.pydata.org/pandas-docs/stable/user_guide/indexing.html#returning-a-view-versus-a-copy\n",
      "  \"\"\"Entry point for launching an IPython kernel.\n",
      "/Users/dolcikey/opt/anaconda3/lib/python3.7/site-packages/pandas/core/indexing.py:965: SettingWithCopyWarning: \n",
      "A value is trying to be set on a copy of a slice from a DataFrame.\n",
      "Try using .loc[row_indexer,col_indexer] = value instead\n",
      "\n",
      "See the caveats in the documentation: https://pandas.pydata.org/pandas-docs/stable/user_guide/indexing.html#returning-a-view-versus-a-copy\n",
      "  self.obj[item] = s\n"
     ]
    }
   ],
   "source": [
    "X_train[continuous_data] = scaler.fit_transform(X_train[continuous_data])"
   ]
  },
  {
   "cell_type": "code",
   "execution_count": 164,
   "metadata": {},
   "outputs": [
    {
     "name": "stderr",
     "output_type": "stream",
     "text": [
      "[Parallel(n_jobs=1)]: Using backend SequentialBackend with 1 concurrent workers.\n",
      "....................................................................................................................................................................................................................................................................................................................................................................................................................................................................................................................[Parallel(n_jobs=1)]: Done   5 out of   5 | elapsed:    0.3s finished\n"
     ]
    },
    {
     "data": {
      "text/plain": [
       "LassoCV(alphas=None, copy_X=True, cv=5, eps=0.001, fit_intercept=True,\n",
       "        max_iter=1000, n_alphas=100, n_jobs=None, normalize=False,\n",
       "        positive=False, precompute='auto', random_state=42, selection='cyclic',\n",
       "        tol=0.0001, verbose=1)"
      ]
     },
     "execution_count": 164,
     "metadata": {},
     "output_type": "execute_result"
    }
   ],
   "source": [
    "lasso_CV = LassoCV(cv = 5, random_state = 42, verbose = 1)\n",
    "lasso_CV.fit(X_train, y_train)"
   ]
  },
  {
   "cell_type": "code",
   "execution_count": 165,
   "metadata": {},
   "outputs": [],
   "source": [
    "y_train_lasso_CV_pred = lasso_CV.predict(X_train)"
   ]
  },
  {
   "cell_type": "code",
   "execution_count": 166,
   "metadata": {},
   "outputs": [
    {
     "name": "stdout",
     "output_type": "stream",
     "text": [
      "RMSE:  517.2095751391811\n"
     ]
    }
   ],
   "source": [
    "print(\"RMSE: \", np.sqrt(metrics.mean_squared_error(np.exp(y_train), np.exp(y_train_lasso_CV_pred))))"
   ]
  },
  {
   "cell_type": "code",
   "execution_count": 167,
   "metadata": {},
   "outputs": [
    {
     "data": {
      "text/plain": [
       "<matplotlib.axes._subplots.AxesSubplot at 0x1a28002090>"
      ]
     },
     "execution_count": 167,
     "metadata": {},
     "output_type": "execute_result"
    },
    {
     "data": {
      "image/png": "[encoded data removed]",
      "text/plain": [
       "<Figure size 1152x576 with 1 Axes>"
      ]
     },
     "metadata": {},
     "output_type": "display_data"
    }
   ],
   "source": [
    "lasso_coef01 = pd.DataFrame(data=lasso_CV.coef_).T\n",
    "lasso_coef01.columns = X_train.columns\n",
    "lasso_coef01 = lasso_coef01.T.sort_values(by=0).T\n",
    "lasso_coef01.plot(kind='bar', title='Modal Coefficients', legend=False, figsize=(16,8))\n",
    "\n"
   ]
  },
  {
   "cell_type": "markdown",
   "metadata": {},
   "source": [
    " "
   ]
  },
  {
   "cell_type": "markdown",
   "metadata": {},
   "source": [
    " "
   ]
  },
  {
   "cell_type": "markdown",
   "metadata": {},
   "source": [
    "## Poly 3 Model through Lasso Model"
   ]
  },
  {
   "cell_type": "markdown",
   "metadata": {},
   "source": [
    " "
   ]
  },
  {
   "cell_type": "markdown",
   "metadata": {},
   "source": [
    " "
   ]
  },
  {
   "cell_type": "code",
   "execution_count": 168,
   "metadata": {},
   "outputs": [],
   "source": [
    "y = listing_df['price_usd_log']\n",
    "x = df_poly3"
   ]
  },
  {
   "cell_type": "code",
   "execution_count": 169,
   "metadata": {},
   "outputs": [],
   "source": [
    "X_train, X_test, y_train, y_test = train_test_split(df_poly3, y,random_state = 42, test_size=0.2)"
   ]
  },
  {
   "cell_type": "code",
   "execution_count": 170,
   "metadata": {},
   "outputs": [],
   "source": [
    "df_poly3_columns = df_poly3.columns"
   ]
  },
  {
   "cell_type": "code",
   "execution_count": 171,
   "metadata": {},
   "outputs": [],
   "source": [
    "scaler = StandardScaler()"
   ]
  },
  {
   "cell_type": "code",
   "execution_count": 172,
   "metadata": {},
   "outputs": [
    {
     "name": "stderr",
     "output_type": "stream",
     "text": [
      "/Users/dolcikey/opt/anaconda3/lib/python3.7/site-packages/ipykernel_launcher.py:1: SettingWithCopyWarning: \n",
      "A value is trying to be set on a copy of a slice from a DataFrame.\n",
      "Try using .loc[row_indexer,col_indexer] = value instead\n",
      "\n",
      "See the caveats in the documentation: https://pandas.pydata.org/pandas-docs/stable/user_guide/indexing.html#returning-a-view-versus-a-copy\n",
      "  \"\"\"Entry point for launching an IPython kernel.\n",
      "/Users/dolcikey/opt/anaconda3/lib/python3.7/site-packages/pandas/core/frame.py:2969: SettingWithCopyWarning: \n",
      "A value is trying to be set on a copy of a slice from a DataFrame\n",
      "\n",
      "See the caveats in the documentation: https://pandas.pydata.org/pandas-docs/stable/user_guide/indexing.html#returning-a-view-versus-a-copy\n",
      "  self.loc._setitem_with_indexer((slice(None), indexer), value)\n",
      "/Users/dolcikey/opt/anaconda3/lib/python3.7/site-packages/pandas/core/frame.py:2935: SettingWithCopyWarning: \n",
      "A value is trying to be set on a copy of a slice from a DataFrame\n",
      "\n",
      "See the caveats in the documentation: https://pandas.pydata.org/pandas-docs/stable/user_guide/indexing.html#returning-a-view-versus-a-copy\n",
      "  self._setitem_array(key, value)\n"
     ]
    }
   ],
   "source": [
    "X_train[continuous_data] = scaler.fit_transform(X_train[continuous_data])"
   ]
  },
  {
   "cell_type": "code",
   "execution_count": 173,
   "metadata": {},
   "outputs": [],
   "source": [
    "catergorical_data = []"
   ]
  },
  {
   "cell_type": "code",
   "execution_count": 174,
   "metadata": {},
   "outputs": [],
   "source": [
    "continuous_data = []"
   ]
  },
  {
   "cell_type": "code",
   "execution_count": 175,
   "metadata": {},
   "outputs": [],
   "source": [
    "for i in df_poly3_columns: \n",
    "    if x[i].max == 1:\n",
    "        catergorical_data.append(i)\n",
    "    else:\n",
    "        continuous_data.append(i)"
   ]
  },
  {
   "cell_type": "code",
   "execution_count": null,
   "metadata": {},
   "outputs": [],
   "source": []
  },
  {
   "cell_type": "code",
   "execution_count": 176,
   "metadata": {},
   "outputs": [
    {
     "name": "stderr",
     "output_type": "stream",
     "text": [
      "[Parallel(n_jobs=1)]: Using backend SequentialBackend with 1 concurrent workers.\n",
      "................................................................................/Users/dolcikey/opt/anaconda3/lib/python3.7/site-packages/sklearn/linear_model/_coordinate_descent.py:472: ConvergenceWarning: Objective did not converge. You might want to increase the number of iterations. Duality gap: 0.5415722539273702, tolerance: 0.394609328631072\n",
      "  tol, rng, random, positive)\n",
      "../Users/dolcikey/opt/anaconda3/lib/python3.7/site-packages/sklearn/linear_model/_coordinate_descent.py:472: ConvergenceWarning: Objective did not converge. You might want to increase the number of iterations. Duality gap: 1.2078659823969247, tolerance: 0.394609328631072\n",
      "  tol, rng, random, positive)\n",
      "../Users/dolcikey/opt/anaconda3/lib/python3.7/site-packages/sklearn/linear_model/_coordinate_descent.py:472: ConvergenceWarning: Objective did not converge. You might want to increase the number of iterations. Duality gap: 0.4030679380430229, tolerance: 0.394609328631072\n",
      "  tol, rng, random, positive)\n",
      "./Users/dolcikey/opt/anaconda3/lib/python3.7/site-packages/sklearn/linear_model/_coordinate_descent.py:472: ConvergenceWarning: Objective did not converge. You might want to increase the number of iterations. Duality gap: 0.3958237553724757, tolerance: 0.394609328631072\n",
      "  tol, rng, random, positive)\n",
      "./Users/dolcikey/opt/anaconda3/lib/python3.7/site-packages/sklearn/linear_model/_coordinate_descent.py:472: ConvergenceWarning: Objective did not converge. You might want to increase the number of iterations. Duality gap: 0.42106005312462, tolerance: 0.394609328631072\n",
      "  tol, rng, random, positive)\n",
      "./Users/dolcikey/opt/anaconda3/lib/python3.7/site-packages/sklearn/linear_model/_coordinate_descent.py:472: ConvergenceWarning: Objective did not converge. You might want to increase the number of iterations. Duality gap: 0.4618307994560382, tolerance: 0.394609328631072\n",
      "  tol, rng, random, positive)\n",
      "........./Users/dolcikey/opt/anaconda3/lib/python3.7/site-packages/sklearn/linear_model/_coordinate_descent.py:472: ConvergenceWarning: Objective did not converge. You might want to increase the number of iterations. Duality gap: 1.441552965005485, tolerance: 0.394609328631072\n",
      "  tol, rng, random, positive)\n",
      "......................................................................................./Users/dolcikey/opt/anaconda3/lib/python3.7/site-packages/sklearn/linear_model/_coordinate_descent.py:472: ConvergenceWarning: Objective did not converge. You might want to increase the number of iterations. Duality gap: 1.2091433256236996, tolerance: 0.40045784211538776\n",
      "  tol, rng, random, positive)\n",
      ".../Users/dolcikey/opt/anaconda3/lib/python3.7/site-packages/sklearn/linear_model/_coordinate_descent.py:472: ConvergenceWarning: Objective did not converge. You might want to increase the number of iterations. Duality gap: 0.6093031446725945, tolerance: 0.40045784211538776\n",
      "  tol, rng, random, positive)\n",
      "......./Users/dolcikey/opt/anaconda3/lib/python3.7/site-packages/sklearn/linear_model/_coordinate_descent.py:472: ConvergenceWarning: Objective did not converge. You might want to increase the number of iterations. Duality gap: 11.047925611076607, tolerance: 0.40045784211538776\n",
      "  tol, rng, random, positive)\n",
      "./Users/dolcikey/opt/anaconda3/lib/python3.7/site-packages/sklearn/linear_model/_coordinate_descent.py:472: ConvergenceWarning: Objective did not converge. You might want to increase the number of iterations. Duality gap: 17.73946556593637, tolerance: 0.40045784211538776\n",
      "  tol, rng, random, positive)\n",
      "./Users/dolcikey/opt/anaconda3/lib/python3.7/site-packages/sklearn/linear_model/_coordinate_descent.py:472: ConvergenceWarning: Objective did not converge. You might want to increase the number of iterations. Duality gap: 17.46258206471066, tolerance: 0.40045784211538776\n",
      "  tol, rng, random, positive)\n",
      "./Users/dolcikey/opt/anaconda3/lib/python3.7/site-packages/sklearn/linear_model/_coordinate_descent.py:472: ConvergenceWarning: Objective did not converge. You might want to increase the number of iterations. Duality gap: 16.859405684109788, tolerance: 0.40045784211538776\n",
      "  tol, rng, random, positive)\n",
      "./Users/dolcikey/opt/anaconda3/lib/python3.7/site-packages/sklearn/linear_model/_coordinate_descent.py:472: ConvergenceWarning: Objective did not converge. You might want to increase the number of iterations. Duality gap: 17.45831312550854, tolerance: 0.40045784211538776\n",
      "  tol, rng, random, positive)\n",
      "./Users/dolcikey/opt/anaconda3/lib/python3.7/site-packages/sklearn/linear_model/_coordinate_descent.py:472: ConvergenceWarning: Objective did not converge. You might want to increase the number of iterations. Duality gap: 16.80708966320799, tolerance: 0.40045784211538776\n",
      "  tol, rng, random, positive)\n",
      "./Users/dolcikey/opt/anaconda3/lib/python3.7/site-packages/sklearn/linear_model/_coordinate_descent.py:472: ConvergenceWarning: Objective did not converge. You might want to increase the number of iterations. Duality gap: 16.00592484776189, tolerance: 0.40045784211538776\n",
      "  tol, rng, random, positive)\n",
      "......................................................................................./Users/dolcikey/opt/anaconda3/lib/python3.7/site-packages/sklearn/linear_model/_coordinate_descent.py:472: ConvergenceWarning: Objective did not converge. You might want to increase the number of iterations. Duality gap: 0.49384916163489834, tolerance: 0.400136215586501\n",
      "  tol, rng, random, positive)\n",
      "........../Users/dolcikey/opt/anaconda3/lib/python3.7/site-packages/sklearn/linear_model/_coordinate_descent.py:472: ConvergenceWarning: Objective did not converge. You might want to increase the number of iterations. Duality gap: 1.4365028438969603, tolerance: 0.400136215586501\n",
      "  tol, rng, random, positive)\n",
      "./Users/dolcikey/opt/anaconda3/lib/python3.7/site-packages/sklearn/linear_model/_coordinate_descent.py:472: ConvergenceWarning: Objective did not converge. You might want to increase the number of iterations. Duality gap: 1.0181607426752635, tolerance: 0.400136215586501\n",
      "  tol, rng, random, positive)\n",
      "..................................................................................../Users/dolcikey/opt/anaconda3/lib/python3.7/site-packages/sklearn/linear_model/_coordinate_descent.py:472: ConvergenceWarning: Objective did not converge. You might want to increase the number of iterations. Duality gap: 1.0594766818826429, tolerance: 0.39902827516663397\n",
      "  tol, rng, random, positive)\n",
      "./Users/dolcikey/opt/anaconda3/lib/python3.7/site-packages/sklearn/linear_model/_coordinate_descent.py:472: ConvergenceWarning: Objective did not converge. You might want to increase the number of iterations. Duality gap: 0.9814470555193111, tolerance: 0.39902827516663397\n",
      "  tol, rng, random, positive)\n",
      "..../Users/dolcikey/opt/anaconda3/lib/python3.7/site-packages/sklearn/linear_model/_coordinate_descent.py:472: ConvergenceWarning: Objective did not converge. You might want to increase the number of iterations. Duality gap: 0.5354060839622434, tolerance: 0.39902827516663397\n",
      "  tol, rng, random, positive)\n",
      "./Users/dolcikey/opt/anaconda3/lib/python3.7/site-packages/sklearn/linear_model/_coordinate_descent.py:472: ConvergenceWarning: Objective did not converge. You might want to increase the number of iterations. Duality gap: 0.8230311146567146, tolerance: 0.39902827516663397\n",
      "  tol, rng, random, positive)\n",
      "./Users/dolcikey/opt/anaconda3/lib/python3.7/site-packages/sklearn/linear_model/_coordinate_descent.py:472: ConvergenceWarning: Objective did not converge. You might want to increase the number of iterations. Duality gap: 1.12503280721603, tolerance: 0.39902827516663397\n",
      "  tol, rng, random, positive)\n",
      "./Users/dolcikey/opt/anaconda3/lib/python3.7/site-packages/sklearn/linear_model/_coordinate_descent.py:472: ConvergenceWarning: Objective did not converge. You might want to increase the number of iterations. Duality gap: 1.0971972963398002, tolerance: 0.39902827516663397\n",
      "  tol, rng, random, positive)\n",
      "...../Users/dolcikey/opt/anaconda3/lib/python3.7/site-packages/sklearn/linear_model/_coordinate_descent.py:472: ConvergenceWarning: Objective did not converge. You might want to increase the number of iterations. Duality gap: 1.277864914185102, tolerance: 0.39902827516663397\n",
      "  tol, rng, random, positive)\n",
      "./Users/dolcikey/opt/anaconda3/lib/python3.7/site-packages/sklearn/linear_model/_coordinate_descent.py:472: ConvergenceWarning: Objective did not converge. You might want to increase the number of iterations. Duality gap: 1.238338494672007, tolerance: 0.39902827516663397\n",
      "  tol, rng, random, positive)\n",
      "./Users/dolcikey/opt/anaconda3/lib/python3.7/site-packages/sklearn/linear_model/_coordinate_descent.py:472: ConvergenceWarning: Objective did not converge. You might want to increase the number of iterations. Duality gap: 1.3096524504780973, tolerance: 0.39902827516663397\n",
      "  tol, rng, random, positive)\n",
      "./Users/dolcikey/opt/anaconda3/lib/python3.7/site-packages/sklearn/linear_model/_coordinate_descent.py:472: ConvergenceWarning: Objective did not converge. You might want to increase the number of iterations. Duality gap: 0.8407300688263604, tolerance: 0.39902827516663397\n",
      "  tol, rng, random, positive)\n",
      "./Users/dolcikey/opt/anaconda3/lib/python3.7/site-packages/sklearn/linear_model/_coordinate_descent.py:472: ConvergenceWarning: Objective did not converge. You might want to increase the number of iterations. Duality gap: 4.387183208837996, tolerance: 0.39902827516663397\n",
      "  tol, rng, random, positive)\n",
      "./Users/dolcikey/opt/anaconda3/lib/python3.7/site-packages/sklearn/linear_model/_coordinate_descent.py:472: ConvergenceWarning: Objective did not converge. You might want to increase the number of iterations. Duality gap: 11.913637753729745, tolerance: 0.39902827516663397\n",
      "  tol, rng, random, positive)\n",
      "..................................................................................../Users/dolcikey/opt/anaconda3/lib/python3.7/site-packages/sklearn/linear_model/_coordinate_descent.py:472: ConvergenceWarning: Objective did not converge. You might want to increase the number of iterations. Duality gap: 0.9678346623609286, tolerance: 0.39793853246588434\n",
      "  tol, rng, random, positive)\n",
      ".../Users/dolcikey/opt/anaconda3/lib/python3.7/site-packages/sklearn/linear_model/_coordinate_descent.py:472: ConvergenceWarning: Objective did not converge. You might want to increase the number of iterations. Duality gap: 0.49219679110547077, tolerance: 0.39793853246588434\n",
      "  tol, rng, random, positive)\n",
      "./Users/dolcikey/opt/anaconda3/lib/python3.7/site-packages/sklearn/linear_model/_coordinate_descent.py:472: ConvergenceWarning: Objective did not converge. You might want to increase the number of iterations. Duality gap: 0.9969152137655328, tolerance: 0.39793853246588434\n",
      "  tol, rng, random, positive)\n",
      "./Users/dolcikey/opt/anaconda3/lib/python3.7/site-packages/sklearn/linear_model/_coordinate_descent.py:472: ConvergenceWarning: Objective did not converge. You might want to increase the number of iterations. Duality gap: 1.025578314998711, tolerance: 0.39793853246588434\n",
      "  tol, rng, random, positive)\n",
      "./Users/dolcikey/opt/anaconda3/lib/python3.7/site-packages/sklearn/linear_model/_coordinate_descent.py:472: ConvergenceWarning: Objective did not converge. You might want to increase the number of iterations. Duality gap: 0.998455176636071, tolerance: 0.39793853246588434\n",
      "  tol, rng, random, positive)\n",
      "./Users/dolcikey/opt/anaconda3/lib/python3.7/site-packages/sklearn/linear_model/_coordinate_descent.py:472: ConvergenceWarning: Objective did not converge. You might want to increase the number of iterations. Duality gap: 0.944554395142859, tolerance: 0.39793853246588434\n",
      "  tol, rng, random, positive)\n",
      "./Users/dolcikey/opt/anaconda3/lib/python3.7/site-packages/sklearn/linear_model/_coordinate_descent.py:472: ConvergenceWarning: Objective did not converge. You might want to increase the number of iterations. Duality gap: 0.9051173448024201, tolerance: 0.39793853246588434\n",
      "  tol, rng, random, positive)\n",
      "./Users/dolcikey/opt/anaconda3/lib/python3.7/site-packages/sklearn/linear_model/_coordinate_descent.py:472: ConvergenceWarning: Objective did not converge. You might want to increase the number of iterations. Duality gap: 0.8719725150849627, tolerance: 0.39793853246588434\n",
      "  tol, rng, random, positive)\n",
      "./Users/dolcikey/opt/anaconda3/lib/python3.7/site-packages/sklearn/linear_model/_coordinate_descent.py:472: ConvergenceWarning: Objective did not converge. You might want to increase the number of iterations. Duality gap: 0.8391740892984672, tolerance: 0.39793853246588434\n",
      "  tol, rng, random, positive)\n",
      "./Users/dolcikey/opt/anaconda3/lib/python3.7/site-packages/sklearn/linear_model/_coordinate_descent.py:472: ConvergenceWarning: Objective did not converge. You might want to increase the number of iterations. Duality gap: 0.8064934394715237, tolerance: 0.39793853246588434\n",
      "  tol, rng, random, positive)\n",
      "./Users/dolcikey/opt/anaconda3/lib/python3.7/site-packages/sklearn/linear_model/_coordinate_descent.py:472: ConvergenceWarning: Objective did not converge. You might want to increase the number of iterations. Duality gap: 0.7745153363698591, tolerance: 0.39793853246588434\n",
      "  tol, rng, random, positive)\n",
      "./Users/dolcikey/opt/anaconda3/lib/python3.7/site-packages/sklearn/linear_model/_coordinate_descent.py:472: ConvergenceWarning: Objective did not converge. You might want to increase the number of iterations. Duality gap: 0.5001519425668448, tolerance: 0.39793853246588434\n",
      "  tol, rng, random, positive)\n",
      "../Users/dolcikey/opt/anaconda3/lib/python3.7/site-packages/sklearn/linear_model/_coordinate_descent.py:472: ConvergenceWarning: Objective did not converge. You might want to increase the number of iterations. Duality gap: 0.8617715017699084, tolerance: 0.39793853246588434\n",
      "  tol, rng, random, positive)\n",
      "./Users/dolcikey/opt/anaconda3/lib/python3.7/site-packages/sklearn/linear_model/_coordinate_descent.py:472: ConvergenceWarning: Objective did not converge. You might want to increase the number of iterations. Duality gap: 1.2340957742439969, tolerance: 0.39793853246588434\n",
      "  tol, rng, random, positive)\n",
      ".[Parallel(n_jobs=1)]: Done   5 out of   5 | elapsed:    4.2s finished\n",
      "/Users/dolcikey/opt/anaconda3/lib/python3.7/site-packages/sklearn/linear_model/_coordinate_descent.py:476: ConvergenceWarning: Objective did not converge. You might want to increase the number of iterations. Duality gap: 5.6983670038544005, tolerance: 0.49804716404224847\n",
      "  positive)\n"
     ]
    },
    {
     "data": {
      "text/plain": [
       "LassoCV(alphas=None, copy_X=True, cv=5, eps=0.001, fit_intercept=True,\n",
       "        max_iter=1000, n_alphas=100, n_jobs=None, normalize=False,\n",
       "        positive=False, precompute='auto', random_state=42, selection='cyclic',\n",
       "        tol=0.0001, verbose=1)"
      ]
     },
     "execution_count": 176,
     "metadata": {},
     "output_type": "execute_result"
    }
   ],
   "source": [
    "lasso_CV = LassoCV(cv = 5, random_state = 42, verbose = 1)\n",
    "lasso_CV.fit(X_train, y_train)"
   ]
  },
  {
   "cell_type": "code",
   "execution_count": 177,
   "metadata": {},
   "outputs": [],
   "source": [
    "y_train_lasso_CV_pred = lasso_CV.predict(X_train)"
   ]
  },
  {
   "cell_type": "code",
   "execution_count": 178,
   "metadata": {},
   "outputs": [
    {
     "name": "stdout",
     "output_type": "stream",
     "text": [
      "RMSE:  518.6398300790338\n"
     ]
    }
   ],
   "source": [
    "print(\"RMSE: \", np.sqrt(metrics.mean_squared_error(np.exp(y_train), np.exp(y_train_lasso_CV_pred))))"
   ]
  },
  {
   "cell_type": "code",
   "execution_count": 179,
   "metadata": {},
   "outputs": [
    {
     "data": {
      "text/plain": [
       "<matplotlib.axes._subplots.AxesSubplot at 0x1a2a29d890>"
      ]
     },
     "execution_count": 179,
     "metadata": {},
     "output_type": "execute_result"
    },
    {
     "data": {
      "image/png": "[encoded data removed]",
      "text/plain": [
       "<Figure size 1152x576 with 1 Axes>"
      ]
     },
     "metadata": {},
     "output_type": "display_data"
    }
   ],
   "source": [
    "lasso_coef01 = pd.DataFrame(data=lasso_CV.coef_).T\n",
    "lasso_coef01.columns = X_train.columns\n",
    "lasso_coef01 = lasso_coef01.T.sort_values(by=0).T\n",
    "lasso_coef01.plot(kind='bar', title='Modal Coefficients', legend=False, figsize=(16,8))\n",
    "\n"
   ]
  },
  {
   "cell_type": "markdown",
   "metadata": {},
   "source": [
    " "
   ]
  },
  {
   "cell_type": "markdown",
   "metadata": {},
   "source": [
    " "
   ]
  },
  {
   "cell_type": "markdown",
   "metadata": {},
   "source": [
    " "
   ]
  },
  {
   "cell_type": "markdown",
   "metadata": {},
   "source": [
    "## Linear Regression Model"
   ]
  },
  {
   "cell_type": "markdown",
   "metadata": {},
   "source": [
    " "
   ]
  },
  {
   "cell_type": "markdown",
   "metadata": {},
   "source": [
    " "
   ]
  },
  {
   "cell_type": "code",
   "execution_count": 121,
   "metadata": {},
   "outputs": [],
   "source": [
    "X_train, X_test, y_train, y_test = train_test_split(df_features, y,random_state = 42, test_size=0.2)"
   ]
  },
  {
   "cell_type": "code",
   "execution_count": 122,
   "metadata": {},
   "outputs": [
    {
     "name": "stdout",
     "output_type": "stream",
     "text": [
      "Training Root Mean Squared Error:  517.1930895288122\n"
     ]
    }
   ],
   "source": [
    "# Create a linear regression object\n",
    "lm_2 = LinearRegression()\n",
    "\n",
    "\n",
    "# Fit the linear regression \n",
    "lm_2 = lm_2.fit(X_train, y_train)\n",
    "y_train_pred = lm_2.predict(X_train)\n",
    "train_rmse = np.sqrt(metrics.mean_squared_error(np.exp(y_train), np.exp(y_train_pred)))\n",
    "\n",
    "print('Training Root Mean Squared Error: ', train_rmse)\n",
    "\n"
   ]
  },
  {
   "cell_type": "code",
   "execution_count": 123,
   "metadata": {},
   "outputs": [],
   "source": [
    "# use fitted model to predict on test data\n",
    "y_pred = lm_2.predict(X_test)\n",
    "\n",
    "test_rmse = np.sqrt(metrics.mean_squared_error(np.exp(y_test), np.exp(y_pred)))"
   ]
  },
  {
   "cell_type": "code",
   "execution_count": 124,
   "metadata": {},
   "outputs": [
    {
     "name": "stdout",
     "output_type": "stream",
     "text": [
      "Testing Root Mean Squared Error:  512.9144505577127\n",
      "Training:  517 vs. Testing:  512\n"
     ]
    }
   ],
   "source": [
    "print('Testing Root Mean Squared Error: ' , test_rmse)\n",
    "print('Training: ', int(train_rmse), 'vs. Testing: ', int(test_rmse))"
   ]
  }
 ],
 "metadata": {
  "kernelspec": {
   "display_name": "Python 3",
   "language": "python",
   "name": "python3"
  },
  "language_info": {
   "codemirror_mode": {
    "name": "ipython",
    "version": 3
   },
   "file_extension": ".py",
   "mimetype": "text/x-python",
   "name": "python",
   "nbconvert_exporter": "python",
   "pygments_lexer": "ipython3",
   "version": "3.7.6"
  }
 },
 "nbformat": 4,
 "nbformat_minor": 4
}
