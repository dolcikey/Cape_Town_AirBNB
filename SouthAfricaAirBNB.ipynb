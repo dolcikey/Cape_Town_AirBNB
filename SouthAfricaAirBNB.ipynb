{
 "cells": [
  {
   "cell_type": "code",
   "execution_count": 608,
   "metadata": {},
   "outputs": [],
   "source": [
    "import pandas as pd\n",
    "pd.set_option('display.max_columns', 300)\n",
    "\n",
    "import numpy as np\n",
    "import statsmodels.api as sm\n",
    "import matplotlib.pyplot as plt\n",
    "import seaborn as sns\n",
    "plt.style.use('fivethirtyeight')   \n",
    "import scipy.stats as stats\n",
    "from statsmodels.formula.api import ols\n",
    "import matplotlib.pyplot as plt\n",
    "%matplotlib inline\n",
    "from sklearn.dummy import DummyRegressor\n",
    "from sklearn.model_selection import train_test_split\n",
    "from sklearn.linear_model import LinearRegression\n",
    "from sklearn import metrics\n",
    "from sklearn.preprocessing import StandardScaler\n",
    "import warnings\n",
    "from sklearn.metrics import mean_squared_error\n",
    "from math import radians, cos, sin, asin, sqrt\n",
    "from geopy.distance import great_circle\n",
    "from sklearn.linear_model import Lasso\n",
    "\n",
    "from sklearn.linear_model import Ridge\n",
    "from yellowbrick.datasets import load_concrete\n",
    "from yellowbrick.regressor import ResidualsPlot\n",
    "from sklearn.ensemble import RandomForestRegressor\n",
    "from sklearn.model_selection import train_test_split as tts\n"
   ]
  },
  {
   "cell_type": "code",
   "execution_count": null,
   "metadata": {},
   "outputs": [],
   "source": [
    "\n"
   ]
  },
  {
   "cell_type": "code",
   "execution_count": null,
   "metadata": {},
   "outputs": [],
   "source": []
  },
  {
   "cell_type": "code",
   "execution_count": 609,
   "metadata": {},
   "outputs": [],
   "source": [
    "listing_df = pd.read_csv('listings.csv')"
   ]
  },
  {
   "cell_type": "code",
   "execution_count": 610,
   "metadata": {},
   "outputs": [],
   "source": [
    "crime_df = pd.read_csv('SA_crime_ward.csv')"
   ]
  },
  {
   "cell_type": "code",
   "execution_count": 611,
   "metadata": {},
   "outputs": [],
   "source": [
    "crime_df.drop(111, inplace = True)"
   ]
  },
  {
   "cell_type": "code",
   "execution_count": null,
   "metadata": {},
   "outputs": [],
   "source": []
  },
  {
   "cell_type": "code",
   "execution_count": null,
   "metadata": {},
   "outputs": [],
   "source": []
  },
  {
   "cell_type": "code",
   "execution_count": null,
   "metadata": {},
   "outputs": [],
   "source": []
  },
  {
   "cell_type": "code",
   "execution_count": 667,
   "metadata": {},
   "outputs": [
    {
     "data": {
      "text/html": [
       "<div>\n",
       "<style scoped>\n",
       "    .dataframe tbody tr th:only-of-type {\n",
       "        vertical-align: middle;\n",
       "    }\n",
       "\n",
       "    .dataframe tbody tr th {\n",
       "        vertical-align: top;\n",
       "    }\n",
       "\n",
       "    .dataframe thead th {\n",
       "        text-align: right;\n",
       "    }\n",
       "</style>\n",
       "<table border=\"1\" class=\"dataframe\">\n",
       "  <thead>\n",
       "    <tr style=\"text-align: right;\">\n",
       "      <th></th>\n",
       "      <th>id</th>\n",
       "      <th>name</th>\n",
       "      <th>host_id</th>\n",
       "      <th>host_name</th>\n",
       "      <th>neighbourhood</th>\n",
       "      <th>latitude</th>\n",
       "      <th>longitude</th>\n",
       "      <th>price</th>\n",
       "      <th>minimum_nights</th>\n",
       "      <th>number_of_reviews</th>\n",
       "      <th>...</th>\n",
       "      <th>total_10000 _rounded</th>\n",
       "      <th>distance_cc</th>\n",
       "      <th>distance_waterfront</th>\n",
       "      <th>distance_wine</th>\n",
       "      <th>distance_airport</th>\n",
       "      <th>price_usd_log</th>\n",
       "      <th>distance_cc_log</th>\n",
       "      <th>availability_log</th>\n",
       "      <th>availability_365_sin</th>\n",
       "      <th>price_log</th>\n",
       "    </tr>\n",
       "  </thead>\n",
       "  <tbody>\n",
       "    <tr>\n",
       "      <th>5</th>\n",
       "      <td>15199</td>\n",
       "      <td>Self catering apartment</td>\n",
       "      <td>59694</td>\n",
       "      <td>Alexa</td>\n",
       "      <td>115</td>\n",
       "      <td>-33.91044</td>\n",
       "      <td>18.41239</td>\n",
       "      <td>124995</td>\n",
       "      <td>14</td>\n",
       "      <td>2</td>\n",
       "      <td>...</td>\n",
       "      <td>NaN</td>\n",
       "      <td>1.203734</td>\n",
       "      <td>0.663044</td>\n",
       "      <td>27.195878</td>\n",
       "      <td>1.203734</td>\n",
       "      <td>9.080677</td>\n",
       "      <td>0.185428</td>\n",
       "      <td>5.897154</td>\n",
       "      <td>-0.412091</td>\n",
       "      <td>11.736029</td>\n",
       "    </tr>\n",
       "    <tr>\n",
       "      <th>1647</th>\n",
       "      <td>5391764</td>\n",
       "      <td>Luxus- The Lap of Luxury</td>\n",
       "      <td>953634</td>\n",
       "      <td>Simona</td>\n",
       "      <td>54</td>\n",
       "      <td>-33.94401</td>\n",
       "      <td>18.37794</td>\n",
       "      <td>89992</td>\n",
       "      <td>1</td>\n",
       "      <td>2</td>\n",
       "      <td>...</td>\n",
       "      <td>182.0</td>\n",
       "      <td>2.957263</td>\n",
       "      <td>3.708038</td>\n",
       "      <td>28.161445</td>\n",
       "      <td>2.957263</td>\n",
       "      <td>8.752124</td>\n",
       "      <td>1.084264</td>\n",
       "      <td>5.823046</td>\n",
       "      <td>-0.961389</td>\n",
       "      <td>11.407476</td>\n",
       "    </tr>\n",
       "    <tr>\n",
       "      <th>3319</th>\n",
       "      <td>9337739</td>\n",
       "      <td>Constantia Views</td>\n",
       "      <td>2789205</td>\n",
       "      <td>Martin</td>\n",
       "      <td>62</td>\n",
       "      <td>-34.00614</td>\n",
       "      <td>18.42492</td>\n",
       "      <td>60955</td>\n",
       "      <td>5</td>\n",
       "      <td>1</td>\n",
       "      <td>...</td>\n",
       "      <td>222.0</td>\n",
       "      <td>5.613346</td>\n",
       "      <td>7.089367</td>\n",
       "      <td>24.429044</td>\n",
       "      <td>5.613346</td>\n",
       "      <td>8.362539</td>\n",
       "      <td>1.725147</td>\n",
       "      <td>4.369448</td>\n",
       "      <td>-0.444113</td>\n",
       "      <td>11.017891</td>\n",
       "    </tr>\n",
       "    <tr>\n",
       "      <th>3812</th>\n",
       "      <td>9896277</td>\n",
       "      <td>The Penthouse</td>\n",
       "      <td>221078</td>\n",
       "      <td>Alexis</td>\n",
       "      <td>115</td>\n",
       "      <td>-33.90467</td>\n",
       "      <td>18.39908</td>\n",
       "      <td>74992</td>\n",
       "      <td>10</td>\n",
       "      <td>0</td>\n",
       "      <td>...</td>\n",
       "      <td>NaN</td>\n",
       "      <td>2.002956</td>\n",
       "      <td>1.230566</td>\n",
       "      <td>28.056085</td>\n",
       "      <td>2.002956</td>\n",
       "      <td>8.569784</td>\n",
       "      <td>0.694624</td>\n",
       "      <td>5.899897</td>\n",
       "      <td>0.544046</td>\n",
       "      <td>11.225137</td>\n",
       "    </tr>\n",
       "    <tr>\n",
       "      <th>4410</th>\n",
       "      <td>11030375</td>\n",
       "      <td>Palm House Villa</td>\n",
       "      <td>1647839</td>\n",
       "      <td>Ilsa</td>\n",
       "      <td>74</td>\n",
       "      <td>-34.00617</td>\n",
       "      <td>18.34382</td>\n",
       "      <td>54216</td>\n",
       "      <td>7</td>\n",
       "      <td>0</td>\n",
       "      <td>...</td>\n",
       "      <td>235.0</td>\n",
       "      <td>7.259082</td>\n",
       "      <td>8.338896</td>\n",
       "      <td>28.995602</td>\n",
       "      <td>7.259082</td>\n",
       "      <td>8.245379</td>\n",
       "      <td>1.982253</td>\n",
       "      <td>5.153292</td>\n",
       "      <td>-0.210811</td>\n",
       "      <td>10.900731</td>\n",
       "    </tr>\n",
       "    <tr>\n",
       "      <th>...</th>\n",
       "      <td>...</td>\n",
       "      <td>...</td>\n",
       "      <td>...</td>\n",
       "      <td>...</td>\n",
       "      <td>...</td>\n",
       "      <td>...</td>\n",
       "      <td>...</td>\n",
       "      <td>...</td>\n",
       "      <td>...</td>\n",
       "      <td>...</td>\n",
       "      <td>...</td>\n",
       "      <td>...</td>\n",
       "      <td>...</td>\n",
       "      <td>...</td>\n",
       "      <td>...</td>\n",
       "      <td>...</td>\n",
       "      <td>...</td>\n",
       "      <td>...</td>\n",
       "      <td>...</td>\n",
       "      <td>...</td>\n",
       "      <td>...</td>\n",
       "    </tr>\n",
       "    <tr>\n",
       "      <th>23401</th>\n",
       "      <td>42577012</td>\n",
       "      <td>Villa Mirage</td>\n",
       "      <td>198144572</td>\n",
       "      <td>Anastasia</td>\n",
       "      <td>74</td>\n",
       "      <td>-34.01273</td>\n",
       "      <td>18.33733</td>\n",
       "      <td>97998</td>\n",
       "      <td>1</td>\n",
       "      <td>0</td>\n",
       "      <td>...</td>\n",
       "      <td>235.0</td>\n",
       "      <td>7.845263</td>\n",
       "      <td>8.920355</td>\n",
       "      <td>29.290263</td>\n",
       "      <td>7.845263</td>\n",
       "      <td>8.837350</td>\n",
       "      <td>2.059910</td>\n",
       "      <td>4.317488</td>\n",
       "      <td>-0.387782</td>\n",
       "      <td>11.492702</td>\n",
       "    </tr>\n",
       "    <tr>\n",
       "      <th>23777</th>\n",
       "      <td>42946068</td>\n",
       "      <td>Pink Room</td>\n",
       "      <td>133671638</td>\n",
       "      <td>Lauralee</td>\n",
       "      <td>74</td>\n",
       "      <td>-34.05395</td>\n",
       "      <td>18.33855</td>\n",
       "      <td>156742</td>\n",
       "      <td>1</td>\n",
       "      <td>0</td>\n",
       "      <td>...</td>\n",
       "      <td>235.0</td>\n",
       "      <td>10.174669</td>\n",
       "      <td>11.400041</td>\n",
       "      <td>28.927578</td>\n",
       "      <td>10.174669</td>\n",
       "      <td>9.307004</td>\n",
       "      <td>2.319901</td>\n",
       "      <td>5.379897</td>\n",
       "      <td>-0.228082</td>\n",
       "      <td>11.962356</td>\n",
       "    </tr>\n",
       "    <tr>\n",
       "      <th>23914</th>\n",
       "      <td>43146099</td>\n",
       "      <td>Experience African Culture and  African Food</td>\n",
       "      <td>343509190</td>\n",
       "      <td>Ntombi</td>\n",
       "      <td>92</td>\n",
       "      <td>-34.03016</td>\n",
       "      <td>18.66199</td>\n",
       "      <td>182616</td>\n",
       "      <td>2</td>\n",
       "      <td>0</td>\n",
       "      <td>...</td>\n",
       "      <td>259.0</td>\n",
       "      <td>15.449114</td>\n",
       "      <td>16.369511</td>\n",
       "      <td>10.843568</td>\n",
       "      <td>15.449114</td>\n",
       "      <td>9.459788</td>\n",
       "      <td>2.737552</td>\n",
       "      <td>5.899897</td>\n",
       "      <td>0.544046</td>\n",
       "      <td>12.115141</td>\n",
       "    </tr>\n",
       "    <tr>\n",
       "      <th>23946</th>\n",
       "      <td>43196603</td>\n",
       "      <td>Elegant Double Standard Room in Cape Town</td>\n",
       "      <td>194230296</td>\n",
       "      <td>Stay.Live.Grow</td>\n",
       "      <td>57</td>\n",
       "      <td>-33.93646</td>\n",
       "      <td>18.47019</td>\n",
       "      <td>287442</td>\n",
       "      <td>1</td>\n",
       "      <td>0</td>\n",
       "      <td>...</td>\n",
       "      <td>242.0</td>\n",
       "      <td>2.760319</td>\n",
       "      <td>3.642993</td>\n",
       "      <td>23.434199</td>\n",
       "      <td>2.760319</td>\n",
       "      <td>9.913424</td>\n",
       "      <td>1.015346</td>\n",
       "      <td>4.941642</td>\n",
       "      <td>0.980240</td>\n",
       "      <td>12.568776</td>\n",
       "    </tr>\n",
       "    <tr>\n",
       "      <th>23988</th>\n",
       "      <td>43241947</td>\n",
       "      <td>Luxury secluded Villa with chef and housekeeper</td>\n",
       "      <td>282074088</td>\n",
       "      <td>Nynke</td>\n",
       "      <td>67</td>\n",
       "      <td>-34.05985</td>\n",
       "      <td>18.52672</td>\n",
       "      <td>49994</td>\n",
       "      <td>5</td>\n",
       "      <td>0</td>\n",
       "      <td>...</td>\n",
       "      <td>244.0</td>\n",
       "      <td>11.022662</td>\n",
       "      <td>12.392982</td>\n",
       "      <td>18.150629</td>\n",
       "      <td>11.022662</td>\n",
       "      <td>8.164306</td>\n",
       "      <td>2.399953</td>\n",
       "      <td>5.598422</td>\n",
       "      <td>-0.176046</td>\n",
       "      <td>10.819658</td>\n",
       "    </tr>\n",
       "  </tbody>\n",
       "</table>\n",
       "<p>93 rows × 39 columns</p>\n",
       "</div>"
      ],
      "text/plain": [
       "             id                                             name    host_id  \\\n",
       "5         15199                          Self catering apartment      59694   \n",
       "1647    5391764                         Luxus- The Lap of Luxury     953634   \n",
       "3319    9337739                                 Constantia Views    2789205   \n",
       "3812    9896277                                    The Penthouse     221078   \n",
       "4410   11030375                                 Palm House Villa    1647839   \n",
       "...         ...                                              ...        ...   \n",
       "23401  42577012                                     Villa Mirage  198144572   \n",
       "23777  42946068                                        Pink Room  133671638   \n",
       "23914  43146099     Experience African Culture and  African Food  343509190   \n",
       "23946  43196603        Elegant Double Standard Room in Cape Town  194230296   \n",
       "23988  43241947  Luxury secluded Villa with chef and housekeeper  282074088   \n",
       "\n",
       "            host_name  neighbourhood  latitude  longitude   price  \\\n",
       "5               Alexa            115 -33.91044   18.41239  124995   \n",
       "1647           Simona             54 -33.94401   18.37794   89992   \n",
       "3319           Martin             62 -34.00614   18.42492   60955   \n",
       "3812           Alexis            115 -33.90467   18.39908   74992   \n",
       "4410             Ilsa             74 -34.00617   18.34382   54216   \n",
       "...               ...            ...       ...        ...     ...   \n",
       "23401       Anastasia             74 -34.01273   18.33733   97998   \n",
       "23777        Lauralee             74 -34.05395   18.33855  156742   \n",
       "23914          Ntombi             92 -34.03016   18.66199  182616   \n",
       "23946  Stay.Live.Grow             57 -33.93646   18.47019  287442   \n",
       "23988           Nynke             67 -34.05985   18.52672   49994   \n",
       "\n",
       "       minimum_nights  number_of_reviews  ... total_10000 _rounded  \\\n",
       "5                  14                  2  ...                  NaN   \n",
       "1647                1                  2  ...                182.0   \n",
       "3319                5                  1  ...                222.0   \n",
       "3812               10                  0  ...                  NaN   \n",
       "4410                7                  0  ...                235.0   \n",
       "...               ...                ...  ...                  ...   \n",
       "23401               1                  0  ...                235.0   \n",
       "23777               1                  0  ...                235.0   \n",
       "23914               2                  0  ...                259.0   \n",
       "23946               1                  0  ...                242.0   \n",
       "23988               5                  0  ...                244.0   \n",
       "\n",
       "       distance_cc  distance_waterfront  distance_wine  distance_airport  \\\n",
       "5         1.203734             0.663044      27.195878          1.203734   \n",
       "1647      2.957263             3.708038      28.161445          2.957263   \n",
       "3319      5.613346             7.089367      24.429044          5.613346   \n",
       "3812      2.002956             1.230566      28.056085          2.002956   \n",
       "4410      7.259082             8.338896      28.995602          7.259082   \n",
       "...            ...                  ...            ...               ...   \n",
       "23401     7.845263             8.920355      29.290263          7.845263   \n",
       "23777    10.174669            11.400041      28.927578         10.174669   \n",
       "23914    15.449114            16.369511      10.843568         15.449114   \n",
       "23946     2.760319             3.642993      23.434199          2.760319   \n",
       "23988    11.022662            12.392982      18.150629         11.022662   \n",
       "\n",
       "       price_usd_log  distance_cc_log  availability_log  availability_365_sin  \\\n",
       "5           9.080677         0.185428          5.897154             -0.412091   \n",
       "1647        8.752124         1.084264          5.823046             -0.961389   \n",
       "3319        8.362539         1.725147          4.369448             -0.444113   \n",
       "3812        8.569784         0.694624          5.899897              0.544046   \n",
       "4410        8.245379         1.982253          5.153292             -0.210811   \n",
       "...              ...              ...               ...                   ...   \n",
       "23401       8.837350         2.059910          4.317488             -0.387782   \n",
       "23777       9.307004         2.319901          5.379897             -0.228082   \n",
       "23914       9.459788         2.737552          5.899897              0.544046   \n",
       "23946       9.913424         1.015346          4.941642              0.980240   \n",
       "23988       8.164306         2.399953          5.598422             -0.176046   \n",
       "\n",
       "       price_log  \n",
       "5      11.736029  \n",
       "1647   11.407476  \n",
       "3319   11.017891  \n",
       "3812   11.225137  \n",
       "4410   10.900731  \n",
       "...          ...  \n",
       "23401  11.492702  \n",
       "23777  11.962356  \n",
       "23914  12.115141  \n",
       "23946  12.568776  \n",
       "23988  10.819658  \n",
       "\n",
       "[93 rows x 39 columns]"
      ]
     },
     "execution_count": 667,
     "metadata": {},
     "output_type": "execute_result"
    }
   ],
   "source": [
    "listing_df = listing_df[listing_df['price_usd'] >= 3000]"
   ]
  },
  {
   "cell_type": "code",
   "execution_count": null,
   "metadata": {},
   "outputs": [],
   "source": []
  },
  {
   "cell_type": "code",
   "execution_count": 612,
   "metadata": {},
   "outputs": [],
   "source": [
    "listing_df.drop(4957, inplace = True)"
   ]
  },
  {
   "cell_type": "code",
   "execution_count": 613,
   "metadata": {},
   "outputs": [
    {
     "data": {
      "text/html": [
       "<div>\n",
       "<style scoped>\n",
       "    .dataframe tbody tr th:only-of-type {\n",
       "        vertical-align: middle;\n",
       "    }\n",
       "\n",
       "    .dataframe tbody tr th {\n",
       "        vertical-align: top;\n",
       "    }\n",
       "\n",
       "    .dataframe thead th {\n",
       "        text-align: right;\n",
       "    }\n",
       "</style>\n",
       "<table border=\"1\" class=\"dataframe\">\n",
       "  <thead>\n",
       "    <tr style=\"text-align: right;\">\n",
       "      <th></th>\n",
       "      <th>id</th>\n",
       "      <th>name</th>\n",
       "      <th>host_id</th>\n",
       "      <th>host_name</th>\n",
       "      <th>neighbourhood_group</th>\n",
       "      <th>neighbourhood</th>\n",
       "      <th>latitude</th>\n",
       "      <th>longitude</th>\n",
       "      <th>room_type</th>\n",
       "      <th>price</th>\n",
       "      <th>minimum_nights</th>\n",
       "      <th>number_of_reviews</th>\n",
       "      <th>last_review</th>\n",
       "      <th>reviews_per_month</th>\n",
       "      <th>calculated_host_listings_count</th>\n",
       "      <th>availability_365</th>\n",
       "    </tr>\n",
       "  </thead>\n",
       "  <tbody>\n",
       "    <tr>\n",
       "      <th>6194</th>\n",
       "      <td>14937323</td>\n",
       "      <td>Pied a terre,views , chic  central</td>\n",
       "      <td>63403205</td>\n",
       "      <td>Manuela</td>\n",
       "      <td>NaN</td>\n",
       "      <td>Ward 115</td>\n",
       "      <td>-33.91182</td>\n",
       "      <td>18.41313</td>\n",
       "      <td>Entire home/apt</td>\n",
       "      <td>1004</td>\n",
       "      <td>1125</td>\n",
       "      <td>1</td>\n",
       "      <td>2019-02-10</td>\n",
       "      <td>0.06</td>\n",
       "      <td>3</td>\n",
       "      <td>0</td>\n",
       "    </tr>\n",
       "  </tbody>\n",
       "</table>\n",
       "</div>"
      ],
      "text/plain": [
       "            id                                name   host_id host_name  \\\n",
       "6194  14937323  Pied a terre,views , chic  central  63403205   Manuela   \n",
       "\n",
       "      neighbourhood_group neighbourhood  latitude  longitude        room_type  \\\n",
       "6194                  NaN      Ward 115 -33.91182   18.41313  Entire home/apt   \n",
       "\n",
       "      price  minimum_nights  number_of_reviews last_review  reviews_per_month  \\\n",
       "6194   1004            1125                  1  2019-02-10               0.06   \n",
       "\n",
       "      calculated_host_listings_count  availability_365  \n",
       "6194                               3                 0  "
      ]
     },
     "execution_count": 613,
     "metadata": {},
     "output_type": "execute_result"
    }
   ],
   "source": [
    "listing_df[listing_df['minimum_nights'] == 1125]"
   ]
  },
  {
   "cell_type": "code",
   "execution_count": 614,
   "metadata": {},
   "outputs": [
    {
     "data": {
      "text/plain": [
       "Index(['id', 'name', 'host_id', 'host_name', 'neighbourhood_group',\n",
       "       'neighbourhood', 'latitude', 'longitude', 'room_type', 'price',\n",
       "       'minimum_nights', 'number_of_reviews', 'last_review',\n",
       "       'reviews_per_month', 'calculated_host_listings_count',\n",
       "       'availability_365'],\n",
       "      dtype='object')"
      ]
     },
     "execution_count": 614,
     "metadata": {},
     "output_type": "execute_result"
    }
   ],
   "source": [
    "listing_df.columns"
   ]
  },
  {
   "cell_type": "code",
   "execution_count": 615,
   "metadata": {},
   "outputs": [],
   "source": [
    "# Ward 112 impute mean from surounding wards (Ward 103, Ward 21, Ward 70 = 175)\n",
    "# Ward 113  impute mean from surounding wards (Ward 107, Ward 1, Ward 4 = 237)\n",
    "# Ward 115  impute mean from surounding wards (Ward 54, Ward 57, Ward 77, Ward 55 = 266)\n",
    "# Ward 116  impute mean from surounding wards (Ward 87, Ward 18, Ward 35, Ward 76, Ward 92, Ward 79, Ward 78 = 265)"
   ]
  },
  {
   "cell_type": "code",
   "execution_count": null,
   "metadata": {},
   "outputs": [],
   "source": []
  },
  {
   "cell_type": "code",
   "execution_count": 617,
   "metadata": {},
   "outputs": [
    {
     "ename": "KeyError",
     "evalue": "'total_10000 _rounded'",
     "output_type": "error",
     "traceback": [
      "\u001b[0;31m---------------------------------------------------------------------------\u001b[0m",
      "\u001b[0;31mKeyError\u001b[0m                                  Traceback (most recent call last)",
      "\u001b[0;32m~/opt/anaconda3/lib/python3.7/site-packages/pandas/core/indexes/base.py\u001b[0m in \u001b[0;36mget_loc\u001b[0;34m(self, key, method, tolerance)\u001b[0m\n\u001b[1;32m   2645\u001b[0m             \u001b[0;32mtry\u001b[0m\u001b[0;34m:\u001b[0m\u001b[0;34m\u001b[0m\u001b[0;34m\u001b[0m\u001b[0m\n\u001b[0;32m-> 2646\u001b[0;31m                 \u001b[0;32mreturn\u001b[0m \u001b[0mself\u001b[0m\u001b[0;34m.\u001b[0m\u001b[0m_engine\u001b[0m\u001b[0;34m.\u001b[0m\u001b[0mget_loc\u001b[0m\u001b[0;34m(\u001b[0m\u001b[0mkey\u001b[0m\u001b[0;34m)\u001b[0m\u001b[0;34m\u001b[0m\u001b[0;34m\u001b[0m\u001b[0m\n\u001b[0m\u001b[1;32m   2647\u001b[0m             \u001b[0;32mexcept\u001b[0m \u001b[0mKeyError\u001b[0m\u001b[0;34m:\u001b[0m\u001b[0;34m\u001b[0m\u001b[0;34m\u001b[0m\u001b[0m\n",
      "\u001b[0;32mpandas/_libs/index.pyx\u001b[0m in \u001b[0;36mpandas._libs.index.IndexEngine.get_loc\u001b[0;34m()\u001b[0m\n",
      "\u001b[0;32mpandas/_libs/index.pyx\u001b[0m in \u001b[0;36mpandas._libs.index.IndexEngine.get_loc\u001b[0;34m()\u001b[0m\n",
      "\u001b[0;32mpandas/_libs/hashtable_class_helper.pxi\u001b[0m in \u001b[0;36mpandas._libs.hashtable.PyObjectHashTable.get_item\u001b[0;34m()\u001b[0m\n",
      "\u001b[0;32mpandas/_libs/hashtable_class_helper.pxi\u001b[0m in \u001b[0;36mpandas._libs.hashtable.PyObjectHashTable.get_item\u001b[0;34m()\u001b[0m\n",
      "\u001b[0;31mKeyError\u001b[0m: 'total_10000 _rounded'",
      "\nDuring handling of the above exception, another exception occurred:\n",
      "\u001b[0;31mKeyError\u001b[0m                                  Traceback (most recent call last)",
      "\u001b[0;32m<ipython-input-617-1c09125d71b1>\u001b[0m in \u001b[0;36m<module>\u001b[0;34m\u001b[0m\n\u001b[0;32m----> 1\u001b[0;31m \u001b[0mlisting_df\u001b[0m\u001b[0;34m[\u001b[0m\u001b[0;34m'total_10000 _rounded'\u001b[0m\u001b[0;34m]\u001b[0m \u001b[0;34m=\u001b[0m \u001b[0mnp\u001b[0m\u001b[0;34m.\u001b[0m\u001b[0mwhere\u001b[0m\u001b[0;34m(\u001b[0m\u001b[0;34m(\u001b[0m\u001b[0mlisting_df\u001b[0m\u001b[0;34m[\u001b[0m\u001b[0;34m'neighbourhood'\u001b[0m\u001b[0;34m]\u001b[0m \u001b[0;34m==\u001b[0m \u001b[0;36m112\u001b[0m\u001b[0;34m)\u001b[0m\u001b[0;34m,\u001b[0m \u001b[0;36m175\u001b[0m\u001b[0;34m,\u001b[0m \u001b[0mlisting_df\u001b[0m\u001b[0;34m[\u001b[0m\u001b[0;34m'total_10000 _rounded'\u001b[0m\u001b[0;34m]\u001b[0m\u001b[0;34m)\u001b[0m\u001b[0;34m\u001b[0m\u001b[0;34m\u001b[0m\u001b[0m\n\u001b[0m",
      "\u001b[0;32m~/opt/anaconda3/lib/python3.7/site-packages/pandas/core/frame.py\u001b[0m in \u001b[0;36m__getitem__\u001b[0;34m(self, key)\u001b[0m\n\u001b[1;32m   2798\u001b[0m             \u001b[0;32mif\u001b[0m \u001b[0mself\u001b[0m\u001b[0;34m.\u001b[0m\u001b[0mcolumns\u001b[0m\u001b[0;34m.\u001b[0m\u001b[0mnlevels\u001b[0m \u001b[0;34m>\u001b[0m \u001b[0;36m1\u001b[0m\u001b[0;34m:\u001b[0m\u001b[0;34m\u001b[0m\u001b[0;34m\u001b[0m\u001b[0m\n\u001b[1;32m   2799\u001b[0m                 \u001b[0;32mreturn\u001b[0m \u001b[0mself\u001b[0m\u001b[0;34m.\u001b[0m\u001b[0m_getitem_multilevel\u001b[0m\u001b[0;34m(\u001b[0m\u001b[0mkey\u001b[0m\u001b[0;34m)\u001b[0m\u001b[0;34m\u001b[0m\u001b[0;34m\u001b[0m\u001b[0m\n\u001b[0;32m-> 2800\u001b[0;31m             \u001b[0mindexer\u001b[0m \u001b[0;34m=\u001b[0m \u001b[0mself\u001b[0m\u001b[0;34m.\u001b[0m\u001b[0mcolumns\u001b[0m\u001b[0;34m.\u001b[0m\u001b[0mget_loc\u001b[0m\u001b[0;34m(\u001b[0m\u001b[0mkey\u001b[0m\u001b[0;34m)\u001b[0m\u001b[0;34m\u001b[0m\u001b[0;34m\u001b[0m\u001b[0m\n\u001b[0m\u001b[1;32m   2801\u001b[0m             \u001b[0;32mif\u001b[0m \u001b[0mis_integer\u001b[0m\u001b[0;34m(\u001b[0m\u001b[0mindexer\u001b[0m\u001b[0;34m)\u001b[0m\u001b[0;34m:\u001b[0m\u001b[0;34m\u001b[0m\u001b[0;34m\u001b[0m\u001b[0m\n\u001b[1;32m   2802\u001b[0m                 \u001b[0mindexer\u001b[0m \u001b[0;34m=\u001b[0m \u001b[0;34m[\u001b[0m\u001b[0mindexer\u001b[0m\u001b[0;34m]\u001b[0m\u001b[0;34m\u001b[0m\u001b[0;34m\u001b[0m\u001b[0m\n",
      "\u001b[0;32m~/opt/anaconda3/lib/python3.7/site-packages/pandas/core/indexes/base.py\u001b[0m in \u001b[0;36mget_loc\u001b[0;34m(self, key, method, tolerance)\u001b[0m\n\u001b[1;32m   2646\u001b[0m                 \u001b[0;32mreturn\u001b[0m \u001b[0mself\u001b[0m\u001b[0;34m.\u001b[0m\u001b[0m_engine\u001b[0m\u001b[0;34m.\u001b[0m\u001b[0mget_loc\u001b[0m\u001b[0;34m(\u001b[0m\u001b[0mkey\u001b[0m\u001b[0;34m)\u001b[0m\u001b[0;34m\u001b[0m\u001b[0;34m\u001b[0m\u001b[0m\n\u001b[1;32m   2647\u001b[0m             \u001b[0;32mexcept\u001b[0m \u001b[0mKeyError\u001b[0m\u001b[0;34m:\u001b[0m\u001b[0;34m\u001b[0m\u001b[0;34m\u001b[0m\u001b[0m\n\u001b[0;32m-> 2648\u001b[0;31m                 \u001b[0;32mreturn\u001b[0m \u001b[0mself\u001b[0m\u001b[0;34m.\u001b[0m\u001b[0m_engine\u001b[0m\u001b[0;34m.\u001b[0m\u001b[0mget_loc\u001b[0m\u001b[0;34m(\u001b[0m\u001b[0mself\u001b[0m\u001b[0;34m.\u001b[0m\u001b[0m_maybe_cast_indexer\u001b[0m\u001b[0;34m(\u001b[0m\u001b[0mkey\u001b[0m\u001b[0;34m)\u001b[0m\u001b[0;34m)\u001b[0m\u001b[0;34m\u001b[0m\u001b[0;34m\u001b[0m\u001b[0m\n\u001b[0m\u001b[1;32m   2649\u001b[0m         \u001b[0mindexer\u001b[0m \u001b[0;34m=\u001b[0m \u001b[0mself\u001b[0m\u001b[0;34m.\u001b[0m\u001b[0mget_indexer\u001b[0m\u001b[0;34m(\u001b[0m\u001b[0;34m[\u001b[0m\u001b[0mkey\u001b[0m\u001b[0;34m]\u001b[0m\u001b[0;34m,\u001b[0m \u001b[0mmethod\u001b[0m\u001b[0;34m=\u001b[0m\u001b[0mmethod\u001b[0m\u001b[0;34m,\u001b[0m \u001b[0mtolerance\u001b[0m\u001b[0;34m=\u001b[0m\u001b[0mtolerance\u001b[0m\u001b[0;34m)\u001b[0m\u001b[0;34m\u001b[0m\u001b[0;34m\u001b[0m\u001b[0m\n\u001b[1;32m   2650\u001b[0m         \u001b[0;32mif\u001b[0m \u001b[0mindexer\u001b[0m\u001b[0;34m.\u001b[0m\u001b[0mndim\u001b[0m \u001b[0;34m>\u001b[0m \u001b[0;36m1\u001b[0m \u001b[0;32mor\u001b[0m \u001b[0mindexer\u001b[0m\u001b[0;34m.\u001b[0m\u001b[0msize\u001b[0m \u001b[0;34m>\u001b[0m \u001b[0;36m1\u001b[0m\u001b[0;34m:\u001b[0m\u001b[0;34m\u001b[0m\u001b[0;34m\u001b[0m\u001b[0m\n",
      "\u001b[0;32mpandas/_libs/index.pyx\u001b[0m in \u001b[0;36mpandas._libs.index.IndexEngine.get_loc\u001b[0;34m()\u001b[0m\n",
      "\u001b[0;32mpandas/_libs/index.pyx\u001b[0m in \u001b[0;36mpandas._libs.index.IndexEngine.get_loc\u001b[0;34m()\u001b[0m\n",
      "\u001b[0;32mpandas/_libs/hashtable_class_helper.pxi\u001b[0m in \u001b[0;36mpandas._libs.hashtable.PyObjectHashTable.get_item\u001b[0;34m()\u001b[0m\n",
      "\u001b[0;32mpandas/_libs/hashtable_class_helper.pxi\u001b[0m in \u001b[0;36mpandas._libs.hashtable.PyObjectHashTable.get_item\u001b[0;34m()\u001b[0m\n",
      "\u001b[0;31mKeyError\u001b[0m: 'total_10000 _rounded'"
     ]
    }
   ],
   "source": [
    "listing_df['total_10000 _rounded'] = np.where((listing_df['neighbourhood'] == 112), 175, listing_df['total_10000 _rounded'])"
   ]
  },
  {
   "cell_type": "code",
   "execution_count": 566,
   "metadata": {},
   "outputs": [],
   "source": [
    "listing_df['total_10000 _rounded_y'] = np.where((listing_df['neighbourhood'] == 113), 237, listing_df['total_10000 _rounded_y'])\n",
    "listing_df['total_10000 _rounded_y'] = np.where((listing_df['neighbourhood'] == 115), 266, listing_df['total_10000 _rounded_y'])\n",
    "listing_df['total_10000 _rounded_y'] = np.where((listing_df['neighbourhood'] == 116), 265, listing_df['total_10000 _rounded_y'])"
   ]
  },
  {
   "cell_type": "code",
   "execution_count": null,
   "metadata": {},
   "outputs": [],
   "source": []
  },
  {
   "cell_type": "code",
   "execution_count": null,
   "metadata": {},
   "outputs": [],
   "source": []
  },
  {
   "cell_type": "code",
   "execution_count": 618,
   "metadata": {},
   "outputs": [],
   "source": [
    "pd.set_option('display.max_columns', 20)"
   ]
  },
  {
   "cell_type": "code",
   "execution_count": 619,
   "metadata": {},
   "outputs": [
    {
     "data": {
      "text/html": [
       "<div>\n",
       "<style scoped>\n",
       "    .dataframe tbody tr th:only-of-type {\n",
       "        vertical-align: middle;\n",
       "    }\n",
       "\n",
       "    .dataframe tbody tr th {\n",
       "        vertical-align: top;\n",
       "    }\n",
       "\n",
       "    .dataframe thead th {\n",
       "        text-align: right;\n",
       "    }\n",
       "</style>\n",
       "<table border=\"1\" class=\"dataframe\">\n",
       "  <thead>\n",
       "    <tr style=\"text-align: right;\">\n",
       "      <th></th>\n",
       "      <th>id</th>\n",
       "      <th>name</th>\n",
       "      <th>host_id</th>\n",
       "      <th>host_name</th>\n",
       "      <th>neighbourhood_group</th>\n",
       "      <th>neighbourhood</th>\n",
       "      <th>latitude</th>\n",
       "      <th>longitude</th>\n",
       "      <th>room_type</th>\n",
       "      <th>price</th>\n",
       "      <th>minimum_nights</th>\n",
       "      <th>number_of_reviews</th>\n",
       "      <th>last_review</th>\n",
       "      <th>reviews_per_month</th>\n",
       "      <th>calculated_host_listings_count</th>\n",
       "      <th>availability_365</th>\n",
       "    </tr>\n",
       "  </thead>\n",
       "  <tbody>\n",
       "  </tbody>\n",
       "</table>\n",
       "</div>"
      ],
      "text/plain": [
       "Empty DataFrame\n",
       "Columns: [id, name, host_id, host_name, neighbourhood_group, neighbourhood, latitude, longitude, room_type, price, minimum_nights, number_of_reviews, last_review, reviews_per_month, calculated_host_listings_count, availability_365]\n",
       "Index: []"
      ]
     },
     "execution_count": 619,
     "metadata": {},
     "output_type": "execute_result"
    }
   ],
   "source": [
    "listing_df[listing_df.neighbourhood == 116]"
   ]
  },
  {
   "cell_type": "code",
   "execution_count": 620,
   "metadata": {},
   "outputs": [
    {
     "data": {
      "text/plain": [
       "array(['Entire home/apt', 'Private room', 'Shared room', 'Hotel room'],\n",
       "      dtype=object)"
      ]
     },
     "execution_count": 620,
     "metadata": {},
     "output_type": "execute_result"
    }
   ],
   "source": [
    "listing_df.room_type.unique()"
   ]
  },
  {
   "cell_type": "code",
   "execution_count": null,
   "metadata": {},
   "outputs": [],
   "source": []
  },
  {
   "cell_type": "code",
   "execution_count": 621,
   "metadata": {},
   "outputs": [
    {
     "data": {
      "text/plain": [
       "(24078, 16)"
      ]
     },
     "execution_count": 621,
     "metadata": {},
     "output_type": "execute_result"
    }
   ],
   "source": [
    "listing_df.shape"
   ]
  },
  {
   "cell_type": "code",
   "execution_count": 622,
   "metadata": {},
   "outputs": [
    {
     "data": {
      "image/png": "[encoded data removed]",
      "text/plain": [
       "<Figure size 1080x720 with 2 Axes>"
      ]
     },
     "metadata": {
      "needs_background": "light"
     },
     "output_type": "display_data"
    }
   ],
   "source": [
    "# Baseline Correlation heatmap \n",
    "\n",
    "def correlation_heatmap(df):\n",
    "    _,ax=plt.subplots(figsize=(15,10))\n",
    "    colormap=sns.diverging_palette(220,10,as_cmap=True)\n",
    "    sns.heatmap(df.corr(),annot=True,cmap=colormap)\n",
    "    \n",
    "correlation_heatmap(listing_df)"
   ]
  },
  {
   "cell_type": "code",
   "execution_count": null,
   "metadata": {},
   "outputs": [],
   "source": []
  },
  {
   "cell_type": "code",
   "execution_count": null,
   "metadata": {},
   "outputs": [],
   "source": []
  },
  {
   "cell_type": "code",
   "execution_count": 623,
   "metadata": {},
   "outputs": [],
   "source": [
    "listing_df = listing_df[listing_df.columns.drop('neighbourhood_group')]"
   ]
  },
  {
   "cell_type": "code",
   "execution_count": null,
   "metadata": {},
   "outputs": [],
   "source": []
  },
  {
   "cell_type": "code",
   "execution_count": 624,
   "metadata": {},
   "outputs": [],
   "source": [
    "#because the data set is over 24k, I decided to drop the nan values of reviews and last review (the same rows were nan for each)\n",
    "#listing_df.fillna(subset = ['reviews_per_month', 'last_review'], axis = 0, inplace = True)\n",
    "\n"
   ]
  },
  {
   "cell_type": "code",
   "execution_count": 625,
   "metadata": {},
   "outputs": [
    {
     "name": "stderr",
     "output_type": "stream",
     "text": [
      "/Users/dolcikey/opt/anaconda3/lib/python3.7/site-packages/ipykernel_launcher.py:1: SettingWithCopyWarning: \n",
      "A value is trying to be set on a copy of a slice from a DataFrame.\n",
      "Try using .loc[row_indexer,col_indexer] = value instead\n",
      "\n",
      "See the caveats in the documentation: https://pandas.pydata.org/pandas-docs/stable/user_guide/indexing.html#returning-a-view-versus-a-copy\n",
      "  \"\"\"Entry point for launching an IPython kernel.\n"
     ]
    }
   ],
   "source": [
    "listing_df['last_review'] = listing_df['last_review'].replace(np.nan, 0)"
   ]
  },
  {
   "cell_type": "code",
   "execution_count": 626,
   "metadata": {},
   "outputs": [
    {
     "name": "stderr",
     "output_type": "stream",
     "text": [
      "/Users/dolcikey/opt/anaconda3/lib/python3.7/site-packages/ipykernel_launcher.py:1: SettingWithCopyWarning: \n",
      "A value is trying to be set on a copy of a slice from a DataFrame.\n",
      "Try using .loc[row_indexer,col_indexer] = value instead\n",
      "\n",
      "See the caveats in the documentation: https://pandas.pydata.org/pandas-docs/stable/user_guide/indexing.html#returning-a-view-versus-a-copy\n",
      "  \"\"\"Entry point for launching an IPython kernel.\n"
     ]
    }
   ],
   "source": [
    "listing_df['number_of_reviews'] = listing_df['number_of_reviews'].replace(np.nan, 0)"
   ]
  },
  {
   "cell_type": "code",
   "execution_count": null,
   "metadata": {},
   "outputs": [],
   "source": []
  },
  {
   "cell_type": "code",
   "execution_count": null,
   "metadata": {},
   "outputs": [],
   "source": []
  },
  {
   "cell_type": "code",
   "execution_count": null,
   "metadata": {},
   "outputs": [],
   "source": []
  },
  {
   "cell_type": "code",
   "execution_count": 627,
   "metadata": {},
   "outputs": [],
   "source": [
    "#for neighbourhood_group I plan to imput values based on the Wards, grouping them by where in Capetown they are\n"
   ]
  },
  {
   "cell_type": "code",
   "execution_count": 628,
   "metadata": {},
   "outputs": [],
   "source": [
    "#Air BNB zar conversion rate is 14.3 (current rate is 16.5)\n",
    "listing_df['price_usd'] = listing_df.price.apply(lambda x: x/14.23 if x>= 3000 else x)"
   ]
  },
  {
   "cell_type": "code",
   "execution_count": 629,
   "metadata": {},
   "outputs": [],
   "source": [
    "\n",
    "listing_df[listing_df.price_usd == 0.0]\n",
    "\n",
    "#closed listing does not exist 9775 is 20685098\n",
    "listing_df.drop(9775, inplace = True)\n"
   ]
  },
  {
   "cell_type": "code",
   "execution_count": 630,
   "metadata": {},
   "outputs": [],
   "source": [
    "#listing append 9808 is 20736711 price is 121 USD, minimum night 7\n",
    "listing_df.at[9808, 'price_usd'] = 121\n",
    "listing_df.at[9808, 'minimum_nights'] = 7"
   ]
  },
  {
   "cell_type": "code",
   "execution_count": null,
   "metadata": {},
   "outputs": [],
   "source": []
  },
  {
   "cell_type": "code",
   "execution_count": 631,
   "metadata": {},
   "outputs": [],
   "source": [
    "listing_df = pd.get_dummies(listing_df, columns=['room_type'])"
   ]
  },
  {
   "cell_type": "code",
   "execution_count": 632,
   "metadata": {},
   "outputs": [],
   "source": [
    "listing_df.neighbourhood = listing_df.neighbourhood.map(lambda x: x.replace('Ward', ''))"
   ]
  },
  {
   "cell_type": "code",
   "execution_count": 633,
   "metadata": {},
   "outputs": [],
   "source": [
    "listing_df.neighbourhood = listing_df.neighbourhood.astype(int)"
   ]
  },
  {
   "cell_type": "code",
   "execution_count": 634,
   "metadata": {},
   "outputs": [
    {
     "data": {
      "text/plain": [
       "0        1\n",
       "1        2\n",
       "2        3\n",
       "3        4\n",
       "4        5\n",
       "      ... \n",
       "106    107\n",
       "107    108\n",
       "108    109\n",
       "109    110\n",
       "110    111\n",
       "Name: geo_code, Length: 111, dtype: int64"
      ]
     },
     "execution_count": 634,
     "metadata": {},
     "output_type": "execute_result"
    }
   ],
   "source": [
    "crime_df['geo_code'].astype(int)"
   ]
  },
  {
   "cell_type": "code",
   "execution_count": 635,
   "metadata": {},
   "outputs": [],
   "source": [
    "listing_df = listing_df.merge(crime_df, left_on='neighbourhood', right_on = 'geo_code' ,how='left')\n"
   ]
  },
  {
   "cell_type": "code",
   "execution_count": null,
   "metadata": {},
   "outputs": [],
   "source": []
  },
  {
   "cell_type": "code",
   "execution_count": null,
   "metadata": {},
   "outputs": [],
   "source": []
  },
  {
   "cell_type": "code",
   "execution_count": null,
   "metadata": {},
   "outputs": [],
   "source": []
  },
  {
   "cell_type": "code",
   "execution_count": null,
   "metadata": {},
   "outputs": [],
   "source": []
  },
  {
   "cell_type": "code",
   "execution_count": null,
   "metadata": {},
   "outputs": [],
   "source": []
  },
  {
   "cell_type": "code",
   "execution_count": null,
   "metadata": {},
   "outputs": [],
   "source": []
  },
  {
   "cell_type": "code",
   "execution_count": null,
   "metadata": {},
   "outputs": [],
   "source": []
  },
  {
   "cell_type": "code",
   "execution_count": null,
   "metadata": {},
   "outputs": [],
   "source": []
  },
  {
   "cell_type": "code",
   "execution_count": null,
   "metadata": {},
   "outputs": [],
   "source": []
  },
  {
   "cell_type": "code",
   "execution_count": null,
   "metadata": {},
   "outputs": [],
   "source": []
  },
  {
   "cell_type": "code",
   "execution_count": null,
   "metadata": {},
   "outputs": [],
   "source": [
    "\n"
   ]
  },
  {
   "cell_type": "code",
   "execution_count": null,
   "metadata": {},
   "outputs": [],
   "source": []
  },
  {
   "cell_type": "code",
   "execution_count": null,
   "metadata": {},
   "outputs": [],
   "source": []
  },
  {
   "cell_type": "code",
   "execution_count": 636,
   "metadata": {},
   "outputs": [],
   "source": [
    "#distance from city center\n",
    "# 33.9249° S, 18.4241° E cape town city center\n"
   ]
  },
  {
   "cell_type": "code",
   "execution_count": 637,
   "metadata": {},
   "outputs": [],
   "source": [
    "# city center -33.9249, 18.4241\n",
    "# VA Water Front -33.9036, 18.4205\n",
    "# Wine Lands -34.075691, 18.843266\n",
    "# Airport -33.9715, 18.6021\n",
    "\n",
    "\n",
    "from geopy.distance import great_circle\n",
    "city_center = (-33.9249,18.4241)\n",
    "listing_df['distance_cc'] = listing_df[['latitude', 'longitude']].apply(lambda x: great_circle(city_center, \n",
    "                                                                                               (x['latitude'], x['longitude'])).miles, axis = 1)\n",
    "\n"
   ]
  },
  {
   "cell_type": "code",
   "execution_count": 638,
   "metadata": {},
   "outputs": [],
   "source": [
    "va_water = (-33.9036, 18.4205)\n",
    "listing_df['distance_waterfront'] = listing_df[['latitude', 'longitude']].apply(lambda x: great_circle(va_water, \n",
    "                                                                                               (x['latitude'], x['longitude'])).miles, axis = 1)\n",
    "\n",
    "\n"
   ]
  },
  {
   "cell_type": "code",
   "execution_count": 639,
   "metadata": {},
   "outputs": [],
   "source": [
    "wine_lands = (-34.075691, 18.843266)\n",
    "listing_df['distance_wine'] = listing_df[['latitude', 'longitude']].apply(lambda x: great_circle(wine_lands, \n",
    "                                                                                               (x['latitude'], x['longitude'])).miles, axis = 1)\n",
    "\n",
    "\n"
   ]
  },
  {
   "cell_type": "code",
   "execution_count": 640,
   "metadata": {},
   "outputs": [],
   "source": [
    "airport = (-33.9249,18.4241)\n",
    "listing_df['distance_airport'] = listing_df[['latitude', 'longitude']].apply(lambda x: great_circle(airport, \n",
    "                                                                                               (x['latitude'], x['longitude'])).miles, axis = 1)\n",
    "\n",
    "\n"
   ]
  },
  {
   "cell_type": "code",
   "execution_count": 641,
   "metadata": {},
   "outputs": [],
   "source": [
    "listing_df['price_usd_log'] = np.log(listing_df['price_usd'])"
   ]
  },
  {
   "cell_type": "code",
   "execution_count": null,
   "metadata": {},
   "outputs": [],
   "source": []
  },
  {
   "cell_type": "code",
   "execution_count": null,
   "metadata": {},
   "outputs": [],
   "source": []
  },
  {
   "cell_type": "code",
   "execution_count": null,
   "metadata": {},
   "outputs": [],
   "source": []
  },
  {
   "cell_type": "code",
   "execution_count": null,
   "metadata": {},
   "outputs": [],
   "source": []
  },
  {
   "cell_type": "code",
   "execution_count": null,
   "metadata": {},
   "outputs": [],
   "source": []
  },
  {
   "cell_type": "code",
   "execution_count": null,
   "metadata": {},
   "outputs": [],
   "source": []
  },
  {
   "cell_type": "code",
   "execution_count": null,
   "metadata": {},
   "outputs": [],
   "source": []
  },
  {
   "cell_type": "code",
   "execution_count": 642,
   "metadata": {},
   "outputs": [
    {
     "data": {
      "text/plain": [
       "<matplotlib.axes._subplots.AxesSubplot at 0x1a328fe8d0>"
      ]
     },
     "execution_count": 642,
     "metadata": {},
     "output_type": "execute_result"
    },
    {
     "data": {
      "image/png": "[encoded data removed]",
      "text/plain": [
       "<Figure size 432x288 with 2 Axes>"
      ]
     },
     "metadata": {
      "needs_background": "light"
     },
     "output_type": "display_data"
    }
   ],
   "source": [
    "listing_df[listing_df['price_usd_log'].lt(6)].plot(kind= 'scatter', x = 'longitude', y = 'latitude', alpha = .3, c = 'price_usd_log', cmap = plt.get_cmap('jet'))"
   ]
  },
  {
   "cell_type": "code",
   "execution_count": 643,
   "metadata": {},
   "outputs": [
    {
     "data": {
      "text/plain": [
       "<matplotlib.axes._subplots.AxesSubplot at 0x1a2d7109d0>"
      ]
     },
     "execution_count": 643,
     "metadata": {},
     "output_type": "execute_result"
    },
    {
     "data": {
      "image/png": "[encoded data removed]",
      "text/plain": [
       "<Figure size 432x288 with 2 Axes>"
      ]
     },
     "metadata": {
      "needs_background": "light"
     },
     "output_type": "display_data"
    }
   ],
   "source": [
    "listing_df[listing_df['price_usd'].lt(2000)].plot(kind= 'scatter', x = 'longitude', y = 'latitude', alpha = .3, c = 'price_usd', cmap = plt.get_cmap('jet'))"
   ]
  },
  {
   "cell_type": "code",
   "execution_count": 669,
   "metadata": {},
   "outputs": [
    {
     "data": {
      "image/png": "[encoded data removed]",
      "text/plain": [
       "<Figure size 432x288 with 2 Axes>"
      ]
     },
     "metadata": {
      "needs_background": "light"
     },
     "output_type": "display_data"
    }
   ],
   "source": [
    "listing_df.plot(kind= 'scatter', x = 'longitude', y = 'latitude', alpha = .3, c = 'total_10000 _rounded', cmap = plt.get_cmap('jet'));"
   ]
  },
  {
   "cell_type": "code",
   "execution_count": null,
   "metadata": {},
   "outputs": [],
   "source": [
    "sns.distplot(listing_df[listing_df['minimum_nights'] > 7]['minimum_nights'])"
   ]
  },
  {
   "cell_type": "code",
   "execution_count": null,
   "metadata": {},
   "outputs": [],
   "source": [
    "sns.distplot(listing_df['distance_cc'])"
   ]
  },
  {
   "cell_type": "code",
   "execution_count": null,
   "metadata": {},
   "outputs": [],
   "source": [
    "#sns.jointplot(x = listing_df[listing_df['minimum_nights'] > 7]['minimum_nights'],\n",
    "             #  y = listing_df[listing_df['minimum_nights'] > 7]['price_usd_log'])"
   ]
  },
  {
   "cell_type": "code",
   "execution_count": null,
   "metadata": {},
   "outputs": [],
   "source": [
    "# ANOVA\n",
    "# room_type_Entire home/apt\n",
    "# distance_cc\n",
    "\n",
    "# price_usd"
   ]
  },
  {
   "cell_type": "code",
   "execution_count": null,
   "metadata": {},
   "outputs": [],
   "source": [
    "listing_df['minimum_nights'] = listing_df['minimum_nights'].astype(int)\n",
    "listing_df['price_usd'] = listing_df['price_usd'].astype(int)"
   ]
  },
  {
   "cell_type": "code",
   "execution_count": 645,
   "metadata": {},
   "outputs": [
    {
     "data": {
      "text/plain": [
       "Ttest_indResult(statistic=1.4755604157332152, pvalue=0.14007501596877572)"
      ]
     },
     "execution_count": 645,
     "metadata": {},
     "output_type": "execute_result"
    }
   ],
   "source": [
    "# minimum nights > 4\n",
    "# min nights < 4 \n",
    "# mean min_nights is 3.93\n",
    "# Prices of Air BNBs with less than 4 minimum nights is statistically different than houses with minimum nights greater or equal to 4. \n",
    "#2 sample ttest\n",
    "\n",
    "stats.ttest_ind(listing_df[listing_df['minimum_nights'] >= 4]['price_usd_log'], listing_df[listing_df['minimum_nights'] < 4]['price_usd_log']) \n"
   ]
  },
  {
   "cell_type": "code",
   "execution_count": null,
   "metadata": {},
   "outputs": [],
   "source": []
  },
  {
   "cell_type": "code",
   "execution_count": 656,
   "metadata": {},
   "outputs": [
    {
     "ename": "SyntaxError",
     "evalue": "invalid syntax (<ipython-input-656-410e5b1e70c8>, line 5)",
     "output_type": "error",
     "traceback": [
      "\u001b[0;36m  File \u001b[0;32m\"<ipython-input-656-410e5b1e70c8>\"\u001b[0;36m, line \u001b[0;32m5\u001b[0m\n\u001b[0;31m    y = listing_df[(listing_df['distance_cc'] > 8) & (listing_df['distance_cc'] < )]['price_usd_log']\u001b[0m\n\u001b[0m                                                                                  ^\u001b[0m\n\u001b[0;31mSyntaxError\u001b[0m\u001b[0;31m:\u001b[0m invalid syntax\n"
     ]
    }
   ],
   "source": [
    "# As we get closer the the City Center, the mean of the price changes. \n",
    "#WORK ON THIS ONE \n",
    "\n",
    "x = listing_df[listing_df['distance_cc'] >= 10]['price_usd_log']\n",
    "y = listing_df[(listing_df['distance_cc'] > 8) & (listing_df['distance_cc'] < )]['price_usd_log']\n",
    "z = listing_df[(listing_df['distance_cc'] >= 1) & (listing_df['distance_cc'] < 1)]['price_usd_log']\n",
    "ten_miles = stats.f_oneway(x, y, z)\n",
    "\n",
    "x = listing_df[listing_df['distance_cc'] >= 8]['price_usd_log']\n",
    "y = listing_df[listing_df['distance_cc'] < 8]['price_usd_log']\n",
    "eight_miles = stats.f_oneway(x, y)\n",
    "\n",
    "x = listing_df[listing_df['distance_cc'] >= 1]['price_usd_log']\n",
    "y = listing_df[listing_df['distance_cc'] < 1]['price_usd_log']\n",
    "one_mile = stats.f_oneway(x, y)\n",
    "\n",
    "print('10 miles: ', ten_miles)\n",
    "print('8 miles: ', eight_miles)\n",
    "print('1 mile: ', one_mile)\n"
   ]
  },
  {
   "cell_type": "code",
   "execution_count": 652,
   "metadata": {},
   "outputs": [
    {
     "data": {
      "text/plain": [
       "Ttest_indResult(statistic=26.493062275534765, pvalue=1.7867325750812174e-152)"
      ]
     },
     "execution_count": 652,
     "metadata": {},
     "output_type": "execute_result"
    }
   ],
   "source": [
    "stats.ttest_ind(listing_df[listing_df['distance_cc'] < 1]['price'], listing_df[listing_df['distance_cc'] >= 1]['price_usd']) "
   ]
  },
  {
   "cell_type": "code",
   "execution_count": 655,
   "metadata": {},
   "outputs": [
    {
     "data": {
      "text/plain": [
       "Ttest_indResult(statistic=-7.566427942326695, pvalue=4.007630900879912e-14)"
      ]
     },
     "execution_count": 655,
     "metadata": {},
     "output_type": "execute_result"
    }
   ],
   "source": [
    "stats.ttest_ind(listing_df[listing_df['total_10000 _rounded'] >= 235.17]['price'], listing_df[listing_df['total_10000 _rounded'] <235.17]['price'])"
   ]
  },
  {
   "cell_type": "code",
   "execution_count": null,
   "metadata": {},
   "outputs": [],
   "source": []
  },
  {
   "cell_type": "code",
   "execution_count": null,
   "metadata": {},
   "outputs": [],
   "source": []
  },
  {
   "cell_type": "code",
   "execution_count": 649,
   "metadata": {},
   "outputs": [
    {
     "data": {
      "text/plain": [
       "<matplotlib.axes._subplots.AxesSubplot at 0x1a2fdaefd0>"
      ]
     },
     "execution_count": 649,
     "metadata": {},
     "output_type": "execute_result"
    },
    {
     "data": {
      "image/png": "[encoded data removed]",
      "text/plain": [
       "<Figure size 432x288 with 1 Axes>"
      ]
     },
     "metadata": {
      "needs_background": "light"
     },
     "output_type": "display_data"
    }
   ],
   "source": [
    "sns.distplot(listing_df['price_usd_log'])\n"
   ]
  },
  {
   "cell_type": "code",
   "execution_count": 650,
   "metadata": {},
   "outputs": [],
   "source": [
    "listing_df['distance_cc_log'] = np.log(listing_df['distance_cc'])"
   ]
  },
  {
   "cell_type": "code",
   "execution_count": 651,
   "metadata": {},
   "outputs": [
    {
     "data": {
      "image/png": "[encoded data removed]",
      "text/plain": [
       "<Figure size 432x432 with 3 Axes>"
      ]
     },
     "metadata": {
      "needs_background": "light"
     },
     "output_type": "display_data"
    }
   ],
   "source": [
    "sns.jointplot(x = 'distance_cc_log', y = 'price_usd_log', data = listing_df);"
   ]
  },
  {
   "cell_type": "code",
   "execution_count": 278,
   "metadata": {},
   "outputs": [
    {
     "data": {
      "image/png": "[encoded data removed]",
      "text/plain": [
       "<Figure size 432x432 with 3 Axes>"
      ]
     },
     "metadata": {
      "needs_background": "light"
     },
     "output_type": "display_data"
    }
   ],
   "source": [
    "sns.jointplot(x = 'reviews_per_month', y = 'price_usd', data = listing_df, kind = 'reg', color = 'green');"
   ]
  },
  {
   "cell_type": "code",
   "execution_count": null,
   "metadata": {},
   "outputs": [],
   "source": []
  },
  {
   "cell_type": "code",
   "execution_count": 657,
   "metadata": {},
   "outputs": [
    {
     "name": "stderr",
     "output_type": "stream",
     "text": [
      "/Users/dolcikey/opt/anaconda3/lib/python3.7/site-packages/pandas/core/series.py:679: RuntimeWarning: divide by zero encountered in log\n",
      "  result = getattr(ufunc, method)(*inputs, **kwargs)\n"
     ]
    },
    {
     "data": {
      "image/png": "[encoded data removed]",
      "text/plain": [
       "<Figure size 432x432 with 3 Axes>"
      ]
     },
     "metadata": {
      "needs_background": "light"
     },
     "output_type": "display_data"
    }
   ],
   "source": [
    "listing_df['availability_log'] = np.log(listing_df['availability_365'])\n",
    "listing_df['availability_365_sin'] = np.sin(listing_df['availability_365'])\n",
    "listing_df['price_log'] = np.log(listing_df['price'])\n",
    "\n",
    "sns.jointplot(x = 'distance_cc', y = 'price_usd', data = listing_df, kind = 'scatter', color = 'red', alpha = 0.1);\n"
   ]
  },
  {
   "cell_type": "code",
   "execution_count": 658,
   "metadata": {},
   "outputs": [
    {
     "data": {
      "image/png": "[encoded data removed]",
      "text/plain": [
       "<Figure size 432x432 with 3 Axes>"
      ]
     },
     "metadata": {
      "needs_background": "light"
     },
     "output_type": "display_data"
    }
   ],
   "source": [
    "sns.jointplot(x = 'distance_cc', y = 'price_usd', data = listing_df, kind = 'reg', color = 'purple');"
   ]
  },
  {
   "cell_type": "code",
   "execution_count": 661,
   "metadata": {},
   "outputs": [
    {
     "data": {
      "text/plain": [
       "Index(['id', 'name', 'host_id', 'host_name', 'neighbourhood', 'latitude',\n",
       "       'longitude', 'price', 'minimum_nights', 'number_of_reviews',\n",
       "       'last_review', 'reviews_per_month', 'calculated_host_listings_count',\n",
       "       'availability_365', 'price_usd', 'room_type_Entire home/apt',\n",
       "       'room_type_Hotel room', 'room_type_Private room',\n",
       "       'room_type_Shared room', 'geo_level', 'geo_code', '0_14', '15_24',\n",
       "       '25_34', '35_44', '45_54', '55_64', '65+', 'total_raw',\n",
       "       'total_10000 _rounded', 'distance_cc', 'distance_waterfront',\n",
       "       'distance_wine', 'distance_airport', 'price_usd_log', 'distance_cc_log',\n",
       "       'availability_log', 'availability_365_sin', 'price_log'],\n",
       "      dtype='object')"
      ]
     },
     "execution_count": 661,
     "metadata": {},
     "output_type": "execute_result"
    }
   ],
   "source": [
    "listing_df.columns"
   ]
  },
  {
   "cell_type": "code",
   "execution_count": 660,
   "metadata": {},
   "outputs": [
    {
     "data": {
      "text/plain": [
       "count    24077.000000\n",
       "mean      1041.737721\n",
       "std        792.416931\n",
       "min        119.000000\n",
       "25%        505.000000\n",
       "50%        846.000000\n",
       "75%       1393.000000\n",
       "max      21082.782853\n",
       "Name: price_usd, dtype: float64"
      ]
     },
     "execution_count": 660,
     "metadata": {},
     "output_type": "execute_result"
    }
   ],
   "source": [
    "listing_df.price_usd.describe()"
   ]
  },
  {
   "cell_type": "code",
   "execution_count": 665,
   "metadata": {},
   "outputs": [
    {
     "name": "stdout",
     "output_type": "stream",
     "text": [
      "rmse:  816.2179663871882 r2:  -0.061018229428942306\n"
     ]
    }
   ],
   "source": [
    "# baseline model: 693.3257724308925 r2:  -0.07212491057954762\n",
    "\n",
    "subset = ['neighbourhood', 'latitude', 'longitude', 'minimum_nights', 'number_of_reviews', 'reviews_per_month', 'availability_365']\n",
    "x = listing_df[subset]\n",
    "y = listing_df['price_usd']\n",
    "\n",
    "dummy_regr = DummyRegressor(strategy = \"median\")\n",
    "dummy_regr.fit(x, y)\n",
    "#DummyRegressor()\n",
    "y_predict = dummy_regr.predict(y)\n",
    "R2 = dummy_regr.score(x, y)\n",
    "\n",
    "rmse = np.sqrt(metrics.mean_squared_error(y, y_predict))\n",
    "\n",
    "print('rmse: ', rmse, 'r2: ', R2)\n"
   ]
  },
  {
   "cell_type": "code",
   "execution_count": null,
   "metadata": {},
   "outputs": [],
   "source": []
  },
  {
   "cell_type": "code",
   "execution_count": 437,
   "metadata": {},
   "outputs": [
    {
     "data": {
      "text/plain": [
       "692.9463643984295"
      ]
     },
     "execution_count": 437,
     "metadata": {},
     "output_type": "execute_result"
    }
   ],
   "source": [
    "rmse = np.sqrt(metrics.mean_squared_error(y, y_predict))\n",
    "rmse"
   ]
  },
  {
   "cell_type": "code",
   "execution_count": 666,
   "metadata": {},
   "outputs": [
    {
     "name": "stdout",
     "output_type": "stream",
     "text": [
      "rmse:  792.4004752153407 r2:  0.0\n"
     ]
    }
   ],
   "source": [
    "#2nd baseline \n",
    "subset2 = ['neighbourhood', 'latitude', 'longitude', 'minimum_nights', 'number_of_reviews', 'reviews_per_month', 'availability_365']\n",
    "x = listing_df[subset2]\n",
    "y = listing_df['price_usd']\n",
    "\n",
    "dummy_regr = DummyRegressor(strategy = \"mean\")\n",
    "dummy_regr.fit(x, y)\n",
    "#DummyRegressor()\n",
    "y_predict = dummy_regr.predict(x)\n",
    "R2 = dummy_regr.score(x, y)\n",
    "\n",
    "rmse = np.sqrt(metrics.mean_squared_error(y, y_predict))\n",
    "\n",
    "print('rmse: ', rmse, 'r2: ', R2)"
   ]
  },
  {
   "cell_type": "code",
   "execution_count": 439,
   "metadata": {},
   "outputs": [
    {
     "data": {
      "text/plain": [
       "641"
      ]
     },
     "execution_count": 439,
     "metadata": {},
     "output_type": "execute_result"
    }
   ],
   "source": [
    "641"
   ]
  },
  {
   "cell_type": "code",
   "execution_count": 440,
   "metadata": {},
   "outputs": [],
   "source": [
    "# bin the availability"
   ]
  },
  {
   "cell_type": "code",
   "execution_count": null,
   "metadata": {},
   "outputs": [],
   "source": []
  },
  {
   "cell_type": "code",
   "execution_count": null,
   "metadata": {},
   "outputs": [],
   "source": []
  },
  {
   "cell_type": "code",
   "execution_count": 441,
   "metadata": {},
   "outputs": [],
   "source": [
    "#CORR CHECK "
   ]
  },
  {
   "cell_type": "code",
   "execution_count": 442,
   "metadata": {},
   "outputs": [
    {
     "data": {
      "text/plain": [
       "Index(['id', 'name', 'host_id', 'host_name', 'neighbourhood_group',\n",
       "       'neighbourhood', 'latitude', 'longitude', 'price', 'minimum_nights',\n",
       "       'number_of_reviews', 'last_review', 'reviews_per_month',\n",
       "       'calculated_host_listings_count', 'availability_365', 'price_usd',\n",
       "       'room_type_Entire home/apt', 'room_type_Hotel room',\n",
       "       'room_type_Private room', 'room_type_Shared room', 'geo_level_x',\n",
       "       'geo_code_x', '0_14_x', '15_24_x', '25_34_x', '35_44_x', '45_54_x',\n",
       "       '55_64_x', '65+_x', 'total_raw_x', 'total_10000 _rounded_x',\n",
       "       'distance_cc', 'distance_waterfront', 'distance_wine',\n",
       "       'distance_airport', 'price_usd_log', 'distance_cc_log',\n",
       "       'availability_log', 'availability_365_sin', 'price_log', 'geo_level_y',\n",
       "       'geo_code_y', '0_14_y', '15_24_y', '25_34_y', '35_44_y', '45_54_y',\n",
       "       '55_64_y', '65+_y', 'total_raw_y', 'total_10000 _rounded_y'],\n",
       "      dtype='object')"
      ]
     },
     "execution_count": 442,
     "metadata": {},
     "output_type": "execute_result"
    }
   ],
   "source": [
    "listing_df.columns"
   ]
  },
  {
   "cell_type": "code",
   "execution_count": 443,
   "metadata": {},
   "outputs": [],
   "source": [
    "corr_check = listing_df.corr()"
   ]
  },
  {
   "cell_type": "code",
   "execution_count": 662,
   "metadata": {},
   "outputs": [
    {
     "data": {
      "text/plain": [
       "id                               -0.018893\n",
       "host_id                          -0.042568\n",
       "neighbourhood_group                    NaN\n",
       "neighbourhood                     0.378236\n",
       "latitude                         -0.110180\n",
       "longitude                         0.052251\n",
       "price                            -0.053071\n",
       "minimum_nights                    0.015044\n",
       "number_of_reviews                 0.077653\n",
       "reviews_per_month                 0.073819\n",
       "calculated_host_listings_count    0.041839\n",
       "availability_365                 -0.056855\n",
       "price_usd                         0.025626\n",
       "room_type_Entire home/apt         0.025159\n",
       "room_type_Hotel room             -0.016064\n",
       "room_type_Private room           -0.023092\n",
       "room_type_Shared room             0.009479\n",
       "geo_code_x                        0.346634\n",
       "0_14_x                            0.497876\n",
       "15_24_x                           0.856040\n",
       "25_34_x                           0.875416\n",
       "35_44_x                           0.952689\n",
       "45_54_x                           0.908351\n",
       "55_64_x                           0.853920\n",
       "65+_x                             0.694182\n",
       "total_raw_x                       0.999995\n",
       "total_10000 _rounded_x            1.000000\n",
       "distance_cc                      -0.115880\n",
       "distance_waterfront              -0.083039\n",
       "distance_wine                    -0.129882\n",
       "distance_airport                 -0.115880\n",
       "price_usd_log                     0.044241\n",
       "distance_cc_log                  -0.396121\n",
       "availability_log                 -0.018785\n",
       "availability_365_sin              0.000927\n",
       "price_log                        -0.031635\n",
       "geo_code_y                        0.346634\n",
       "0_14_y                            0.497876\n",
       "15_24_y                           0.856040\n",
       "25_34_y                           0.875416\n",
       "35_44_y                           0.952689\n",
       "45_54_y                           0.908351\n",
       "55_64_y                           0.853920\n",
       "65+_y                             0.694182\n",
       "total_raw_y                       0.999995\n",
       "total_10000 _rounded_y            1.000000\n",
       "Name: total_10000 _rounded_y, dtype: float64"
      ]
     },
     "execution_count": 662,
     "metadata": {},
     "output_type": "execute_result"
    }
   ],
   "source": [
    "corr_check['total_10000 _rounded_y'] \n",
    "\n",
    "# neighbourhood = no conflicts\n",
    "# latitude = no conflicts\n",
    "# longitude = over .7 with distance airport, cc, waterfront\n",
    "# number of reviews = over .7 reviews_per_month \n",
    "# availability 365 = over .7 availability log \n",
    "# entire house no conflicts \n",
    "# distance cc conflicts with distance waterfront and longitude \n",
    "# distance airport -.7 with wine distance?"
   ]
  },
  {
   "cell_type": "code",
   "execution_count": null,
   "metadata": {},
   "outputs": [],
   "source": []
  },
  {
   "cell_type": "code",
   "execution_count": null,
   "metadata": {},
   "outputs": [],
   "source": []
  },
  {
   "cell_type": "code",
   "execution_count": 445,
   "metadata": {},
   "outputs": [
    {
     "data": {
      "text/plain": [
       "Index(['id', 'name', 'host_id', 'host_name', 'neighbourhood_group',\n",
       "       'neighbourhood', 'latitude', 'longitude', 'price', 'minimum_nights',\n",
       "       'number_of_reviews', 'last_review', 'reviews_per_month',\n",
       "       'calculated_host_listings_count', 'availability_365', 'price_usd',\n",
       "       'room_type_Entire home/apt', 'room_type_Hotel room',\n",
       "       'room_type_Private room', 'room_type_Shared room', 'geo_level_x',\n",
       "       'geo_code_x', '0_14_x', '15_24_x', '25_34_x', '35_44_x', '45_54_x',\n",
       "       '55_64_x', '65+_x', 'total_raw_x', 'total_10000 _rounded_x',\n",
       "       'distance_cc', 'distance_waterfront', 'distance_wine',\n",
       "       'distance_airport', 'price_usd_log', 'distance_cc_log',\n",
       "       'availability_log', 'availability_365_sin', 'price_log', 'geo_level_y',\n",
       "       'geo_code_y', '0_14_y', '15_24_y', '25_34_y', '35_44_y', '45_54_y',\n",
       "       '55_64_y', '65+_y', 'total_raw_y', 'total_10000 _rounded_y'],\n",
       "      dtype='object')"
      ]
     },
     "execution_count": 445,
     "metadata": {},
     "output_type": "execute_result"
    }
   ],
   "source": [
    "listing_df.columns"
   ]
  },
  {
   "cell_type": "code",
   "execution_count": 446,
   "metadata": {},
   "outputs": [
    {
     "data": {
      "text/plain": [
       "12"
      ]
     },
     "execution_count": 446,
     "metadata": {},
     "output_type": "execute_result"
    }
   ],
   "source": [
    "subset3 = ['minimum_nights','number_of_reviews', 'neighbourhood', 'availability_365', 'room_type_Entire home/apt',\n",
    "       'room_type_Hotel room', 'room_type_Private room','room_type_Shared room', 'distance_cc', \n",
    "           'distance_airport', 'distance_wine', 'total_10000 _rounded_y']\n",
    "\n",
    "\n",
    "df_features = listing_df[subset3]\n",
    "target = listing_df['price_usd_log']\n",
    "len(subset3)"
   ]
  },
  {
   "cell_type": "code",
   "execution_count": 447,
   "metadata": {},
   "outputs": [],
   "source": [
    "from sklearn.preprocessing import PolynomialFeatures\n",
    "\n",
    "poly_2 = PolynomialFeatures(degree=2, include_bias = False)\n",
    "poly2_data = poly_2.fit_transform(df_features)\n",
    "poly2_columns = poly_2.get_feature_names(df_features.columns)\n",
    "df_poly2 = pd.DataFrame(poly2_data, columns = poly2_columns)\n",
    "model2 = LinearRegression()\n",
    "\n",
    "model2 = model2.fit(df_poly2, target)"
   ]
  },
  {
   "cell_type": "code",
   "execution_count": 448,
   "metadata": {},
   "outputs": [
    {
     "name": "stderr",
     "output_type": "stream",
     "text": [
      "/Users/dolcikey/opt/anaconda3/lib/python3.7/site-packages/statsmodels/base/model.py:1362: RuntimeWarning: invalid value encountered in true_divide\n",
      "  return self.params / self.bse\n",
      "/Users/dolcikey/opt/anaconda3/lib/python3.7/site-packages/scipy/stats/_distn_infrastructure.py:903: RuntimeWarning: invalid value encountered in greater\n",
      "  return (a < x) & (x < b)\n",
      "/Users/dolcikey/opt/anaconda3/lib/python3.7/site-packages/scipy/stats/_distn_infrastructure.py:903: RuntimeWarning: invalid value encountered in less\n",
      "  return (a < x) & (x < b)\n",
      "/Users/dolcikey/opt/anaconda3/lib/python3.7/site-packages/scipy/stats/_distn_infrastructure.py:1912: RuntimeWarning: invalid value encountered in less_equal\n",
      "  cond2 = cond0 & (x <= _a)\n"
     ]
    },
    {
     "data": {
      "text/html": [
       "<table class=\"simpletable\">\n",
       "<caption>OLS Regression Results</caption>\n",
       "<tr>\n",
       "  <th>Dep. Variable:</th>        <td>price_usd</td>    <th>  R-squared:         </th>  <td>   0.092</td>  \n",
       "</tr>\n",
       "<tr>\n",
       "  <th>Model:</th>                   <td>OLS</td>       <th>  Adj. R-squared:    </th>  <td>   0.088</td>  \n",
       "</tr>\n",
       "<tr>\n",
       "  <th>Method:</th>             <td>Least Squares</td>  <th>  F-statistic:       </th>  <td>   29.38</td>  \n",
       "</tr>\n",
       "<tr>\n",
       "  <th>Date:</th>             <td>Thu, 30 Jul 2020</td> <th>  Prob (F-statistic):</th>  <td>5.60e-307</td> \n",
       "</tr>\n",
       "<tr>\n",
       "  <th>Time:</th>                 <td>14:45:23</td>     <th>  Log-Likelihood:    </th> <td>-1.3592e+05</td>\n",
       "</tr>\n",
       "<tr>\n",
       "  <th>No. Observations:</th>      <td> 17254</td>      <th>  AIC:               </th>  <td>2.720e+05</td> \n",
       "</tr>\n",
       "<tr>\n",
       "  <th>Df Residuals:</th>          <td> 17194</td>      <th>  BIC:               </th>  <td>2.724e+05</td> \n",
       "</tr>\n",
       "<tr>\n",
       "  <th>Df Model:</th>              <td>    59</td>      <th>                     </th>      <td> </td>     \n",
       "</tr>\n",
       "<tr>\n",
       "  <th>Covariance Type:</th>      <td>nonrobust</td>    <th>                     </th>      <td> </td>     \n",
       "</tr>\n",
       "</table>\n",
       "<table class=\"simpletable\">\n",
       "<tr>\n",
       "    <td></td>       <th>coef</th>     <th>std err</th>      <th>t</th>      <th>P>|t|</th>  <th>[0.025</th>    <th>0.975]</th>  \n",
       "</tr>\n",
       "<tr>\n",
       "  <th>x1</th>    <td>   13.7827</td> <td>   20.096</td> <td>    0.686</td> <td> 0.493</td> <td>  -25.608</td> <td>   53.173</td>\n",
       "</tr>\n",
       "<tr>\n",
       "  <th>x2</th>    <td>   -4.9019</td> <td>    2.750</td> <td>   -1.783</td> <td> 0.075</td> <td>  -10.292</td> <td>    0.488</td>\n",
       "</tr>\n",
       "<tr>\n",
       "  <th>x3</th>    <td>    7.1884</td> <td>    3.071</td> <td>    2.341</td> <td> 0.019</td> <td>    1.169</td> <td>   13.208</td>\n",
       "</tr>\n",
       "<tr>\n",
       "  <th>x4</th>    <td>   -0.7709</td> <td>    0.318</td> <td>   -2.426</td> <td> 0.015</td> <td>   -1.394</td> <td>   -0.148</td>\n",
       "</tr>\n",
       "<tr>\n",
       "  <th>x5</th>    <td> -608.7018</td> <td>  234.100</td> <td>   -2.600</td> <td> 0.009</td> <td>-1067.561</td> <td> -149.843</td>\n",
       "</tr>\n",
       "<tr>\n",
       "  <th>x6</th>    <td> -178.3575</td> <td>  350.724</td> <td>   -0.509</td> <td> 0.611</td> <td> -865.812</td> <td>  509.097</td>\n",
       "</tr>\n",
       "<tr>\n",
       "  <th>x7</th>    <td> -856.1848</td> <td>  234.449</td> <td>   -3.652</td> <td> 0.000</td> <td>-1315.729</td> <td> -396.641</td>\n",
       "</tr>\n",
       "<tr>\n",
       "  <th>x8</th>    <td>-1239.6978</td> <td>  536.381</td> <td>   -2.311</td> <td> 0.021</td> <td>-2291.059</td> <td> -188.336</td>\n",
       "</tr>\n",
       "<tr>\n",
       "  <th>x9</th>    <td>   22.2054</td> <td>    7.397</td> <td>    3.002</td> <td> 0.003</td> <td>    7.707</td> <td>   36.704</td>\n",
       "</tr>\n",
       "<tr>\n",
       "  <th>x10</th>   <td>   22.2054</td> <td>    7.397</td> <td>    3.002</td> <td> 0.003</td> <td>    7.707</td> <td>   36.704</td>\n",
       "</tr>\n",
       "<tr>\n",
       "  <th>x11</th>   <td>  103.4197</td> <td>   20.004</td> <td>    5.170</td> <td> 0.000</td> <td>   64.209</td> <td>  142.630</td>\n",
       "</tr>\n",
       "<tr>\n",
       "  <th>x12</th>   <td>   -0.4411</td> <td>    1.330</td> <td>   -0.332</td> <td> 0.740</td> <td>   -3.047</td> <td>    2.165</td>\n",
       "</tr>\n",
       "<tr>\n",
       "  <th>x13</th>   <td>   -0.0023</td> <td>    0.001</td> <td>   -1.616</td> <td> 0.106</td> <td>   -0.005</td> <td>    0.000</td>\n",
       "</tr>\n",
       "<tr>\n",
       "  <th>x14</th>   <td>   -0.0026</td> <td>    0.015</td> <td>   -0.171</td> <td> 0.864</td> <td>   -0.032</td> <td>    0.027</td>\n",
       "</tr>\n",
       "<tr>\n",
       "  <th>x15</th>   <td>    0.0099</td> <td>    0.017</td> <td>    0.594</td> <td> 0.553</td> <td>   -0.023</td> <td>    0.042</td>\n",
       "</tr>\n",
       "<tr>\n",
       "  <th>x16</th>   <td>   -0.0099</td> <td>    0.003</td> <td>   -2.901</td> <td> 0.004</td> <td>   -0.017</td> <td>   -0.003</td>\n",
       "</tr>\n",
       "<tr>\n",
       "  <th>x17</th>   <td>   -3.9532</td> <td>   19.352</td> <td>   -0.204</td> <td> 0.838</td> <td>  -41.884</td> <td>   33.978</td>\n",
       "</tr>\n",
       "<tr>\n",
       "  <th>x18</th>   <td>   41.0148</td> <td>   49.973</td> <td>    0.821</td> <td> 0.412</td> <td>  -56.938</td> <td>  138.968</td>\n",
       "</tr>\n",
       "<tr>\n",
       "  <th>x19</th>   <td>   -8.7541</td> <td>   19.397</td> <td>   -0.451</td> <td> 0.652</td> <td>  -46.774</td> <td>   29.266</td>\n",
       "</tr>\n",
       "<tr>\n",
       "  <th>x20</th>   <td>  -14.5248</td> <td>   61.912</td> <td>   -0.235</td> <td> 0.815</td> <td> -135.878</td> <td>  106.829</td>\n",
       "</tr>\n",
       "<tr>\n",
       "  <th>x21</th>   <td>   -0.0260</td> <td>    0.096</td> <td>   -0.272</td> <td> 0.786</td> <td>   -0.213</td> <td>    0.161</td>\n",
       "</tr>\n",
       "<tr>\n",
       "  <th>x22</th>   <td>   -0.0260</td> <td>    0.096</td> <td>   -0.272</td> <td> 0.786</td> <td>   -0.213</td> <td>    0.161</td>\n",
       "</tr>\n",
       "<tr>\n",
       "  <th>x23</th>   <td>   -0.2634</td> <td>    0.207</td> <td>   -1.271</td> <td> 0.204</td> <td>   -0.670</td> <td>    0.143</td>\n",
       "</tr>\n",
       "<tr>\n",
       "  <th>x24</th>   <td>   -0.0048</td> <td>    0.008</td> <td>   -0.629</td> <td> 0.529</td> <td>   -0.020</td> <td>    0.010</td>\n",
       "</tr>\n",
       "<tr>\n",
       "  <th>x25</th>   <td>    0.0063</td> <td>    0.002</td> <td>    3.653</td> <td> 0.000</td> <td>    0.003</td> <td>    0.010</td>\n",
       "</tr>\n",
       "<tr>\n",
       "  <th>x26</th>   <td>    0.0043</td> <td>    0.006</td> <td>    0.696</td> <td> 0.487</td> <td>   -0.008</td> <td>    0.016</td>\n",
       "</tr>\n",
       "<tr>\n",
       "  <th>x27</th>   <td>    0.0032</td> <td>    0.001</td> <td>    2.610</td> <td> 0.009</td> <td>    0.001</td> <td>    0.006</td>\n",
       "</tr>\n",
       "<tr>\n",
       "  <th>x28</th>   <td>   -2.8014</td> <td>    2.427</td> <td>   -1.154</td> <td> 0.248</td> <td>   -7.558</td> <td>    1.955</td>\n",
       "</tr>\n",
       "<tr>\n",
       "  <th>x29</th>   <td>    4.2386</td> <td>    3.148</td> <td>    1.346</td> <td> 0.178</td> <td>   -1.932</td> <td>   10.409</td>\n",
       "</tr>\n",
       "<tr>\n",
       "  <th>x30</th>   <td>   -3.4557</td> <td>    2.447</td> <td>   -1.412</td> <td> 0.158</td> <td>   -8.252</td> <td>    1.341</td>\n",
       "</tr>\n",
       "<tr>\n",
       "  <th>x31</th>   <td>   -2.8834</td> <td>    9.372</td> <td>   -0.308</td> <td> 0.758</td> <td>  -21.254</td> <td>   15.487</td>\n",
       "</tr>\n",
       "<tr>\n",
       "  <th>x32</th>   <td>   -0.0140</td> <td>    0.019</td> <td>   -0.750</td> <td> 0.453</td> <td>   -0.051</td> <td>    0.023</td>\n",
       "</tr>\n",
       "<tr>\n",
       "  <th>x33</th>   <td>   -0.0140</td> <td>    0.019</td> <td>   -0.750</td> <td> 0.453</td> <td>   -0.051</td> <td>    0.023</td>\n",
       "</tr>\n",
       "<tr>\n",
       "  <th>x34</th>   <td>    0.1784</td> <td>    0.048</td> <td>    3.694</td> <td> 0.000</td> <td>    0.084</td> <td>    0.273</td>\n",
       "</tr>\n",
       "<tr>\n",
       "  <th>x35</th>   <td> 9.934e-05</td> <td>    0.002</td> <td>    0.041</td> <td> 0.967</td> <td>   -0.005</td> <td>    0.005</td>\n",
       "</tr>\n",
       "<tr>\n",
       "  <th>x36</th>   <td>   -0.0253</td> <td>    0.007</td> <td>   -3.392</td> <td> 0.001</td> <td>   -0.040</td> <td>   -0.011</td>\n",
       "</tr>\n",
       "<tr>\n",
       "  <th>x37</th>   <td>    0.0002</td> <td>    0.001</td> <td>    0.163</td> <td> 0.871</td> <td>   -0.002</td> <td>    0.003</td>\n",
       "</tr>\n",
       "<tr>\n",
       "  <th>x38</th>   <td>    2.8819</td> <td>    1.071</td> <td>    2.690</td> <td> 0.007</td> <td>    0.782</td> <td>    4.982</td>\n",
       "</tr>\n",
       "<tr>\n",
       "  <th>x39</th>   <td>    1.1323</td> <td>    1.748</td> <td>    0.648</td> <td> 0.517</td> <td>   -2.294</td> <td>    4.558</td>\n",
       "</tr>\n",
       "<tr>\n",
       "  <th>x40</th>   <td>    1.4799</td> <td>    1.107</td> <td>    1.336</td> <td> 0.181</td> <td>   -0.691</td> <td>    3.650</td>\n",
       "</tr>\n",
       "<tr>\n",
       "  <th>x41</th>   <td>    1.6943</td> <td>    2.720</td> <td>    0.623</td> <td> 0.533</td> <td>   -3.637</td> <td>    7.025</td>\n",
       "</tr>\n",
       "<tr>\n",
       "  <th>x42</th>   <td>   -0.1367</td> <td>    0.041</td> <td>   -3.323</td> <td> 0.001</td> <td>   -0.217</td> <td>   -0.056</td>\n",
       "</tr>\n",
       "<tr>\n",
       "  <th>x43</th>   <td>   -0.1367</td> <td>    0.041</td> <td>   -3.323</td> <td> 0.001</td> <td>   -0.217</td> <td>   -0.056</td>\n",
       "</tr>\n",
       "<tr>\n",
       "  <th>x44</th>   <td>   -0.1215</td> <td>    0.088</td> <td>   -1.379</td> <td> 0.168</td> <td>   -0.294</td> <td>    0.051</td>\n",
       "</tr>\n",
       "<tr>\n",
       "  <th>x45</th>   <td>   -0.0055</td> <td>    0.008</td> <td>   -0.700</td> <td> 0.484</td> <td>   -0.021</td> <td>    0.010</td>\n",
       "</tr>\n",
       "<tr>\n",
       "  <th>x46</th>   <td>    0.0004</td> <td>    0.000</td> <td>    1.183</td> <td> 0.237</td> <td>   -0.000</td> <td>    0.001</td>\n",
       "</tr>\n",
       "<tr>\n",
       "  <th>x47</th>   <td>   -0.0103</td> <td>    0.164</td> <td>   -0.063</td> <td> 0.950</td> <td>   -0.331</td> <td>    0.311</td>\n",
       "</tr>\n",
       "<tr>\n",
       "  <th>x48</th>   <td>   -0.4963</td> <td>    0.396</td> <td>   -1.252</td> <td> 0.211</td> <td>   -1.273</td> <td>    0.281</td>\n",
       "</tr>\n",
       "<tr>\n",
       "  <th>x49</th>   <td>    0.4607</td> <td>    0.172</td> <td>    2.679</td> <td> 0.007</td> <td>    0.124</td> <td>    0.798</td>\n",
       "</tr>\n",
       "<tr>\n",
       "  <th>x50</th>   <td>   -0.7251</td> <td>    0.443</td> <td>   -1.636</td> <td> 0.102</td> <td>   -1.594</td> <td>    0.144</td>\n",
       "</tr>\n",
       "<tr>\n",
       "  <th>x51</th>   <td>    0.0047</td> <td>    0.004</td> <td>    1.171</td> <td> 0.242</td> <td>   -0.003</td> <td>    0.012</td>\n",
       "</tr>\n",
       "<tr>\n",
       "  <th>x52</th>   <td>    0.0047</td> <td>    0.004</td> <td>    1.171</td> <td> 0.242</td> <td>   -0.003</td> <td>    0.012</td>\n",
       "</tr>\n",
       "<tr>\n",
       "  <th>x53</th>   <td>    0.0085</td> <td>    0.009</td> <td>    0.936</td> <td> 0.349</td> <td>   -0.009</td> <td>    0.026</td>\n",
       "</tr>\n",
       "<tr>\n",
       "  <th>x54</th>   <td>    0.0013</td> <td>    0.001</td> <td>    2.349</td> <td> 0.019</td> <td>    0.000</td> <td>    0.002</td>\n",
       "</tr>\n",
       "<tr>\n",
       "  <th>x55</th>   <td> -608.7018</td> <td>  234.100</td> <td>   -2.600</td> <td> 0.009</td> <td>-1067.561</td> <td> -149.843</td>\n",
       "</tr>\n",
       "<tr>\n",
       "  <th>const</th> <td> 8.818e-12</td> <td> 3.96e-12</td> <td>    2.228</td> <td> 0.026</td> <td> 1.06e-12</td> <td> 1.66e-11</td>\n",
       "</tr>\n",
       "<tr>\n",
       "  <th>x56</th>   <td> 1.854e-13</td> <td> 1.86e-12</td> <td>    0.100</td> <td> 0.921</td> <td>-3.46e-12</td> <td> 3.83e-12</td>\n",
       "</tr>\n",
       "<tr>\n",
       "  <th>x57</th>   <td> 6.761e-12</td> <td>  2.7e-12</td> <td>    2.501</td> <td> 0.012</td> <td> 1.46e-12</td> <td> 1.21e-11</td>\n",
       "</tr>\n",
       "<tr>\n",
       "  <th>x58</th>   <td>    3.2975</td> <td>    3.222</td> <td>    1.023</td> <td> 0.306</td> <td>   -3.018</td> <td>    9.613</td>\n",
       "</tr>\n",
       "<tr>\n",
       "  <th>x59</th>   <td>    3.2975</td> <td>    3.222</td> <td>    1.023</td> <td> 0.306</td> <td>   -3.018</td> <td>    9.613</td>\n",
       "</tr>\n",
       "<tr>\n",
       "  <th>x60</th>   <td>   21.5051</td> <td>    8.305</td> <td>    2.589</td> <td> 0.010</td> <td>    5.227</td> <td>   37.783</td>\n",
       "</tr>\n",
       "<tr>\n",
       "  <th>x61</th>   <td>    0.1703</td> <td>    0.498</td> <td>    0.342</td> <td> 0.732</td> <td>   -0.806</td> <td>    1.147</td>\n",
       "</tr>\n",
       "<tr>\n",
       "  <th>x62</th>   <td> -178.3575</td> <td>  350.724</td> <td>   -0.509</td> <td> 0.611</td> <td> -865.812</td> <td>  509.097</td>\n",
       "</tr>\n",
       "<tr>\n",
       "  <th>x63</th>   <td>         0</td> <td>        0</td> <td>      nan</td> <td>   nan</td> <td>        0</td> <td>        0</td>\n",
       "</tr>\n",
       "<tr>\n",
       "  <th>x64</th>   <td>         0</td> <td>        0</td> <td>      nan</td> <td>   nan</td> <td>        0</td> <td>        0</td>\n",
       "</tr>\n",
       "<tr>\n",
       "  <th>x65</th>   <td>    0.8214</td> <td>    5.171</td> <td>    0.159</td> <td> 0.874</td> <td>   -9.315</td> <td>   10.957</td>\n",
       "</tr>\n",
       "<tr>\n",
       "  <th>x66</th>   <td>    0.8214</td> <td>    5.171</td> <td>    0.159</td> <td> 0.874</td> <td>   -9.315</td> <td>   10.957</td>\n",
       "</tr>\n",
       "<tr>\n",
       "  <th>x67</th>   <td>    4.4261</td> <td>   12.972</td> <td>    0.341</td> <td> 0.733</td> <td>  -21.000</td> <td>   29.852</td>\n",
       "</tr>\n",
       "<tr>\n",
       "  <th>x68</th>   <td>   -0.9222</td> <td>    0.953</td> <td>   -0.968</td> <td> 0.333</td> <td>   -2.790</td> <td>    0.946</td>\n",
       "</tr>\n",
       "<tr>\n",
       "  <th>x69</th>   <td> -856.1848</td> <td>  234.449</td> <td>   -3.652</td> <td> 0.000</td> <td>-1315.729</td> <td> -396.641</td>\n",
       "</tr>\n",
       "<tr>\n",
       "  <th>x70</th>   <td>         0</td> <td>        0</td> <td>      nan</td> <td>   nan</td> <td>        0</td> <td>        0</td>\n",
       "</tr>\n",
       "<tr>\n",
       "  <th>x71</th>   <td>    4.9389</td> <td>    3.277</td> <td>    1.507</td> <td> 0.132</td> <td>   -1.485</td> <td>   11.362</td>\n",
       "</tr>\n",
       "<tr>\n",
       "  <th>x72</th>   <td>    4.9389</td> <td>    3.277</td> <td>    1.507</td> <td> 0.132</td> <td>   -1.485</td> <td>   11.362</td>\n",
       "</tr>\n",
       "<tr>\n",
       "  <th>x73</th>   <td>   25.7381</td> <td>    8.436</td> <td>    3.051</td> <td> 0.002</td> <td>    9.203</td> <td>   42.274</td>\n",
       "</tr>\n",
       "<tr>\n",
       "  <th>x74</th>   <td>    0.0663</td> <td>    0.511</td> <td>    0.130</td> <td> 0.897</td> <td>   -0.935</td> <td>    1.067</td>\n",
       "</tr>\n",
       "<tr>\n",
       "  <th>x75</th>   <td>-1239.6978</td> <td>  536.381</td> <td>   -2.311</td> <td> 0.021</td> <td>-2291.059</td> <td> -188.336</td>\n",
       "</tr>\n",
       "<tr>\n",
       "  <th>x76</th>   <td>   13.1476</td> <td>    9.557</td> <td>    1.376</td> <td> 0.169</td> <td>   -5.586</td> <td>   31.881</td>\n",
       "</tr>\n",
       "<tr>\n",
       "  <th>x77</th>   <td>   13.1476</td> <td>    9.557</td> <td>    1.376</td> <td> 0.169</td> <td>   -5.586</td> <td>   31.881</td>\n",
       "</tr>\n",
       "<tr>\n",
       "  <th>x78</th>   <td>   51.7504</td> <td>   24.323</td> <td>    2.128</td> <td> 0.033</td> <td>    4.075</td> <td>   99.426</td>\n",
       "</tr>\n",
       "<tr>\n",
       "  <th>x79</th>   <td>    0.2445</td> <td>    1.236</td> <td>    0.198</td> <td> 0.843</td> <td>   -2.179</td> <td>    2.668</td>\n",
       "</tr>\n",
       "<tr>\n",
       "  <th>x80</th>   <td>    0.0175</td> <td>    0.070</td> <td>    0.250</td> <td> 0.802</td> <td>   -0.120</td> <td>    0.155</td>\n",
       "</tr>\n",
       "<tr>\n",
       "  <th>x81</th>   <td>    0.0175</td> <td>    0.070</td> <td>    0.250</td> <td> 0.802</td> <td>   -0.120</td> <td>    0.155</td>\n",
       "</tr>\n",
       "<tr>\n",
       "  <th>x82</th>   <td>   -0.9695</td> <td>    0.195</td> <td>   -4.974</td> <td> 0.000</td> <td>   -1.352</td> <td>   -0.587</td>\n",
       "</tr>\n",
       "<tr>\n",
       "  <th>x83</th>   <td>    0.0450</td> <td>    0.024</td> <td>    1.880</td> <td> 0.060</td> <td>   -0.002</td> <td>    0.092</td>\n",
       "</tr>\n",
       "<tr>\n",
       "  <th>x84</th>   <td>    0.0175</td> <td>    0.070</td> <td>    0.250</td> <td> 0.802</td> <td>   -0.120</td> <td>    0.155</td>\n",
       "</tr>\n",
       "<tr>\n",
       "  <th>x85</th>   <td>   -0.9695</td> <td>    0.195</td> <td>   -4.974</td> <td> 0.000</td> <td>   -1.352</td> <td>   -0.587</td>\n",
       "</tr>\n",
       "<tr>\n",
       "  <th>x86</th>   <td>    0.0450</td> <td>    0.024</td> <td>    1.880</td> <td> 0.060</td> <td>   -0.002</td> <td>    0.092</td>\n",
       "</tr>\n",
       "<tr>\n",
       "  <th>x87</th>   <td>   -1.3307</td> <td>    0.311</td> <td>   -4.276</td> <td> 0.000</td> <td>   -1.941</td> <td>   -0.721</td>\n",
       "</tr>\n",
       "<tr>\n",
       "  <th>x88</th>   <td>   -0.0633</td> <td>    0.053</td> <td>   -1.185</td> <td> 0.236</td> <td>   -0.168</td> <td>    0.041</td>\n",
       "</tr>\n",
       "<tr>\n",
       "  <th>x89</th>   <td>    0.0033</td> <td>    0.001</td> <td>    2.257</td> <td> 0.024</td> <td>    0.000</td> <td>    0.006</td>\n",
       "</tr>\n",
       "</table>\n",
       "<table class=\"simpletable\">\n",
       "<tr>\n",
       "  <th>Omnibus:</th>       <td>3602.489</td> <th>  Durbin-Watson:     </th> <td>   1.961</td>\n",
       "</tr>\n",
       "<tr>\n",
       "  <th>Prob(Omnibus):</th>  <td> 0.000</td>  <th>  Jarque-Bera (JB):  </th> <td>8212.665</td>\n",
       "</tr>\n",
       "<tr>\n",
       "  <th>Skew:</th>           <td> 1.188</td>  <th>  Prob(JB):          </th> <td>    0.00</td>\n",
       "</tr>\n",
       "<tr>\n",
       "  <th>Kurtosis:</th>       <td> 5.404</td>  <th>  Cond. No.          </th> <td>1.09e+16</td>\n",
       "</tr>\n",
       "</table><br/><br/>Warnings:<br/>[1] Standard Errors assume that the covariance matrix of the errors is correctly specified.<br/>[2] The smallest eigenvalue is 1.97e-18. This might indicate that there are<br/>strong multicollinearity problems or that the design matrix is singular."
      ],
      "text/plain": [
       "<class 'statsmodels.iolib.summary.Summary'>\n",
       "\"\"\"\n",
       "                            OLS Regression Results                            \n",
       "==============================================================================\n",
       "Dep. Variable:              price_usd   R-squared:                       0.092\n",
       "Model:                            OLS   Adj. R-squared:                  0.088\n",
       "Method:                 Least Squares   F-statistic:                     29.38\n",
       "Date:                Thu, 30 Jul 2020   Prob (F-statistic):          5.60e-307\n",
       "Time:                        14:45:23   Log-Likelihood:            -1.3592e+05\n",
       "No. Observations:               17254   AIC:                         2.720e+05\n",
       "Df Residuals:                   17194   BIC:                         2.724e+05\n",
       "Df Model:                          59                                         \n",
       "Covariance Type:            nonrobust                                         \n",
       "==============================================================================\n",
       "                 coef    std err          t      P>|t|      [0.025      0.975]\n",
       "------------------------------------------------------------------------------\n",
       "x1            13.7827     20.096      0.686      0.493     -25.608      53.173\n",
       "x2            -4.9019      2.750     -1.783      0.075     -10.292       0.488\n",
       "x3             7.1884      3.071      2.341      0.019       1.169      13.208\n",
       "x4            -0.7709      0.318     -2.426      0.015      -1.394      -0.148\n",
       "x5          -608.7018    234.100     -2.600      0.009   -1067.561    -149.843\n",
       "x6          -178.3575    350.724     -0.509      0.611    -865.812     509.097\n",
       "x7          -856.1848    234.449     -3.652      0.000   -1315.729    -396.641\n",
       "x8         -1239.6978    536.381     -2.311      0.021   -2291.059    -188.336\n",
       "x9            22.2054      7.397      3.002      0.003       7.707      36.704\n",
       "x10           22.2054      7.397      3.002      0.003       7.707      36.704\n",
       "x11          103.4197     20.004      5.170      0.000      64.209     142.630\n",
       "x12           -0.4411      1.330     -0.332      0.740      -3.047       2.165\n",
       "x13           -0.0023      0.001     -1.616      0.106      -0.005       0.000\n",
       "x14           -0.0026      0.015     -0.171      0.864      -0.032       0.027\n",
       "x15            0.0099      0.017      0.594      0.553      -0.023       0.042\n",
       "x16           -0.0099      0.003     -2.901      0.004      -0.017      -0.003\n",
       "x17           -3.9532     19.352     -0.204      0.838     -41.884      33.978\n",
       "x18           41.0148     49.973      0.821      0.412     -56.938     138.968\n",
       "x19           -8.7541     19.397     -0.451      0.652     -46.774      29.266\n",
       "x20          -14.5248     61.912     -0.235      0.815    -135.878     106.829\n",
       "x21           -0.0260      0.096     -0.272      0.786      -0.213       0.161\n",
       "x22           -0.0260      0.096     -0.272      0.786      -0.213       0.161\n",
       "x23           -0.2634      0.207     -1.271      0.204      -0.670       0.143\n",
       "x24           -0.0048      0.008     -0.629      0.529      -0.020       0.010\n",
       "x25            0.0063      0.002      3.653      0.000       0.003       0.010\n",
       "x26            0.0043      0.006      0.696      0.487      -0.008       0.016\n",
       "x27            0.0032      0.001      2.610      0.009       0.001       0.006\n",
       "x28           -2.8014      2.427     -1.154      0.248      -7.558       1.955\n",
       "x29            4.2386      3.148      1.346      0.178      -1.932      10.409\n",
       "x30           -3.4557      2.447     -1.412      0.158      -8.252       1.341\n",
       "x31           -2.8834      9.372     -0.308      0.758     -21.254      15.487\n",
       "x32           -0.0140      0.019     -0.750      0.453      -0.051       0.023\n",
       "x33           -0.0140      0.019     -0.750      0.453      -0.051       0.023\n",
       "x34            0.1784      0.048      3.694      0.000       0.084       0.273\n",
       "x35         9.934e-05      0.002      0.041      0.967      -0.005       0.005\n",
       "x36           -0.0253      0.007     -3.392      0.001      -0.040      -0.011\n",
       "x37            0.0002      0.001      0.163      0.871      -0.002       0.003\n",
       "x38            2.8819      1.071      2.690      0.007       0.782       4.982\n",
       "x39            1.1323      1.748      0.648      0.517      -2.294       4.558\n",
       "x40            1.4799      1.107      1.336      0.181      -0.691       3.650\n",
       "x41            1.6943      2.720      0.623      0.533      -3.637       7.025\n",
       "x42           -0.1367      0.041     -3.323      0.001      -0.217      -0.056\n",
       "x43           -0.1367      0.041     -3.323      0.001      -0.217      -0.056\n",
       "x44           -0.1215      0.088     -1.379      0.168      -0.294       0.051\n",
       "x45           -0.0055      0.008     -0.700      0.484      -0.021       0.010\n",
       "x46            0.0004      0.000      1.183      0.237      -0.000       0.001\n",
       "x47           -0.0103      0.164     -0.063      0.950      -0.331       0.311\n",
       "x48           -0.4963      0.396     -1.252      0.211      -1.273       0.281\n",
       "x49            0.4607      0.172      2.679      0.007       0.124       0.798\n",
       "x50           -0.7251      0.443     -1.636      0.102      -1.594       0.144\n",
       "x51            0.0047      0.004      1.171      0.242      -0.003       0.012\n",
       "x52            0.0047      0.004      1.171      0.242      -0.003       0.012\n",
       "x53            0.0085      0.009      0.936      0.349      -0.009       0.026\n",
       "x54            0.0013      0.001      2.349      0.019       0.000       0.002\n",
       "x55         -608.7018    234.100     -2.600      0.009   -1067.561    -149.843\n",
       "const       8.818e-12   3.96e-12      2.228      0.026    1.06e-12    1.66e-11\n",
       "x56         1.854e-13   1.86e-12      0.100      0.921   -3.46e-12    3.83e-12\n",
       "x57         6.761e-12    2.7e-12      2.501      0.012    1.46e-12    1.21e-11\n",
       "x58            3.2975      3.222      1.023      0.306      -3.018       9.613\n",
       "x59            3.2975      3.222      1.023      0.306      -3.018       9.613\n",
       "x60           21.5051      8.305      2.589      0.010       5.227      37.783\n",
       "x61            0.1703      0.498      0.342      0.732      -0.806       1.147\n",
       "x62         -178.3575    350.724     -0.509      0.611    -865.812     509.097\n",
       "x63                 0          0        nan        nan           0           0\n",
       "x64                 0          0        nan        nan           0           0\n",
       "x65            0.8214      5.171      0.159      0.874      -9.315      10.957\n",
       "x66            0.8214      5.171      0.159      0.874      -9.315      10.957\n",
       "x67            4.4261     12.972      0.341      0.733     -21.000      29.852\n",
       "x68           -0.9222      0.953     -0.968      0.333      -2.790       0.946\n",
       "x69         -856.1848    234.449     -3.652      0.000   -1315.729    -396.641\n",
       "x70                 0          0        nan        nan           0           0\n",
       "x71            4.9389      3.277      1.507      0.132      -1.485      11.362\n",
       "x72            4.9389      3.277      1.507      0.132      -1.485      11.362\n",
       "x73           25.7381      8.436      3.051      0.002       9.203      42.274\n",
       "x74            0.0663      0.511      0.130      0.897      -0.935       1.067\n",
       "x75        -1239.6978    536.381     -2.311      0.021   -2291.059    -188.336\n",
       "x76           13.1476      9.557      1.376      0.169      -5.586      31.881\n",
       "x77           13.1476      9.557      1.376      0.169      -5.586      31.881\n",
       "x78           51.7504     24.323      2.128      0.033       4.075      99.426\n",
       "x79            0.2445      1.236      0.198      0.843      -2.179       2.668\n",
       "x80            0.0175      0.070      0.250      0.802      -0.120       0.155\n",
       "x81            0.0175      0.070      0.250      0.802      -0.120       0.155\n",
       "x82           -0.9695      0.195     -4.974      0.000      -1.352      -0.587\n",
       "x83            0.0450      0.024      1.880      0.060      -0.002       0.092\n",
       "x84            0.0175      0.070      0.250      0.802      -0.120       0.155\n",
       "x85           -0.9695      0.195     -4.974      0.000      -1.352      -0.587\n",
       "x86            0.0450      0.024      1.880      0.060      -0.002       0.092\n",
       "x87           -1.3307      0.311     -4.276      0.000      -1.941      -0.721\n",
       "x88           -0.0633      0.053     -1.185      0.236      -0.168       0.041\n",
       "x89            0.0033      0.001      2.257      0.024       0.000       0.006\n",
       "==============================================================================\n",
       "Omnibus:                     3602.489   Durbin-Watson:                   1.961\n",
       "Prob(Omnibus):                  0.000   Jarque-Bera (JB):             8212.665\n",
       "Skew:                           1.188   Prob(JB):                         0.00\n",
       "Kurtosis:                       5.404   Cond. No.                     1.09e+16\n",
       "==============================================================================\n",
       "\n",
       "Warnings:\n",
       "[1] Standard Errors assume that the covariance matrix of the errors is correctly specified.\n",
       "[2] The smallest eigenvalue is 1.97e-18. This might indicate that there are\n",
       "strong multicollinearity problems or that the design matrix is singular.\n",
       "\"\"\""
      ]
     },
     "execution_count": 448,
     "metadata": {},
     "output_type": "execute_result"
    }
   ],
   "source": [
    "model2 = sm.OLS(y, poly2_data).fit()\n",
    "model2.summary()"
   ]
  },
  {
   "cell_type": "code",
   "execution_count": 689,
   "metadata": {},
   "outputs": [
    {
     "ename": "ValueError",
     "evalue": "endog and exog matrices are different sizes",
     "output_type": "error",
     "traceback": [
      "\u001b[0;31m---------------------------------------------------------------------------\u001b[0m",
      "\u001b[0;31mValueError\u001b[0m                                Traceback (most recent call last)",
      "\u001b[0;32m<ipython-input-689-e8bc8ff4d3b2>\u001b[0m in \u001b[0;36m<module>\u001b[0;34m\u001b[0m\n\u001b[1;32m      8\u001b[0m \u001b[0;34m\u001b[0m\u001b[0m\n\u001b[1;32m      9\u001b[0m \u001b[0mmodel3\u001b[0m \u001b[0;34m=\u001b[0m \u001b[0mmodel3\u001b[0m\u001b[0;34m.\u001b[0m\u001b[0mfit\u001b[0m\u001b[0;34m(\u001b[0m\u001b[0mdf_poly3\u001b[0m\u001b[0;34m,\u001b[0m \u001b[0mtarget\u001b[0m\u001b[0;34m)\u001b[0m\u001b[0;34m\u001b[0m\u001b[0;34m\u001b[0m\u001b[0m\n\u001b[0;32m---> 10\u001b[0;31m \u001b[0mmodel3\u001b[0m \u001b[0;34m=\u001b[0m \u001b[0msm\u001b[0m\u001b[0;34m.\u001b[0m\u001b[0mOLS\u001b[0m\u001b[0;34m(\u001b[0m\u001b[0my\u001b[0m\u001b[0;34m,\u001b[0m \u001b[0mpoly3_data\u001b[0m\u001b[0;34m)\u001b[0m\u001b[0;34m.\u001b[0m\u001b[0mfit\u001b[0m\u001b[0;34m(\u001b[0m\u001b[0;34m)\u001b[0m\u001b[0;34m\u001b[0m\u001b[0;34m\u001b[0m\u001b[0m\n\u001b[0m\u001b[1;32m     11\u001b[0m \u001b[0mmodel3\u001b[0m\u001b[0;34m.\u001b[0m\u001b[0msummary\u001b[0m\u001b[0;34m(\u001b[0m\u001b[0;34m)\u001b[0m\u001b[0;34m\u001b[0m\u001b[0;34m\u001b[0m\u001b[0m\n",
      "\u001b[0;32m~/opt/anaconda3/lib/python3.7/site-packages/statsmodels/regression/linear_model.py\u001b[0m in \u001b[0;36m__init__\u001b[0;34m(self, endog, exog, missing, hasconst, **kwargs)\u001b[0m\n\u001b[1;32m    857\u001b[0m                  **kwargs):\n\u001b[1;32m    858\u001b[0m         super(OLS, self).__init__(endog, exog, missing=missing,\n\u001b[0;32m--> 859\u001b[0;31m                                   hasconst=hasconst, **kwargs)\n\u001b[0m\u001b[1;32m    860\u001b[0m         \u001b[0;32mif\u001b[0m \u001b[0;34m\"weights\"\u001b[0m \u001b[0;32min\u001b[0m \u001b[0mself\u001b[0m\u001b[0;34m.\u001b[0m\u001b[0m_init_keys\u001b[0m\u001b[0;34m:\u001b[0m\u001b[0;34m\u001b[0m\u001b[0;34m\u001b[0m\u001b[0m\n\u001b[1;32m    861\u001b[0m             \u001b[0mself\u001b[0m\u001b[0;34m.\u001b[0m\u001b[0m_init_keys\u001b[0m\u001b[0;34m.\u001b[0m\u001b[0mremove\u001b[0m\u001b[0;34m(\u001b[0m\u001b[0;34m\"weights\"\u001b[0m\u001b[0;34m)\u001b[0m\u001b[0;34m\u001b[0m\u001b[0;34m\u001b[0m\u001b[0m\n",
      "\u001b[0;32m~/opt/anaconda3/lib/python3.7/site-packages/statsmodels/regression/linear_model.py\u001b[0m in \u001b[0;36m__init__\u001b[0;34m(self, endog, exog, weights, missing, hasconst, **kwargs)\u001b[0m\n\u001b[1;32m    700\u001b[0m             \u001b[0mweights\u001b[0m \u001b[0;34m=\u001b[0m \u001b[0mweights\u001b[0m\u001b[0;34m.\u001b[0m\u001b[0msqueeze\u001b[0m\u001b[0;34m(\u001b[0m\u001b[0;34m)\u001b[0m\u001b[0;34m\u001b[0m\u001b[0;34m\u001b[0m\u001b[0m\n\u001b[1;32m    701\u001b[0m         super(WLS, self).__init__(endog, exog, missing=missing,\n\u001b[0;32m--> 702\u001b[0;31m                                   weights=weights, hasconst=hasconst, **kwargs)\n\u001b[0m\u001b[1;32m    703\u001b[0m         \u001b[0mnobs\u001b[0m \u001b[0;34m=\u001b[0m \u001b[0mself\u001b[0m\u001b[0;34m.\u001b[0m\u001b[0mexog\u001b[0m\u001b[0;34m.\u001b[0m\u001b[0mshape\u001b[0m\u001b[0;34m[\u001b[0m\u001b[0;36m0\u001b[0m\u001b[0;34m]\u001b[0m\u001b[0;34m\u001b[0m\u001b[0;34m\u001b[0m\u001b[0m\n\u001b[1;32m    704\u001b[0m         \u001b[0mweights\u001b[0m \u001b[0;34m=\u001b[0m \u001b[0mself\u001b[0m\u001b[0;34m.\u001b[0m\u001b[0mweights\u001b[0m\u001b[0;34m\u001b[0m\u001b[0;34m\u001b[0m\u001b[0m\n",
      "\u001b[0;32m~/opt/anaconda3/lib/python3.7/site-packages/statsmodels/regression/linear_model.py\u001b[0m in \u001b[0;36m__init__\u001b[0;34m(self, endog, exog, **kwargs)\u001b[0m\n\u001b[1;32m    188\u001b[0m     \"\"\"\n\u001b[1;32m    189\u001b[0m     \u001b[0;32mdef\u001b[0m \u001b[0m__init__\u001b[0m\u001b[0;34m(\u001b[0m\u001b[0mself\u001b[0m\u001b[0;34m,\u001b[0m \u001b[0mendog\u001b[0m\u001b[0;34m,\u001b[0m \u001b[0mexog\u001b[0m\u001b[0;34m,\u001b[0m \u001b[0;34m**\u001b[0m\u001b[0mkwargs\u001b[0m\u001b[0;34m)\u001b[0m\u001b[0;34m:\u001b[0m\u001b[0;34m\u001b[0m\u001b[0;34m\u001b[0m\u001b[0m\n\u001b[0;32m--> 190\u001b[0;31m         \u001b[0msuper\u001b[0m\u001b[0;34m(\u001b[0m\u001b[0mRegressionModel\u001b[0m\u001b[0;34m,\u001b[0m \u001b[0mself\u001b[0m\u001b[0;34m)\u001b[0m\u001b[0;34m.\u001b[0m\u001b[0m__init__\u001b[0m\u001b[0;34m(\u001b[0m\u001b[0mendog\u001b[0m\u001b[0;34m,\u001b[0m \u001b[0mexog\u001b[0m\u001b[0;34m,\u001b[0m \u001b[0;34m**\u001b[0m\u001b[0mkwargs\u001b[0m\u001b[0;34m)\u001b[0m\u001b[0;34m\u001b[0m\u001b[0;34m\u001b[0m\u001b[0m\n\u001b[0m\u001b[1;32m    191\u001b[0m         \u001b[0mself\u001b[0m\u001b[0;34m.\u001b[0m\u001b[0m_data_attr\u001b[0m\u001b[0;34m.\u001b[0m\u001b[0mextend\u001b[0m\u001b[0;34m(\u001b[0m\u001b[0;34m[\u001b[0m\u001b[0;34m'pinv_wexog'\u001b[0m\u001b[0;34m,\u001b[0m \u001b[0;34m'wendog'\u001b[0m\u001b[0;34m,\u001b[0m \u001b[0;34m'wexog'\u001b[0m\u001b[0;34m,\u001b[0m \u001b[0;34m'weights'\u001b[0m\u001b[0;34m]\u001b[0m\u001b[0;34m)\u001b[0m\u001b[0;34m\u001b[0m\u001b[0;34m\u001b[0m\u001b[0m\n\u001b[1;32m    192\u001b[0m \u001b[0;34m\u001b[0m\u001b[0m\n",
      "\u001b[0;32m~/opt/anaconda3/lib/python3.7/site-packages/statsmodels/base/model.py\u001b[0m in \u001b[0;36m__init__\u001b[0;34m(self, endog, exog, **kwargs)\u001b[0m\n\u001b[1;32m    234\u001b[0m \u001b[0;34m\u001b[0m\u001b[0m\n\u001b[1;32m    235\u001b[0m     \u001b[0;32mdef\u001b[0m \u001b[0m__init__\u001b[0m\u001b[0;34m(\u001b[0m\u001b[0mself\u001b[0m\u001b[0;34m,\u001b[0m \u001b[0mendog\u001b[0m\u001b[0;34m,\u001b[0m \u001b[0mexog\u001b[0m\u001b[0;34m=\u001b[0m\u001b[0;32mNone\u001b[0m\u001b[0;34m,\u001b[0m \u001b[0;34m**\u001b[0m\u001b[0mkwargs\u001b[0m\u001b[0;34m)\u001b[0m\u001b[0;34m:\u001b[0m\u001b[0;34m\u001b[0m\u001b[0;34m\u001b[0m\u001b[0m\n\u001b[0;32m--> 236\u001b[0;31m         \u001b[0msuper\u001b[0m\u001b[0;34m(\u001b[0m\u001b[0mLikelihoodModel\u001b[0m\u001b[0;34m,\u001b[0m \u001b[0mself\u001b[0m\u001b[0;34m)\u001b[0m\u001b[0;34m.\u001b[0m\u001b[0m__init__\u001b[0m\u001b[0;34m(\u001b[0m\u001b[0mendog\u001b[0m\u001b[0;34m,\u001b[0m \u001b[0mexog\u001b[0m\u001b[0;34m,\u001b[0m \u001b[0;34m**\u001b[0m\u001b[0mkwargs\u001b[0m\u001b[0;34m)\u001b[0m\u001b[0;34m\u001b[0m\u001b[0;34m\u001b[0m\u001b[0m\n\u001b[0m\u001b[1;32m    237\u001b[0m         \u001b[0mself\u001b[0m\u001b[0;34m.\u001b[0m\u001b[0minitialize\u001b[0m\u001b[0;34m(\u001b[0m\u001b[0;34m)\u001b[0m\u001b[0;34m\u001b[0m\u001b[0;34m\u001b[0m\u001b[0m\n\u001b[1;32m    238\u001b[0m \u001b[0;34m\u001b[0m\u001b[0m\n",
      "\u001b[0;32m~/opt/anaconda3/lib/python3.7/site-packages/statsmodels/base/model.py\u001b[0m in \u001b[0;36m__init__\u001b[0;34m(self, endog, exog, **kwargs)\u001b[0m\n\u001b[1;32m     75\u001b[0m         \u001b[0mhasconst\u001b[0m \u001b[0;34m=\u001b[0m \u001b[0mkwargs\u001b[0m\u001b[0;34m.\u001b[0m\u001b[0mpop\u001b[0m\u001b[0;34m(\u001b[0m\u001b[0;34m'hasconst'\u001b[0m\u001b[0;34m,\u001b[0m \u001b[0;32mNone\u001b[0m\u001b[0;34m)\u001b[0m\u001b[0;34m\u001b[0m\u001b[0;34m\u001b[0m\u001b[0m\n\u001b[1;32m     76\u001b[0m         self.data = self._handle_data(endog, exog, missing, hasconst,\n\u001b[0;32m---> 77\u001b[0;31m                                       **kwargs)\n\u001b[0m\u001b[1;32m     78\u001b[0m         \u001b[0mself\u001b[0m\u001b[0;34m.\u001b[0m\u001b[0mk_constant\u001b[0m \u001b[0;34m=\u001b[0m \u001b[0mself\u001b[0m\u001b[0;34m.\u001b[0m\u001b[0mdata\u001b[0m\u001b[0;34m.\u001b[0m\u001b[0mk_constant\u001b[0m\u001b[0;34m\u001b[0m\u001b[0;34m\u001b[0m\u001b[0m\n\u001b[1;32m     79\u001b[0m         \u001b[0mself\u001b[0m\u001b[0;34m.\u001b[0m\u001b[0mexog\u001b[0m \u001b[0;34m=\u001b[0m \u001b[0mself\u001b[0m\u001b[0;34m.\u001b[0m\u001b[0mdata\u001b[0m\u001b[0;34m.\u001b[0m\u001b[0mexog\u001b[0m\u001b[0;34m\u001b[0m\u001b[0;34m\u001b[0m\u001b[0m\n",
      "\u001b[0;32m~/opt/anaconda3/lib/python3.7/site-packages/statsmodels/base/model.py\u001b[0m in \u001b[0;36m_handle_data\u001b[0;34m(self, endog, exog, missing, hasconst, **kwargs)\u001b[0m\n\u001b[1;32m     98\u001b[0m \u001b[0;34m\u001b[0m\u001b[0m\n\u001b[1;32m     99\u001b[0m     \u001b[0;32mdef\u001b[0m \u001b[0m_handle_data\u001b[0m\u001b[0;34m(\u001b[0m\u001b[0mself\u001b[0m\u001b[0;34m,\u001b[0m \u001b[0mendog\u001b[0m\u001b[0;34m,\u001b[0m \u001b[0mexog\u001b[0m\u001b[0;34m,\u001b[0m \u001b[0mmissing\u001b[0m\u001b[0;34m,\u001b[0m \u001b[0mhasconst\u001b[0m\u001b[0;34m,\u001b[0m \u001b[0;34m**\u001b[0m\u001b[0mkwargs\u001b[0m\u001b[0;34m)\u001b[0m\u001b[0;34m:\u001b[0m\u001b[0;34m\u001b[0m\u001b[0;34m\u001b[0m\u001b[0m\n\u001b[0;32m--> 100\u001b[0;31m         \u001b[0mdata\u001b[0m \u001b[0;34m=\u001b[0m \u001b[0mhandle_data\u001b[0m\u001b[0;34m(\u001b[0m\u001b[0mendog\u001b[0m\u001b[0;34m,\u001b[0m \u001b[0mexog\u001b[0m\u001b[0;34m,\u001b[0m \u001b[0mmissing\u001b[0m\u001b[0;34m,\u001b[0m \u001b[0mhasconst\u001b[0m\u001b[0;34m,\u001b[0m \u001b[0;34m**\u001b[0m\u001b[0mkwargs\u001b[0m\u001b[0;34m)\u001b[0m\u001b[0;34m\u001b[0m\u001b[0;34m\u001b[0m\u001b[0m\n\u001b[0m\u001b[1;32m    101\u001b[0m         \u001b[0;31m# kwargs arrays could have changed, easier to just attach here\u001b[0m\u001b[0;34m\u001b[0m\u001b[0;34m\u001b[0m\u001b[0;34m\u001b[0m\u001b[0m\n\u001b[1;32m    102\u001b[0m         \u001b[0;32mfor\u001b[0m \u001b[0mkey\u001b[0m \u001b[0;32min\u001b[0m \u001b[0mkwargs\u001b[0m\u001b[0;34m:\u001b[0m\u001b[0;34m\u001b[0m\u001b[0;34m\u001b[0m\u001b[0m\n",
      "\u001b[0;32m~/opt/anaconda3/lib/python3.7/site-packages/statsmodels/base/data.py\u001b[0m in \u001b[0;36mhandle_data\u001b[0;34m(endog, exog, missing, hasconst, **kwargs)\u001b[0m\n\u001b[1;32m    670\u001b[0m     \u001b[0mklass\u001b[0m \u001b[0;34m=\u001b[0m \u001b[0mhandle_data_class_factory\u001b[0m\u001b[0;34m(\u001b[0m\u001b[0mendog\u001b[0m\u001b[0;34m,\u001b[0m \u001b[0mexog\u001b[0m\u001b[0;34m)\u001b[0m\u001b[0;34m\u001b[0m\u001b[0;34m\u001b[0m\u001b[0m\n\u001b[1;32m    671\u001b[0m     return klass(endog, exog=exog, missing=missing, hasconst=hasconst,\n\u001b[0;32m--> 672\u001b[0;31m                  **kwargs)\n\u001b[0m",
      "\u001b[0;32m~/opt/anaconda3/lib/python3.7/site-packages/statsmodels/base/data.py\u001b[0m in \u001b[0;36m__init__\u001b[0;34m(self, endog, exog, missing, hasconst, **kwargs)\u001b[0m\n\u001b[1;32m     86\u001b[0m         \u001b[0mself\u001b[0m\u001b[0;34m.\u001b[0m\u001b[0mk_constant\u001b[0m \u001b[0;34m=\u001b[0m \u001b[0;36m0\u001b[0m\u001b[0;34m\u001b[0m\u001b[0;34m\u001b[0m\u001b[0m\n\u001b[1;32m     87\u001b[0m         \u001b[0mself\u001b[0m\u001b[0;34m.\u001b[0m\u001b[0m_handle_constant\u001b[0m\u001b[0;34m(\u001b[0m\u001b[0mhasconst\u001b[0m\u001b[0;34m)\u001b[0m\u001b[0;34m\u001b[0m\u001b[0;34m\u001b[0m\u001b[0m\n\u001b[0;32m---> 88\u001b[0;31m         \u001b[0mself\u001b[0m\u001b[0;34m.\u001b[0m\u001b[0m_check_integrity\u001b[0m\u001b[0;34m(\u001b[0m\u001b[0;34m)\u001b[0m\u001b[0;34m\u001b[0m\u001b[0;34m\u001b[0m\u001b[0m\n\u001b[0m\u001b[1;32m     89\u001b[0m         \u001b[0mself\u001b[0m\u001b[0;34m.\u001b[0m\u001b[0m_cache\u001b[0m \u001b[0;34m=\u001b[0m \u001b[0;34m{\u001b[0m\u001b[0;34m}\u001b[0m\u001b[0;34m\u001b[0m\u001b[0;34m\u001b[0m\u001b[0m\n\u001b[1;32m     90\u001b[0m \u001b[0;34m\u001b[0m\u001b[0m\n",
      "\u001b[0;32m~/opt/anaconda3/lib/python3.7/site-packages/statsmodels/base/data.py\u001b[0m in \u001b[0;36m_check_integrity\u001b[0;34m(self)\u001b[0m\n\u001b[1;32m    531\u001b[0m                 not self.orig_endog.index.equals(self.orig_exog.index)):\n\u001b[1;32m    532\u001b[0m             \u001b[0;32mraise\u001b[0m \u001b[0mValueError\u001b[0m\u001b[0;34m(\u001b[0m\u001b[0;34m\"The indices for endog and exog are not aligned\"\u001b[0m\u001b[0;34m)\u001b[0m\u001b[0;34m\u001b[0m\u001b[0;34m\u001b[0m\u001b[0m\n\u001b[0;32m--> 533\u001b[0;31m         \u001b[0msuper\u001b[0m\u001b[0;34m(\u001b[0m\u001b[0mPandasData\u001b[0m\u001b[0;34m,\u001b[0m \u001b[0mself\u001b[0m\u001b[0;34m)\u001b[0m\u001b[0;34m.\u001b[0m\u001b[0m_check_integrity\u001b[0m\u001b[0;34m(\u001b[0m\u001b[0;34m)\u001b[0m\u001b[0;34m\u001b[0m\u001b[0;34m\u001b[0m\u001b[0m\n\u001b[0m\u001b[1;32m    534\u001b[0m \u001b[0;34m\u001b[0m\u001b[0m\n\u001b[1;32m    535\u001b[0m     \u001b[0;32mdef\u001b[0m \u001b[0m_get_row_labels\u001b[0m\u001b[0;34m(\u001b[0m\u001b[0mself\u001b[0m\u001b[0;34m,\u001b[0m \u001b[0marr\u001b[0m\u001b[0;34m)\u001b[0m\u001b[0;34m:\u001b[0m\u001b[0;34m\u001b[0m\u001b[0;34m\u001b[0m\u001b[0m\n",
      "\u001b[0;32m~/opt/anaconda3/lib/python3.7/site-packages/statsmodels/base/data.py\u001b[0m in \u001b[0;36m_check_integrity\u001b[0;34m(self)\u001b[0m\n\u001b[1;32m    433\u001b[0m         \u001b[0;32mif\u001b[0m \u001b[0mself\u001b[0m\u001b[0;34m.\u001b[0m\u001b[0mexog\u001b[0m \u001b[0;32mis\u001b[0m \u001b[0;32mnot\u001b[0m \u001b[0;32mNone\u001b[0m\u001b[0;34m:\u001b[0m\u001b[0;34m\u001b[0m\u001b[0;34m\u001b[0m\u001b[0m\n\u001b[1;32m    434\u001b[0m             \u001b[0;32mif\u001b[0m \u001b[0mlen\u001b[0m\u001b[0;34m(\u001b[0m\u001b[0mself\u001b[0m\u001b[0;34m.\u001b[0m\u001b[0mexog\u001b[0m\u001b[0;34m)\u001b[0m \u001b[0;34m!=\u001b[0m \u001b[0mlen\u001b[0m\u001b[0;34m(\u001b[0m\u001b[0mself\u001b[0m\u001b[0;34m.\u001b[0m\u001b[0mendog\u001b[0m\u001b[0;34m)\u001b[0m\u001b[0;34m:\u001b[0m\u001b[0;34m\u001b[0m\u001b[0;34m\u001b[0m\u001b[0m\n\u001b[0;32m--> 435\u001b[0;31m                 \u001b[0;32mraise\u001b[0m \u001b[0mValueError\u001b[0m\u001b[0;34m(\u001b[0m\u001b[0;34m\"endog and exog matrices are different sizes\"\u001b[0m\u001b[0;34m)\u001b[0m\u001b[0;34m\u001b[0m\u001b[0;34m\u001b[0m\u001b[0m\n\u001b[0m\u001b[1;32m    436\u001b[0m \u001b[0;34m\u001b[0m\u001b[0m\n\u001b[1;32m    437\u001b[0m     \u001b[0;32mdef\u001b[0m \u001b[0mwrap_output\u001b[0m\u001b[0;34m(\u001b[0m\u001b[0mself\u001b[0m\u001b[0;34m,\u001b[0m \u001b[0mobj\u001b[0m\u001b[0;34m,\u001b[0m \u001b[0mhow\u001b[0m\u001b[0;34m=\u001b[0m\u001b[0;34m'columns'\u001b[0m\u001b[0;34m,\u001b[0m \u001b[0mnames\u001b[0m\u001b[0;34m=\u001b[0m\u001b[0;32mNone\u001b[0m\u001b[0;34m)\u001b[0m\u001b[0;34m:\u001b[0m\u001b[0;34m\u001b[0m\u001b[0;34m\u001b[0m\u001b[0m\n",
      "\u001b[0;31mValueError\u001b[0m: endog and exog matrices are different sizes"
     ]
    }
   ],
   "source": [
    "from sklearn.preprocessing import PolynomialFeatures\n",
    "\n",
    "poly_3 = PolynomialFeatures(degree=3, include_bias = False)\n",
    "poly3_data = poly_3.fit_transform(df_features)\n",
    "poly3_columns = poly_3.get_feature_names(df_features.columns)\n",
    "df_poly3 = pd.DataFrame(poly3_data, columns = poly3_columns)\n",
    "model3 = LinearRegression()\n",
    "\n",
    "model3 = model3.fit(df_poly3, target)\n",
    "model3 = sm.OLS(y, poly3_data).fit()\n",
    "model3.summary()"
   ]
  },
  {
   "cell_type": "code",
   "execution_count": null,
   "metadata": {},
   "outputs": [],
   "source": []
  },
  {
   "cell_type": "code",
   "execution_count": null,
   "metadata": {},
   "outputs": [],
   "source": []
  },
  {
   "cell_type": "code",
   "execution_count": null,
   "metadata": {},
   "outputs": [],
   "source": []
  },
  {
   "cell_type": "code",
   "execution_count": 452,
   "metadata": {},
   "outputs": [
    {
     "name": "stdout",
     "output_type": "stream",
     "text": [
      "Training set - Features: (13803, 12) Target: (13803,)\n",
      "Training set - Features: (3451, 12) Target: (3451,)\n"
     ]
    }
   ],
   "source": [
    "#using sklearn.model_selection we will be using the train test split\n",
    "#we name them as xtrain and ytrain then xtest and ytest\n",
    "from sklearn.model_selection import train_test_split\n",
    "\n",
    "#scale data \n",
    "scaler = StandardScaler()\n",
    "x_standin = scaler.fit_transform(df_features)\n",
    "x_standin = pd.DataFrame(data = target, columns = df_features.columns)\n",
    "\n",
    "x_train, x_test, y_train, y_test = train_test_split(df_features, target, random_state = 42, test_size=0.2)\n",
    "\n",
    "print('Training set - Features:', x_train.shape, 'Target:', y_train.shape)\n",
    "print('Training set - Features:', x_test.shape, 'Target:', y_test.shape)"
   ]
  },
  {
   "cell_type": "code",
   "execution_count": 453,
   "metadata": {},
   "outputs": [],
   "source": [
    "\n",
    "\n",
    "model_lr = LinearRegression()\n",
    "model_lr = model_lr.fit(x_train, y_train)\n",
    "y_train_pred = model_lr.predict(x_train)\n",
    "y_test_pred = model_lr.predict(x_test)\n",
    "\n",
    "y = listing_df['price_usd']\n",
    "x = df_features\n",
    "\n"
   ]
  },
  {
   "cell_type": "code",
   "execution_count": null,
   "metadata": {},
   "outputs": [],
   "source": []
  },
  {
   "cell_type": "code",
   "execution_count": 454,
   "metadata": {},
   "outputs": [
    {
     "data": {
      "text/plain": [
       "count    17254.000000\n",
       "mean      1009.869306\n",
       "std        669.615593\n",
       "min        119.000000\n",
       "25%        505.000000\n",
       "50%        831.500000\n",
       "75%       1344.000000\n",
       "max       8783.000000\n",
       "Name: price_usd, dtype: float64"
      ]
     },
     "execution_count": 454,
     "metadata": {},
     "output_type": "execute_result"
    }
   ],
   "source": [
    "y.describe()\n"
   ]
  },
  {
   "cell_type": "code",
   "execution_count": 455,
   "metadata": {},
   "outputs": [
    {
     "data": {
      "text/html": [
       "<div>\n",
       "<style scoped>\n",
       "    .dataframe tbody tr th:only-of-type {\n",
       "        vertical-align: middle;\n",
       "    }\n",
       "\n",
       "    .dataframe tbody tr th {\n",
       "        vertical-align: top;\n",
       "    }\n",
       "\n",
       "    .dataframe thead th {\n",
       "        text-align: right;\n",
       "    }\n",
       "</style>\n",
       "<table border=\"1\" class=\"dataframe\">\n",
       "  <thead>\n",
       "    <tr style=\"text-align: right;\">\n",
       "      <th></th>\n",
       "      <th>minimum_nights</th>\n",
       "      <th>number_of_reviews</th>\n",
       "      <th>neighbourhood</th>\n",
       "      <th>availability_365</th>\n",
       "      <th>room_type_Entire home/apt</th>\n",
       "      <th>room_type_Hotel room</th>\n",
       "      <th>room_type_Private room</th>\n",
       "      <th>room_type_Shared room</th>\n",
       "      <th>distance_cc</th>\n",
       "      <th>distance_airport</th>\n",
       "      <th>distance_wine</th>\n",
       "      <th>total_10000 _rounded_y</th>\n",
       "    </tr>\n",
       "  </thead>\n",
       "  <tbody>\n",
       "    <tr>\n",
       "      <th>0</th>\n",
       "      <td>3</td>\n",
       "      <td>54</td>\n",
       "      <td>57</td>\n",
       "      <td>362</td>\n",
       "      <td>1</td>\n",
       "      <td>0</td>\n",
       "      <td>0</td>\n",
       "      <td>0</td>\n",
       "      <td>3.356482</td>\n",
       "      <td>3.356482</td>\n",
       "      <td>22.826170</td>\n",
       "      <td>242.0</td>\n",
       "    </tr>\n",
       "    <tr>\n",
       "      <th>1</th>\n",
       "      <td>2</td>\n",
       "      <td>27</td>\n",
       "      <td>23</td>\n",
       "      <td>251</td>\n",
       "      <td>1</td>\n",
       "      <td>0</td>\n",
       "      <td>0</td>\n",
       "      <td>0</td>\n",
       "      <td>8.879955</td>\n",
       "      <td>8.879955</td>\n",
       "      <td>29.050059</td>\n",
       "      <td>157.0</td>\n",
       "    </tr>\n",
       "    <tr>\n",
       "      <th>2</th>\n",
       "      <td>5</td>\n",
       "      <td>5</td>\n",
       "      <td>4</td>\n",
       "      <td>208</td>\n",
       "      <td>0</td>\n",
       "      <td>0</td>\n",
       "      <td>1</td>\n",
       "      <td>0</td>\n",
       "      <td>5.980151</td>\n",
       "      <td>5.980151</td>\n",
       "      <td>25.194771</td>\n",
       "      <td>215.0</td>\n",
       "    </tr>\n",
       "    <tr>\n",
       "      <th>3</th>\n",
       "      <td>14</td>\n",
       "      <td>2</td>\n",
       "      <td>115</td>\n",
       "      <td>364</td>\n",
       "      <td>1</td>\n",
       "      <td>0</td>\n",
       "      <td>0</td>\n",
       "      <td>0</td>\n",
       "      <td>1.203734</td>\n",
       "      <td>1.203734</td>\n",
       "      <td>27.195878</td>\n",
       "      <td>266.0</td>\n",
       "    </tr>\n",
       "    <tr>\n",
       "      <th>4</th>\n",
       "      <td>2</td>\n",
       "      <td>8</td>\n",
       "      <td>71</td>\n",
       "      <td>303</td>\n",
       "      <td>1</td>\n",
       "      <td>0</td>\n",
       "      <td>0</td>\n",
       "      <td>0</td>\n",
       "      <td>7.868755</td>\n",
       "      <td>7.868755</td>\n",
       "      <td>23.721691</td>\n",
       "      <td>177.0</td>\n",
       "    </tr>\n",
       "    <tr>\n",
       "      <th>...</th>\n",
       "      <td>...</td>\n",
       "      <td>...</td>\n",
       "      <td>...</td>\n",
       "      <td>...</td>\n",
       "      <td>...</td>\n",
       "      <td>...</td>\n",
       "      <td>...</td>\n",
       "      <td>...</td>\n",
       "      <td>...</td>\n",
       "      <td>...</td>\n",
       "      <td>...</td>\n",
       "      <td>...</td>\n",
       "    </tr>\n",
       "    <tr>\n",
       "      <th>17249</th>\n",
       "      <td>1</td>\n",
       "      <td>2</td>\n",
       "      <td>115</td>\n",
       "      <td>330</td>\n",
       "      <td>1</td>\n",
       "      <td>0</td>\n",
       "      <td>0</td>\n",
       "      <td>0</td>\n",
       "      <td>0.506106</td>\n",
       "      <td>0.506106</td>\n",
       "      <td>26.620631</td>\n",
       "      <td>266.0</td>\n",
       "    </tr>\n",
       "    <tr>\n",
       "      <th>17250</th>\n",
       "      <td>1</td>\n",
       "      <td>2</td>\n",
       "      <td>2</td>\n",
       "      <td>77</td>\n",
       "      <td>1</td>\n",
       "      <td>0</td>\n",
       "      <td>0</td>\n",
       "      <td>0</td>\n",
       "      <td>11.165350</td>\n",
       "      <td>11.165350</td>\n",
       "      <td>17.867290</td>\n",
       "      <td>178.0</td>\n",
       "    </tr>\n",
       "    <tr>\n",
       "      <th>17251</th>\n",
       "      <td>2</td>\n",
       "      <td>1</td>\n",
       "      <td>54</td>\n",
       "      <td>343</td>\n",
       "      <td>1</td>\n",
       "      <td>0</td>\n",
       "      <td>0</td>\n",
       "      <td>0</td>\n",
       "      <td>2.326342</td>\n",
       "      <td>2.326342</td>\n",
       "      <td>28.350356</td>\n",
       "      <td>182.0</td>\n",
       "    </tr>\n",
       "    <tr>\n",
       "      <th>17252</th>\n",
       "      <td>1</td>\n",
       "      <td>1</td>\n",
       "      <td>5</td>\n",
       "      <td>172</td>\n",
       "      <td>1</td>\n",
       "      <td>0</td>\n",
       "      <td>0</td>\n",
       "      <td>0</td>\n",
       "      <td>7.933913</td>\n",
       "      <td>7.933913</td>\n",
       "      <td>21.672786</td>\n",
       "      <td>114.0</td>\n",
       "    </tr>\n",
       "    <tr>\n",
       "      <th>17253</th>\n",
       "      <td>2</td>\n",
       "      <td>1</td>\n",
       "      <td>54</td>\n",
       "      <td>90</td>\n",
       "      <td>1</td>\n",
       "      <td>0</td>\n",
       "      <td>0</td>\n",
       "      <td>0</td>\n",
       "      <td>2.008320</td>\n",
       "      <td>2.008320</td>\n",
       "      <td>28.124471</td>\n",
       "      <td>182.0</td>\n",
       "    </tr>\n",
       "  </tbody>\n",
       "</table>\n",
       "<p>17254 rows × 12 columns</p>\n",
       "</div>"
      ],
      "text/plain": [
       "       minimum_nights  number_of_reviews  neighbourhood  availability_365  \\\n",
       "0                   3                 54             57               362   \n",
       "1                   2                 27             23               251   \n",
       "2                   5                  5              4               208   \n",
       "3                  14                  2            115               364   \n",
       "4                   2                  8             71               303   \n",
       "...               ...                ...            ...               ...   \n",
       "17249               1                  2            115               330   \n",
       "17250               1                  2              2                77   \n",
       "17251               2                  1             54               343   \n",
       "17252               1                  1              5               172   \n",
       "17253               2                  1             54                90   \n",
       "\n",
       "       room_type_Entire home/apt  room_type_Hotel room  \\\n",
       "0                              1                     0   \n",
       "1                              1                     0   \n",
       "2                              0                     0   \n",
       "3                              1                     0   \n",
       "4                              1                     0   \n",
       "...                          ...                   ...   \n",
       "17249                          1                     0   \n",
       "17250                          1                     0   \n",
       "17251                          1                     0   \n",
       "17252                          1                     0   \n",
       "17253                          1                     0   \n",
       "\n",
       "       room_type_Private room  room_type_Shared room  distance_cc  \\\n",
       "0                           0                      0     3.356482   \n",
       "1                           0                      0     8.879955   \n",
       "2                           1                      0     5.980151   \n",
       "3                           0                      0     1.203734   \n",
       "4                           0                      0     7.868755   \n",
       "...                       ...                    ...          ...   \n",
       "17249                       0                      0     0.506106   \n",
       "17250                       0                      0    11.165350   \n",
       "17251                       0                      0     2.326342   \n",
       "17252                       0                      0     7.933913   \n",
       "17253                       0                      0     2.008320   \n",
       "\n",
       "       distance_airport  distance_wine  total_10000 _rounded_y  \n",
       "0              3.356482      22.826170                   242.0  \n",
       "1              8.879955      29.050059                   157.0  \n",
       "2              5.980151      25.194771                   215.0  \n",
       "3              1.203734      27.195878                   266.0  \n",
       "4              7.868755      23.721691                   177.0  \n",
       "...                 ...            ...                     ...  \n",
       "17249          0.506106      26.620631                   266.0  \n",
       "17250         11.165350      17.867290                   178.0  \n",
       "17251          2.326342      28.350356                   182.0  \n",
       "17252          7.933913      21.672786                   114.0  \n",
       "17253          2.008320      28.124471                   182.0  \n",
       "\n",
       "[17254 rows x 12 columns]"
      ]
     },
     "execution_count": 455,
     "metadata": {},
     "output_type": "execute_result"
    }
   ],
   "source": [
    "df_features"
   ]
  },
  {
   "cell_type": "code",
   "execution_count": null,
   "metadata": {},
   "outputs": [],
   "source": []
  },
  {
   "cell_type": "code",
   "execution_count": 456,
   "metadata": {},
   "outputs": [],
   "source": [
    "out = listing_df.reset_index(drop=True).T.drop_duplicates().T.set_index(listing_df.index)\n"
   ]
  },
  {
   "cell_type": "code",
   "execution_count": 457,
   "metadata": {},
   "outputs": [
    {
     "name": "stdout",
     "output_type": "stream",
     "text": [
      "<class 'pandas.core.frame.DataFrame'>\n",
      "Int64Index: 17254 entries, 0 to 17253\n",
      "Data columns (total 12 columns):\n",
      " #   Column                     Non-Null Count  Dtype  \n",
      "---  ------                     --------------  -----  \n",
      " 0   minimum_nights             17254 non-null  int64  \n",
      " 1   number_of_reviews          17254 non-null  int64  \n",
      " 2   neighbourhood              17254 non-null  int64  \n",
      " 3   availability_365           17254 non-null  int64  \n",
      " 4   room_type_Entire home/apt  17254 non-null  uint8  \n",
      " 5   room_type_Hotel room       17254 non-null  uint8  \n",
      " 6   room_type_Private room     17254 non-null  uint8  \n",
      " 7   room_type_Shared room      17254 non-null  uint8  \n",
      " 8   distance_cc                17254 non-null  float64\n",
      " 9   distance_airport           17254 non-null  float64\n",
      " 10  distance_wine              17254 non-null  float64\n",
      " 11  total_10000 _rounded_y     17254 non-null  float64\n",
      "dtypes: float64(4), int64(4), uint8(4)\n",
      "memory usage: 1.3 MB\n"
     ]
    }
   ],
   "source": [
    "df_features.info()"
   ]
  },
  {
   "cell_type": "code",
   "execution_count": 458,
   "metadata": {},
   "outputs": [],
   "source": [
    "\n",
    "y = listing_df['price_usd_log']\n",
    "x= df_features\n",
    "x= sm.add_constant(x)\n",
    "model = sm.OLS(y,x)\n",
    "results = model.fit()"
   ]
  },
  {
   "cell_type": "code",
   "execution_count": 459,
   "metadata": {},
   "outputs": [
    {
     "data": {
      "text/plain": [
       "Index(['minimum_nights', 'number_of_reviews', 'neighbourhood',\n",
       "       'availability_365', 'room_type_Entire home/apt', 'room_type_Hotel room',\n",
       "       'room_type_Private room', 'room_type_Shared room', 'distance_cc',\n",
       "       'distance_airport', 'distance_wine', 'total_10000 _rounded_y'],\n",
       "      dtype='object')"
      ]
     },
     "execution_count": 459,
     "metadata": {},
     "output_type": "execute_result"
    }
   ],
   "source": [
    "df_features.columns"
   ]
  },
  {
   "cell_type": "code",
   "execution_count": null,
   "metadata": {},
   "outputs": [],
   "source": []
  },
  {
   "cell_type": "code",
   "execution_count": null,
   "metadata": {},
   "outputs": [],
   "source": []
  },
  {
   "cell_type": "code",
   "execution_count": 460,
   "metadata": {},
   "outputs": [
    {
     "name": "stdout",
     "output_type": "stream",
     "text": [
      "Mean Absolute Error: 0.5114203138950766\n",
      "Mean Squared Error: 0.4038749545568536\n",
      "Root Mean Squared Error: 0.6355115691762453\n"
     ]
    },
    {
     "data": {
      "text/plain": [
       "1003.1663006158071"
      ]
     },
     "execution_count": 460,
     "metadata": {},
     "output_type": "execute_result"
    }
   ],
   "source": [
    "#calculate training errors\n",
    "mae = metrics.mean_absolute_error(y_train, y_train_pred)\n",
    "mse = metrics.mean_squared_error(y_train, y_train_pred)\n",
    "rmse = np.sqrt(metrics.mean_squared_error(y_train, y_train_pred))\n",
    "\n",
    "\n",
    "print('Mean Absolute Error:', mae )\n",
    "print('Mean Squared Error:',  mse)\n",
    "print('Root Mean Squared Error:' , rmse)\n",
    "rmse = np.sqrt(metrics.mean_squared_error(y, y_predict))\n",
    "rmse\n"
   ]
  },
  {
   "cell_type": "code",
   "execution_count": 461,
   "metadata": {},
   "outputs": [
    {
     "name": "stdout",
     "output_type": "stream",
     "text": [
      "Mean Absolute Error: 0.5113853893683937\n",
      "Mean Squared Error: 0.40287046726024284\n",
      "Root Mean Squared Error: 0.6347207789731188\n"
     ]
    }
   ],
   "source": [
    "#calculte test errors \n",
    "mae = metrics.mean_absolute_error(y_test, y_test_pred)\n",
    "mse = metrics.mean_squared_error(y_test, y_test_pred)\n",
    "rmse = np.sqrt(metrics.mean_squared_error(y_test, y_test_pred))\n",
    "\n",
    "\n",
    "print('Mean Absolute Error:', mae )\n",
    "print('Mean Squared Error:',  mse)\n",
    "print('Root Mean Squared Error:' , rmse)"
   ]
  },
  {
   "cell_type": "code",
   "execution_count": null,
   "metadata": {},
   "outputs": [],
   "source": []
  },
  {
   "cell_type": "code",
   "execution_count": null,
   "metadata": {},
   "outputs": [],
   "source": []
  },
  {
   "cell_type": "code",
   "execution_count": null,
   "metadata": {},
   "outputs": [],
   "source": []
  },
  {
   "cell_type": "code",
   "execution_count": 462,
   "metadata": {},
   "outputs": [],
   "source": [
    "model3 = LinearRegression()\n",
    "model3 = model3.fit(x_train, y_train)\n",
    "y_train_pred = model3.predict(x_train)\n",
    "y_test_pred = model3.predict(x_test)"
   ]
  },
  {
   "cell_type": "code",
   "execution_count": 676,
   "metadata": {},
   "outputs": [
    {
     "name": "stdout",
     "output_type": "stream",
     "text": [
      "Training Error: 501.62487611041905\n",
      "Testing Error: 683.7623573093935\n"
     ]
    },
    {
     "name": "stderr",
     "output_type": "stream",
     "text": [
      "/Users/dolcikey/opt/anaconda3/lib/python3.7/site-packages/pandas/core/series.py:679: RuntimeWarning: overflow encountered in exp\n",
      "  result = getattr(ufunc, method)(*inputs, **kwargs)\n",
      "/Users/dolcikey/opt/anaconda3/lib/python3.7/site-packages/ipykernel_launcher.py:5: RuntimeWarning: overflow encountered in exp\n",
      "  \"\"\"\n"
     ]
    },
    {
     "ename": "ValueError",
     "evalue": "Input contains NaN, infinity or a value too large for dtype('float64').",
     "output_type": "error",
     "traceback": [
      "\u001b[0;31m---------------------------------------------------------------------------\u001b[0m",
      "\u001b[0;31mValueError\u001b[0m                                Traceback (most recent call last)",
      "\u001b[0;32m<ipython-input-676-5192acb11b1e>\u001b[0m in \u001b[0;36m<module>\u001b[0;34m\u001b[0m\n\u001b[1;32m      3\u001b[0m \u001b[0mprint\u001b[0m\u001b[0;34m(\u001b[0m\u001b[0;34m'Training Error: '\u001b[0m\u001b[0;34m+\u001b[0m \u001b[0mstr\u001b[0m\u001b[0;34m(\u001b[0m\u001b[0mtrain_rmse\u001b[0m\u001b[0;34m)\u001b[0m \u001b[0;34m)\u001b[0m\u001b[0;34m\u001b[0m\u001b[0;34m\u001b[0m\u001b[0m\n\u001b[1;32m      4\u001b[0m \u001b[0mprint\u001b[0m\u001b[0;34m(\u001b[0m\u001b[0;34m'Testing Error: '\u001b[0m\u001b[0;34m+\u001b[0m \u001b[0mstr\u001b[0m\u001b[0;34m(\u001b[0m\u001b[0mtest_rmse\u001b[0m\u001b[0;34m)\u001b[0m\u001b[0;34m)\u001b[0m\u001b[0;34m\u001b[0m\u001b[0;34m\u001b[0m\u001b[0m\n\u001b[0;32m----> 5\u001b[0;31m \u001b[0mrmse\u001b[0m \u001b[0;34m=\u001b[0m \u001b[0mnp\u001b[0m\u001b[0;34m.\u001b[0m\u001b[0msqrt\u001b[0m\u001b[0;34m(\u001b[0m\u001b[0mmetrics\u001b[0m\u001b[0;34m.\u001b[0m\u001b[0mmean_squared_error\u001b[0m\u001b[0;34m(\u001b[0m\u001b[0mnp\u001b[0m\u001b[0;34m.\u001b[0m\u001b[0mexp\u001b[0m\u001b[0;34m(\u001b[0m\u001b[0my\u001b[0m\u001b[0;34m)\u001b[0m\u001b[0;34m,\u001b[0m \u001b[0mnp\u001b[0m\u001b[0;34m.\u001b[0m\u001b[0mexp\u001b[0m\u001b[0;34m(\u001b[0m\u001b[0my_predict\u001b[0m\u001b[0;34m)\u001b[0m\u001b[0;34m)\u001b[0m\u001b[0;34m)\u001b[0m\u001b[0;34m\u001b[0m\u001b[0;34m\u001b[0m\u001b[0m\n\u001b[0m\u001b[1;32m      6\u001b[0m \u001b[0mrmse\u001b[0m\u001b[0;34m\u001b[0m\u001b[0;34m\u001b[0m\u001b[0m\n",
      "\u001b[0;32m~/opt/anaconda3/lib/python3.7/site-packages/sklearn/metrics/_regression.py\u001b[0m in \u001b[0;36mmean_squared_error\u001b[0;34m(y_true, y_pred, sample_weight, multioutput, squared)\u001b[0m\n\u001b[1;32m    250\u001b[0m     \"\"\"\n\u001b[1;32m    251\u001b[0m     y_type, y_true, y_pred, multioutput = _check_reg_targets(\n\u001b[0;32m--> 252\u001b[0;31m         y_true, y_pred, multioutput)\n\u001b[0m\u001b[1;32m    253\u001b[0m     \u001b[0mcheck_consistent_length\u001b[0m\u001b[0;34m(\u001b[0m\u001b[0my_true\u001b[0m\u001b[0;34m,\u001b[0m \u001b[0my_pred\u001b[0m\u001b[0;34m,\u001b[0m \u001b[0msample_weight\u001b[0m\u001b[0;34m)\u001b[0m\u001b[0;34m\u001b[0m\u001b[0;34m\u001b[0m\u001b[0m\n\u001b[1;32m    254\u001b[0m     output_errors = np.average((y_true - y_pred) ** 2, axis=0,\n",
      "\u001b[0;32m~/opt/anaconda3/lib/python3.7/site-packages/sklearn/metrics/_regression.py\u001b[0m in \u001b[0;36m_check_reg_targets\u001b[0;34m(y_true, y_pred, multioutput, dtype)\u001b[0m\n\u001b[1;32m     83\u001b[0m     \"\"\"\n\u001b[1;32m     84\u001b[0m     \u001b[0mcheck_consistent_length\u001b[0m\u001b[0;34m(\u001b[0m\u001b[0my_true\u001b[0m\u001b[0;34m,\u001b[0m \u001b[0my_pred\u001b[0m\u001b[0;34m)\u001b[0m\u001b[0;34m\u001b[0m\u001b[0;34m\u001b[0m\u001b[0m\n\u001b[0;32m---> 85\u001b[0;31m     \u001b[0my_true\u001b[0m \u001b[0;34m=\u001b[0m \u001b[0mcheck_array\u001b[0m\u001b[0;34m(\u001b[0m\u001b[0my_true\u001b[0m\u001b[0;34m,\u001b[0m \u001b[0mensure_2d\u001b[0m\u001b[0;34m=\u001b[0m\u001b[0;32mFalse\u001b[0m\u001b[0;34m,\u001b[0m \u001b[0mdtype\u001b[0m\u001b[0;34m=\u001b[0m\u001b[0mdtype\u001b[0m\u001b[0;34m)\u001b[0m\u001b[0;34m\u001b[0m\u001b[0;34m\u001b[0m\u001b[0m\n\u001b[0m\u001b[1;32m     86\u001b[0m     \u001b[0my_pred\u001b[0m \u001b[0;34m=\u001b[0m \u001b[0mcheck_array\u001b[0m\u001b[0;34m(\u001b[0m\u001b[0my_pred\u001b[0m\u001b[0;34m,\u001b[0m \u001b[0mensure_2d\u001b[0m\u001b[0;34m=\u001b[0m\u001b[0;32mFalse\u001b[0m\u001b[0;34m,\u001b[0m \u001b[0mdtype\u001b[0m\u001b[0;34m=\u001b[0m\u001b[0mdtype\u001b[0m\u001b[0;34m)\u001b[0m\u001b[0;34m\u001b[0m\u001b[0;34m\u001b[0m\u001b[0m\n\u001b[1;32m     87\u001b[0m \u001b[0;34m\u001b[0m\u001b[0m\n",
      "\u001b[0;32m~/opt/anaconda3/lib/python3.7/site-packages/sklearn/utils/validation.py\u001b[0m in \u001b[0;36mcheck_array\u001b[0;34m(array, accept_sparse, accept_large_sparse, dtype, order, copy, force_all_finite, ensure_2d, allow_nd, ensure_min_samples, ensure_min_features, warn_on_dtype, estimator)\u001b[0m\n\u001b[1;32m    576\u001b[0m         \u001b[0;32mif\u001b[0m \u001b[0mforce_all_finite\u001b[0m\u001b[0;34m:\u001b[0m\u001b[0;34m\u001b[0m\u001b[0;34m\u001b[0m\u001b[0m\n\u001b[1;32m    577\u001b[0m             _assert_all_finite(array,\n\u001b[0;32m--> 578\u001b[0;31m                                allow_nan=force_all_finite == 'allow-nan')\n\u001b[0m\u001b[1;32m    579\u001b[0m \u001b[0;34m\u001b[0m\u001b[0m\n\u001b[1;32m    580\u001b[0m     \u001b[0;32mif\u001b[0m \u001b[0mensure_min_samples\u001b[0m \u001b[0;34m>\u001b[0m \u001b[0;36m0\u001b[0m\u001b[0;34m:\u001b[0m\u001b[0;34m\u001b[0m\u001b[0;34m\u001b[0m\u001b[0m\n",
      "\u001b[0;32m~/opt/anaconda3/lib/python3.7/site-packages/sklearn/utils/validation.py\u001b[0m in \u001b[0;36m_assert_all_finite\u001b[0;34m(X, allow_nan, msg_dtype)\u001b[0m\n\u001b[1;32m     58\u001b[0m                     \u001b[0mmsg_err\u001b[0m\u001b[0;34m.\u001b[0m\u001b[0mformat\u001b[0m\u001b[0;34m\u001b[0m\u001b[0;34m\u001b[0m\u001b[0m\n\u001b[1;32m     59\u001b[0m                     (type_err,\n\u001b[0;32m---> 60\u001b[0;31m                      msg_dtype if msg_dtype is not None else X.dtype)\n\u001b[0m\u001b[1;32m     61\u001b[0m             )\n\u001b[1;32m     62\u001b[0m     \u001b[0;31m# for object dtype data, we only check for NaNs (GH-13254)\u001b[0m\u001b[0;34m\u001b[0m\u001b[0;34m\u001b[0m\u001b[0;34m\u001b[0m\u001b[0m\n",
      "\u001b[0;31mValueError\u001b[0m: Input contains NaN, infinity or a value too large for dtype('float64')."
     ]
    }
   ],
   "source": [
    "train_rmse = metrics.mean_absolute_error(np.exp(y_train),np.exp(y_train_pred))\n",
    "test_rmse = np.sqrt(metrics.mean_squared_error(np.exp(y_test), np.exp(y_test_pred)))\n",
    "print('Training Error: '+ str(train_rmse) )\n",
    "print('Testing Error: '+ str(test_rmse))\n",
    "\n",
    "rmse = np.sqrt(metrics.mean_squared_error(np.exp(y), np.exp(y_predict)))\n",
    "rmse"
   ]
  },
  {
   "cell_type": "code",
   "execution_count": 678,
   "metadata": {},
   "outputs": [
    {
     "data": {
      "text/plain": [
       "array([6.70317783, 6.70317783, 6.70317783, ..., 6.70317783, 6.70317783,\n",
       "       6.70317783])"
      ]
     },
     "execution_count": 678,
     "metadata": {},
     "output_type": "execute_result"
    }
   ],
   "source": [
    "y_pred"
   ]
  },
  {
   "cell_type": "code",
   "execution_count": 464,
   "metadata": {},
   "outputs": [],
   "source": [
    "\n",
    "lasso = Lasso(alpha=0.01, normalize=True)\n",
    "lasso.fit(x_train,y_train)\n",
    "y_train_pred = lasso.predict(x_train)\n",
    "y_pred = lasso.predict(x_test)"
   ]
  },
  {
   "cell_type": "code",
   "execution_count": 465,
   "metadata": {},
   "outputs": [
    {
     "data": {
      "text/plain": [
       "<matplotlib.axes._subplots.AxesSubplot at 0x1a325135d0>"
      ]
     },
     "execution_count": 465,
     "metadata": {},
     "output_type": "execute_result"
    },
    {
     "data": {
      "image/png": "[encoded data removed]",
      "text/plain": [
       "<Figure size 1152x576 with 1 Axes>"
      ]
     },
     "metadata": {
      "needs_background": "light"
     },
     "output_type": "display_data"
    }
   ],
   "source": [
    "lasso_coef01 = pd.DataFrame(data=lasso.coef_).T\n",
    "lasso_coef01.columns = x_train.columns\n",
    "lasso_coef01 = lasso_coef01.T.sort_values(by=0).T\n",
    "lasso_coef01.plot(kind='bar', title='Modal Coefficients', legend=False, figsize=(16,8))\n"
   ]
  },
  {
   "cell_type": "code",
   "execution_count": 466,
   "metadata": {},
   "outputs": [
    {
     "name": "stdout",
     "output_type": "stream",
     "text": [
      "Training Error: 0.5442164084222535\n",
      "Testing Error: 0.669608049021729\n"
     ]
    }
   ],
   "source": [
    "# LASSO MODEL\n",
    "\n",
    "lasso1 = Lasso(alpha=.1, normalize=False)\n",
    "lasso1.fit(x_train,y_train)\n",
    "\n",
    "y_train_lasso1 = lasso1.predict(x_train)\n",
    "y_pred_lasso1 = lasso1.predict(x_test)\n",
    "\n",
    "train_rmse_lasso1 = metrics.mean_absolute_error(y_train, y_train_lasso1)\n",
    "test_rmse_lasso1 = np.sqrt(metrics.mean_squared_error(y_test, y_pred_lasso1))\n",
    "print('Training Error: '+ str(train_rmse_lasso1) )\n",
    "print('Testing Error: '+ str(test_rmse_lasso1) )\n"
   ]
  },
  {
   "cell_type": "code",
   "execution_count": null,
   "metadata": {},
   "outputs": [],
   "source": []
  },
  {
   "cell_type": "code",
   "execution_count": null,
   "metadata": {},
   "outputs": [],
   "source": []
  },
  {
   "cell_type": "code",
   "execution_count": null,
   "metadata": {},
   "outputs": [],
   "source": [
    "# drop over 3000\n",
    "# reviews, dont drop, include of missing data point \n",
    "# find influential outliers with residual vis \n",
    "# relog/undo log transformation with exponentiating price before getting rmse \n"
   ]
  },
  {
   "cell_type": "code",
   "execution_count": null,
   "metadata": {},
   "outputs": [],
   "source": []
  },
  {
   "cell_type": "code",
   "execution_count": null,
   "metadata": {},
   "outputs": [],
   "source": [
    "from sklearn.preprocessing import PolynomialFeatures\n",
    "\n",
    "poly_3 = PolynomialFeatures(degree=3, include_bias = False)\n",
    "poly3_data = poly_3.fit_transform(df_features)\n",
    "poly3_columns = poly_3.get_feature_names(df_features.columns)\n",
    "df_poly3 = pd.DataFrame(poly3_data, columns = poly3_columns)\n",
    "model3 = LinearRegression()\n",
    "\n",
    "model3 = model3.fit(df_poly3, target)\n"
   ]
  },
  {
   "cell_type": "code",
   "execution_count": null,
   "metadata": {},
   "outputs": [],
   "source": [
    "model3 = sm.OLS(y, poly3_data).fit()\n",
    "model3.summary()"
   ]
  },
  {
   "cell_type": "code",
   "execution_count": 681,
   "metadata": {},
   "outputs": [
    {
     "data": {
      "text/html": [
       "<div>\n",
       "<style scoped>\n",
       "    .dataframe tbody tr th:only-of-type {\n",
       "        vertical-align: middle;\n",
       "    }\n",
       "\n",
       "    .dataframe tbody tr th {\n",
       "        vertical-align: top;\n",
       "    }\n",
       "\n",
       "    .dataframe thead th {\n",
       "        text-align: right;\n",
       "    }\n",
       "</style>\n",
       "<table border=\"1\" class=\"dataframe\">\n",
       "  <thead>\n",
       "    <tr style=\"text-align: right;\">\n",
       "      <th></th>\n",
       "      <th>minimum_nights</th>\n",
       "      <th>number_of_reviews</th>\n",
       "      <th>neighbourhood</th>\n",
       "      <th>availability_365</th>\n",
       "      <th>room_type_Entire home/apt</th>\n",
       "      <th>room_type_Hotel room</th>\n",
       "      <th>room_type_Private room</th>\n",
       "      <th>room_type_Shared room</th>\n",
       "      <th>distance_cc</th>\n",
       "      <th>distance_airport</th>\n",
       "      <th>...</th>\n",
       "      <th>distance_airport^3</th>\n",
       "      <th>distance_airport^2 distance_wine</th>\n",
       "      <th>distance_airport^2 total_10000 _rounded_y</th>\n",
       "      <th>distance_airport distance_wine^2</th>\n",
       "      <th>distance_airport distance_wine total_10000 _rounded_y</th>\n",
       "      <th>distance_airport total_10000 _rounded_y^2</th>\n",
       "      <th>distance_wine^3</th>\n",
       "      <th>distance_wine^2 total_10000 _rounded_y</th>\n",
       "      <th>distance_wine total_10000 _rounded_y^2</th>\n",
       "      <th>total_10000 _rounded_y^3</th>\n",
       "    </tr>\n",
       "  </thead>\n",
       "  <tbody>\n",
       "    <tr>\n",
       "      <th>0</th>\n",
       "      <td>3.0</td>\n",
       "      <td>54.0</td>\n",
       "      <td>57.0</td>\n",
       "      <td>362.0</td>\n",
       "      <td>1.0</td>\n",
       "      <td>0.0</td>\n",
       "      <td>0.0</td>\n",
       "      <td>0.0</td>\n",
       "      <td>3.356482</td>\n",
       "      <td>3.356482</td>\n",
       "      <td>...</td>\n",
       "      <td>37.814036</td>\n",
       "      <td>257.159005</td>\n",
       "      <td>2726.365357</td>\n",
       "      <td>1748.841462</td>\n",
       "      <td>18540.983128</td>\n",
       "      <td>196569.021730</td>\n",
       "      <td>11893.211583</td>\n",
       "      <td>126090.237498</td>\n",
       "      <td>1.336792e+06</td>\n",
       "      <td>14172488.0</td>\n",
       "    </tr>\n",
       "    <tr>\n",
       "      <th>1</th>\n",
       "      <td>2.0</td>\n",
       "      <td>27.0</td>\n",
       "      <td>23.0</td>\n",
       "      <td>251.0</td>\n",
       "      <td>1.0</td>\n",
       "      <td>0.0</td>\n",
       "      <td>0.0</td>\n",
       "      <td>0.0</td>\n",
       "      <td>8.879955</td>\n",
       "      <td>8.879955</td>\n",
       "      <td>...</td>\n",
       "      <td>700.216375</td>\n",
       "      <td>2290.701618</td>\n",
       "      <td>12380.014713</td>\n",
       "      <td>7493.846318</td>\n",
       "      <td>40500.223579</td>\n",
       "      <td>218882.005379</td>\n",
       "      <td>24515.516206</td>\n",
       "      <td>132493.227833</td>\n",
       "      <td>7.160549e+05</td>\n",
       "      <td>3869893.0</td>\n",
       "    </tr>\n",
       "    <tr>\n",
       "      <th>2</th>\n",
       "      <td>5.0</td>\n",
       "      <td>5.0</td>\n",
       "      <td>4.0</td>\n",
       "      <td>208.0</td>\n",
       "      <td>0.0</td>\n",
       "      <td>0.0</td>\n",
       "      <td>1.0</td>\n",
       "      <td>0.0</td>\n",
       "      <td>5.980151</td>\n",
       "      <td>5.980151</td>\n",
       "      <td>...</td>\n",
       "      <td>213.863443</td>\n",
       "      <td>901.020721</td>\n",
       "      <td>7688.875522</td>\n",
       "      <td>3796.059427</td>\n",
       "      <td>32393.737139</td>\n",
       "      <td>276432.502186</td>\n",
       "      <td>15993.047473</td>\n",
       "      <td>136476.940329</td>\n",
       "      <td>1.164628e+06</td>\n",
       "      <td>9938375.0</td>\n",
       "    </tr>\n",
       "    <tr>\n",
       "      <th>3</th>\n",
       "      <td>14.0</td>\n",
       "      <td>2.0</td>\n",
       "      <td>115.0</td>\n",
       "      <td>364.0</td>\n",
       "      <td>1.0</td>\n",
       "      <td>0.0</td>\n",
       "      <td>0.0</td>\n",
       "      <td>0.0</td>\n",
       "      <td>1.203734</td>\n",
       "      <td>1.203734</td>\n",
       "      <td>...</td>\n",
       "      <td>1.744179</td>\n",
       "      <td>39.406136</td>\n",
       "      <td>385.427229</td>\n",
       "      <td>890.300382</td>\n",
       "      <td>8707.933538</td>\n",
       "      <td>85171.373610</td>\n",
       "      <td>20114.501443</td>\n",
       "      <td>196737.803514</td>\n",
       "      <td>1.924272e+06</td>\n",
       "      <td>18821096.0</td>\n",
       "    </tr>\n",
       "    <tr>\n",
       "      <th>4</th>\n",
       "      <td>2.0</td>\n",
       "      <td>8.0</td>\n",
       "      <td>71.0</td>\n",
       "      <td>303.0</td>\n",
       "      <td>1.0</td>\n",
       "      <td>0.0</td>\n",
       "      <td>0.0</td>\n",
       "      <td>0.0</td>\n",
       "      <td>7.868755</td>\n",
       "      <td>7.868755</td>\n",
       "      <td>...</td>\n",
       "      <td>487.212104</td>\n",
       "      <td>1468.783208</td>\n",
       "      <td>10959.363007</td>\n",
       "      <td>4427.895151</td>\n",
       "      <td>33038.851517</td>\n",
       "      <td>246520.225142</td>\n",
       "      <td>13348.638086</td>\n",
       "      <td>99601.200260</td>\n",
       "      <td>7.431769e+05</td>\n",
       "      <td>5545233.0</td>\n",
       "    </tr>\n",
       "    <tr>\n",
       "      <th>...</th>\n",
       "      <td>...</td>\n",
       "      <td>...</td>\n",
       "      <td>...</td>\n",
       "      <td>...</td>\n",
       "      <td>...</td>\n",
       "      <td>...</td>\n",
       "      <td>...</td>\n",
       "      <td>...</td>\n",
       "      <td>...</td>\n",
       "      <td>...</td>\n",
       "      <td>...</td>\n",
       "      <td>...</td>\n",
       "      <td>...</td>\n",
       "      <td>...</td>\n",
       "      <td>...</td>\n",
       "      <td>...</td>\n",
       "      <td>...</td>\n",
       "      <td>...</td>\n",
       "      <td>...</td>\n",
       "      <td>...</td>\n",
       "      <td>...</td>\n",
       "    </tr>\n",
       "    <tr>\n",
       "      <th>17249</th>\n",
       "      <td>1.0</td>\n",
       "      <td>2.0</td>\n",
       "      <td>115.0</td>\n",
       "      <td>330.0</td>\n",
       "      <td>1.0</td>\n",
       "      <td>0.0</td>\n",
       "      <td>0.0</td>\n",
       "      <td>0.0</td>\n",
       "      <td>0.506106</td>\n",
       "      <td>0.506106</td>\n",
       "      <td>...</td>\n",
       "      <td>0.129635</td>\n",
       "      <td>6.818689</td>\n",
       "      <td>68.134043</td>\n",
       "      <td>358.655882</td>\n",
       "      <td>3583.779216</td>\n",
       "      <td>35810.017706</td>\n",
       "      <td>18864.923227</td>\n",
       "      <td>188503.028231</td>\n",
       "      <td>1.883569e+06</td>\n",
       "      <td>18821096.0</td>\n",
       "    </tr>\n",
       "    <tr>\n",
       "      <th>17250</th>\n",
       "      <td>1.0</td>\n",
       "      <td>2.0</td>\n",
       "      <td>2.0</td>\n",
       "      <td>77.0</td>\n",
       "      <td>1.0</td>\n",
       "      <td>0.0</td>\n",
       "      <td>0.0</td>\n",
       "      <td>0.0</td>\n",
       "      <td>11.165350</td>\n",
       "      <td>11.165350</td>\n",
       "      <td>...</td>\n",
       "      <td>1391.928804</td>\n",
       "      <td>2227.426420</td>\n",
       "      <td>22190.377153</td>\n",
       "      <td>3564.426888</td>\n",
       "      <td>35510.029099</td>\n",
       "      <td>353762.948781</td>\n",
       "      <td>5703.954540</td>\n",
       "      <td>56824.728930</td>\n",
       "      <td>5.661072e+05</td>\n",
       "      <td>5639752.0</td>\n",
       "    </tr>\n",
       "    <tr>\n",
       "      <th>17251</th>\n",
       "      <td>2.0</td>\n",
       "      <td>1.0</td>\n",
       "      <td>54.0</td>\n",
       "      <td>343.0</td>\n",
       "      <td>1.0</td>\n",
       "      <td>0.0</td>\n",
       "      <td>0.0</td>\n",
       "      <td>0.0</td>\n",
       "      <td>2.326342</td>\n",
       "      <td>2.326342</td>\n",
       "      <td>...</td>\n",
       "      <td>12.589856</td>\n",
       "      <td>153.428379</td>\n",
       "      <td>984.959940</td>\n",
       "      <td>1869.780501</td>\n",
       "      <td>12003.378368</td>\n",
       "      <td>77057.757387</td>\n",
       "      <td>22786.391525</td>\n",
       "      <td>146281.169859</td>\n",
       "      <td>9.390772e+05</td>\n",
       "      <td>6028568.0</td>\n",
       "    </tr>\n",
       "    <tr>\n",
       "      <th>17252</th>\n",
       "      <td>1.0</td>\n",
       "      <td>1.0</td>\n",
       "      <td>5.0</td>\n",
       "      <td>172.0</td>\n",
       "      <td>1.0</td>\n",
       "      <td>0.0</td>\n",
       "      <td>0.0</td>\n",
       "      <td>0.0</td>\n",
       "      <td>7.933913</td>\n",
       "      <td>7.933913</td>\n",
       "      <td>...</td>\n",
       "      <td>499.415872</td>\n",
       "      <td>1364.236398</td>\n",
       "      <td>7175.955638</td>\n",
       "      <td>3726.635562</td>\n",
       "      <td>19602.300239</td>\n",
       "      <td>103109.136451</td>\n",
       "      <td>10179.916495</td>\n",
       "      <td>53546.899402</td>\n",
       "      <td>2.816595e+05</td>\n",
       "      <td>1481544.0</td>\n",
       "    </tr>\n",
       "    <tr>\n",
       "      <th>17253</th>\n",
       "      <td>2.0</td>\n",
       "      <td>1.0</td>\n",
       "      <td>54.0</td>\n",
       "      <td>90.0</td>\n",
       "      <td>1.0</td>\n",
       "      <td>0.0</td>\n",
       "      <td>0.0</td>\n",
       "      <td>0.0</td>\n",
       "      <td>2.008320</td>\n",
       "      <td>2.008320</td>\n",
       "      <td>...</td>\n",
       "      <td>8.100254</td>\n",
       "      <td>113.435793</td>\n",
       "      <td>734.069429</td>\n",
       "      <td>1588.552606</td>\n",
       "      <td>10279.893756</td>\n",
       "      <td>66523.585827</td>\n",
       "      <td>22246.059248</td>\n",
       "      <td>143959.428653</td>\n",
       "      <td>9.315950e+05</td>\n",
       "      <td>6028568.0</td>\n",
       "    </tr>\n",
       "  </tbody>\n",
       "</table>\n",
       "<p>17254 rows × 454 columns</p>\n",
       "</div>"
      ],
      "text/plain": [
       "       minimum_nights  number_of_reviews  neighbourhood  availability_365  \\\n",
       "0                 3.0               54.0           57.0             362.0   \n",
       "1                 2.0               27.0           23.0             251.0   \n",
       "2                 5.0                5.0            4.0             208.0   \n",
       "3                14.0                2.0          115.0             364.0   \n",
       "4                 2.0                8.0           71.0             303.0   \n",
       "...               ...                ...            ...               ...   \n",
       "17249             1.0                2.0          115.0             330.0   \n",
       "17250             1.0                2.0            2.0              77.0   \n",
       "17251             2.0                1.0           54.0             343.0   \n",
       "17252             1.0                1.0            5.0             172.0   \n",
       "17253             2.0                1.0           54.0              90.0   \n",
       "\n",
       "       room_type_Entire home/apt  room_type_Hotel room  \\\n",
       "0                            1.0                   0.0   \n",
       "1                            1.0                   0.0   \n",
       "2                            0.0                   0.0   \n",
       "3                            1.0                   0.0   \n",
       "4                            1.0                   0.0   \n",
       "...                          ...                   ...   \n",
       "17249                        1.0                   0.0   \n",
       "17250                        1.0                   0.0   \n",
       "17251                        1.0                   0.0   \n",
       "17252                        1.0                   0.0   \n",
       "17253                        1.0                   0.0   \n",
       "\n",
       "       room_type_Private room  room_type_Shared room  distance_cc  \\\n",
       "0                         0.0                    0.0     3.356482   \n",
       "1                         0.0                    0.0     8.879955   \n",
       "2                         1.0                    0.0     5.980151   \n",
       "3                         0.0                    0.0     1.203734   \n",
       "4                         0.0                    0.0     7.868755   \n",
       "...                       ...                    ...          ...   \n",
       "17249                     0.0                    0.0     0.506106   \n",
       "17250                     0.0                    0.0    11.165350   \n",
       "17251                     0.0                    0.0     2.326342   \n",
       "17252                     0.0                    0.0     7.933913   \n",
       "17253                     0.0                    0.0     2.008320   \n",
       "\n",
       "       distance_airport  ...  distance_airport^3  \\\n",
       "0              3.356482  ...           37.814036   \n",
       "1              8.879955  ...          700.216375   \n",
       "2              5.980151  ...          213.863443   \n",
       "3              1.203734  ...            1.744179   \n",
       "4              7.868755  ...          487.212104   \n",
       "...                 ...  ...                 ...   \n",
       "17249          0.506106  ...            0.129635   \n",
       "17250         11.165350  ...         1391.928804   \n",
       "17251          2.326342  ...           12.589856   \n",
       "17252          7.933913  ...          499.415872   \n",
       "17253          2.008320  ...            8.100254   \n",
       "\n",
       "       distance_airport^2 distance_wine  \\\n",
       "0                            257.159005   \n",
       "1                           2290.701618   \n",
       "2                            901.020721   \n",
       "3                             39.406136   \n",
       "4                           1468.783208   \n",
       "...                                 ...   \n",
       "17249                          6.818689   \n",
       "17250                       2227.426420   \n",
       "17251                        153.428379   \n",
       "17252                       1364.236398   \n",
       "17253                        113.435793   \n",
       "\n",
       "       distance_airport^2 total_10000 _rounded_y  \\\n",
       "0                                    2726.365357   \n",
       "1                                   12380.014713   \n",
       "2                                    7688.875522   \n",
       "3                                     385.427229   \n",
       "4                                   10959.363007   \n",
       "...                                          ...   \n",
       "17249                                  68.134043   \n",
       "17250                               22190.377153   \n",
       "17251                                 984.959940   \n",
       "17252                                7175.955638   \n",
       "17253                                 734.069429   \n",
       "\n",
       "       distance_airport distance_wine^2  \\\n",
       "0                           1748.841462   \n",
       "1                           7493.846318   \n",
       "2                           3796.059427   \n",
       "3                            890.300382   \n",
       "4                           4427.895151   \n",
       "...                                 ...   \n",
       "17249                        358.655882   \n",
       "17250                       3564.426888   \n",
       "17251                       1869.780501   \n",
       "17252                       3726.635562   \n",
       "17253                       1588.552606   \n",
       "\n",
       "       distance_airport distance_wine total_10000 _rounded_y  \\\n",
       "0                                           18540.983128       \n",
       "1                                           40500.223579       \n",
       "2                                           32393.737139       \n",
       "3                                            8707.933538       \n",
       "4                                           33038.851517       \n",
       "...                                                  ...       \n",
       "17249                                        3583.779216       \n",
       "17250                                       35510.029099       \n",
       "17251                                       12003.378368       \n",
       "17252                                       19602.300239       \n",
       "17253                                       10279.893756       \n",
       "\n",
       "       distance_airport total_10000 _rounded_y^2  distance_wine^3  \\\n",
       "0                                  196569.021730     11893.211583   \n",
       "1                                  218882.005379     24515.516206   \n",
       "2                                  276432.502186     15993.047473   \n",
       "3                                   85171.373610     20114.501443   \n",
       "4                                  246520.225142     13348.638086   \n",
       "...                                          ...              ...   \n",
       "17249                               35810.017706     18864.923227   \n",
       "17250                              353762.948781      5703.954540   \n",
       "17251                               77057.757387     22786.391525   \n",
       "17252                              103109.136451     10179.916495   \n",
       "17253                               66523.585827     22246.059248   \n",
       "\n",
       "       distance_wine^2 total_10000 _rounded_y  \\\n",
       "0                               126090.237498   \n",
       "1                               132493.227833   \n",
       "2                               136476.940329   \n",
       "3                               196737.803514   \n",
       "4                                99601.200260   \n",
       "...                                       ...   \n",
       "17249                           188503.028231   \n",
       "17250                            56824.728930   \n",
       "17251                           146281.169859   \n",
       "17252                            53546.899402   \n",
       "17253                           143959.428653   \n",
       "\n",
       "       distance_wine total_10000 _rounded_y^2  total_10000 _rounded_y^3  \n",
       "0                                1.336792e+06                14172488.0  \n",
       "1                                7.160549e+05                 3869893.0  \n",
       "2                                1.164628e+06                 9938375.0  \n",
       "3                                1.924272e+06                18821096.0  \n",
       "4                                7.431769e+05                 5545233.0  \n",
       "...                                       ...                       ...  \n",
       "17249                            1.883569e+06                18821096.0  \n",
       "17250                            5.661072e+05                 5639752.0  \n",
       "17251                            9.390772e+05                 6028568.0  \n",
       "17252                            2.816595e+05                 1481544.0  \n",
       "17253                            9.315950e+05                 6028568.0  \n",
       "\n",
       "[17254 rows x 454 columns]"
      ]
     },
     "execution_count": 681,
     "metadata": {},
     "output_type": "execute_result"
    }
   ],
   "source": [
    "df_poly3"
   ]
  },
  {
   "cell_type": "code",
   "execution_count": null,
   "metadata": {},
   "outputs": [],
   "source": []
  },
  {
   "cell_type": "code",
   "execution_count": null,
   "metadata": {},
   "outputs": [],
   "source": []
  },
  {
   "cell_type": "code",
   "execution_count": 690,
   "metadata": {},
   "outputs": [
    {
     "data": {
      "text/plain": [
       "(24077,)"
      ]
     },
     "execution_count": 690,
     "metadata": {},
     "output_type": "execute_result"
    }
   ],
   "source": [
    "y.shape"
   ]
  },
  {
   "cell_type": "code",
   "execution_count": 691,
   "metadata": {},
   "outputs": [
    {
     "data": {
      "text/plain": [
       "(17254, 454)"
      ]
     },
     "execution_count": 691,
     "metadata": {},
     "output_type": "execute_result"
    }
   ],
   "source": [
    "x.shape"
   ]
  },
  {
   "cell_type": "code",
   "execution_count": 692,
   "metadata": {},
   "outputs": [],
   "source": [
    "y = listing_df['price_usd_log']\n",
    "x = df_poly3"
   ]
  },
  {
   "cell_type": "code",
   "execution_count": 693,
   "metadata": {},
   "outputs": [
    {
     "ename": "ValueError",
     "evalue": "Found input variables with inconsistent numbers of samples: [17254, 24077]",
     "output_type": "error",
     "traceback": [
      "\u001b[0;31m---------------------------------------------------------------------------\u001b[0m",
      "\u001b[0;31mValueError\u001b[0m                                Traceback (most recent call last)",
      "\u001b[0;32m<ipython-input-693-6d555cb57e2f>\u001b[0m in \u001b[0;36m<module>\u001b[0;34m\u001b[0m\n\u001b[0;32m----> 1\u001b[0;31m \u001b[0mX_train\u001b[0m\u001b[0;34m,\u001b[0m \u001b[0mX_test\u001b[0m\u001b[0;34m,\u001b[0m \u001b[0my_train\u001b[0m\u001b[0;34m,\u001b[0m \u001b[0my_test\u001b[0m \u001b[0;34m=\u001b[0m \u001b[0mtrain_test_split\u001b[0m\u001b[0;34m(\u001b[0m\u001b[0mdf_poly3\u001b[0m\u001b[0;34m,\u001b[0m \u001b[0my\u001b[0m\u001b[0;34m,\u001b[0m\u001b[0mrandom_state\u001b[0m \u001b[0;34m=\u001b[0m \u001b[0;36m42\u001b[0m\u001b[0;34m,\u001b[0m \u001b[0mtest_size\u001b[0m\u001b[0;34m=\u001b[0m\u001b[0;36m0.2\u001b[0m\u001b[0;34m)\u001b[0m\u001b[0;34m\u001b[0m\u001b[0;34m\u001b[0m\u001b[0m\n\u001b[0m",
      "\u001b[0;32m~/opt/anaconda3/lib/python3.7/site-packages/sklearn/model_selection/_split.py\u001b[0m in \u001b[0;36mtrain_test_split\u001b[0;34m(*arrays, **options)\u001b[0m\n\u001b[1;32m   2116\u001b[0m         \u001b[0;32mraise\u001b[0m \u001b[0mTypeError\u001b[0m\u001b[0;34m(\u001b[0m\u001b[0;34m\"Invalid parameters passed: %s\"\u001b[0m \u001b[0;34m%\u001b[0m \u001b[0mstr\u001b[0m\u001b[0;34m(\u001b[0m\u001b[0moptions\u001b[0m\u001b[0;34m)\u001b[0m\u001b[0;34m)\u001b[0m\u001b[0;34m\u001b[0m\u001b[0;34m\u001b[0m\u001b[0m\n\u001b[1;32m   2117\u001b[0m \u001b[0;34m\u001b[0m\u001b[0m\n\u001b[0;32m-> 2118\u001b[0;31m     \u001b[0marrays\u001b[0m \u001b[0;34m=\u001b[0m \u001b[0mindexable\u001b[0m\u001b[0;34m(\u001b[0m\u001b[0;34m*\u001b[0m\u001b[0marrays\u001b[0m\u001b[0;34m)\u001b[0m\u001b[0;34m\u001b[0m\u001b[0;34m\u001b[0m\u001b[0m\n\u001b[0m\u001b[1;32m   2119\u001b[0m \u001b[0;34m\u001b[0m\u001b[0m\n\u001b[1;32m   2120\u001b[0m     \u001b[0mn_samples\u001b[0m \u001b[0;34m=\u001b[0m \u001b[0m_num_samples\u001b[0m\u001b[0;34m(\u001b[0m\u001b[0marrays\u001b[0m\u001b[0;34m[\u001b[0m\u001b[0;36m0\u001b[0m\u001b[0;34m]\u001b[0m\u001b[0;34m)\u001b[0m\u001b[0;34m\u001b[0m\u001b[0;34m\u001b[0m\u001b[0m\n",
      "\u001b[0;32m~/opt/anaconda3/lib/python3.7/site-packages/sklearn/utils/validation.py\u001b[0m in \u001b[0;36mindexable\u001b[0;34m(*iterables)\u001b[0m\n\u001b[1;32m    246\u001b[0m     \"\"\"\n\u001b[1;32m    247\u001b[0m     \u001b[0mresult\u001b[0m \u001b[0;34m=\u001b[0m \u001b[0;34m[\u001b[0m\u001b[0m_make_indexable\u001b[0m\u001b[0;34m(\u001b[0m\u001b[0mX\u001b[0m\u001b[0;34m)\u001b[0m \u001b[0;32mfor\u001b[0m \u001b[0mX\u001b[0m \u001b[0;32min\u001b[0m \u001b[0miterables\u001b[0m\u001b[0;34m]\u001b[0m\u001b[0;34m\u001b[0m\u001b[0;34m\u001b[0m\u001b[0m\n\u001b[0;32m--> 248\u001b[0;31m     \u001b[0mcheck_consistent_length\u001b[0m\u001b[0;34m(\u001b[0m\u001b[0;34m*\u001b[0m\u001b[0mresult\u001b[0m\u001b[0;34m)\u001b[0m\u001b[0;34m\u001b[0m\u001b[0;34m\u001b[0m\u001b[0m\n\u001b[0m\u001b[1;32m    249\u001b[0m     \u001b[0;32mreturn\u001b[0m \u001b[0mresult\u001b[0m\u001b[0;34m\u001b[0m\u001b[0;34m\u001b[0m\u001b[0m\n\u001b[1;32m    250\u001b[0m \u001b[0;34m\u001b[0m\u001b[0m\n",
      "\u001b[0;32m~/opt/anaconda3/lib/python3.7/site-packages/sklearn/utils/validation.py\u001b[0m in \u001b[0;36mcheck_consistent_length\u001b[0;34m(*arrays)\u001b[0m\n\u001b[1;32m    210\u001b[0m     \u001b[0;32mif\u001b[0m \u001b[0mlen\u001b[0m\u001b[0;34m(\u001b[0m\u001b[0muniques\u001b[0m\u001b[0;34m)\u001b[0m \u001b[0;34m>\u001b[0m \u001b[0;36m1\u001b[0m\u001b[0;34m:\u001b[0m\u001b[0;34m\u001b[0m\u001b[0;34m\u001b[0m\u001b[0m\n\u001b[1;32m    211\u001b[0m         raise ValueError(\"Found input variables with inconsistent numbers of\"\n\u001b[0;32m--> 212\u001b[0;31m                          \" samples: %r\" % [int(l) for l in lengths])\n\u001b[0m\u001b[1;32m    213\u001b[0m \u001b[0;34m\u001b[0m\u001b[0m\n\u001b[1;32m    214\u001b[0m \u001b[0;34m\u001b[0m\u001b[0m\n",
      "\u001b[0;31mValueError\u001b[0m: Found input variables with inconsistent numbers of samples: [17254, 24077]"
     ]
    }
   ],
   "source": [
    "X_train, X_test, y_train, y_test = train_test_split(df_poly3, y,random_state = 42, test_size=0.2)"
   ]
  },
  {
   "cell_type": "code",
   "execution_count": null,
   "metadata": {},
   "outputs": [],
   "source": []
  },
  {
   "cell_type": "code",
   "execution_count": null,
   "metadata": {},
   "outputs": [],
   "source": []
  },
  {
   "cell_type": "code",
   "execution_count": null,
   "metadata": {},
   "outputs": [],
   "source": []
  },
  {
   "cell_type": "code",
   "execution_count": null,
   "metadata": {},
   "outputs": [],
   "source": []
  },
  {
   "cell_type": "code",
   "execution_count": null,
   "metadata": {},
   "outputs": [],
   "source": []
  },
  {
   "cell_type": "code",
   "execution_count": null,
   "metadata": {},
   "outputs": [],
   "source": []
  },
  {
   "cell_type": "code",
   "execution_count": null,
   "metadata": {},
   "outputs": [],
   "source": []
  },
  {
   "cell_type": "code",
   "execution_count": null,
   "metadata": {},
   "outputs": [],
   "source": []
  },
  {
   "cell_type": "code",
   "execution_count": null,
   "metadata": {},
   "outputs": [],
   "source": []
  },
  {
   "cell_type": "code",
   "execution_count": null,
   "metadata": {},
   "outputs": [],
   "source": []
  }
 ],
 "metadata": {
  "kernelspec": {
   "display_name": "Python 3",
   "language": "python",
   "name": "python3"
  },
  "language_info": {
   "codemirror_mode": {
    "name": "ipython",
    "version": 3
   },
   "file_extension": ".py",
   "mimetype": "text/x-python",
   "name": "python",
   "nbconvert_exporter": "python",
   "pygments_lexer": "ipython3",
   "version": "3.7.6"
  }
 },
 "nbformat": 4,
 "nbformat_minor": 4
}
